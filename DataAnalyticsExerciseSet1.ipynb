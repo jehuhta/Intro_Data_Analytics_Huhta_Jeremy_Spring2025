{
 "cells": [
  {
   "attachments": {},
   "cell_type": "markdown",
   "metadata": {},
   "source": [
    "<h3><b>Introduction to Data Analytics - Exercise set 1 - Python and NumPy Basics</b></h3>"
   ]
  },
  {
   "attachments": {},
   "cell_type": "markdown",
   "metadata": {},
   "source": [
    "Put all your exercises (Jupyter Notebooks or Python-files) in your course Git-project.<br /><br />\n",
    "<span style=\"font-weight: bold;\">Use either code comments or Jupyter Notebook markdown (text) to document which exercise you are doing and what a certain code section does!</span><br />\n",
    "\n",
    "<span style=\"font-weight: bold;\">Remember: your Jupyter notebook's clarity (how easy it is to read and understand) also affects your scoring!</span><br /><br />\n",
    "<span style=\"font-weight: bold;\">Remember also: \n",
    "<span style=\"font-weight: bold;\">If you use generative AI in any part of any exercise, \n",
    "MENTION IT CLEARLY! </span><br />\n",
    "<span style=\"font-weight: bold;\">(code comments are enough, also mention the prompts used).</span><br /><br />\n",
    "See also the materials discussing the usage of AI in this course!</span><br /><br />\n",
    "\n",
    "\n",
    "You can return all of these exercises in a single Jupyter Notebook, if you wish.\n",
    "\n",
    "<img src=\"http://srv.plab.fi/~tuomasv/data_analytics_2023_images/exercise_set_1/numpylogo.png\" width=\"250\"/>"
   ]
  },
  {
   "cell_type": "markdown",
   "metadata": {},
   "source": [
    "<b>NOTE!</b> For each subtask, save the result into a separate variable!"
   ]
  },
  {
   "cell_type": "code",
   "execution_count": 53,
   "metadata": {},
   "outputs": [],
   "source": [
    "# setup all needed modules and configurations\n",
    "import numpy as np"
   ]
  },
  {
   "cell_type": "markdown",
   "metadata": {},
   "source": [
    "<b>We can change the default Jupyter style for NumPy arrays by overriding the display formatter:</b>"
   ]
  },
  {
   "cell_type": "code",
   "execution_count": 54,
   "metadata": {},
   "outputs": [
    {
     "data": {
      "text/html": [
       "<table style='border: 1px solid black; border-collapse: collapse;'><tr><td style='padding: 5px; border: 1px solid black; font-weight: bold; width: 1ch; text-align: center;'>0</td><td style='padding: 5px; border: 1px solid black; font-weight: bold; width: 1ch; text-align: center;'>1</td><td style='padding: 5px; border: 1px solid black; font-weight: bold; width: 1ch; text-align: center;'>2</td></tr><tr><td style='padding: 5px; border: 1px solid black; font-weight: bold; width: 1ch; text-align: center;'>3</td><td style='padding: 5px; border: 1px solid black; font-weight: bold; width: 1ch; text-align: center;'>4</td><td style='padding: 5px; border: 1px solid black; font-weight: bold; width: 1ch; text-align: center;'>5</td></tr><tr><td style='padding: 5px; border: 1px solid black; font-weight: bold; width: 1ch; text-align: center;'>6</td><td style='padding: 5px; border: 1px solid black; font-weight: bold; width: 1ch; text-align: center;'>7</td><td style='padding: 5px; border: 1px solid black; font-weight: bold; width: 1ch; text-align: center;'>8</td></tr></table>"
      ],
      "text/plain": [
       "array([[0, 1, 2],\n",
       "       [3, 4, 5],\n",
       "       [6, 7, 8]])"
      ]
     },
     "execution_count": 54,
     "metadata": {},
     "output_type": "execute_result"
    }
   ],
   "source": [
    "# RUN THIS CODE CELL IN ORDER TO USE THE CUSTOM STYLES\n",
    "from IPython.core.interactiveshell import InteractiveShell\n",
    "\n",
    "# Custom HTML formatter for NumPy arrays\n",
    "# you can customize the color's if you wish!\n",
    "# NOTE: this can be a bit buggy with some \n",
    "# more advanced NumPy operations, try removing\n",
    "# this custom formatting code if problems arise\n",
    "\n",
    "# NOTE: you can control the amount of decimals by changing \n",
    "# precision value below (9 is enough for the NumPy exercises)\n",
    "def array_to_html(arr, precision=9):\n",
    "    # Round the numbers to the specified precision and convert to string\n",
    "    str_arr = np.round(arr, precision).astype(str)\n",
    "    \n",
    "    # Find the maximum width (longest string length)\n",
    "    max_width = max([len(val) for val in str_arr.flatten()])\n",
    "    \n",
    "    # Create the HTML table with consistent column width and centered text\n",
    "    html = \"<table style='border: 1px solid black; border-collapse: collapse;'>\"\n",
    "    \n",
    "    if arr.ndim == 1:\n",
    "        # Handle 1D array (vector)\n",
    "        for val in str_arr:\n",
    "            html += f\"<tr><td style='padding: 5px; border: 1px solid black; font-weight: bold; width: {max_width}ch; text-align: center;'>{val}</td></tr>\"\n",
    "    else:\n",
    "        # Handle 2D array (matrix)\n",
    "        for row in str_arr:\n",
    "            html += \"<tr>\"\n",
    "            for val in row:\n",
    "                html += f\"<td style='padding: 5px; border: 1px solid black; font-weight: bold; width: {max_width}ch; text-align: center;'>{val}</td>\"\n",
    "            html += \"</tr>\"\n",
    "    \n",
    "    html += \"</table>\"\n",
    "    return html\n",
    "\n",
    "# Register the formatter in IPython\n",
    "InteractiveShell.instance().display_formatter.formatters['text/html'].for_type(\n",
    "    np.ndarray, lambda arr: array_to_html(arr)\n",
    ")\n",
    "\n",
    "# Usage as usual from now on\n",
    "data = np.arange(0, 9).reshape(3, 3)\n",
    "data\n"
   ]
  },
  {
   "attachments": {},
   "cell_type": "markdown",
   "metadata": {},
   "source": [
    "<h4><b>1. Create these lists without NumPy:</b></h4>\n",
    "\n",
    "- List of 15 ones\n",
    "\n",
    "- List of 15 number 7's\n",
    "\n",
    "- List of numbers from 100 to 150\n",
    "\n",
    "- List of even numbers between 0 and 100\n",
    "\n",
    "- List of years that are divisible by 4 between 1950 and 2020\n",
    "\n",
    "<br>\n",
    "\n",
    "<b>Tip: creating a list with Python code is usually something like this:</b>\n",
    "\n",
    "<pre>\n",
    "numbers = []\n",
    "\n",
    "for x in range(0, 5):\n",
    "    numbers.append(x)\n",
    "</pre>"
   ]
  },
  {
   "cell_type": "code",
   "execution_count": 55,
   "metadata": {},
   "outputs": [
    {
     "name": "stdout",
     "output_type": "stream",
     "text": [
      "[1, 1, 1, 1, 1, 1, 1, 1, 1, 1, 1, 1, 1, 1, 1]\n",
      "The length of the list: 15\n"
     ]
    }
   ],
   "source": [
    "# exercise 1.1, create lists without NumPy\n",
    "# use additional code cells or different variable names for each subtask\n",
    "numbers = []\n",
    "\n",
    "for x in range(0,15):\n",
    "  numbers.append(1)\n",
    "\n",
    "print(numbers)\n",
    "print(f\"The length of the list: {len(numbers)}\")\n"
   ]
  },
  {
   "cell_type": "code",
   "execution_count": 56,
   "metadata": {},
   "outputs": [
    {
     "name": "stdout",
     "output_type": "stream",
     "text": [
      "[7, 7, 7, 7, 7, 7, 7, 7, 7, 7, 7, 7, 7, 7, 7]\n",
      "The length of the list: 15\n"
     ]
    }
   ],
   "source": [
    "# Creating a list of fifteen 7's in a list\n",
    "numbers = []\n",
    "\n",
    "for x in range(0, 15):\n",
    "  numbers.append(7)\n",
    "\n",
    "print(numbers)\n",
    "print(f\"The length of the list: {len(numbers)}\")"
   ]
  },
  {
   "cell_type": "code",
   "execution_count": 57,
   "metadata": {},
   "outputs": [
    {
     "name": "stdout",
     "output_type": "stream",
     "text": [
      "[100, 101, 102, 103, 104, 105, 106, 107, 108, 109, 110, 111, 112, 113, 114, 115, 116, 117, 118, 119, 120, 121, 122, 123, 124, 125, 126, 127, 128, 129, 130, 131, 132, 133, 134, 135, 136, 137, 138, 139, 140, 141, 142, 143, 144, 145, 146, 147, 148, 149, 150]\n",
      "The length of the list: 51\n"
     ]
    }
   ],
   "source": [
    "# Creating a list of numbers from 100 to 150.\n",
    "numbers = []\n",
    "\n",
    "for i in range(100,151):\n",
    "  numbers.append(i)\n",
    "\n",
    "print(numbers)\n",
    "print(f\"The length of the list: {len(numbers)}\")"
   ]
  },
  {
   "cell_type": "code",
   "execution_count": 58,
   "metadata": {},
   "outputs": [
    {
     "name": "stdout",
     "output_type": "stream",
     "text": [
      "[0, 2, 4, 6, 8, 10, 12, 14, 16, 18, 20, 22, 24, 26, 28, 30, 32, 34, 36, 38, 40, 42, 44, 46, 48, 50, 52, 54, 56, 58, 60, 62, 64, 66, 68, 70, 72, 74, 76, 78, 80, 82, 84, 86, 88, 90, 92, 94, 96, 98, 100]\n"
     ]
    }
   ],
   "source": [
    "# A list of even numbers between 0 and 100\n",
    "numbers = []\n",
    "\n",
    "for i in range(0,101):\n",
    "  if i % 2 == 0:\n",
    "    numbers.append(i)\n",
    "\n",
    "print(numbers)\n"
   ]
  },
  {
   "cell_type": "code",
   "execution_count": 59,
   "metadata": {},
   "outputs": [
    {
     "name": "stdout",
     "output_type": "stream",
     "text": [
      "[1952, 1956, 1960, 1964, 1968, 1972, 1976, 1980, 1984, 1988, 1992, 1996, 2000, 2004, 2008, 2012, 2016, 2020]\n"
     ]
    }
   ],
   "source": [
    "# A list of years divisible by 4 in range 1950-2020\n",
    "numbers = []\n",
    "for i in range(1950,2021):\n",
    "  if i % 4 == 0:\n",
    "    numbers.append(i)\n",
    "    \n",
    "print(numbers)"
   ]
  },
  {
   "attachments": {},
   "cell_type": "markdown",
   "metadata": {},
   "source": [
    "<h4><b>2.\tNow, create these arrays with NumPy!</b></h4>\n",
    "\n",
    "- Array of 15 zeroes\n",
    "\n",
    "- Array of 15 ones\n",
    "\n",
    "- Array of 15 number 7's\n",
    "\n",
    "- Array of numbers from 100 to 150\n",
    "\n",
    "- Array of numbers from 1900 to 2021\n",
    "\n",
    "- Array of even numbers between 0 and 100\n",
    "\n",
    "- Array of years that are divisible by 4 between 1950 and 2020\n",
    "\n"
   ]
  },
  {
   "cell_type": "code",
   "execution_count": 60,
   "metadata": {},
   "outputs": [
    {
     "name": "stdout",
     "output_type": "stream",
     "text": [
      "The amount of entries in the list: 15\n"
     ]
    }
   ],
   "source": [
    "# exercise 1.2, create lists WITH NumPy\n",
    "# use additional code cells or different variable names for each subtask\n",
    "\n",
    "# An array of 15 zeroes.\n",
    "numbers = np.zeros(15)\n",
    "numbers\n",
    "print(f\"The amount of entries in the list: {len(numbers)}\")\n"
   ]
  },
  {
   "cell_type": "code",
   "execution_count": 61,
   "metadata": {},
   "outputs": [
    {
     "name": "stdout",
     "output_type": "stream",
     "text": [
      "The amount of entries in the list: 15\n"
     ]
    }
   ],
   "source": [
    "# An array of 15 ones.\n",
    "numbers = np.ones(15)\n",
    "numbers\n",
    "print(f\"The amount of entries in the list: {len(numbers)}\")"
   ]
  },
  {
   "cell_type": "code",
   "execution_count": 62,
   "metadata": {},
   "outputs": [
    {
     "name": "stdout",
     "output_type": "stream",
     "text": [
      "The amount of entries in the list: 15\n"
     ]
    }
   ],
   "source": [
    "# An array of 15 number 7's.\n",
    "numbers = np.ones(15).astype(int)*7\n",
    "numbers\n",
    "print(f\"The amount of entries in the list: {len(numbers)}\")"
   ]
  },
  {
   "cell_type": "code",
   "execution_count": 63,
   "metadata": {},
   "outputs": [
    {
     "name": "stdout",
     "output_type": "stream",
     "text": [
      "[  0   1   2   3   4   5   6   7   8   9  10  11  12  13  14  15  16  17\n",
      "  18  19  20  21  22  23  24  25  26  27  28  29  30  31  32  33  34  35\n",
      "  36  37  38  39  40  41  42  43  44  45  46  47  48  49  50  51  52  53\n",
      "  54  55  56  57  58  59  60  61  62  63  64  65  66  67  68  69  70  71\n",
      "  72  73  74  75  76  77  78  79  80  81  82  83  84  85  86  87  88  89\n",
      "  90  91  92  93  94  95  96  97  98  99 100 101 102 103 104 105 106 107\n",
      " 108 109 110 111 112 113 114 115 116 117 118 119 120 121 122 123 124 125\n",
      " 126 127 128 129 130 131 132 133 134 135 136 137 138 139 140 141 142 143\n",
      " 144 145 146 147 148 149 150]\n"
     ]
    }
   ],
   "source": [
    "# Array of numbers from 100 to 150.\n",
    "numbers = np.arange(0,151)\n",
    "\n",
    "# Uses print (since it's 1-Dimensional.)\n",
    "print(numbers)"
   ]
  },
  {
   "cell_type": "code",
   "execution_count": 64,
   "metadata": {},
   "outputs": [
    {
     "name": "stdout",
     "output_type": "stream",
     "text": [
      "[1900 1901 1902 1903 1904 1905 1906 1907 1908 1909 1910 1911 1912 1913\n",
      " 1914 1915 1916 1917 1918 1919 1920 1921 1922 1923 1924 1925 1926 1927\n",
      " 1928 1929 1930 1931 1932 1933 1934 1935 1936 1937 1938 1939 1940 1941\n",
      " 1942 1943 1944 1945 1946 1947 1948 1949 1950 1951 1952 1953 1954 1955\n",
      " 1956 1957 1958 1959 1960 1961 1962 1963 1964 1965 1966 1967 1968 1969\n",
      " 1970 1971 1972 1973 1974 1975 1976 1977 1978 1979 1980 1981 1982 1983\n",
      " 1984 1985 1986 1987 1988 1989 1990 1991 1992 1993 1994 1995 1996 1997\n",
      " 1998 1999 2000 2001 2002 2003 2004 2005 2006 2007 2008 2009 2010 2011\n",
      " 2012 2013 2014 2015 2016 2017 2018 2019 2020 2021]\n"
     ]
    }
   ],
   "source": [
    "# Array of numbers from 1900 to 2021.\n",
    "numbers = np.arange(1900,2022)\n",
    "\n",
    "# Uses print (since it's 1-Dimensional.)\n",
    "print(numbers)"
   ]
  },
  {
   "cell_type": "code",
   "execution_count": 65,
   "metadata": {},
   "outputs": [
    {
     "name": "stdout",
     "output_type": "stream",
     "text": [
      "[  0   2   4   6   8  10  12  14  16  18  20  22  24  26  28  30  32  34\n",
      "  36  38  40  42  44  46  48  50  52  54  56  58  60  62  64  66  68  70\n",
      "  72  74  76  78  80  82  84  86  88  90  92  94  96  98 100]\n"
     ]
    }
   ],
   "source": [
    "# Array of even numbers between 0 and 100. (the two means step-2.)\n",
    "numbers = np.arange(0,101,2)\n",
    "\n",
    "# Using print (since it's 1-Dimensional.)\n",
    "print(numbers)"
   ]
  },
  {
   "cell_type": "code",
   "execution_count": 66,
   "metadata": {},
   "outputs": [
    {
     "name": "stdout",
     "output_type": "stream",
     "text": [
      "[1952 1956 1960 1964 1968 1972 1976 1980 1984 1988 1992 1996 2000 2004\n",
      " 2008 2012 2016 2020]\n"
     ]
    }
   ],
   "source": [
    "# Array of years that are divisble by 4 between 1950 and 2020.\n",
    "numbers = np.arange(1952,2021,4)\n",
    "\n",
    "# Using print (since it's 1-Dimensional.)\n",
    "print(numbers)"
   ]
  },
  {
   "attachments": {},
   "cell_type": "markdown",
   "metadata": {},
   "source": [
    "<h4><b style=\"color: red\">Note: compare the NumPy code to the plain Python code after doing the exercises. Easier or more difficult? :) \n",
    "(answer in code comments or as text in Jupyter Notebook)</b></h4>"
   ]
  },
  {
   "cell_type": "markdown",
   "metadata": {},
   "source": [
    "---\n",
    "\n",
    "### My thoughts about the difference between Exercise 1 and 2 (plain Python and NumPy):\n",
    "\n",
    "It's much easier to use NumPy, particularly because it's faster and it doesn't require loops! \n",
    "\n",
    "It is a worthy mention, however, that the NumPy's arange step begins from the starting value, not the number division.\n",
    "\n",
    "<br>\n",
    "\n",
    "Example: \n",
    "\n",
    "*Array of years that are divisble by 4 between 1950 and 2020*\n",
    "\n",
    "\n",
    "`numbers = np.arange(1950,2021,4)`\n",
    "\n",
    "` [1950,1954,1958, ...]`\n",
    "\n",
    "<br>\n",
    "\n",
    "This is **not correct**, since the step count of 4 is relative from the **starting value, not from the number itself.** I will have to take note of that as I continue to learn NumPy!\n",
    "\n",
    "\n",
    "---\n"
   ]
  },
  {
   "attachments": {},
   "cell_type": "markdown",
   "metadata": {},
   "source": [
    "<h3><b>3. Let's try out NumPy vectors and matrices:</b></h3>\n",
    "\n",
    "- Create a NumPy vector (list) containing these values:<br>\n",
    "<b><i>5, 16, 9, 2, 19, 18, 11, 7</i></b><br>\n",
    "    - Use argmax() to find the position index of the largest value in the vector, and print it\n",
    "<br><br>\n",
    "- Create a 7x7 matrix, with values from 1 to 49\n",
    "\n",
    "    - Extra task: Create this matrix (list of lists) without NumPy in Python! <b>(Without the help of AI!)</b>\n",
    "\n",
    "<br>\n",
    "\n",
    "- Generate 8x8 random number matrix, values between 0 and 5\n",
    "\n",
    "- Generate 8x8 random number matrix, using standard normal distribution values (= values are between -3 and 3)\n"
   ]
  },
  {
   "cell_type": "code",
   "execution_count": 67,
   "metadata": {},
   "outputs": [
    {
     "name": "stdout",
     "output_type": "stream",
     "text": [
      "The index of the highest value in the array: 4\n"
     ]
    }
   ],
   "source": [
    "# A NumPy vector (list) containing these values: 5, 16, 9, 2, 19, 18, 11, 7.\n",
    "numbers = [5, 16, 9, 2, 19, 18, 11, 7]\n",
    "data = np.array(numbers)\n",
    "\n",
    "# gives the index of the highest value in the array.\n",
    "max_value_position = data.argmax()\n",
    "\n",
    "print(f\"The index of the highest value in the array: {max_value_position}\")\n"
   ]
  },
  {
   "cell_type": "code",
   "execution_count": 68,
   "metadata": {},
   "outputs": [
    {
     "data": {
      "text/html": [
       "<table style='border: 1px solid black; border-collapse: collapse;'><tr><td style='padding: 5px; border: 1px solid black; font-weight: bold; width: 2ch; text-align: center;'>1</td><td style='padding: 5px; border: 1px solid black; font-weight: bold; width: 2ch; text-align: center;'>2</td><td style='padding: 5px; border: 1px solid black; font-weight: bold; width: 2ch; text-align: center;'>3</td><td style='padding: 5px; border: 1px solid black; font-weight: bold; width: 2ch; text-align: center;'>4</td><td style='padding: 5px; border: 1px solid black; font-weight: bold; width: 2ch; text-align: center;'>5</td><td style='padding: 5px; border: 1px solid black; font-weight: bold; width: 2ch; text-align: center;'>6</td><td style='padding: 5px; border: 1px solid black; font-weight: bold; width: 2ch; text-align: center;'>7</td></tr><tr><td style='padding: 5px; border: 1px solid black; font-weight: bold; width: 2ch; text-align: center;'>8</td><td style='padding: 5px; border: 1px solid black; font-weight: bold; width: 2ch; text-align: center;'>9</td><td style='padding: 5px; border: 1px solid black; font-weight: bold; width: 2ch; text-align: center;'>10</td><td style='padding: 5px; border: 1px solid black; font-weight: bold; width: 2ch; text-align: center;'>11</td><td style='padding: 5px; border: 1px solid black; font-weight: bold; width: 2ch; text-align: center;'>12</td><td style='padding: 5px; border: 1px solid black; font-weight: bold; width: 2ch; text-align: center;'>13</td><td style='padding: 5px; border: 1px solid black; font-weight: bold; width: 2ch; text-align: center;'>14</td></tr><tr><td style='padding: 5px; border: 1px solid black; font-weight: bold; width: 2ch; text-align: center;'>15</td><td style='padding: 5px; border: 1px solid black; font-weight: bold; width: 2ch; text-align: center;'>16</td><td style='padding: 5px; border: 1px solid black; font-weight: bold; width: 2ch; text-align: center;'>17</td><td style='padding: 5px; border: 1px solid black; font-weight: bold; width: 2ch; text-align: center;'>18</td><td style='padding: 5px; border: 1px solid black; font-weight: bold; width: 2ch; text-align: center;'>19</td><td style='padding: 5px; border: 1px solid black; font-weight: bold; width: 2ch; text-align: center;'>20</td><td style='padding: 5px; border: 1px solid black; font-weight: bold; width: 2ch; text-align: center;'>21</td></tr><tr><td style='padding: 5px; border: 1px solid black; font-weight: bold; width: 2ch; text-align: center;'>22</td><td style='padding: 5px; border: 1px solid black; font-weight: bold; width: 2ch; text-align: center;'>23</td><td style='padding: 5px; border: 1px solid black; font-weight: bold; width: 2ch; text-align: center;'>24</td><td style='padding: 5px; border: 1px solid black; font-weight: bold; width: 2ch; text-align: center;'>25</td><td style='padding: 5px; border: 1px solid black; font-weight: bold; width: 2ch; text-align: center;'>26</td><td style='padding: 5px; border: 1px solid black; font-weight: bold; width: 2ch; text-align: center;'>27</td><td style='padding: 5px; border: 1px solid black; font-weight: bold; width: 2ch; text-align: center;'>28</td></tr><tr><td style='padding: 5px; border: 1px solid black; font-weight: bold; width: 2ch; text-align: center;'>29</td><td style='padding: 5px; border: 1px solid black; font-weight: bold; width: 2ch; text-align: center;'>30</td><td style='padding: 5px; border: 1px solid black; font-weight: bold; width: 2ch; text-align: center;'>31</td><td style='padding: 5px; border: 1px solid black; font-weight: bold; width: 2ch; text-align: center;'>32</td><td style='padding: 5px; border: 1px solid black; font-weight: bold; width: 2ch; text-align: center;'>33</td><td style='padding: 5px; border: 1px solid black; font-weight: bold; width: 2ch; text-align: center;'>34</td><td style='padding: 5px; border: 1px solid black; font-weight: bold; width: 2ch; text-align: center;'>35</td></tr><tr><td style='padding: 5px; border: 1px solid black; font-weight: bold; width: 2ch; text-align: center;'>36</td><td style='padding: 5px; border: 1px solid black; font-weight: bold; width: 2ch; text-align: center;'>37</td><td style='padding: 5px; border: 1px solid black; font-weight: bold; width: 2ch; text-align: center;'>38</td><td style='padding: 5px; border: 1px solid black; font-weight: bold; width: 2ch; text-align: center;'>39</td><td style='padding: 5px; border: 1px solid black; font-weight: bold; width: 2ch; text-align: center;'>40</td><td style='padding: 5px; border: 1px solid black; font-weight: bold; width: 2ch; text-align: center;'>41</td><td style='padding: 5px; border: 1px solid black; font-weight: bold; width: 2ch; text-align: center;'>42</td></tr><tr><td style='padding: 5px; border: 1px solid black; font-weight: bold; width: 2ch; text-align: center;'>43</td><td style='padding: 5px; border: 1px solid black; font-weight: bold; width: 2ch; text-align: center;'>44</td><td style='padding: 5px; border: 1px solid black; font-weight: bold; width: 2ch; text-align: center;'>45</td><td style='padding: 5px; border: 1px solid black; font-weight: bold; width: 2ch; text-align: center;'>46</td><td style='padding: 5px; border: 1px solid black; font-weight: bold; width: 2ch; text-align: center;'>47</td><td style='padding: 5px; border: 1px solid black; font-weight: bold; width: 2ch; text-align: center;'>48</td><td style='padding: 5px; border: 1px solid black; font-weight: bold; width: 2ch; text-align: center;'>49</td></tr></table>"
      ],
      "text/plain": [
       "array([[ 1,  2,  3,  4,  5,  6,  7],\n",
       "       [ 8,  9, 10, 11, 12, 13, 14],\n",
       "       [15, 16, 17, 18, 19, 20, 21],\n",
       "       [22, 23, 24, 25, 26, 27, 28],\n",
       "       [29, 30, 31, 32, 33, 34, 35],\n",
       "       [36, 37, 38, 39, 40, 41, 42],\n",
       "       [43, 44, 45, 46, 47, 48, 49]])"
      ]
     },
     "execution_count": 68,
     "metadata": {},
     "output_type": "execute_result"
    }
   ],
   "source": [
    "# Create a 7x7 matrix, with the values from 1 to 49.\n",
    "numbers = np.arange(1,50).reshape(7,7)\n",
    "numbers"
   ]
  },
  {
   "cell_type": "code",
   "execution_count": 69,
   "metadata": {},
   "outputs": [
    {
     "data": {
      "text/plain": [
       "[[1, 2, 3, 4, 5, 6, 7],\n",
       " [8, 9, 10, 11, 12, 13, 14],\n",
       " [15, 16, 17, 18, 19, 20, 21],\n",
       " [22, 23, 24, 25, 26, 27, 28],\n",
       " [29, 30, 31, 32, 33, 34, 35],\n",
       " [36, 37, 38, 39, 40, 41, 42],\n",
       " [43, 44, 45, 46, 47, 48, 49]]"
      ]
     },
     "execution_count": 69,
     "metadata": {},
     "output_type": "execute_result"
    }
   ],
   "source": [
    "# Extra Task!\n",
    "# Create the same matrix, 1-49, 7x7, in Python!\n",
    "\n",
    "# This strategy uses the incrementor to count from 1 - 49.\n",
    "data = []\n",
    "increment = 1\n",
    "\n",
    "# For each row, it makes an empty list and fills it with the\n",
    "# Increment number above seven times.\n",
    "for r in range(1,8):\n",
    "  row = []\n",
    "\n",
    "  for i in range(1,8):\n",
    "   row.append(increment)\n",
    "   # It then adds 1 to increment, so it can call the next number.\n",
    "   increment += 1\n",
    "\n",
    "  # Finally, it adds the row to the matrix list.\n",
    "  data.append(row)\n",
    "data"
   ]
  },
  {
   "cell_type": "code",
   "execution_count": 70,
   "metadata": {},
   "outputs": [
    {
     "data": {
      "text/html": [
       "<table style='border: 1px solid black; border-collapse: collapse;'><tr><td style='padding: 5px; border: 1px solid black; font-weight: bold; width: 1ch; text-align: center;'>0</td><td style='padding: 5px; border: 1px solid black; font-weight: bold; width: 1ch; text-align: center;'>0</td><td style='padding: 5px; border: 1px solid black; font-weight: bold; width: 1ch; text-align: center;'>1</td><td style='padding: 5px; border: 1px solid black; font-weight: bold; width: 1ch; text-align: center;'>4</td><td style='padding: 5px; border: 1px solid black; font-weight: bold; width: 1ch; text-align: center;'>1</td><td style='padding: 5px; border: 1px solid black; font-weight: bold; width: 1ch; text-align: center;'>1</td><td style='padding: 5px; border: 1px solid black; font-weight: bold; width: 1ch; text-align: center;'>2</td><td style='padding: 5px; border: 1px solid black; font-weight: bold; width: 1ch; text-align: center;'>0</td></tr><tr><td style='padding: 5px; border: 1px solid black; font-weight: bold; width: 1ch; text-align: center;'>0</td><td style='padding: 5px; border: 1px solid black; font-weight: bold; width: 1ch; text-align: center;'>0</td><td style='padding: 5px; border: 1px solid black; font-weight: bold; width: 1ch; text-align: center;'>4</td><td style='padding: 5px; border: 1px solid black; font-weight: bold; width: 1ch; text-align: center;'>1</td><td style='padding: 5px; border: 1px solid black; font-weight: bold; width: 1ch; text-align: center;'>1</td><td style='padding: 5px; border: 1px solid black; font-weight: bold; width: 1ch; text-align: center;'>1</td><td style='padding: 5px; border: 1px solid black; font-weight: bold; width: 1ch; text-align: center;'>3</td><td style='padding: 5px; border: 1px solid black; font-weight: bold; width: 1ch; text-align: center;'>4</td></tr><tr><td style='padding: 5px; border: 1px solid black; font-weight: bold; width: 1ch; text-align: center;'>3</td><td style='padding: 5px; border: 1px solid black; font-weight: bold; width: 1ch; text-align: center;'>0</td><td style='padding: 5px; border: 1px solid black; font-weight: bold; width: 1ch; text-align: center;'>2</td><td style='padding: 5px; border: 1px solid black; font-weight: bold; width: 1ch; text-align: center;'>2</td><td style='padding: 5px; border: 1px solid black; font-weight: bold; width: 1ch; text-align: center;'>4</td><td style='padding: 5px; border: 1px solid black; font-weight: bold; width: 1ch; text-align: center;'>1</td><td style='padding: 5px; border: 1px solid black; font-weight: bold; width: 1ch; text-align: center;'>4</td><td style='padding: 5px; border: 1px solid black; font-weight: bold; width: 1ch; text-align: center;'>4</td></tr><tr><td style='padding: 5px; border: 1px solid black; font-weight: bold; width: 1ch; text-align: center;'>2</td><td style='padding: 5px; border: 1px solid black; font-weight: bold; width: 1ch; text-align: center;'>2</td><td style='padding: 5px; border: 1px solid black; font-weight: bold; width: 1ch; text-align: center;'>1</td><td style='padding: 5px; border: 1px solid black; font-weight: bold; width: 1ch; text-align: center;'>0</td><td style='padding: 5px; border: 1px solid black; font-weight: bold; width: 1ch; text-align: center;'>2</td><td style='padding: 5px; border: 1px solid black; font-weight: bold; width: 1ch; text-align: center;'>1</td><td style='padding: 5px; border: 1px solid black; font-weight: bold; width: 1ch; text-align: center;'>2</td><td style='padding: 5px; border: 1px solid black; font-weight: bold; width: 1ch; text-align: center;'>0</td></tr><tr><td style='padding: 5px; border: 1px solid black; font-weight: bold; width: 1ch; text-align: center;'>1</td><td style='padding: 5px; border: 1px solid black; font-weight: bold; width: 1ch; text-align: center;'>2</td><td style='padding: 5px; border: 1px solid black; font-weight: bold; width: 1ch; text-align: center;'>2</td><td style='padding: 5px; border: 1px solid black; font-weight: bold; width: 1ch; text-align: center;'>3</td><td style='padding: 5px; border: 1px solid black; font-weight: bold; width: 1ch; text-align: center;'>1</td><td style='padding: 5px; border: 1px solid black; font-weight: bold; width: 1ch; text-align: center;'>4</td><td style='padding: 5px; border: 1px solid black; font-weight: bold; width: 1ch; text-align: center;'>2</td><td style='padding: 5px; border: 1px solid black; font-weight: bold; width: 1ch; text-align: center;'>4</td></tr><tr><td style='padding: 5px; border: 1px solid black; font-weight: bold; width: 1ch; text-align: center;'>2</td><td style='padding: 5px; border: 1px solid black; font-weight: bold; width: 1ch; text-align: center;'>4</td><td style='padding: 5px; border: 1px solid black; font-weight: bold; width: 1ch; text-align: center;'>4</td><td style='padding: 5px; border: 1px solid black; font-weight: bold; width: 1ch; text-align: center;'>1</td><td style='padding: 5px; border: 1px solid black; font-weight: bold; width: 1ch; text-align: center;'>4</td><td style='padding: 5px; border: 1px solid black; font-weight: bold; width: 1ch; text-align: center;'>4</td><td style='padding: 5px; border: 1px solid black; font-weight: bold; width: 1ch; text-align: center;'>3</td><td style='padding: 5px; border: 1px solid black; font-weight: bold; width: 1ch; text-align: center;'>2</td></tr><tr><td style='padding: 5px; border: 1px solid black; font-weight: bold; width: 1ch; text-align: center;'>1</td><td style='padding: 5px; border: 1px solid black; font-weight: bold; width: 1ch; text-align: center;'>3</td><td style='padding: 5px; border: 1px solid black; font-weight: bold; width: 1ch; text-align: center;'>2</td><td style='padding: 5px; border: 1px solid black; font-weight: bold; width: 1ch; text-align: center;'>1</td><td style='padding: 5px; border: 1px solid black; font-weight: bold; width: 1ch; text-align: center;'>4</td><td style='padding: 5px; border: 1px solid black; font-weight: bold; width: 1ch; text-align: center;'>2</td><td style='padding: 5px; border: 1px solid black; font-weight: bold; width: 1ch; text-align: center;'>1</td><td style='padding: 5px; border: 1px solid black; font-weight: bold; width: 1ch; text-align: center;'>1</td></tr><tr><td style='padding: 5px; border: 1px solid black; font-weight: bold; width: 1ch; text-align: center;'>3</td><td style='padding: 5px; border: 1px solid black; font-weight: bold; width: 1ch; text-align: center;'>1</td><td style='padding: 5px; border: 1px solid black; font-weight: bold; width: 1ch; text-align: center;'>3</td><td style='padding: 5px; border: 1px solid black; font-weight: bold; width: 1ch; text-align: center;'>1</td><td style='padding: 5px; border: 1px solid black; font-weight: bold; width: 1ch; text-align: center;'>4</td><td style='padding: 5px; border: 1px solid black; font-weight: bold; width: 1ch; text-align: center;'>2</td><td style='padding: 5px; border: 1px solid black; font-weight: bold; width: 1ch; text-align: center;'>1</td><td style='padding: 5px; border: 1px solid black; font-weight: bold; width: 1ch; text-align: center;'>1</td></tr></table>"
      ],
      "text/plain": [
       "array([[0, 0, 1, 4, 1, 1, 2, 0],\n",
       "       [0, 0, 4, 1, 1, 1, 3, 4],\n",
       "       [3, 0, 2, 2, 4, 1, 4, 4],\n",
       "       [2, 2, 1, 0, 2, 1, 2, 0],\n",
       "       [1, 2, 2, 3, 1, 4, 2, 4],\n",
       "       [2, 4, 4, 1, 4, 4, 3, 2],\n",
       "       [1, 3, 2, 1, 4, 2, 1, 1],\n",
       "       [3, 1, 3, 1, 4, 2, 1, 1]], dtype=int32)"
      ]
     },
     "execution_count": 70,
     "metadata": {},
     "output_type": "execute_result"
    }
   ],
   "source": [
    "# Generate a 8x8 random number matrix with the values between 0 and 5 for each row.append\n",
    "data = np.random.randint(0,5, 64).reshape(8,8)\n",
    "data"
   ]
  },
  {
   "cell_type": "code",
   "execution_count": 71,
   "metadata": {},
   "outputs": [
    {
     "data": {
      "text/html": [
       "<table style='border: 1px solid black; border-collapse: collapse;'><tr><td style='padding: 5px; border: 1px solid black; font-weight: bold; width: 5ch; text-align: center;'>1.47</td><td style='padding: 5px; border: 1px solid black; font-weight: bold; width: 5ch; text-align: center;'>-1.53</td><td style='padding: 5px; border: 1px solid black; font-weight: bold; width: 5ch; text-align: center;'>1.85</td><td style='padding: 5px; border: 1px solid black; font-weight: bold; width: 5ch; text-align: center;'>-0.02</td><td style='padding: 5px; border: 1px solid black; font-weight: bold; width: 5ch; text-align: center;'>0.34</td><td style='padding: 5px; border: 1px solid black; font-weight: bold; width: 5ch; text-align: center;'>-0.13</td><td style='padding: 5px; border: 1px solid black; font-weight: bold; width: 5ch; text-align: center;'>0.82</td><td style='padding: 5px; border: 1px solid black; font-weight: bold; width: 5ch; text-align: center;'>0.99</td></tr><tr><td style='padding: 5px; border: 1px solid black; font-weight: bold; width: 5ch; text-align: center;'>-0.01</td><td style='padding: 5px; border: 1px solid black; font-weight: bold; width: 5ch; text-align: center;'>-0.98</td><td style='padding: 5px; border: 1px solid black; font-weight: bold; width: 5ch; text-align: center;'>1.03</td><td style='padding: 5px; border: 1px solid black; font-weight: bold; width: 5ch; text-align: center;'>1.38</td><td style='padding: 5px; border: 1px solid black; font-weight: bold; width: 5ch; text-align: center;'>0.07</td><td style='padding: 5px; border: 1px solid black; font-weight: bold; width: 5ch; text-align: center;'>-0.73</td><td style='padding: 5px; border: 1px solid black; font-weight: bold; width: 5ch; text-align: center;'>1.46</td><td style='padding: 5px; border: 1px solid black; font-weight: bold; width: 5ch; text-align: center;'>0.44</td></tr><tr><td style='padding: 5px; border: 1px solid black; font-weight: bold; width: 5ch; text-align: center;'>0.56</td><td style='padding: 5px; border: 1px solid black; font-weight: bold; width: 5ch; text-align: center;'>-0.88</td><td style='padding: 5px; border: 1px solid black; font-weight: bold; width: 5ch; text-align: center;'>0.15</td><td style='padding: 5px; border: 1px solid black; font-weight: bold; width: 5ch; text-align: center;'>-0.82</td><td style='padding: 5px; border: 1px solid black; font-weight: bold; width: 5ch; text-align: center;'>1.29</td><td style='padding: 5px; border: 1px solid black; font-weight: bold; width: 5ch; text-align: center;'>-2.97</td><td style='padding: 5px; border: 1px solid black; font-weight: bold; width: 5ch; text-align: center;'>0.54</td><td style='padding: 5px; border: 1px solid black; font-weight: bold; width: 5ch; text-align: center;'>0.14</td></tr><tr><td style='padding: 5px; border: 1px solid black; font-weight: bold; width: 5ch; text-align: center;'>-0.15</td><td style='padding: 5px; border: 1px solid black; font-weight: bold; width: 5ch; text-align: center;'>0.78</td><td style='padding: 5px; border: 1px solid black; font-weight: bold; width: 5ch; text-align: center;'>-0.96</td><td style='padding: 5px; border: 1px solid black; font-weight: bold; width: 5ch; text-align: center;'>-1.08</td><td style='padding: 5px; border: 1px solid black; font-weight: bold; width: 5ch; text-align: center;'>2.39</td><td style='padding: 5px; border: 1px solid black; font-weight: bold; width: 5ch; text-align: center;'>0.58</td><td style='padding: 5px; border: 1px solid black; font-weight: bold; width: 5ch; text-align: center;'>0.52</td><td style='padding: 5px; border: 1px solid black; font-weight: bold; width: 5ch; text-align: center;'>-1.04</td></tr><tr><td style='padding: 5px; border: 1px solid black; font-weight: bold; width: 5ch; text-align: center;'>-0.16</td><td style='padding: 5px; border: 1px solid black; font-weight: bold; width: 5ch; text-align: center;'>0.65</td><td style='padding: 5px; border: 1px solid black; font-weight: bold; width: 5ch; text-align: center;'>0.01</td><td style='padding: 5px; border: 1px solid black; font-weight: bold; width: 5ch; text-align: center;'>0.63</td><td style='padding: 5px; border: 1px solid black; font-weight: bold; width: 5ch; text-align: center;'>-0.47</td><td style='padding: 5px; border: 1px solid black; font-weight: bold; width: 5ch; text-align: center;'>0.36</td><td style='padding: 5px; border: 1px solid black; font-weight: bold; width: 5ch; text-align: center;'>-1.52</td><td style='padding: 5px; border: 1px solid black; font-weight: bold; width: 5ch; text-align: center;'>0.19</td></tr><tr><td style='padding: 5px; border: 1px solid black; font-weight: bold; width: 5ch; text-align: center;'>0.15</td><td style='padding: 5px; border: 1px solid black; font-weight: bold; width: 5ch; text-align: center;'>-1.03</td><td style='padding: 5px; border: 1px solid black; font-weight: bold; width: 5ch; text-align: center;'>-0.42</td><td style='padding: 5px; border: 1px solid black; font-weight: bold; width: 5ch; text-align: center;'>0.42</td><td style='padding: 5px; border: 1px solid black; font-weight: bold; width: 5ch; text-align: center;'>0.3</td><td style='padding: 5px; border: 1px solid black; font-weight: bold; width: 5ch; text-align: center;'>-0.08</td><td style='padding: 5px; border: 1px solid black; font-weight: bold; width: 5ch; text-align: center;'>0.73</td><td style='padding: 5px; border: 1px solid black; font-weight: bold; width: 5ch; text-align: center;'>0.21</td></tr><tr><td style='padding: 5px; border: 1px solid black; font-weight: bold; width: 5ch; text-align: center;'>0.02</td><td style='padding: 5px; border: 1px solid black; font-weight: bold; width: 5ch; text-align: center;'>0.27</td><td style='padding: 5px; border: 1px solid black; font-weight: bold; width: 5ch; text-align: center;'>-0.79</td><td style='padding: 5px; border: 1px solid black; font-weight: bold; width: 5ch; text-align: center;'>-0.85</td><td style='padding: 5px; border: 1px solid black; font-weight: bold; width: 5ch; text-align: center;'>-1.09</td><td style='padding: 5px; border: 1px solid black; font-weight: bold; width: 5ch; text-align: center;'>-0.78</td><td style='padding: 5px; border: 1px solid black; font-weight: bold; width: 5ch; text-align: center;'>-0.54</td><td style='padding: 5px; border: 1px solid black; font-weight: bold; width: 5ch; text-align: center;'>0.44</td></tr><tr><td style='padding: 5px; border: 1px solid black; font-weight: bold; width: 5ch; text-align: center;'>0.04</td><td style='padding: 5px; border: 1px solid black; font-weight: bold; width: 5ch; text-align: center;'>0.27</td><td style='padding: 5px; border: 1px solid black; font-weight: bold; width: 5ch; text-align: center;'>0.27</td><td style='padding: 5px; border: 1px solid black; font-weight: bold; width: 5ch; text-align: center;'>-0.7</td><td style='padding: 5px; border: 1px solid black; font-weight: bold; width: 5ch; text-align: center;'>-0.89</td><td style='padding: 5px; border: 1px solid black; font-weight: bold; width: 5ch; text-align: center;'>-0.79</td><td style='padding: 5px; border: 1px solid black; font-weight: bold; width: 5ch; text-align: center;'>0.38</td><td style='padding: 5px; border: 1px solid black; font-weight: bold; width: 5ch; text-align: center;'>-0.16</td></tr></table>"
      ],
      "text/plain": [
       "array([[ 1.47, -1.53,  1.85, -0.02,  0.34, -0.13,  0.82,  0.99],\n",
       "       [-0.01, -0.98,  1.03,  1.38,  0.07, -0.73,  1.46,  0.44],\n",
       "       [ 0.56, -0.88,  0.15, -0.82,  1.29, -2.97,  0.54,  0.14],\n",
       "       [-0.15,  0.78, -0.96, -1.08,  2.39,  0.58,  0.52, -1.04],\n",
       "       [-0.16,  0.65,  0.01,  0.63, -0.47,  0.36, -1.52,  0.19],\n",
       "       [ 0.15, -1.03, -0.42,  0.42,  0.3 , -0.08,  0.73,  0.21],\n",
       "       [ 0.02,  0.27, -0.79, -0.85, -1.09, -0.78, -0.54,  0.44],\n",
       "       [ 0.04,  0.27,  0.27, -0.7 , -0.89, -0.79,  0.38, -0.16]])"
      ]
     },
     "execution_count": 71,
     "metadata": {},
     "output_type": "execute_result"
    }
   ],
   "source": [
    "# Generating a 8x8 random number matrix, using standard normal distribution values (= values are between -3 and 3)\n",
    "data = np.random.randn(8,8)\n",
    "np.round(data,2)"
   ]
  },
  {
   "attachments": {},
   "cell_type": "markdown",
   "metadata": {},
   "source": [
    "<h3><b>4. Create a linearly spaced… </b></h3>\n",
    "\n",
    "- array (list/vector) of 10 values between value 0 and 1\n",
    "\n",
    "- 10x10 matrix between values 0 and 5\n",
    "\n",
    "    - Extra task: create this matrix without NumPy as well! <b>(Without the help of AI!)</b>\n",
    "\n",
    "\n",
    "<img src=\"http://srv.plab.fi/~tuomasv/data_analytics_2023_images/exercise_set_1/cubes.png\"/>\n"
   ]
  },
  {
   "cell_type": "code",
   "execution_count": 72,
   "metadata": {},
   "outputs": [
    {
     "name": "stdout",
     "output_type": "stream",
     "text": [
      "[0.   0.11 0.22 0.33 0.44 0.56 0.67 0.78 0.89 1.  ]\n"
     ]
    }
   ],
   "source": [
    "# Create a linearly-spaced array (list/vector) of 10 values between value 0 and 1.\n",
    "data = np.linspace(0,1,10)\n",
    "data = data.round(2)\n",
    "print(data)\n"
   ]
  },
  {
   "cell_type": "code",
   "execution_count": 73,
   "metadata": {},
   "outputs": [
    {
     "data": {
      "text/html": [
       "<table style='border: 1px solid black; border-collapse: collapse;'><tr><td style='padding: 5px; border: 1px solid black; font-weight: bold; width: 4ch; text-align: center;'>0.0</td><td style='padding: 5px; border: 1px solid black; font-weight: bold; width: 4ch; text-align: center;'>0.05</td><td style='padding: 5px; border: 1px solid black; font-weight: bold; width: 4ch; text-align: center;'>0.1</td><td style='padding: 5px; border: 1px solid black; font-weight: bold; width: 4ch; text-align: center;'>0.15</td><td style='padding: 5px; border: 1px solid black; font-weight: bold; width: 4ch; text-align: center;'>0.2</td><td style='padding: 5px; border: 1px solid black; font-weight: bold; width: 4ch; text-align: center;'>0.25</td><td style='padding: 5px; border: 1px solid black; font-weight: bold; width: 4ch; text-align: center;'>0.3</td><td style='padding: 5px; border: 1px solid black; font-weight: bold; width: 4ch; text-align: center;'>0.35</td><td style='padding: 5px; border: 1px solid black; font-weight: bold; width: 4ch; text-align: center;'>0.4</td><td style='padding: 5px; border: 1px solid black; font-weight: bold; width: 4ch; text-align: center;'>0.45</td></tr><tr><td style='padding: 5px; border: 1px solid black; font-weight: bold; width: 4ch; text-align: center;'>0.51</td><td style='padding: 5px; border: 1px solid black; font-weight: bold; width: 4ch; text-align: center;'>0.56</td><td style='padding: 5px; border: 1px solid black; font-weight: bold; width: 4ch; text-align: center;'>0.61</td><td style='padding: 5px; border: 1px solid black; font-weight: bold; width: 4ch; text-align: center;'>0.66</td><td style='padding: 5px; border: 1px solid black; font-weight: bold; width: 4ch; text-align: center;'>0.71</td><td style='padding: 5px; border: 1px solid black; font-weight: bold; width: 4ch; text-align: center;'>0.76</td><td style='padding: 5px; border: 1px solid black; font-weight: bold; width: 4ch; text-align: center;'>0.81</td><td style='padding: 5px; border: 1px solid black; font-weight: bold; width: 4ch; text-align: center;'>0.86</td><td style='padding: 5px; border: 1px solid black; font-weight: bold; width: 4ch; text-align: center;'>0.91</td><td style='padding: 5px; border: 1px solid black; font-weight: bold; width: 4ch; text-align: center;'>0.96</td></tr><tr><td style='padding: 5px; border: 1px solid black; font-weight: bold; width: 4ch; text-align: center;'>1.01</td><td style='padding: 5px; border: 1px solid black; font-weight: bold; width: 4ch; text-align: center;'>1.06</td><td style='padding: 5px; border: 1px solid black; font-weight: bold; width: 4ch; text-align: center;'>1.11</td><td style='padding: 5px; border: 1px solid black; font-weight: bold; width: 4ch; text-align: center;'>1.16</td><td style='padding: 5px; border: 1px solid black; font-weight: bold; width: 4ch; text-align: center;'>1.21</td><td style='padding: 5px; border: 1px solid black; font-weight: bold; width: 4ch; text-align: center;'>1.26</td><td style='padding: 5px; border: 1px solid black; font-weight: bold; width: 4ch; text-align: center;'>1.31</td><td style='padding: 5px; border: 1px solid black; font-weight: bold; width: 4ch; text-align: center;'>1.36</td><td style='padding: 5px; border: 1px solid black; font-weight: bold; width: 4ch; text-align: center;'>1.41</td><td style='padding: 5px; border: 1px solid black; font-weight: bold; width: 4ch; text-align: center;'>1.46</td></tr><tr><td style='padding: 5px; border: 1px solid black; font-weight: bold; width: 4ch; text-align: center;'>1.52</td><td style='padding: 5px; border: 1px solid black; font-weight: bold; width: 4ch; text-align: center;'>1.57</td><td style='padding: 5px; border: 1px solid black; font-weight: bold; width: 4ch; text-align: center;'>1.62</td><td style='padding: 5px; border: 1px solid black; font-weight: bold; width: 4ch; text-align: center;'>1.67</td><td style='padding: 5px; border: 1px solid black; font-weight: bold; width: 4ch; text-align: center;'>1.72</td><td style='padding: 5px; border: 1px solid black; font-weight: bold; width: 4ch; text-align: center;'>1.77</td><td style='padding: 5px; border: 1px solid black; font-weight: bold; width: 4ch; text-align: center;'>1.82</td><td style='padding: 5px; border: 1px solid black; font-weight: bold; width: 4ch; text-align: center;'>1.87</td><td style='padding: 5px; border: 1px solid black; font-weight: bold; width: 4ch; text-align: center;'>1.92</td><td style='padding: 5px; border: 1px solid black; font-weight: bold; width: 4ch; text-align: center;'>1.97</td></tr><tr><td style='padding: 5px; border: 1px solid black; font-weight: bold; width: 4ch; text-align: center;'>2.02</td><td style='padding: 5px; border: 1px solid black; font-weight: bold; width: 4ch; text-align: center;'>2.07</td><td style='padding: 5px; border: 1px solid black; font-weight: bold; width: 4ch; text-align: center;'>2.12</td><td style='padding: 5px; border: 1px solid black; font-weight: bold; width: 4ch; text-align: center;'>2.17</td><td style='padding: 5px; border: 1px solid black; font-weight: bold; width: 4ch; text-align: center;'>2.22</td><td style='padding: 5px; border: 1px solid black; font-weight: bold; width: 4ch; text-align: center;'>2.27</td><td style='padding: 5px; border: 1px solid black; font-weight: bold; width: 4ch; text-align: center;'>2.32</td><td style='padding: 5px; border: 1px solid black; font-weight: bold; width: 4ch; text-align: center;'>2.37</td><td style='padding: 5px; border: 1px solid black; font-weight: bold; width: 4ch; text-align: center;'>2.42</td><td style='padding: 5px; border: 1px solid black; font-weight: bold; width: 4ch; text-align: center;'>2.47</td></tr><tr><td style='padding: 5px; border: 1px solid black; font-weight: bold; width: 4ch; text-align: center;'>2.53</td><td style='padding: 5px; border: 1px solid black; font-weight: bold; width: 4ch; text-align: center;'>2.58</td><td style='padding: 5px; border: 1px solid black; font-weight: bold; width: 4ch; text-align: center;'>2.63</td><td style='padding: 5px; border: 1px solid black; font-weight: bold; width: 4ch; text-align: center;'>2.68</td><td style='padding: 5px; border: 1px solid black; font-weight: bold; width: 4ch; text-align: center;'>2.73</td><td style='padding: 5px; border: 1px solid black; font-weight: bold; width: 4ch; text-align: center;'>2.78</td><td style='padding: 5px; border: 1px solid black; font-weight: bold; width: 4ch; text-align: center;'>2.83</td><td style='padding: 5px; border: 1px solid black; font-weight: bold; width: 4ch; text-align: center;'>2.88</td><td style='padding: 5px; border: 1px solid black; font-weight: bold; width: 4ch; text-align: center;'>2.93</td><td style='padding: 5px; border: 1px solid black; font-weight: bold; width: 4ch; text-align: center;'>2.98</td></tr><tr><td style='padding: 5px; border: 1px solid black; font-weight: bold; width: 4ch; text-align: center;'>3.03</td><td style='padding: 5px; border: 1px solid black; font-weight: bold; width: 4ch; text-align: center;'>3.08</td><td style='padding: 5px; border: 1px solid black; font-weight: bold; width: 4ch; text-align: center;'>3.13</td><td style='padding: 5px; border: 1px solid black; font-weight: bold; width: 4ch; text-align: center;'>3.18</td><td style='padding: 5px; border: 1px solid black; font-weight: bold; width: 4ch; text-align: center;'>3.23</td><td style='padding: 5px; border: 1px solid black; font-weight: bold; width: 4ch; text-align: center;'>3.28</td><td style='padding: 5px; border: 1px solid black; font-weight: bold; width: 4ch; text-align: center;'>3.33</td><td style='padding: 5px; border: 1px solid black; font-weight: bold; width: 4ch; text-align: center;'>3.38</td><td style='padding: 5px; border: 1px solid black; font-weight: bold; width: 4ch; text-align: center;'>3.43</td><td style='padding: 5px; border: 1px solid black; font-weight: bold; width: 4ch; text-align: center;'>3.48</td></tr><tr><td style='padding: 5px; border: 1px solid black; font-weight: bold; width: 4ch; text-align: center;'>3.54</td><td style='padding: 5px; border: 1px solid black; font-weight: bold; width: 4ch; text-align: center;'>3.59</td><td style='padding: 5px; border: 1px solid black; font-weight: bold; width: 4ch; text-align: center;'>3.64</td><td style='padding: 5px; border: 1px solid black; font-weight: bold; width: 4ch; text-align: center;'>3.69</td><td style='padding: 5px; border: 1px solid black; font-weight: bold; width: 4ch; text-align: center;'>3.74</td><td style='padding: 5px; border: 1px solid black; font-weight: bold; width: 4ch; text-align: center;'>3.79</td><td style='padding: 5px; border: 1px solid black; font-weight: bold; width: 4ch; text-align: center;'>3.84</td><td style='padding: 5px; border: 1px solid black; font-weight: bold; width: 4ch; text-align: center;'>3.89</td><td style='padding: 5px; border: 1px solid black; font-weight: bold; width: 4ch; text-align: center;'>3.94</td><td style='padding: 5px; border: 1px solid black; font-weight: bold; width: 4ch; text-align: center;'>3.99</td></tr><tr><td style='padding: 5px; border: 1px solid black; font-weight: bold; width: 4ch; text-align: center;'>4.04</td><td style='padding: 5px; border: 1px solid black; font-weight: bold; width: 4ch; text-align: center;'>4.09</td><td style='padding: 5px; border: 1px solid black; font-weight: bold; width: 4ch; text-align: center;'>4.14</td><td style='padding: 5px; border: 1px solid black; font-weight: bold; width: 4ch; text-align: center;'>4.19</td><td style='padding: 5px; border: 1px solid black; font-weight: bold; width: 4ch; text-align: center;'>4.24</td><td style='padding: 5px; border: 1px solid black; font-weight: bold; width: 4ch; text-align: center;'>4.29</td><td style='padding: 5px; border: 1px solid black; font-weight: bold; width: 4ch; text-align: center;'>4.34</td><td style='padding: 5px; border: 1px solid black; font-weight: bold; width: 4ch; text-align: center;'>4.39</td><td style='padding: 5px; border: 1px solid black; font-weight: bold; width: 4ch; text-align: center;'>4.44</td><td style='padding: 5px; border: 1px solid black; font-weight: bold; width: 4ch; text-align: center;'>4.49</td></tr><tr><td style='padding: 5px; border: 1px solid black; font-weight: bold; width: 4ch; text-align: center;'>4.55</td><td style='padding: 5px; border: 1px solid black; font-weight: bold; width: 4ch; text-align: center;'>4.6</td><td style='padding: 5px; border: 1px solid black; font-weight: bold; width: 4ch; text-align: center;'>4.65</td><td style='padding: 5px; border: 1px solid black; font-weight: bold; width: 4ch; text-align: center;'>4.7</td><td style='padding: 5px; border: 1px solid black; font-weight: bold; width: 4ch; text-align: center;'>4.75</td><td style='padding: 5px; border: 1px solid black; font-weight: bold; width: 4ch; text-align: center;'>4.8</td><td style='padding: 5px; border: 1px solid black; font-weight: bold; width: 4ch; text-align: center;'>4.85</td><td style='padding: 5px; border: 1px solid black; font-weight: bold; width: 4ch; text-align: center;'>4.9</td><td style='padding: 5px; border: 1px solid black; font-weight: bold; width: 4ch; text-align: center;'>4.95</td><td style='padding: 5px; border: 1px solid black; font-weight: bold; width: 4ch; text-align: center;'>5.0</td></tr></table>"
      ],
      "text/plain": [
       "array([[0.  , 0.05, 0.1 , 0.15, 0.2 , 0.25, 0.3 , 0.35, 0.4 , 0.45],\n",
       "       [0.51, 0.56, 0.61, 0.66, 0.71, 0.76, 0.81, 0.86, 0.91, 0.96],\n",
       "       [1.01, 1.06, 1.11, 1.16, 1.21, 1.26, 1.31, 1.36, 1.41, 1.46],\n",
       "       [1.52, 1.57, 1.62, 1.67, 1.72, 1.77, 1.82, 1.87, 1.92, 1.97],\n",
       "       [2.02, 2.07, 2.12, 2.17, 2.22, 2.27, 2.32, 2.37, 2.42, 2.47],\n",
       "       [2.53, 2.58, 2.63, 2.68, 2.73, 2.78, 2.83, 2.88, 2.93, 2.98],\n",
       "       [3.03, 3.08, 3.13, 3.18, 3.23, 3.28, 3.33, 3.38, 3.43, 3.48],\n",
       "       [3.54, 3.59, 3.64, 3.69, 3.74, 3.79, 3.84, 3.89, 3.94, 3.99],\n",
       "       [4.04, 4.09, 4.14, 4.19, 4.24, 4.29, 4.34, 4.39, 4.44, 4.49],\n",
       "       [4.55, 4.6 , 4.65, 4.7 , 4.75, 4.8 , 4.85, 4.9 , 4.95, 5.  ]])"
      ]
     },
     "execution_count": 73,
     "metadata": {},
     "output_type": "execute_result"
    }
   ],
   "source": [
    "# Create linearly-spaced array, 10x10 matrix between values 0 and 5.\n",
    "data = np.linspace(0,5, 100).reshape(10,10)\n",
    "np.round(data,2)"
   ]
  },
  {
   "cell_type": "code",
   "execution_count": 74,
   "metadata": {},
   "outputs": [
    {
     "name": "stdout",
     "output_type": "stream",
     "text": [
      "[[0.05, 0.1, 0.15, 0.2, 0.25, 0.3, 0.35, 0.4, 0.45, 0.5], [0.55, 0.6, 0.65, 0.7, 0.75, 0.8, 0.85, 0.9, 0.95, 1.0], [1.05, 1.1, 1.15, 1.2, 1.25, 1.3, 1.35, 1.4, 1.45, 1.5], [1.55, 1.6, 1.65, 1.7, 1.75, 1.8, 1.85, 1.9, 1.95, 2.0], [2.05, 2.1, 2.15, 2.2, 2.25, 2.3, 2.35, 2.4, 2.45, 2.5], [2.55, 2.6, 2.65, 2.7, 2.75, 2.8, 2.85, 2.9, 2.95, 3.0], [3.05, 3.1, 3.15, 3.2, 3.25, 3.3, 3.35, 3.4, 3.45, 3.5], [3.55, 3.6, 3.65, 3.7, 3.75, 3.8, 3.85, 3.9, 3.95, 4.0], [4.05, 4.1, 4.15, 4.2, 4.25, 4.3, 4.35, 4.4, 4.45, 4.5], [4.55, 4.6, 4.65, 4.7, 4.75, 4.8, 4.85, 4.9, 4.95, 5.0]]\n"
     ]
    }
   ],
   "source": [
    "# Extra task!\n",
    "# Create this matrix without NumPy as well! (without the help of AI!)\n",
    "# We will use a similar method to the last extra exercise.\n",
    "data = []\n",
    "incrementer = 1\n",
    "\n",
    "# it creates an empty row and then fills it with 10 numbers for each row.\n",
    "# then it adds the row into data. \n",
    "for row in range(1,11):\n",
    "  row = []\n",
    "\n",
    "  # Similar to slope-intercept form (Y=mx+b), the incrementor moves up each iteration.\n",
    "  for n in range(1,11):\n",
    "    number = (incrementer / 100) * 5\n",
    "    row.append(round(number,2))\n",
    "    incrementer += 1\n",
    "\n",
    "  data.append(row)\n",
    "print(data)"
   ]
  },
  {
   "cell_type": "markdown",
   "metadata": {},
   "source": [
    "A clearer output(because the above output is hard to read/grade):"
   ]
  },
  {
   "cell_type": "code",
   "execution_count": 75,
   "metadata": {},
   "outputs": [
    {
     "data": {
      "text/html": [
       "<table style='border: 1px solid black; border-collapse: collapse;'><tr><td style='padding: 5px; border: 1px solid black; font-weight: bold; width: 4ch; text-align: center;'>0.05</td><td style='padding: 5px; border: 1px solid black; font-weight: bold; width: 4ch; text-align: center;'>0.1</td><td style='padding: 5px; border: 1px solid black; font-weight: bold; width: 4ch; text-align: center;'>0.15</td><td style='padding: 5px; border: 1px solid black; font-weight: bold; width: 4ch; text-align: center;'>0.2</td><td style='padding: 5px; border: 1px solid black; font-weight: bold; width: 4ch; text-align: center;'>0.25</td><td style='padding: 5px; border: 1px solid black; font-weight: bold; width: 4ch; text-align: center;'>0.3</td><td style='padding: 5px; border: 1px solid black; font-weight: bold; width: 4ch; text-align: center;'>0.35</td><td style='padding: 5px; border: 1px solid black; font-weight: bold; width: 4ch; text-align: center;'>0.4</td><td style='padding: 5px; border: 1px solid black; font-weight: bold; width: 4ch; text-align: center;'>0.45</td><td style='padding: 5px; border: 1px solid black; font-weight: bold; width: 4ch; text-align: center;'>0.5</td></tr><tr><td style='padding: 5px; border: 1px solid black; font-weight: bold; width: 4ch; text-align: center;'>0.55</td><td style='padding: 5px; border: 1px solid black; font-weight: bold; width: 4ch; text-align: center;'>0.6</td><td style='padding: 5px; border: 1px solid black; font-weight: bold; width: 4ch; text-align: center;'>0.65</td><td style='padding: 5px; border: 1px solid black; font-weight: bold; width: 4ch; text-align: center;'>0.7</td><td style='padding: 5px; border: 1px solid black; font-weight: bold; width: 4ch; text-align: center;'>0.75</td><td style='padding: 5px; border: 1px solid black; font-weight: bold; width: 4ch; text-align: center;'>0.8</td><td style='padding: 5px; border: 1px solid black; font-weight: bold; width: 4ch; text-align: center;'>0.85</td><td style='padding: 5px; border: 1px solid black; font-weight: bold; width: 4ch; text-align: center;'>0.9</td><td style='padding: 5px; border: 1px solid black; font-weight: bold; width: 4ch; text-align: center;'>0.95</td><td style='padding: 5px; border: 1px solid black; font-weight: bold; width: 4ch; text-align: center;'>1.0</td></tr><tr><td style='padding: 5px; border: 1px solid black; font-weight: bold; width: 4ch; text-align: center;'>1.05</td><td style='padding: 5px; border: 1px solid black; font-weight: bold; width: 4ch; text-align: center;'>1.1</td><td style='padding: 5px; border: 1px solid black; font-weight: bold; width: 4ch; text-align: center;'>1.15</td><td style='padding: 5px; border: 1px solid black; font-weight: bold; width: 4ch; text-align: center;'>1.2</td><td style='padding: 5px; border: 1px solid black; font-weight: bold; width: 4ch; text-align: center;'>1.25</td><td style='padding: 5px; border: 1px solid black; font-weight: bold; width: 4ch; text-align: center;'>1.3</td><td style='padding: 5px; border: 1px solid black; font-weight: bold; width: 4ch; text-align: center;'>1.35</td><td style='padding: 5px; border: 1px solid black; font-weight: bold; width: 4ch; text-align: center;'>1.4</td><td style='padding: 5px; border: 1px solid black; font-weight: bold; width: 4ch; text-align: center;'>1.45</td><td style='padding: 5px; border: 1px solid black; font-weight: bold; width: 4ch; text-align: center;'>1.5</td></tr><tr><td style='padding: 5px; border: 1px solid black; font-weight: bold; width: 4ch; text-align: center;'>1.55</td><td style='padding: 5px; border: 1px solid black; font-weight: bold; width: 4ch; text-align: center;'>1.6</td><td style='padding: 5px; border: 1px solid black; font-weight: bold; width: 4ch; text-align: center;'>1.65</td><td style='padding: 5px; border: 1px solid black; font-weight: bold; width: 4ch; text-align: center;'>1.7</td><td style='padding: 5px; border: 1px solid black; font-weight: bold; width: 4ch; text-align: center;'>1.75</td><td style='padding: 5px; border: 1px solid black; font-weight: bold; width: 4ch; text-align: center;'>1.8</td><td style='padding: 5px; border: 1px solid black; font-weight: bold; width: 4ch; text-align: center;'>1.85</td><td style='padding: 5px; border: 1px solid black; font-weight: bold; width: 4ch; text-align: center;'>1.9</td><td style='padding: 5px; border: 1px solid black; font-weight: bold; width: 4ch; text-align: center;'>1.95</td><td style='padding: 5px; border: 1px solid black; font-weight: bold; width: 4ch; text-align: center;'>2.0</td></tr><tr><td style='padding: 5px; border: 1px solid black; font-weight: bold; width: 4ch; text-align: center;'>2.05</td><td style='padding: 5px; border: 1px solid black; font-weight: bold; width: 4ch; text-align: center;'>2.1</td><td style='padding: 5px; border: 1px solid black; font-weight: bold; width: 4ch; text-align: center;'>2.15</td><td style='padding: 5px; border: 1px solid black; font-weight: bold; width: 4ch; text-align: center;'>2.2</td><td style='padding: 5px; border: 1px solid black; font-weight: bold; width: 4ch; text-align: center;'>2.25</td><td style='padding: 5px; border: 1px solid black; font-weight: bold; width: 4ch; text-align: center;'>2.3</td><td style='padding: 5px; border: 1px solid black; font-weight: bold; width: 4ch; text-align: center;'>2.35</td><td style='padding: 5px; border: 1px solid black; font-weight: bold; width: 4ch; text-align: center;'>2.4</td><td style='padding: 5px; border: 1px solid black; font-weight: bold; width: 4ch; text-align: center;'>2.45</td><td style='padding: 5px; border: 1px solid black; font-weight: bold; width: 4ch; text-align: center;'>2.5</td></tr><tr><td style='padding: 5px; border: 1px solid black; font-weight: bold; width: 4ch; text-align: center;'>2.55</td><td style='padding: 5px; border: 1px solid black; font-weight: bold; width: 4ch; text-align: center;'>2.6</td><td style='padding: 5px; border: 1px solid black; font-weight: bold; width: 4ch; text-align: center;'>2.65</td><td style='padding: 5px; border: 1px solid black; font-weight: bold; width: 4ch; text-align: center;'>2.7</td><td style='padding: 5px; border: 1px solid black; font-weight: bold; width: 4ch; text-align: center;'>2.75</td><td style='padding: 5px; border: 1px solid black; font-weight: bold; width: 4ch; text-align: center;'>2.8</td><td style='padding: 5px; border: 1px solid black; font-weight: bold; width: 4ch; text-align: center;'>2.85</td><td style='padding: 5px; border: 1px solid black; font-weight: bold; width: 4ch; text-align: center;'>2.9</td><td style='padding: 5px; border: 1px solid black; font-weight: bold; width: 4ch; text-align: center;'>2.95</td><td style='padding: 5px; border: 1px solid black; font-weight: bold; width: 4ch; text-align: center;'>3.0</td></tr><tr><td style='padding: 5px; border: 1px solid black; font-weight: bold; width: 4ch; text-align: center;'>3.05</td><td style='padding: 5px; border: 1px solid black; font-weight: bold; width: 4ch; text-align: center;'>3.1</td><td style='padding: 5px; border: 1px solid black; font-weight: bold; width: 4ch; text-align: center;'>3.15</td><td style='padding: 5px; border: 1px solid black; font-weight: bold; width: 4ch; text-align: center;'>3.2</td><td style='padding: 5px; border: 1px solid black; font-weight: bold; width: 4ch; text-align: center;'>3.25</td><td style='padding: 5px; border: 1px solid black; font-weight: bold; width: 4ch; text-align: center;'>3.3</td><td style='padding: 5px; border: 1px solid black; font-weight: bold; width: 4ch; text-align: center;'>3.35</td><td style='padding: 5px; border: 1px solid black; font-weight: bold; width: 4ch; text-align: center;'>3.4</td><td style='padding: 5px; border: 1px solid black; font-weight: bold; width: 4ch; text-align: center;'>3.45</td><td style='padding: 5px; border: 1px solid black; font-weight: bold; width: 4ch; text-align: center;'>3.5</td></tr><tr><td style='padding: 5px; border: 1px solid black; font-weight: bold; width: 4ch; text-align: center;'>3.55</td><td style='padding: 5px; border: 1px solid black; font-weight: bold; width: 4ch; text-align: center;'>3.6</td><td style='padding: 5px; border: 1px solid black; font-weight: bold; width: 4ch; text-align: center;'>3.65</td><td style='padding: 5px; border: 1px solid black; font-weight: bold; width: 4ch; text-align: center;'>3.7</td><td style='padding: 5px; border: 1px solid black; font-weight: bold; width: 4ch; text-align: center;'>3.75</td><td style='padding: 5px; border: 1px solid black; font-weight: bold; width: 4ch; text-align: center;'>3.8</td><td style='padding: 5px; border: 1px solid black; font-weight: bold; width: 4ch; text-align: center;'>3.85</td><td style='padding: 5px; border: 1px solid black; font-weight: bold; width: 4ch; text-align: center;'>3.9</td><td style='padding: 5px; border: 1px solid black; font-weight: bold; width: 4ch; text-align: center;'>3.95</td><td style='padding: 5px; border: 1px solid black; font-weight: bold; width: 4ch; text-align: center;'>4.0</td></tr><tr><td style='padding: 5px; border: 1px solid black; font-weight: bold; width: 4ch; text-align: center;'>4.05</td><td style='padding: 5px; border: 1px solid black; font-weight: bold; width: 4ch; text-align: center;'>4.1</td><td style='padding: 5px; border: 1px solid black; font-weight: bold; width: 4ch; text-align: center;'>4.15</td><td style='padding: 5px; border: 1px solid black; font-weight: bold; width: 4ch; text-align: center;'>4.2</td><td style='padding: 5px; border: 1px solid black; font-weight: bold; width: 4ch; text-align: center;'>4.25</td><td style='padding: 5px; border: 1px solid black; font-weight: bold; width: 4ch; text-align: center;'>4.3</td><td style='padding: 5px; border: 1px solid black; font-weight: bold; width: 4ch; text-align: center;'>4.35</td><td style='padding: 5px; border: 1px solid black; font-weight: bold; width: 4ch; text-align: center;'>4.4</td><td style='padding: 5px; border: 1px solid black; font-weight: bold; width: 4ch; text-align: center;'>4.45</td><td style='padding: 5px; border: 1px solid black; font-weight: bold; width: 4ch; text-align: center;'>4.5</td></tr><tr><td style='padding: 5px; border: 1px solid black; font-weight: bold; width: 4ch; text-align: center;'>4.55</td><td style='padding: 5px; border: 1px solid black; font-weight: bold; width: 4ch; text-align: center;'>4.6</td><td style='padding: 5px; border: 1px solid black; font-weight: bold; width: 4ch; text-align: center;'>4.65</td><td style='padding: 5px; border: 1px solid black; font-weight: bold; width: 4ch; text-align: center;'>4.7</td><td style='padding: 5px; border: 1px solid black; font-weight: bold; width: 4ch; text-align: center;'>4.75</td><td style='padding: 5px; border: 1px solid black; font-weight: bold; width: 4ch; text-align: center;'>4.8</td><td style='padding: 5px; border: 1px solid black; font-weight: bold; width: 4ch; text-align: center;'>4.85</td><td style='padding: 5px; border: 1px solid black; font-weight: bold; width: 4ch; text-align: center;'>4.9</td><td style='padding: 5px; border: 1px solid black; font-weight: bold; width: 4ch; text-align: center;'>4.95</td><td style='padding: 5px; border: 1px solid black; font-weight: bold; width: 4ch; text-align: center;'>5.0</td></tr></table>"
      ],
      "text/plain": [
       "array([[0.05, 0.1 , 0.15, 0.2 , 0.25, 0.3 , 0.35, 0.4 , 0.45, 0.5 ],\n",
       "       [0.55, 0.6 , 0.65, 0.7 , 0.75, 0.8 , 0.85, 0.9 , 0.95, 1.  ],\n",
       "       [1.05, 1.1 , 1.15, 1.2 , 1.25, 1.3 , 1.35, 1.4 , 1.45, 1.5 ],\n",
       "       [1.55, 1.6 , 1.65, 1.7 , 1.75, 1.8 , 1.85, 1.9 , 1.95, 2.  ],\n",
       "       [2.05, 2.1 , 2.15, 2.2 , 2.25, 2.3 , 2.35, 2.4 , 2.45, 2.5 ],\n",
       "       [2.55, 2.6 , 2.65, 2.7 , 2.75, 2.8 , 2.85, 2.9 , 2.95, 3.  ],\n",
       "       [3.05, 3.1 , 3.15, 3.2 , 3.25, 3.3 , 3.35, 3.4 , 3.45, 3.5 ],\n",
       "       [3.55, 3.6 , 3.65, 3.7 , 3.75, 3.8 , 3.85, 3.9 , 3.95, 4.  ],\n",
       "       [4.05, 4.1 , 4.15, 4.2 , 4.25, 4.3 , 4.35, 4.4 , 4.45, 4.5 ],\n",
       "       [4.55, 4.6 , 4.65, 4.7 , 4.75, 4.8 , 4.85, 4.9 , 4.95, 5.  ]])"
      ]
     },
     "execution_count": 75,
     "metadata": {},
     "output_type": "execute_result"
    }
   ],
   "source": [
    "# since above game a horrible visual, here is a better output.\n",
    "data = np.array(data)\n",
    "np.round(data,2)\n"
   ]
  },
  {
   "attachments": {},
   "cell_type": "markdown",
   "metadata": {},
   "source": [
    "<h3><b>5. Recreate the matrices in code based on the pictures.</b></h3>\n",
    "\n",
    "- Create this 3x5 matrix with NumPy:\n",
    "\n",
    "<img src=\"http://srv.plab.fi/~tuomasv/data_analytics_2023_images/exercise_set_1/matrix1.png\"/>\n",
    "\n",
    "\n",
    "Note: The values above have no logic, you'll have to feed basic Python lists to NumPy for this result\n"
   ]
  },
  {
   "cell_type": "code",
   "execution_count": 76,
   "metadata": {},
   "outputs": [
    {
     "data": {
      "text/html": [
       "<table style='border: 1px solid black; border-collapse: collapse;'><tr><td style='padding: 5px; border: 1px solid black; font-weight: bold; width: 2ch; text-align: center;'>23</td><td style='padding: 5px; border: 1px solid black; font-weight: bold; width: 2ch; text-align: center;'>34</td><td style='padding: 5px; border: 1px solid black; font-weight: bold; width: 2ch; text-align: center;'>54</td><td style='padding: 5px; border: 1px solid black; font-weight: bold; width: 2ch; text-align: center;'>31</td><td style='padding: 5px; border: 1px solid black; font-weight: bold; width: 2ch; text-align: center;'>75</td></tr><tr><td style='padding: 5px; border: 1px solid black; font-weight: bold; width: 2ch; text-align: center;'>33</td><td style='padding: 5px; border: 1px solid black; font-weight: bold; width: 2ch; text-align: center;'>56</td><td style='padding: 5px; border: 1px solid black; font-weight: bold; width: 2ch; text-align: center;'>78</td><td style='padding: 5px; border: 1px solid black; font-weight: bold; width: 2ch; text-align: center;'>65</td><td style='padding: 5px; border: 1px solid black; font-weight: bold; width: 2ch; text-align: center;'>97</td></tr><tr><td style='padding: 5px; border: 1px solid black; font-weight: bold; width: 2ch; text-align: center;'>41</td><td style='padding: 5px; border: 1px solid black; font-weight: bold; width: 2ch; text-align: center;'>32</td><td style='padding: 5px; border: 1px solid black; font-weight: bold; width: 2ch; text-align: center;'>11</td><td style='padding: 5px; border: 1px solid black; font-weight: bold; width: 2ch; text-align: center;'>39</td><td style='padding: 5px; border: 1px solid black; font-weight: bold; width: 2ch; text-align: center;'>51</td></tr></table>"
      ],
      "text/plain": [
       "array([[23, 34, 54, 31, 75],\n",
       "       [33, 56, 78, 65, 97],\n",
       "       [41, 32, 11, 39, 51]])"
      ]
     },
     "execution_count": 76,
     "metadata": {},
     "output_type": "execute_result"
    }
   ],
   "source": [
    "# exercise 1.5a, create matrix\n",
    "numbers = [23, 34, 54, 31, 75, 33, 56, 78,65, 97, 41, 32, 11, 39, 51]\n",
    "numbers = np.array(numbers).reshape(3,5)\n",
    "numbers\n"
   ]
  },
  {
   "attachments": {},
   "cell_type": "markdown",
   "metadata": {},
   "source": [
    "- Generate this NumPy array:\n",
    "\n",
    "<img src=\"http://srv.plab.fi/~tuomasv/data_analytics_2023_images/exercise_set_1/matrix2.png\" width=\"800\"/>"
   ]
  },
  {
   "cell_type": "code",
   "execution_count": 77,
   "metadata": {},
   "outputs": [
    {
     "data": {
      "text/html": [
       "<table style='border: 1px solid black; border-collapse: collapse;'><tr><td style='padding: 5px; border: 1px solid black; font-weight: bold; width: 3ch; text-align: center;'>128</td><td style='padding: 5px; border: 1px solid black; font-weight: bold; width: 3ch; text-align: center;'>129</td><td style='padding: 5px; border: 1px solid black; font-weight: bold; width: 3ch; text-align: center;'>130</td><td style='padding: 5px; border: 1px solid black; font-weight: bold; width: 3ch; text-align: center;'>131</td><td style='padding: 5px; border: 1px solid black; font-weight: bold; width: 3ch; text-align: center;'>132</td><td style='padding: 5px; border: 1px solid black; font-weight: bold; width: 3ch; text-align: center;'>133</td><td style='padding: 5px; border: 1px solid black; font-weight: bold; width: 3ch; text-align: center;'>134</td><td style='padding: 5px; border: 1px solid black; font-weight: bold; width: 3ch; text-align: center;'>135</td><td style='padding: 5px; border: 1px solid black; font-weight: bold; width: 3ch; text-align: center;'>136</td><td style='padding: 5px; border: 1px solid black; font-weight: bold; width: 3ch; text-align: center;'>137</td><td style='padding: 5px; border: 1px solid black; font-weight: bold; width: 3ch; text-align: center;'>138</td><td style='padding: 5px; border: 1px solid black; font-weight: bold; width: 3ch; text-align: center;'>139</td><td style='padding: 5px; border: 1px solid black; font-weight: bold; width: 3ch; text-align: center;'>140</td><td style='padding: 5px; border: 1px solid black; font-weight: bold; width: 3ch; text-align: center;'>141</td><td style='padding: 5px; border: 1px solid black; font-weight: bold; width: 3ch; text-align: center;'>142</td><td style='padding: 5px; border: 1px solid black; font-weight: bold; width: 3ch; text-align: center;'>143</td></tr><tr><td style='padding: 5px; border: 1px solid black; font-weight: bold; width: 3ch; text-align: center;'>144</td><td style='padding: 5px; border: 1px solid black; font-weight: bold; width: 3ch; text-align: center;'>145</td><td style='padding: 5px; border: 1px solid black; font-weight: bold; width: 3ch; text-align: center;'>146</td><td style='padding: 5px; border: 1px solid black; font-weight: bold; width: 3ch; text-align: center;'>147</td><td style='padding: 5px; border: 1px solid black; font-weight: bold; width: 3ch; text-align: center;'>148</td><td style='padding: 5px; border: 1px solid black; font-weight: bold; width: 3ch; text-align: center;'>149</td><td style='padding: 5px; border: 1px solid black; font-weight: bold; width: 3ch; text-align: center;'>150</td><td style='padding: 5px; border: 1px solid black; font-weight: bold; width: 3ch; text-align: center;'>151</td><td style='padding: 5px; border: 1px solid black; font-weight: bold; width: 3ch; text-align: center;'>152</td><td style='padding: 5px; border: 1px solid black; font-weight: bold; width: 3ch; text-align: center;'>153</td><td style='padding: 5px; border: 1px solid black; font-weight: bold; width: 3ch; text-align: center;'>154</td><td style='padding: 5px; border: 1px solid black; font-weight: bold; width: 3ch; text-align: center;'>155</td><td style='padding: 5px; border: 1px solid black; font-weight: bold; width: 3ch; text-align: center;'>156</td><td style='padding: 5px; border: 1px solid black; font-weight: bold; width: 3ch; text-align: center;'>157</td><td style='padding: 5px; border: 1px solid black; font-weight: bold; width: 3ch; text-align: center;'>158</td><td style='padding: 5px; border: 1px solid black; font-weight: bold; width: 3ch; text-align: center;'>159</td></tr><tr><td style='padding: 5px; border: 1px solid black; font-weight: bold; width: 3ch; text-align: center;'>160</td><td style='padding: 5px; border: 1px solid black; font-weight: bold; width: 3ch; text-align: center;'>161</td><td style='padding: 5px; border: 1px solid black; font-weight: bold; width: 3ch; text-align: center;'>162</td><td style='padding: 5px; border: 1px solid black; font-weight: bold; width: 3ch; text-align: center;'>163</td><td style='padding: 5px; border: 1px solid black; font-weight: bold; width: 3ch; text-align: center;'>164</td><td style='padding: 5px; border: 1px solid black; font-weight: bold; width: 3ch; text-align: center;'>165</td><td style='padding: 5px; border: 1px solid black; font-weight: bold; width: 3ch; text-align: center;'>166</td><td style='padding: 5px; border: 1px solid black; font-weight: bold; width: 3ch; text-align: center;'>167</td><td style='padding: 5px; border: 1px solid black; font-weight: bold; width: 3ch; text-align: center;'>168</td><td style='padding: 5px; border: 1px solid black; font-weight: bold; width: 3ch; text-align: center;'>169</td><td style='padding: 5px; border: 1px solid black; font-weight: bold; width: 3ch; text-align: center;'>170</td><td style='padding: 5px; border: 1px solid black; font-weight: bold; width: 3ch; text-align: center;'>171</td><td style='padding: 5px; border: 1px solid black; font-weight: bold; width: 3ch; text-align: center;'>172</td><td style='padding: 5px; border: 1px solid black; font-weight: bold; width: 3ch; text-align: center;'>173</td><td style='padding: 5px; border: 1px solid black; font-weight: bold; width: 3ch; text-align: center;'>174</td><td style='padding: 5px; border: 1px solid black; font-weight: bold; width: 3ch; text-align: center;'>175</td></tr><tr><td style='padding: 5px; border: 1px solid black; font-weight: bold; width: 3ch; text-align: center;'>176</td><td style='padding: 5px; border: 1px solid black; font-weight: bold; width: 3ch; text-align: center;'>177</td><td style='padding: 5px; border: 1px solid black; font-weight: bold; width: 3ch; text-align: center;'>178</td><td style='padding: 5px; border: 1px solid black; font-weight: bold; width: 3ch; text-align: center;'>179</td><td style='padding: 5px; border: 1px solid black; font-weight: bold; width: 3ch; text-align: center;'>180</td><td style='padding: 5px; border: 1px solid black; font-weight: bold; width: 3ch; text-align: center;'>181</td><td style='padding: 5px; border: 1px solid black; font-weight: bold; width: 3ch; text-align: center;'>182</td><td style='padding: 5px; border: 1px solid black; font-weight: bold; width: 3ch; text-align: center;'>183</td><td style='padding: 5px; border: 1px solid black; font-weight: bold; width: 3ch; text-align: center;'>184</td><td style='padding: 5px; border: 1px solid black; font-weight: bold; width: 3ch; text-align: center;'>185</td><td style='padding: 5px; border: 1px solid black; font-weight: bold; width: 3ch; text-align: center;'>186</td><td style='padding: 5px; border: 1px solid black; font-weight: bold; width: 3ch; text-align: center;'>187</td><td style='padding: 5px; border: 1px solid black; font-weight: bold; width: 3ch; text-align: center;'>188</td><td style='padding: 5px; border: 1px solid black; font-weight: bold; width: 3ch; text-align: center;'>189</td><td style='padding: 5px; border: 1px solid black; font-weight: bold; width: 3ch; text-align: center;'>190</td><td style='padding: 5px; border: 1px solid black; font-weight: bold; width: 3ch; text-align: center;'>191</td></tr><tr><td style='padding: 5px; border: 1px solid black; font-weight: bold; width: 3ch; text-align: center;'>192</td><td style='padding: 5px; border: 1px solid black; font-weight: bold; width: 3ch; text-align: center;'>193</td><td style='padding: 5px; border: 1px solid black; font-weight: bold; width: 3ch; text-align: center;'>194</td><td style='padding: 5px; border: 1px solid black; font-weight: bold; width: 3ch; text-align: center;'>195</td><td style='padding: 5px; border: 1px solid black; font-weight: bold; width: 3ch; text-align: center;'>196</td><td style='padding: 5px; border: 1px solid black; font-weight: bold; width: 3ch; text-align: center;'>197</td><td style='padding: 5px; border: 1px solid black; font-weight: bold; width: 3ch; text-align: center;'>198</td><td style='padding: 5px; border: 1px solid black; font-weight: bold; width: 3ch; text-align: center;'>199</td><td style='padding: 5px; border: 1px solid black; font-weight: bold; width: 3ch; text-align: center;'>200</td><td style='padding: 5px; border: 1px solid black; font-weight: bold; width: 3ch; text-align: center;'>201</td><td style='padding: 5px; border: 1px solid black; font-weight: bold; width: 3ch; text-align: center;'>202</td><td style='padding: 5px; border: 1px solid black; font-weight: bold; width: 3ch; text-align: center;'>203</td><td style='padding: 5px; border: 1px solid black; font-weight: bold; width: 3ch; text-align: center;'>204</td><td style='padding: 5px; border: 1px solid black; font-weight: bold; width: 3ch; text-align: center;'>205</td><td style='padding: 5px; border: 1px solid black; font-weight: bold; width: 3ch; text-align: center;'>206</td><td style='padding: 5px; border: 1px solid black; font-weight: bold; width: 3ch; text-align: center;'>207</td></tr><tr><td style='padding: 5px; border: 1px solid black; font-weight: bold; width: 3ch; text-align: center;'>208</td><td style='padding: 5px; border: 1px solid black; font-weight: bold; width: 3ch; text-align: center;'>209</td><td style='padding: 5px; border: 1px solid black; font-weight: bold; width: 3ch; text-align: center;'>210</td><td style='padding: 5px; border: 1px solid black; font-weight: bold; width: 3ch; text-align: center;'>211</td><td style='padding: 5px; border: 1px solid black; font-weight: bold; width: 3ch; text-align: center;'>212</td><td style='padding: 5px; border: 1px solid black; font-weight: bold; width: 3ch; text-align: center;'>213</td><td style='padding: 5px; border: 1px solid black; font-weight: bold; width: 3ch; text-align: center;'>214</td><td style='padding: 5px; border: 1px solid black; font-weight: bold; width: 3ch; text-align: center;'>215</td><td style='padding: 5px; border: 1px solid black; font-weight: bold; width: 3ch; text-align: center;'>216</td><td style='padding: 5px; border: 1px solid black; font-weight: bold; width: 3ch; text-align: center;'>217</td><td style='padding: 5px; border: 1px solid black; font-weight: bold; width: 3ch; text-align: center;'>218</td><td style='padding: 5px; border: 1px solid black; font-weight: bold; width: 3ch; text-align: center;'>219</td><td style='padding: 5px; border: 1px solid black; font-weight: bold; width: 3ch; text-align: center;'>220</td><td style='padding: 5px; border: 1px solid black; font-weight: bold; width: 3ch; text-align: center;'>221</td><td style='padding: 5px; border: 1px solid black; font-weight: bold; width: 3ch; text-align: center;'>222</td><td style='padding: 5px; border: 1px solid black; font-weight: bold; width: 3ch; text-align: center;'>223</td></tr><tr><td style='padding: 5px; border: 1px solid black; font-weight: bold; width: 3ch; text-align: center;'>224</td><td style='padding: 5px; border: 1px solid black; font-weight: bold; width: 3ch; text-align: center;'>225</td><td style='padding: 5px; border: 1px solid black; font-weight: bold; width: 3ch; text-align: center;'>226</td><td style='padding: 5px; border: 1px solid black; font-weight: bold; width: 3ch; text-align: center;'>227</td><td style='padding: 5px; border: 1px solid black; font-weight: bold; width: 3ch; text-align: center;'>228</td><td style='padding: 5px; border: 1px solid black; font-weight: bold; width: 3ch; text-align: center;'>229</td><td style='padding: 5px; border: 1px solid black; font-weight: bold; width: 3ch; text-align: center;'>230</td><td style='padding: 5px; border: 1px solid black; font-weight: bold; width: 3ch; text-align: center;'>231</td><td style='padding: 5px; border: 1px solid black; font-weight: bold; width: 3ch; text-align: center;'>232</td><td style='padding: 5px; border: 1px solid black; font-weight: bold; width: 3ch; text-align: center;'>233</td><td style='padding: 5px; border: 1px solid black; font-weight: bold; width: 3ch; text-align: center;'>234</td><td style='padding: 5px; border: 1px solid black; font-weight: bold; width: 3ch; text-align: center;'>235</td><td style='padding: 5px; border: 1px solid black; font-weight: bold; width: 3ch; text-align: center;'>236</td><td style='padding: 5px; border: 1px solid black; font-weight: bold; width: 3ch; text-align: center;'>237</td><td style='padding: 5px; border: 1px solid black; font-weight: bold; width: 3ch; text-align: center;'>238</td><td style='padding: 5px; border: 1px solid black; font-weight: bold; width: 3ch; text-align: center;'>239</td></tr><tr><td style='padding: 5px; border: 1px solid black; font-weight: bold; width: 3ch; text-align: center;'>240</td><td style='padding: 5px; border: 1px solid black; font-weight: bold; width: 3ch; text-align: center;'>241</td><td style='padding: 5px; border: 1px solid black; font-weight: bold; width: 3ch; text-align: center;'>242</td><td style='padding: 5px; border: 1px solid black; font-weight: bold; width: 3ch; text-align: center;'>243</td><td style='padding: 5px; border: 1px solid black; font-weight: bold; width: 3ch; text-align: center;'>244</td><td style='padding: 5px; border: 1px solid black; font-weight: bold; width: 3ch; text-align: center;'>245</td><td style='padding: 5px; border: 1px solid black; font-weight: bold; width: 3ch; text-align: center;'>246</td><td style='padding: 5px; border: 1px solid black; font-weight: bold; width: 3ch; text-align: center;'>247</td><td style='padding: 5px; border: 1px solid black; font-weight: bold; width: 3ch; text-align: center;'>248</td><td style='padding: 5px; border: 1px solid black; font-weight: bold; width: 3ch; text-align: center;'>249</td><td style='padding: 5px; border: 1px solid black; font-weight: bold; width: 3ch; text-align: center;'>250</td><td style='padding: 5px; border: 1px solid black; font-weight: bold; width: 3ch; text-align: center;'>251</td><td style='padding: 5px; border: 1px solid black; font-weight: bold; width: 3ch; text-align: center;'>252</td><td style='padding: 5px; border: 1px solid black; font-weight: bold; width: 3ch; text-align: center;'>253</td><td style='padding: 5px; border: 1px solid black; font-weight: bold; width: 3ch; text-align: center;'>254</td><td style='padding: 5px; border: 1px solid black; font-weight: bold; width: 3ch; text-align: center;'>255</td></tr></table>"
      ],
      "text/plain": [
       "array([[128, 129, 130, 131, 132, 133, 134, 135, 136, 137, 138, 139, 140,\n",
       "        141, 142, 143],\n",
       "       [144, 145, 146, 147, 148, 149, 150, 151, 152, 153, 154, 155, 156,\n",
       "        157, 158, 159],\n",
       "       [160, 161, 162, 163, 164, 165, 166, 167, 168, 169, 170, 171, 172,\n",
       "        173, 174, 175],\n",
       "       [176, 177, 178, 179, 180, 181, 182, 183, 184, 185, 186, 187, 188,\n",
       "        189, 190, 191],\n",
       "       [192, 193, 194, 195, 196, 197, 198, 199, 200, 201, 202, 203, 204,\n",
       "        205, 206, 207],\n",
       "       [208, 209, 210, 211, 212, 213, 214, 215, 216, 217, 218, 219, 220,\n",
       "        221, 222, 223],\n",
       "       [224, 225, 226, 227, 228, 229, 230, 231, 232, 233, 234, 235, 236,\n",
       "        237, 238, 239],\n",
       "       [240, 241, 242, 243, 244, 245, 246, 247, 248, 249, 250, 251, 252,\n",
       "        253, 254, 255]])"
      ]
     },
     "execution_count": 77,
     "metadata": {},
     "output_type": "execute_result"
    }
   ],
   "source": [
    "# exercise 1.5b, generate NumPy array / matrix\n",
    "numbers = np.arange(128, 256).reshape(8,16)\n",
    "numbers\n"
   ]
  },
  {
   "attachments": {},
   "cell_type": "markdown",
   "metadata": {},
   "source": [
    "- Generate this NumPy array:\n",
    "\n",
    "<img src=\"http://srv.plab.fi/~tuomasv/data_analytics_2023_images/exercise_set_1/matrix3.png\" width=\"500\"/>\n",
    "\n",
    "<b>Tips:</b> arange-function (and step-parameter) + reshape is recommended. Alternatively you can use broadcasting and division if you like."
   ]
  },
  {
   "cell_type": "code",
   "execution_count": 78,
   "metadata": {},
   "outputs": [
    {
     "data": {
      "text/html": [
       "<table style='border: 1px solid black; border-collapse: collapse;'><tr><td style='padding: 5px; border: 1px solid black; font-weight: bold; width: 4ch; text-align: center;'>0.05</td><td style='padding: 5px; border: 1px solid black; font-weight: bold; width: 4ch; text-align: center;'>0.1</td><td style='padding: 5px; border: 1px solid black; font-weight: bold; width: 4ch; text-align: center;'>0.15</td><td style='padding: 5px; border: 1px solid black; font-weight: bold; width: 4ch; text-align: center;'>0.2</td><td style='padding: 5px; border: 1px solid black; font-weight: bold; width: 4ch; text-align: center;'>0.25</td><td style='padding: 5px; border: 1px solid black; font-weight: bold; width: 4ch; text-align: center;'>0.3</td><td style='padding: 5px; border: 1px solid black; font-weight: bold; width: 4ch; text-align: center;'>0.35</td><td style='padding: 5px; border: 1px solid black; font-weight: bold; width: 4ch; text-align: center;'>0.4</td><td style='padding: 5px; border: 1px solid black; font-weight: bold; width: 4ch; text-align: center;'>0.45</td><td style='padding: 5px; border: 1px solid black; font-weight: bold; width: 4ch; text-align: center;'>0.5</td></tr><tr><td style='padding: 5px; border: 1px solid black; font-weight: bold; width: 4ch; text-align: center;'>0.55</td><td style='padding: 5px; border: 1px solid black; font-weight: bold; width: 4ch; text-align: center;'>0.6</td><td style='padding: 5px; border: 1px solid black; font-weight: bold; width: 4ch; text-align: center;'>0.65</td><td style='padding: 5px; border: 1px solid black; font-weight: bold; width: 4ch; text-align: center;'>0.7</td><td style='padding: 5px; border: 1px solid black; font-weight: bold; width: 4ch; text-align: center;'>0.75</td><td style='padding: 5px; border: 1px solid black; font-weight: bold; width: 4ch; text-align: center;'>0.8</td><td style='padding: 5px; border: 1px solid black; font-weight: bold; width: 4ch; text-align: center;'>0.85</td><td style='padding: 5px; border: 1px solid black; font-weight: bold; width: 4ch; text-align: center;'>0.9</td><td style='padding: 5px; border: 1px solid black; font-weight: bold; width: 4ch; text-align: center;'>0.95</td><td style='padding: 5px; border: 1px solid black; font-weight: bold; width: 4ch; text-align: center;'>1.0</td></tr><tr><td style='padding: 5px; border: 1px solid black; font-weight: bold; width: 4ch; text-align: center;'>1.05</td><td style='padding: 5px; border: 1px solid black; font-weight: bold; width: 4ch; text-align: center;'>1.1</td><td style='padding: 5px; border: 1px solid black; font-weight: bold; width: 4ch; text-align: center;'>1.15</td><td style='padding: 5px; border: 1px solid black; font-weight: bold; width: 4ch; text-align: center;'>1.2</td><td style='padding: 5px; border: 1px solid black; font-weight: bold; width: 4ch; text-align: center;'>1.25</td><td style='padding: 5px; border: 1px solid black; font-weight: bold; width: 4ch; text-align: center;'>1.3</td><td style='padding: 5px; border: 1px solid black; font-weight: bold; width: 4ch; text-align: center;'>1.35</td><td style='padding: 5px; border: 1px solid black; font-weight: bold; width: 4ch; text-align: center;'>1.4</td><td style='padding: 5px; border: 1px solid black; font-weight: bold; width: 4ch; text-align: center;'>1.45</td><td style='padding: 5px; border: 1px solid black; font-weight: bold; width: 4ch; text-align: center;'>1.5</td></tr><tr><td style='padding: 5px; border: 1px solid black; font-weight: bold; width: 4ch; text-align: center;'>1.55</td><td style='padding: 5px; border: 1px solid black; font-weight: bold; width: 4ch; text-align: center;'>1.6</td><td style='padding: 5px; border: 1px solid black; font-weight: bold; width: 4ch; text-align: center;'>1.65</td><td style='padding: 5px; border: 1px solid black; font-weight: bold; width: 4ch; text-align: center;'>1.7</td><td style='padding: 5px; border: 1px solid black; font-weight: bold; width: 4ch; text-align: center;'>1.75</td><td style='padding: 5px; border: 1px solid black; font-weight: bold; width: 4ch; text-align: center;'>1.8</td><td style='padding: 5px; border: 1px solid black; font-weight: bold; width: 4ch; text-align: center;'>1.85</td><td style='padding: 5px; border: 1px solid black; font-weight: bold; width: 4ch; text-align: center;'>1.9</td><td style='padding: 5px; border: 1px solid black; font-weight: bold; width: 4ch; text-align: center;'>1.95</td><td style='padding: 5px; border: 1px solid black; font-weight: bold; width: 4ch; text-align: center;'>2.0</td></tr><tr><td style='padding: 5px; border: 1px solid black; font-weight: bold; width: 4ch; text-align: center;'>2.05</td><td style='padding: 5px; border: 1px solid black; font-weight: bold; width: 4ch; text-align: center;'>2.1</td><td style='padding: 5px; border: 1px solid black; font-weight: bold; width: 4ch; text-align: center;'>2.15</td><td style='padding: 5px; border: 1px solid black; font-weight: bold; width: 4ch; text-align: center;'>2.2</td><td style='padding: 5px; border: 1px solid black; font-weight: bold; width: 4ch; text-align: center;'>2.25</td><td style='padding: 5px; border: 1px solid black; font-weight: bold; width: 4ch; text-align: center;'>2.3</td><td style='padding: 5px; border: 1px solid black; font-weight: bold; width: 4ch; text-align: center;'>2.35</td><td style='padding: 5px; border: 1px solid black; font-weight: bold; width: 4ch; text-align: center;'>2.4</td><td style='padding: 5px; border: 1px solid black; font-weight: bold; width: 4ch; text-align: center;'>2.45</td><td style='padding: 5px; border: 1px solid black; font-weight: bold; width: 4ch; text-align: center;'>2.5</td></tr><tr><td style='padding: 5px; border: 1px solid black; font-weight: bold; width: 4ch; text-align: center;'>2.55</td><td style='padding: 5px; border: 1px solid black; font-weight: bold; width: 4ch; text-align: center;'>2.6</td><td style='padding: 5px; border: 1px solid black; font-weight: bold; width: 4ch; text-align: center;'>2.65</td><td style='padding: 5px; border: 1px solid black; font-weight: bold; width: 4ch; text-align: center;'>2.7</td><td style='padding: 5px; border: 1px solid black; font-weight: bold; width: 4ch; text-align: center;'>2.75</td><td style='padding: 5px; border: 1px solid black; font-weight: bold; width: 4ch; text-align: center;'>2.8</td><td style='padding: 5px; border: 1px solid black; font-weight: bold; width: 4ch; text-align: center;'>2.85</td><td style='padding: 5px; border: 1px solid black; font-weight: bold; width: 4ch; text-align: center;'>2.9</td><td style='padding: 5px; border: 1px solid black; font-weight: bold; width: 4ch; text-align: center;'>2.95</td><td style='padding: 5px; border: 1px solid black; font-weight: bold; width: 4ch; text-align: center;'>3.0</td></tr><tr><td style='padding: 5px; border: 1px solid black; font-weight: bold; width: 4ch; text-align: center;'>3.05</td><td style='padding: 5px; border: 1px solid black; font-weight: bold; width: 4ch; text-align: center;'>3.1</td><td style='padding: 5px; border: 1px solid black; font-weight: bold; width: 4ch; text-align: center;'>3.15</td><td style='padding: 5px; border: 1px solid black; font-weight: bold; width: 4ch; text-align: center;'>3.2</td><td style='padding: 5px; border: 1px solid black; font-weight: bold; width: 4ch; text-align: center;'>3.25</td><td style='padding: 5px; border: 1px solid black; font-weight: bold; width: 4ch; text-align: center;'>3.3</td><td style='padding: 5px; border: 1px solid black; font-weight: bold; width: 4ch; text-align: center;'>3.35</td><td style='padding: 5px; border: 1px solid black; font-weight: bold; width: 4ch; text-align: center;'>3.4</td><td style='padding: 5px; border: 1px solid black; font-weight: bold; width: 4ch; text-align: center;'>3.45</td><td style='padding: 5px; border: 1px solid black; font-weight: bold; width: 4ch; text-align: center;'>3.5</td></tr><tr><td style='padding: 5px; border: 1px solid black; font-weight: bold; width: 4ch; text-align: center;'>3.55</td><td style='padding: 5px; border: 1px solid black; font-weight: bold; width: 4ch; text-align: center;'>3.6</td><td style='padding: 5px; border: 1px solid black; font-weight: bold; width: 4ch; text-align: center;'>3.65</td><td style='padding: 5px; border: 1px solid black; font-weight: bold; width: 4ch; text-align: center;'>3.7</td><td style='padding: 5px; border: 1px solid black; font-weight: bold; width: 4ch; text-align: center;'>3.75</td><td style='padding: 5px; border: 1px solid black; font-weight: bold; width: 4ch; text-align: center;'>3.8</td><td style='padding: 5px; border: 1px solid black; font-weight: bold; width: 4ch; text-align: center;'>3.85</td><td style='padding: 5px; border: 1px solid black; font-weight: bold; width: 4ch; text-align: center;'>3.9</td><td style='padding: 5px; border: 1px solid black; font-weight: bold; width: 4ch; text-align: center;'>3.95</td><td style='padding: 5px; border: 1px solid black; font-weight: bold; width: 4ch; text-align: center;'>4.0</td></tr><tr><td style='padding: 5px; border: 1px solid black; font-weight: bold; width: 4ch; text-align: center;'>4.05</td><td style='padding: 5px; border: 1px solid black; font-weight: bold; width: 4ch; text-align: center;'>4.1</td><td style='padding: 5px; border: 1px solid black; font-weight: bold; width: 4ch; text-align: center;'>4.15</td><td style='padding: 5px; border: 1px solid black; font-weight: bold; width: 4ch; text-align: center;'>4.2</td><td style='padding: 5px; border: 1px solid black; font-weight: bold; width: 4ch; text-align: center;'>4.25</td><td style='padding: 5px; border: 1px solid black; font-weight: bold; width: 4ch; text-align: center;'>4.3</td><td style='padding: 5px; border: 1px solid black; font-weight: bold; width: 4ch; text-align: center;'>4.35</td><td style='padding: 5px; border: 1px solid black; font-weight: bold; width: 4ch; text-align: center;'>4.4</td><td style='padding: 5px; border: 1px solid black; font-weight: bold; width: 4ch; text-align: center;'>4.45</td><td style='padding: 5px; border: 1px solid black; font-weight: bold; width: 4ch; text-align: center;'>4.5</td></tr><tr><td style='padding: 5px; border: 1px solid black; font-weight: bold; width: 4ch; text-align: center;'>4.55</td><td style='padding: 5px; border: 1px solid black; font-weight: bold; width: 4ch; text-align: center;'>4.6</td><td style='padding: 5px; border: 1px solid black; font-weight: bold; width: 4ch; text-align: center;'>4.65</td><td style='padding: 5px; border: 1px solid black; font-weight: bold; width: 4ch; text-align: center;'>4.7</td><td style='padding: 5px; border: 1px solid black; font-weight: bold; width: 4ch; text-align: center;'>4.75</td><td style='padding: 5px; border: 1px solid black; font-weight: bold; width: 4ch; text-align: center;'>4.8</td><td style='padding: 5px; border: 1px solid black; font-weight: bold; width: 4ch; text-align: center;'>4.85</td><td style='padding: 5px; border: 1px solid black; font-weight: bold; width: 4ch; text-align: center;'>4.9</td><td style='padding: 5px; border: 1px solid black; font-weight: bold; width: 4ch; text-align: center;'>4.95</td><td style='padding: 5px; border: 1px solid black; font-weight: bold; width: 4ch; text-align: center;'>5.0</td></tr></table>"
      ],
      "text/plain": [
       "array([[0.05, 0.1 , 0.15, 0.2 , 0.25, 0.3 , 0.35, 0.4 , 0.45, 0.5 ],\n",
       "       [0.55, 0.6 , 0.65, 0.7 , 0.75, 0.8 , 0.85, 0.9 , 0.95, 1.  ],\n",
       "       [1.05, 1.1 , 1.15, 1.2 , 1.25, 1.3 , 1.35, 1.4 , 1.45, 1.5 ],\n",
       "       [1.55, 1.6 , 1.65, 1.7 , 1.75, 1.8 , 1.85, 1.9 , 1.95, 2.  ],\n",
       "       [2.05, 2.1 , 2.15, 2.2 , 2.25, 2.3 , 2.35, 2.4 , 2.45, 2.5 ],\n",
       "       [2.55, 2.6 , 2.65, 2.7 , 2.75, 2.8 , 2.85, 2.9 , 2.95, 3.  ],\n",
       "       [3.05, 3.1 , 3.15, 3.2 , 3.25, 3.3 , 3.35, 3.4 , 3.45, 3.5 ],\n",
       "       [3.55, 3.6 , 3.65, 3.7 , 3.75, 3.8 , 3.85, 3.9 , 3.95, 4.  ],\n",
       "       [4.05, 4.1 , 4.15, 4.2 , 4.25, 4.3 , 4.35, 4.4 , 4.45, 4.5 ],\n",
       "       [4.55, 4.6 , 4.65, 4.7 , 4.75, 4.8 , 4.85, 4.9 , 4.95, 5.  ]])"
      ]
     },
     "execution_count": 78,
     "metadata": {},
     "output_type": "execute_result"
    }
   ],
   "source": [
    "# exercise 1.5c, generate NumPy array / matrix\n",
    "data = np.arange(0.05,5.05,.05).reshape(10,10)\n",
    "np.round(data,2)\n"
   ]
  },
  {
   "attachments": {},
   "cell_type": "markdown",
   "metadata": {},
   "source": [
    "<h3><b>6. Use this matrix in your code:</b></h3>\n",
    "\n",
    "dataset = np.arange(1, 37).reshape(6, 6)\n",
    "\n",
    "<img src=\"http://srv.plab.fi/~tuomasv/data_analytics_2023_images/exercise_set_1/matrix4.png\"/>\n"
   ]
  },
  {
   "cell_type": "code",
   "execution_count": 79,
   "metadata": {},
   "outputs": [
    {
     "data": {
      "text/html": [
       "<table style='border: 1px solid black; border-collapse: collapse;'><tr><td style='padding: 5px; border: 1px solid black; font-weight: bold; width: 2ch; text-align: center;'>1</td><td style='padding: 5px; border: 1px solid black; font-weight: bold; width: 2ch; text-align: center;'>2</td><td style='padding: 5px; border: 1px solid black; font-weight: bold; width: 2ch; text-align: center;'>3</td><td style='padding: 5px; border: 1px solid black; font-weight: bold; width: 2ch; text-align: center;'>4</td><td style='padding: 5px; border: 1px solid black; font-weight: bold; width: 2ch; text-align: center;'>5</td><td style='padding: 5px; border: 1px solid black; font-weight: bold; width: 2ch; text-align: center;'>6</td></tr><tr><td style='padding: 5px; border: 1px solid black; font-weight: bold; width: 2ch; text-align: center;'>7</td><td style='padding: 5px; border: 1px solid black; font-weight: bold; width: 2ch; text-align: center;'>8</td><td style='padding: 5px; border: 1px solid black; font-weight: bold; width: 2ch; text-align: center;'>9</td><td style='padding: 5px; border: 1px solid black; font-weight: bold; width: 2ch; text-align: center;'>10</td><td style='padding: 5px; border: 1px solid black; font-weight: bold; width: 2ch; text-align: center;'>11</td><td style='padding: 5px; border: 1px solid black; font-weight: bold; width: 2ch; text-align: center;'>12</td></tr><tr><td style='padding: 5px; border: 1px solid black; font-weight: bold; width: 2ch; text-align: center;'>13</td><td style='padding: 5px; border: 1px solid black; font-weight: bold; width: 2ch; text-align: center;'>14</td><td style='padding: 5px; border: 1px solid black; font-weight: bold; width: 2ch; text-align: center;'>15</td><td style='padding: 5px; border: 1px solid black; font-weight: bold; width: 2ch; text-align: center;'>16</td><td style='padding: 5px; border: 1px solid black; font-weight: bold; width: 2ch; text-align: center;'>17</td><td style='padding: 5px; border: 1px solid black; font-weight: bold; width: 2ch; text-align: center;'>18</td></tr><tr><td style='padding: 5px; border: 1px solid black; font-weight: bold; width: 2ch; text-align: center;'>19</td><td style='padding: 5px; border: 1px solid black; font-weight: bold; width: 2ch; text-align: center;'>20</td><td style='padding: 5px; border: 1px solid black; font-weight: bold; width: 2ch; text-align: center;'>21</td><td style='padding: 5px; border: 1px solid black; font-weight: bold; width: 2ch; text-align: center;'>22</td><td style='padding: 5px; border: 1px solid black; font-weight: bold; width: 2ch; text-align: center;'>23</td><td style='padding: 5px; border: 1px solid black; font-weight: bold; width: 2ch; text-align: center;'>24</td></tr><tr><td style='padding: 5px; border: 1px solid black; font-weight: bold; width: 2ch; text-align: center;'>25</td><td style='padding: 5px; border: 1px solid black; font-weight: bold; width: 2ch; text-align: center;'>26</td><td style='padding: 5px; border: 1px solid black; font-weight: bold; width: 2ch; text-align: center;'>27</td><td style='padding: 5px; border: 1px solid black; font-weight: bold; width: 2ch; text-align: center;'>28</td><td style='padding: 5px; border: 1px solid black; font-weight: bold; width: 2ch; text-align: center;'>29</td><td style='padding: 5px; border: 1px solid black; font-weight: bold; width: 2ch; text-align: center;'>30</td></tr><tr><td style='padding: 5px; border: 1px solid black; font-weight: bold; width: 2ch; text-align: center;'>31</td><td style='padding: 5px; border: 1px solid black; font-weight: bold; width: 2ch; text-align: center;'>32</td><td style='padding: 5px; border: 1px solid black; font-weight: bold; width: 2ch; text-align: center;'>33</td><td style='padding: 5px; border: 1px solid black; font-weight: bold; width: 2ch; text-align: center;'>34</td><td style='padding: 5px; border: 1px solid black; font-weight: bold; width: 2ch; text-align: center;'>35</td><td style='padding: 5px; border: 1px solid black; font-weight: bold; width: 2ch; text-align: center;'>36</td></tr></table>"
      ],
      "text/plain": [
       "array([[ 1,  2,  3,  4,  5,  6],\n",
       "       [ 7,  8,  9, 10, 11, 12],\n",
       "       [13, 14, 15, 16, 17, 18],\n",
       "       [19, 20, 21, 22, 23, 24],\n",
       "       [25, 26, 27, 28, 29, 30],\n",
       "       [31, 32, 33, 34, 35, 36]])"
      ]
     },
     "execution_count": 79,
     "metadata": {},
     "output_type": "execute_result"
    }
   ],
   "source": [
    "# exercise 1.6a, matrix slicing\n",
    "dataset = np.arange(1, 37).reshape(6, 6)\n",
    "dataset"
   ]
  },
  {
   "attachments": {},
   "cell_type": "markdown",
   "metadata": {},
   "source": [
    "- Create a slice of the matrix that contains this part of the matrix:\n",
    "\n",
    "<img src=\"http://srv.plab.fi/~tuomasv/data_analytics_2023_images/exercise_set_1/matrix5.png\"/>"
   ]
  },
  {
   "cell_type": "code",
   "execution_count": 80,
   "metadata": {},
   "outputs": [
    {
     "data": {
      "text/html": [
       "<table style='border: 1px solid black; border-collapse: collapse;'><tr><td style='padding: 5px; border: 1px solid black; font-weight: bold; width: 2ch; text-align: center;'>21</td><td style='padding: 5px; border: 1px solid black; font-weight: bold; width: 2ch; text-align: center;'>22</td><td style='padding: 5px; border: 1px solid black; font-weight: bold; width: 2ch; text-align: center;'>23</td><td style='padding: 5px; border: 1px solid black; font-weight: bold; width: 2ch; text-align: center;'>24</td></tr><tr><td style='padding: 5px; border: 1px solid black; font-weight: bold; width: 2ch; text-align: center;'>27</td><td style='padding: 5px; border: 1px solid black; font-weight: bold; width: 2ch; text-align: center;'>28</td><td style='padding: 5px; border: 1px solid black; font-weight: bold; width: 2ch; text-align: center;'>29</td><td style='padding: 5px; border: 1px solid black; font-weight: bold; width: 2ch; text-align: center;'>30</td></tr><tr><td style='padding: 5px; border: 1px solid black; font-weight: bold; width: 2ch; text-align: center;'>33</td><td style='padding: 5px; border: 1px solid black; font-weight: bold; width: 2ch; text-align: center;'>34</td><td style='padding: 5px; border: 1px solid black; font-weight: bold; width: 2ch; text-align: center;'>35</td><td style='padding: 5px; border: 1px solid black; font-weight: bold; width: 2ch; text-align: center;'>36</td></tr></table>"
      ],
      "text/plain": [
       "array([[21, 22, 23, 24],\n",
       "       [27, 28, 29, 30],\n",
       "       [33, 34, 35, 36]])"
      ]
     },
     "execution_count": 80,
     "metadata": {},
     "output_type": "execute_result"
    }
   ],
   "source": [
    "# exercise 1.6b, matrix slicing\n",
    "subset = np.vsplit(dataset, 2)\n",
    "\n",
    "# splits the the second half of the subset and splits it 3 ways vertically.\n",
    "subset = np.hsplit(subset[1], 3)\n",
    "\n",
    "# combines the second and third part of the subset that we need for the output.\n",
    "subset = np.hstack((subset[1], subset[2]))\n",
    "subset\n"
   ]
  },
  {
   "attachments": {},
   "cell_type": "markdown",
   "metadata": {},
   "source": [
    "- Pick out this column slice from data\n",
    "\n",
    "<img src=\"http://srv.plab.fi/~tuomasv/data_analytics_2023_images/exercise_set_1/series1.png\"/>"
   ]
  },
  {
   "cell_type": "code",
   "execution_count": 81,
   "metadata": {},
   "outputs": [
    {
     "data": {
      "text/html": [
       "<table style='border: 1px solid black; border-collapse: collapse;'><tr><td style='padding: 5px; border: 1px solid black; font-weight: bold; width: 2ch; text-align: center;'>4</td></tr><tr><td style='padding: 5px; border: 1px solid black; font-weight: bold; width: 2ch; text-align: center;'>10</td></tr><tr><td style='padding: 5px; border: 1px solid black; font-weight: bold; width: 2ch; text-align: center;'>16</td></tr><tr><td style='padding: 5px; border: 1px solid black; font-weight: bold; width: 2ch; text-align: center;'>22</td></tr></table>"
      ],
      "text/plain": [
       "array([[ 4],\n",
       "       [10],\n",
       "       [16],\n",
       "       [22]])"
      ]
     },
     "execution_count": 81,
     "metadata": {},
     "output_type": "execute_result"
    }
   ],
   "source": [
    "# exercise 1.6c, matrix slicing\n",
    "# creates a subset of the original dataset\n",
    "subset = dataset\n",
    "\n",
    "# splits the subset line by line \n",
    "subset = np.hsplit(subset,6)\n",
    "\n",
    "# Takes the fourth column, and splits that three-ways.\n",
    "subset = np.vsplit(subset[3],3)\n",
    "\n",
    "# vertically stack the first two vsplits. \n",
    "subset = np.vstack((subset[0], subset[1]))\n",
    "subset\n"
   ]
  },
  {
   "attachments": {},
   "cell_type": "markdown",
   "metadata": {},
   "source": [
    "- Pick out this row from the data\n",
    "\n",
    "<img src=\"http://srv.plab.fi/~tuomasv/data_analytics_2023_images/exercise_set_1/series2.png\"/>"
   ]
  },
  {
   "cell_type": "code",
   "execution_count": 82,
   "metadata": {},
   "outputs": [
    {
     "data": {
      "text/html": [
       "<table style='border: 1px solid black; border-collapse: collapse;'><tr><td style='padding: 5px; border: 1px solid black; font-weight: bold; width: 2ch; text-align: center;'>13</td></tr><tr><td style='padding: 5px; border: 1px solid black; font-weight: bold; width: 2ch; text-align: center;'>14</td></tr><tr><td style='padding: 5px; border: 1px solid black; font-weight: bold; width: 2ch; text-align: center;'>15</td></tr><tr><td style='padding: 5px; border: 1px solid black; font-weight: bold; width: 2ch; text-align: center;'>16</td></tr><tr><td style='padding: 5px; border: 1px solid black; font-weight: bold; width: 2ch; text-align: center;'>17</td></tr><tr><td style='padding: 5px; border: 1px solid black; font-weight: bold; width: 2ch; text-align: center;'>18</td></tr></table>"
      ],
      "text/plain": [
       "array([[13],\n",
       "       [14],\n",
       "       [15],\n",
       "       [16],\n",
       "       [17],\n",
       "       [18]])"
      ]
     },
     "execution_count": 82,
     "metadata": {},
     "output_type": "execute_result"
    }
   ],
   "source": [
    "# exercise 1.6d, matrix slicing\n",
    "# creates a subset of the original data\n",
    "subset = dataset\n",
    "\n",
    "# splits the data horizonally, 6 ways.\n",
    "subset = np.vsplit(subset,6)\n",
    "\n",
    "# unravels the data\n",
    "subset = subset[2].ravel()\n",
    "\n",
    "# and reforms the data into a single column.\n",
    "subset = subset.reshape(6,1)\n",
    "subset"
   ]
  },
  {
   "attachments": {},
   "cell_type": "markdown",
   "metadata": {},
   "source": [
    "- Pick out these three rows from data:\n",
    "\n",
    "<img src=\"http://srv.plab.fi/~tuomasv/data_analytics_2023_images/exercise_set_1/matrix6.png\"/>"
   ]
  },
  {
   "cell_type": "code",
   "execution_count": 83,
   "metadata": {},
   "outputs": [
    {
     "data": {
      "text/html": [
       "<table style='border: 1px solid black; border-collapse: collapse;'><tr><td style='padding: 5px; border: 1px solid black; font-weight: bold; width: 2ch; text-align: center;'>19</td><td style='padding: 5px; border: 1px solid black; font-weight: bold; width: 2ch; text-align: center;'>20</td><td style='padding: 5px; border: 1px solid black; font-weight: bold; width: 2ch; text-align: center;'>21</td><td style='padding: 5px; border: 1px solid black; font-weight: bold; width: 2ch; text-align: center;'>22</td><td style='padding: 5px; border: 1px solid black; font-weight: bold; width: 2ch; text-align: center;'>23</td><td style='padding: 5px; border: 1px solid black; font-weight: bold; width: 2ch; text-align: center;'>24</td></tr><tr><td style='padding: 5px; border: 1px solid black; font-weight: bold; width: 2ch; text-align: center;'>25</td><td style='padding: 5px; border: 1px solid black; font-weight: bold; width: 2ch; text-align: center;'>26</td><td style='padding: 5px; border: 1px solid black; font-weight: bold; width: 2ch; text-align: center;'>27</td><td style='padding: 5px; border: 1px solid black; font-weight: bold; width: 2ch; text-align: center;'>28</td><td style='padding: 5px; border: 1px solid black; font-weight: bold; width: 2ch; text-align: center;'>29</td><td style='padding: 5px; border: 1px solid black; font-weight: bold; width: 2ch; text-align: center;'>30</td></tr><tr><td style='padding: 5px; border: 1px solid black; font-weight: bold; width: 2ch; text-align: center;'>31</td><td style='padding: 5px; border: 1px solid black; font-weight: bold; width: 2ch; text-align: center;'>32</td><td style='padding: 5px; border: 1px solid black; font-weight: bold; width: 2ch; text-align: center;'>33</td><td style='padding: 5px; border: 1px solid black; font-weight: bold; width: 2ch; text-align: center;'>34</td><td style='padding: 5px; border: 1px solid black; font-weight: bold; width: 2ch; text-align: center;'>35</td><td style='padding: 5px; border: 1px solid black; font-weight: bold; width: 2ch; text-align: center;'>36</td></tr></table>"
      ],
      "text/plain": [
       "array([[19, 20, 21, 22, 23, 24],\n",
       "       [25, 26, 27, 28, 29, 30],\n",
       "       [31, 32, 33, 34, 35, 36]])"
      ]
     },
     "execution_count": 83,
     "metadata": {},
     "output_type": "execute_result"
    }
   ],
   "source": [
    "# exercise 1.6e, matrix slicing\n",
    "# creates a subset of the original data.\n",
    "subset = dataset\n",
    "\n",
    "# splits the data in 2 rows\n",
    "subset = np.vsplit(subset,2)\n",
    "\n",
    "# renames the second half of the split as the subset\n",
    "subset = subset[1]\n",
    "subset "
   ]
  },
  {
   "attachments": {},
   "cell_type": "markdown",
   "metadata": {},
   "source": [
    "<h3><b>7. Use this matrix:</b></h3>\n",
    "\n",
    "<b>dataset_2 = np.arange(1, 50).reshape(7, 7)</b>\n",
    "\n",
    "- Add 50 to all values in the array (use broadcasting)\n",
    "\n",
    "- Get the sum of all values in the dataset\n",
    "    - <b>Use this version of the data in the following steps!</b>\n",
    "\n",
    "- Get sum of only odd numbers in the dataset\n",
    "\n",
    "- Get the standard deviation of the values in the dataset\n",
    "\n",
    "- Get the sum of all values by ROW in the dataset\n",
    "\n",
    "- Get the sum of all values by COLUMN in the dataset (tip, use the axis –parameter)\n",
    "\n",
    "<br>\n",
    "\n",
    "- <b>Extra task:</b> Do the total sum, row sum and column sum exercises <u><b>without</b></u> NumPy in Python! <b>(Without the help of AI!)</b>\n",
    "\n",
    "<br>\n",
    "<b>Note:</b> Don't create a new dataset when adding 50 to all values in the array, use the existing one.\n",
    "<br><br>\n",
    "<img src=\"http://srv.plab.fi/~tuomasv/data_analytics_2023_images/exercise_set_1/desktopcomputer.png\"/>\n"
   ]
  },
  {
   "cell_type": "code",
   "execution_count": 84,
   "metadata": {},
   "outputs": [
    {
     "data": {
      "text/html": [
       "<table style='border: 1px solid black; border-collapse: collapse;'><tr><td style='padding: 5px; border: 1px solid black; font-weight: bold; width: 2ch; text-align: center;'>51</td><td style='padding: 5px; border: 1px solid black; font-weight: bold; width: 2ch; text-align: center;'>52</td><td style='padding: 5px; border: 1px solid black; font-weight: bold; width: 2ch; text-align: center;'>53</td><td style='padding: 5px; border: 1px solid black; font-weight: bold; width: 2ch; text-align: center;'>54</td><td style='padding: 5px; border: 1px solid black; font-weight: bold; width: 2ch; text-align: center;'>55</td><td style='padding: 5px; border: 1px solid black; font-weight: bold; width: 2ch; text-align: center;'>56</td></tr><tr><td style='padding: 5px; border: 1px solid black; font-weight: bold; width: 2ch; text-align: center;'>57</td><td style='padding: 5px; border: 1px solid black; font-weight: bold; width: 2ch; text-align: center;'>58</td><td style='padding: 5px; border: 1px solid black; font-weight: bold; width: 2ch; text-align: center;'>59</td><td style='padding: 5px; border: 1px solid black; font-weight: bold; width: 2ch; text-align: center;'>60</td><td style='padding: 5px; border: 1px solid black; font-weight: bold; width: 2ch; text-align: center;'>61</td><td style='padding: 5px; border: 1px solid black; font-weight: bold; width: 2ch; text-align: center;'>62</td></tr><tr><td style='padding: 5px; border: 1px solid black; font-weight: bold; width: 2ch; text-align: center;'>63</td><td style='padding: 5px; border: 1px solid black; font-weight: bold; width: 2ch; text-align: center;'>64</td><td style='padding: 5px; border: 1px solid black; font-weight: bold; width: 2ch; text-align: center;'>65</td><td style='padding: 5px; border: 1px solid black; font-weight: bold; width: 2ch; text-align: center;'>66</td><td style='padding: 5px; border: 1px solid black; font-weight: bold; width: 2ch; text-align: center;'>67</td><td style='padding: 5px; border: 1px solid black; font-weight: bold; width: 2ch; text-align: center;'>68</td></tr><tr><td style='padding: 5px; border: 1px solid black; font-weight: bold; width: 2ch; text-align: center;'>69</td><td style='padding: 5px; border: 1px solid black; font-weight: bold; width: 2ch; text-align: center;'>70</td><td style='padding: 5px; border: 1px solid black; font-weight: bold; width: 2ch; text-align: center;'>71</td><td style='padding: 5px; border: 1px solid black; font-weight: bold; width: 2ch; text-align: center;'>72</td><td style='padding: 5px; border: 1px solid black; font-weight: bold; width: 2ch; text-align: center;'>73</td><td style='padding: 5px; border: 1px solid black; font-weight: bold; width: 2ch; text-align: center;'>74</td></tr><tr><td style='padding: 5px; border: 1px solid black; font-weight: bold; width: 2ch; text-align: center;'>75</td><td style='padding: 5px; border: 1px solid black; font-weight: bold; width: 2ch; text-align: center;'>76</td><td style='padding: 5px; border: 1px solid black; font-weight: bold; width: 2ch; text-align: center;'>77</td><td style='padding: 5px; border: 1px solid black; font-weight: bold; width: 2ch; text-align: center;'>78</td><td style='padding: 5px; border: 1px solid black; font-weight: bold; width: 2ch; text-align: center;'>79</td><td style='padding: 5px; border: 1px solid black; font-weight: bold; width: 2ch; text-align: center;'>80</td></tr><tr><td style='padding: 5px; border: 1px solid black; font-weight: bold; width: 2ch; text-align: center;'>81</td><td style='padding: 5px; border: 1px solid black; font-weight: bold; width: 2ch; text-align: center;'>82</td><td style='padding: 5px; border: 1px solid black; font-weight: bold; width: 2ch; text-align: center;'>83</td><td style='padding: 5px; border: 1px solid black; font-weight: bold; width: 2ch; text-align: center;'>84</td><td style='padding: 5px; border: 1px solid black; font-weight: bold; width: 2ch; text-align: center;'>85</td><td style='padding: 5px; border: 1px solid black; font-weight: bold; width: 2ch; text-align: center;'>86</td></tr></table>"
      ],
      "text/plain": [
       "array([[51, 52, 53, 54, 55, 56],\n",
       "       [57, 58, 59, 60, 61, 62],\n",
       "       [63, 64, 65, 66, 67, 68],\n",
       "       [69, 70, 71, 72, 73, 74],\n",
       "       [75, 76, 77, 78, 79, 80],\n",
       "       [81, 82, 83, 84, 85, 86]])"
      ]
     },
     "execution_count": 84,
     "metadata": {},
     "output_type": "execute_result"
    }
   ],
   "source": [
    "# exercise 1.7, NumPy -operations on a matrix\n",
    "dataset_2 = np.arange(1, 50).reshape(7, 7)\n",
    "\n",
    "# use different variable names for each subtask\n",
    "# you can also make new code cells if you need\n",
    "\n",
    "# Adding 50 to all values in the array (using broadcasting)\n",
    "dataset = dataset + 50\n",
    "dataset"
   ]
  },
  {
   "cell_type": "code",
   "execution_count": 85,
   "metadata": {},
   "outputs": [
    {
     "data": {
      "text/plain": [
       "np.int64(2466)"
      ]
     },
     "execution_count": 85,
     "metadata": {},
     "output_type": "execute_result"
    }
   ],
   "source": [
    "# Getting the sum of all values in the subset\n",
    "total = np.sum(dataset)\n",
    "total "
   ]
  },
  {
   "cell_type": "code",
   "execution_count": 86,
   "metadata": {},
   "outputs": [
    {
     "name": "stdout",
     "output_type": "stream",
     "text": [
      "10.388294694831615\n"
     ]
    }
   ],
   "source": [
    "# Getting the standard deviation of all the values in the subset.\n",
    "deviation = np.std(dataset)\n",
    "print(deviation)"
   ]
  },
  {
   "cell_type": "code",
   "execution_count": 87,
   "metadata": {},
   "outputs": [
    {
     "name": "stdout",
     "output_type": "stream",
     "text": [
      "[321 357 393 429 465 501]\n"
     ]
    }
   ],
   "source": [
    "# Adding together all the rows in the subset.\n",
    "sum_rows= np.sum(dataset, axis=1)\n",
    "print(sum_rows)"
   ]
  },
  {
   "cell_type": "code",
   "execution_count": 88,
   "metadata": {},
   "outputs": [
    {
     "name": "stdout",
     "output_type": "stream",
     "text": [
      "[396 402 408 414 420 426]\n"
     ]
    }
   ],
   "source": [
    "# Adding together all the columns in the subset.\n",
    "sum_columns = np.sum(dataset, axis=0)\n",
    "print(sum_columns)"
   ]
  },
  {
   "cell_type": "code",
   "execution_count": 89,
   "metadata": {},
   "outputs": [
    {
     "name": "stdout",
     "output_type": "stream",
     "text": [
      "[396 402 408 414 420 426]\n"
     ]
    }
   ],
   "source": [
    "# Extra Task!\n",
    "# Re-doing all the tasks above without NumPy.\n",
    "\n",
    "# Sum of all columns.\n",
    "sum_columns = sum(dataset)\n",
    "print(sum_columns)"
   ]
  },
  {
   "cell_type": "code",
   "execution_count": 90,
   "metadata": {},
   "outputs": [
    {
     "name": "stdout",
     "output_type": "stream",
     "text": [
      "[np.int64(321), np.int64(357), np.int64(393), np.int64(429), np.int64(465), np.int64(501)]\n"
     ]
    }
   ],
   "source": [
    "# Sum of rows!\n",
    "sum_rows = []\n",
    "amount = len(dataset)\n",
    "\n",
    "# iterates each row via the range of the length of the subset (7 rows)\n",
    "for i in range(amount):\n",
    "  sum_rows.append(sum(dataset[i]))\n",
    "print(sum_rows)"
   ]
  },
  {
   "cell_type": "code",
   "execution_count": 91,
   "metadata": {},
   "outputs": [
    {
     "data": {
      "text/plain": [
       "[321, 357, 393, 429, 465, 501]"
      ]
     },
     "execution_count": 91,
     "metadata": {},
     "output_type": "execute_result"
    }
   ],
   "source": [
    "# optionally, one can do this to output a normal list:\n",
    "sum_rows = [int(x) for x in sum_rows]\n",
    "sum_rows"
   ]
  },
  {
   "cell_type": "code",
   "execution_count": 92,
   "metadata": {},
   "outputs": [
    {
     "data": {
      "text/plain": [
       "2466"
      ]
     },
     "execution_count": 92,
     "metadata": {},
     "output_type": "execute_result"
    }
   ],
   "source": [
    "# sum_all will tally/store all of the numbers, which is iterated column by column.\n",
    "sum_all = 0\n",
    "amount = len(dataset)\n",
    "\n",
    "# iterates each row via the range of the length of the subset (7 rows)\n",
    "for i in range(amount):\n",
    "\n",
    "  # it takes the sum of the column, and adds it to sum_all.\n",
    "  sum_all += sum(dataset[i])\n",
    "int(sum_all)"
   ]
  },
  {
   "attachments": {},
   "cell_type": "markdown",
   "metadata": {},
   "source": [
    "<br><br>\n",
    "<h2><b>Advanced extra tasks for extra points (varying challenges, some require Googling):</b></h2>"
   ]
  },
  {
   "attachments": {},
   "cell_type": "markdown",
   "metadata": {},
   "source": [
    "<h3><b>1. Create two files for this exercise: save_matrix.py and read_matrix.py</b></h3>\n",
    "\n",
    "- in save_matrix.py: create a 15x15 matrix, and save it to a file (matrix.txt)\n",
    " - in read_matrix.py, read matrix.txt, and convert it back to a NumPy matrix\n",
    "\n",
    "NumPy has loadtxt() and savetxt()-functions for these purposes.\n"
   ]
  },
  {
   "cell_type": "code",
   "execution_count": 93,
   "metadata": {},
   "outputs": [
    {
     "data": {
      "text/html": [
       "<table style='border: 1px solid black; border-collapse: collapse;'><tr><td style='padding: 5px; border: 1px solid black; font-weight: bold; width: 4ch; text-align: center;'>0.16</td><td style='padding: 5px; border: 1px solid black; font-weight: bold; width: 4ch; text-align: center;'>0.46</td><td style='padding: 5px; border: 1px solid black; font-weight: bold; width: 4ch; text-align: center;'>0.83</td><td style='padding: 5px; border: 1px solid black; font-weight: bold; width: 4ch; text-align: center;'>0.69</td><td style='padding: 5px; border: 1px solid black; font-weight: bold; width: 4ch; text-align: center;'>0.46</td></tr><tr><td style='padding: 5px; border: 1px solid black; font-weight: bold; width: 4ch; text-align: center;'>0.79</td><td style='padding: 5px; border: 1px solid black; font-weight: bold; width: 4ch; text-align: center;'>0.05</td><td style='padding: 5px; border: 1px solid black; font-weight: bold; width: 4ch; text-align: center;'>0.43</td><td style='padding: 5px; border: 1px solid black; font-weight: bold; width: 4ch; text-align: center;'>0.45</td><td style='padding: 5px; border: 1px solid black; font-weight: bold; width: 4ch; text-align: center;'>0.97</td></tr><tr><td style='padding: 5px; border: 1px solid black; font-weight: bold; width: 4ch; text-align: center;'>0.71</td><td style='padding: 5px; border: 1px solid black; font-weight: bold; width: 4ch; text-align: center;'>0.1</td><td style='padding: 5px; border: 1px solid black; font-weight: bold; width: 4ch; text-align: center;'>0.89</td><td style='padding: 5px; border: 1px solid black; font-weight: bold; width: 4ch; text-align: center;'>0.27</td><td style='padding: 5px; border: 1px solid black; font-weight: bold; width: 4ch; text-align: center;'>0.35</td></tr><tr><td style='padding: 5px; border: 1px solid black; font-weight: bold; width: 4ch; text-align: center;'>0.9</td><td style='padding: 5px; border: 1px solid black; font-weight: bold; width: 4ch; text-align: center;'>0.81</td><td style='padding: 5px; border: 1px solid black; font-weight: bold; width: 4ch; text-align: center;'>0.39</td><td style='padding: 5px; border: 1px solid black; font-weight: bold; width: 4ch; text-align: center;'>0.74</td><td style='padding: 5px; border: 1px solid black; font-weight: bold; width: 4ch; text-align: center;'>0.85</td></tr><tr><td style='padding: 5px; border: 1px solid black; font-weight: bold; width: 4ch; text-align: center;'>0.25</td><td style='padding: 5px; border: 1px solid black; font-weight: bold; width: 4ch; text-align: center;'>0.43</td><td style='padding: 5px; border: 1px solid black; font-weight: bold; width: 4ch; text-align: center;'>0.3</td><td style='padding: 5px; border: 1px solid black; font-weight: bold; width: 4ch; text-align: center;'>0.73</td><td style='padding: 5px; border: 1px solid black; font-weight: bold; width: 4ch; text-align: center;'>0.01</td></tr></table>"
      ],
      "text/plain": [
       "array([[0.16, 0.46, 0.83, 0.69, 0.46],\n",
       "       [0.79, 0.05, 0.43, 0.45, 0.97],\n",
       "       [0.71, 0.1 , 0.89, 0.27, 0.35],\n",
       "       [0.9 , 0.81, 0.39, 0.74, 0.85],\n",
       "       [0.25, 0.43, 0.3 , 0.73, 0.01]])"
      ]
     },
     "execution_count": 93,
     "metadata": {},
     "output_type": "execute_result"
    }
   ],
   "source": [
    "# advanced extra exercise 1\n",
    "matrix = np.random.rand(5,5)\n",
    "np.round(matrix,2)"
   ]
  },
  {
   "cell_type": "code",
   "execution_count": 94,
   "metadata": {},
   "outputs": [
    {
     "ename": "TypeError",
     "evalue": "Cannot construct a dtype from an array",
     "output_type": "error",
     "traceback": [
      "\u001b[1;31m---------------------------------------------------------------------------\u001b[0m",
      "\u001b[1;31mTypeError\u001b[0m                                 Traceback (most recent call last)",
      "Cell \u001b[1;32mIn[94], line 2\u001b[0m\n\u001b[0;32m      1\u001b[0m np\u001b[38;5;241m.\u001b[39msavetxt(\u001b[38;5;124m'\u001b[39m\u001b[38;5;124mmatrix.txt\u001b[39m\u001b[38;5;124m'\u001b[39m, matrix, delimiter \u001b[38;5;241m=\u001b[39m\u001b[38;5;124m'\u001b[39m\u001b[38;5;124m, \u001b[39m\u001b[38;5;124m'\u001b[39m)\n\u001b[1;32m----> 2\u001b[0m matrix \u001b[38;5;241m=\u001b[39m \u001b[43mnp\u001b[49m\u001b[38;5;241;43m.\u001b[39;49m\u001b[43mloadtxt\u001b[49m\u001b[43m(\u001b[49m\u001b[38;5;124;43m'\u001b[39;49m\u001b[38;5;124;43mmatrix.txt\u001b[39;49m\u001b[38;5;124;43m'\u001b[39;49m\u001b[43m,\u001b[49m\u001b[43m \u001b[49m\u001b[43mmatrix\u001b[49m\u001b[43m,\u001b[49m\u001b[43m \u001b[49m\u001b[43mdelimiter\u001b[49m\u001b[43m \u001b[49m\u001b[38;5;241;43m=\u001b[39;49m\u001b[38;5;124;43m'\u001b[39;49m\u001b[38;5;124;43m, \u001b[39;49m\u001b[38;5;124;43m'\u001b[39;49m\u001b[43m)\u001b[49m\n\u001b[0;32m      3\u001b[0m np\u001b[38;5;241m.\u001b[39mround(matrix,\u001b[38;5;241m2\u001b[39m)\n",
      "File \u001b[1;32mc:\\Users\\OWNER\\Intro_Data_Analytics_Huhta_Jeremy_Spring2025-1\\.venv\\lib\\site-packages\\numpy\\lib\\_npyio_impl.py:1395\u001b[0m, in \u001b[0;36mloadtxt\u001b[1;34m(fname, dtype, comments, delimiter, converters, skiprows, usecols, unpack, ndmin, encoding, max_rows, quotechar, like)\u001b[0m\n\u001b[0;32m   1392\u001b[0m \u001b[38;5;28;01mif\u001b[39;00m \u001b[38;5;28misinstance\u001b[39m(delimiter, \u001b[38;5;28mbytes\u001b[39m):\n\u001b[0;32m   1393\u001b[0m     delimiter \u001b[38;5;241m=\u001b[39m delimiter\u001b[38;5;241m.\u001b[39mdecode(\u001b[38;5;124m'\u001b[39m\u001b[38;5;124mlatin1\u001b[39m\u001b[38;5;124m'\u001b[39m)\n\u001b[1;32m-> 1395\u001b[0m arr \u001b[38;5;241m=\u001b[39m \u001b[43m_read\u001b[49m\u001b[43m(\u001b[49m\u001b[43mfname\u001b[49m\u001b[43m,\u001b[49m\u001b[43m \u001b[49m\u001b[43mdtype\u001b[49m\u001b[38;5;241;43m=\u001b[39;49m\u001b[43mdtype\u001b[49m\u001b[43m,\u001b[49m\u001b[43m \u001b[49m\u001b[43mcomment\u001b[49m\u001b[38;5;241;43m=\u001b[39;49m\u001b[43mcomment\u001b[49m\u001b[43m,\u001b[49m\u001b[43m \u001b[49m\u001b[43mdelimiter\u001b[49m\u001b[38;5;241;43m=\u001b[39;49m\u001b[43mdelimiter\u001b[49m\u001b[43m,\u001b[49m\n\u001b[0;32m   1396\u001b[0m \u001b[43m            \u001b[49m\u001b[43mconverters\u001b[49m\u001b[38;5;241;43m=\u001b[39;49m\u001b[43mconverters\u001b[49m\u001b[43m,\u001b[49m\u001b[43m \u001b[49m\u001b[43mskiplines\u001b[49m\u001b[38;5;241;43m=\u001b[39;49m\u001b[43mskiprows\u001b[49m\u001b[43m,\u001b[49m\u001b[43m \u001b[49m\u001b[43musecols\u001b[49m\u001b[38;5;241;43m=\u001b[39;49m\u001b[43musecols\u001b[49m\u001b[43m,\u001b[49m\n\u001b[0;32m   1397\u001b[0m \u001b[43m            \u001b[49m\u001b[43munpack\u001b[49m\u001b[38;5;241;43m=\u001b[39;49m\u001b[43munpack\u001b[49m\u001b[43m,\u001b[49m\u001b[43m \u001b[49m\u001b[43mndmin\u001b[49m\u001b[38;5;241;43m=\u001b[39;49m\u001b[43mndmin\u001b[49m\u001b[43m,\u001b[49m\u001b[43m \u001b[49m\u001b[43mencoding\u001b[49m\u001b[38;5;241;43m=\u001b[39;49m\u001b[43mencoding\u001b[49m\u001b[43m,\u001b[49m\n\u001b[0;32m   1398\u001b[0m \u001b[43m            \u001b[49m\u001b[43mmax_rows\u001b[49m\u001b[38;5;241;43m=\u001b[39;49m\u001b[43mmax_rows\u001b[49m\u001b[43m,\u001b[49m\u001b[43m \u001b[49m\u001b[43mquote\u001b[49m\u001b[38;5;241;43m=\u001b[39;49m\u001b[43mquotechar\u001b[49m\u001b[43m)\u001b[49m\n\u001b[0;32m   1400\u001b[0m \u001b[38;5;28;01mreturn\u001b[39;00m arr\n",
      "File \u001b[1;32mc:\\Users\\OWNER\\Intro_Data_Analytics_Huhta_Jeremy_Spring2025-1\\.venv\\lib\\site-packages\\numpy\\lib\\_npyio_impl.py:947\u001b[0m, in \u001b[0;36m_read\u001b[1;34m(fname, delimiter, comment, quote, imaginary_unit, usecols, skiplines, max_rows, converters, ndmin, unpack, dtype, encoding)\u001b[0m\n\u001b[0;32m    945\u001b[0m \u001b[38;5;28;01mif\u001b[39;00m dtype \u001b[38;5;129;01mis\u001b[39;00m \u001b[38;5;28;01mNone\u001b[39;00m:\n\u001b[0;32m    946\u001b[0m     \u001b[38;5;28;01mraise\u001b[39;00m \u001b[38;5;167;01mTypeError\u001b[39;00m(\u001b[38;5;124m\"\u001b[39m\u001b[38;5;124ma dtype must be provided.\u001b[39m\u001b[38;5;124m\"\u001b[39m)\n\u001b[1;32m--> 947\u001b[0m dtype \u001b[38;5;241m=\u001b[39m \u001b[43mnp\u001b[49m\u001b[38;5;241;43m.\u001b[39;49m\u001b[43mdtype\u001b[49m\u001b[43m(\u001b[49m\u001b[43mdtype\u001b[49m\u001b[43m)\u001b[49m\n\u001b[0;32m    949\u001b[0m read_dtype_via_object_chunks \u001b[38;5;241m=\u001b[39m \u001b[38;5;28;01mNone\u001b[39;00m\n\u001b[0;32m    950\u001b[0m \u001b[38;5;28;01mif\u001b[39;00m dtype\u001b[38;5;241m.\u001b[39mkind \u001b[38;5;129;01min\u001b[39;00m \u001b[38;5;124m'\u001b[39m\u001b[38;5;124mSUM\u001b[39m\u001b[38;5;124m'\u001b[39m \u001b[38;5;129;01mand\u001b[39;00m (\n\u001b[0;32m    951\u001b[0m         dtype \u001b[38;5;241m==\u001b[39m \u001b[38;5;124m\"\u001b[39m\u001b[38;5;124mS0\u001b[39m\u001b[38;5;124m\"\u001b[39m \u001b[38;5;129;01mor\u001b[39;00m dtype \u001b[38;5;241m==\u001b[39m \u001b[38;5;124m\"\u001b[39m\u001b[38;5;124mU0\u001b[39m\u001b[38;5;124m\"\u001b[39m \u001b[38;5;129;01mor\u001b[39;00m dtype \u001b[38;5;241m==\u001b[39m \u001b[38;5;124m\"\u001b[39m\u001b[38;5;124mM8\u001b[39m\u001b[38;5;124m\"\u001b[39m \u001b[38;5;129;01mor\u001b[39;00m dtype \u001b[38;5;241m==\u001b[39m \u001b[38;5;124m'\u001b[39m\u001b[38;5;124mm8\u001b[39m\u001b[38;5;124m'\u001b[39m):\n\u001b[0;32m    952\u001b[0m     \u001b[38;5;66;03m# This is a legacy \"flexible\" dtype.  We do not truly support\u001b[39;00m\n\u001b[0;32m    953\u001b[0m     \u001b[38;5;66;03m# parametric dtypes currently (no dtype discovery step in the core),\u001b[39;00m\n\u001b[0;32m    954\u001b[0m     \u001b[38;5;66;03m# but have to support these for backward compatibility.\u001b[39;00m\n",
      "\u001b[1;31mTypeError\u001b[0m: Cannot construct a dtype from an array"
     ]
    }
   ],
   "source": [
    "np.savetxt('matrix.txt', matrix, delimiter =', ')\n",
    "matrix = np.loadtxt('matrix.txt', matrix, delimiter =', ')\n",
    "np.round(matrix,2)"
   ]
  },
  {
   "attachments": {},
   "cell_type": "markdown",
   "metadata": {},
   "source": [
    "<h3><b>2. Masked arrays are a feature of NumPy that allow us to deal with pieces data that are incorrect or missing in a dataset (for example, faulty measurements from equipment etc.).</b></h3>\n",
    "\n",
    "Create a NumPy matrix, that contains numbers between 0 to 50, and put some faulty numbers in a 10 different spots \n",
    "(for example: -100)\n",
    "\n",
    "Use a masked array to handle the -100 values in your matrix. Replace every -100 with 0.\n"
   ]
  },
  {
   "cell_type": "code",
   "execution_count": null,
   "metadata": {},
   "outputs": [],
   "source": [
    "# advanced extra exercise 2\n"
   ]
  },
  {
   "attachments": {},
   "cell_type": "markdown",
   "metadata": {},
   "source": [
    "<h3><b>3. argsort is a feature of NumPy  that allows you to sort a NumPy array based on another NumPy array. </b></h3>\n",
    "\n",
    "This is useful if you have two separate arrays, but their data  should be in sync even if order of data is changed. For example, one array contains the prices of cars, and another contains the manufacturing years. If we wish to sort the data by manufacturing years, and keep the prices in sync as well, argsort will be handy.\n",
    "\n",
    "Useful link:\n",
    "http://arogozhnikov.github.io/2015/09/29/NumpyTipsAndTricks1.html\n",
    "\n",
    "Create two random datasets:\n",
    "\n",
    "- Manufacturing years of 10 cars, values between 2010 and 2020\n",
    "\n",
    "- Selling price of 10 cars, prices between 2000€ and 60000€\n",
    "\n",
    "Use argsort to sort both datasets according to manufacturing years.\n"
   ]
  },
  {
   "cell_type": "code",
   "execution_count": null,
   "metadata": {},
   "outputs": [],
   "source": [
    "# advanced extra exercise 3\n"
   ]
  },
  {
   "attachments": {},
   "cell_type": "markdown",
   "metadata": {},
   "source": [
    "<h3><b>4. Try out the following additional NumPy features, and discuss in your code comments or in Jupyter Notebook text where they could be useful. You can also Google and search for ideas where these could be used. </b></h3>\n",
    "\n",
    "You can write your thoughts as comments in the code or Jupyter text as you try out each feature.\n",
    "\n",
    "- np.repeat()\n",
    "\n",
    "- np.ravel()\n",
    "\n",
    "- np.hsplit(), np.vsplit(), np.hstack, np.vstack()\n",
    "\n",
    "- np.transpose()\n",
    "\n",
    "- np.round()\n",
    "\n",
    "- np.expand_dims(), np.squeeze()\n",
    "\n",
    "- np.digitize()\n",
    "\n",
    "\n"
   ]
  },
  {
   "cell_type": "code",
   "execution_count": null,
   "metadata": {},
   "outputs": [],
   "source": [
    "# advanced extra exercise 4\n"
   ]
  }
 ],
 "metadata": {
  "kernelspec": {
   "display_name": "Python 3 (ipykernel)",
   "language": "python",
   "name": "python3"
  },
  "language_info": {
   "codemirror_mode": {
    "name": "ipython",
    "version": 3
   },
   "file_extension": ".py",
   "mimetype": "text/x-python",
   "name": "python",
   "nbconvert_exporter": "python",
   "pygments_lexer": "ipython3",
   "version": "3.10.11"
  }
 },
 "nbformat": 4,
 "nbformat_minor": 4
}
