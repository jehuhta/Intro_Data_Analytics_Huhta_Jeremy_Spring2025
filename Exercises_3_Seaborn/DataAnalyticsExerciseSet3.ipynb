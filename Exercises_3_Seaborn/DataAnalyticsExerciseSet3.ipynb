{
 "cells": [
  {
   "attachments": {},
   "cell_type": "markdown",
   "metadata": {},
   "source": [
    "<h3><b>Introduction to Data Analytics - Exercise set 3 - seaborn-module and data exploration</b></h3>"
   ]
  },
  {
   "attachments": {},
   "cell_type": "markdown",
   "metadata": {},
   "source": [
    "Put all your exercises (Jupyter Notebooks or Python-files) in your course Git-project.<br /><br />\n",
    "<span style=\"font-weight: bold;\">Use either code comments or Jupyter Notebook markdown (text) to document which exercise you are doing and what a certain code section does!</span><br />\n",
    "\n",
    "<span style=\"font-weight: bold;\">Remember: your Jupyter notebook's clarity (how easy it is to read and understand) also affects your scoring!</span><br /><br />\n",
    "<span style=\"font-weight: bold;\">Remember also: \n",
    "<span style=\"font-weight: bold;\">If you use generative AI in any part of any exercise, \n",
    "MENTION IT CLEARLY! </span><br />\n",
    "<span style=\"font-weight: bold;\">(code comments are enough, also mention the prompts used).</span><br /><br />\n",
    "See also the materials discussing the usage of AI in this course!</span><br /><br />\n",
    "\n",
    "\n",
    "You can return all of these exercises in a single Jupyter Notebook, if you wish."
   ]
  },
  {
   "cell_type": "markdown",
   "metadata": {},
   "source": [
    "<h3 style=\"color: red;\">NOTE! <u>Also answer the questions within the exercises either as code comments or markdown text.</u></h3>"
   ]
  },
  {
   "attachments": {},
   "cell_type": "markdown",
   "metadata": {},
   "source": [
    "<h4><b>1. In this exercise, use the 'penguins' dataset from seaborn! </b></h4>\n",
    "<b>-> sns.load_dataset('penguins')\n",
    "</b>\n"
   ]
  },
  {
   "cell_type": "code",
   "execution_count": null,
   "metadata": {},
   "outputs": [],
   "source": [
    "# you can import numpy and pandas here\n",
    "# and also load the needed dataset"
   ]
  },
  {
   "attachments": {},
   "cell_type": "markdown",
   "metadata": {},
   "source": [
    "<ul>\n",
    "<li>Create a pair plot of the data</li>\n",
    "<ul>\n",
    "    <li style=\"color: red; font-weight: bold;\">What correlations can you immediately see?</li>\n",
    "    <li><b>Bonus extra task:</b> check out the correlation matrix for this dataset too</li>\n",
    "</ul>\n",
    "</ul>"
   ]
  },
  {
   "cell_type": "code",
   "execution_count": null,
   "metadata": {},
   "outputs": [],
   "source": [
    "# code here"
   ]
  },
  {
   "attachments": {},
   "cell_type": "markdown",
   "metadata": {},
   "source": [
    "<li>Use hue for the \"island\" column, <span style=\"color: red; font-weight: bold;\">what can you see in the data this way?</span></li>"
   ]
  },
  {
   "cell_type": "code",
   "execution_count": null,
   "metadata": {},
   "outputs": [],
   "source": [
    "# code here"
   ]
  },
  {
   "attachments": {},
   "cell_type": "markdown",
   "metadata": {},
   "source": [
    "<ul>\n",
    "    <li>Find the amount of penguins on each island by using pandas (<b>value_counts()</b>). <span style=\"color: red; font-weight: bold;\">Which island is different or not in balance when compared to others?</span></li>\n",
    "    <ul>\n",
    "        <li><b>Small extra task:</b> visualize the counts with a bar plot</li>\n",
    "    </ul>\n",
    "</ul>"
   ]
  },
  {
   "cell_type": "code",
   "execution_count": null,
   "metadata": {},
   "outputs": [],
   "source": [
    "# code here"
   ]
  },
  {
   "attachments": {},
   "cell_type": "markdown",
   "metadata": {},
   "source": [
    "<ul>\n",
    "    <li>Create now another pair plot, and use hue for the \"species\" –column</li>\n",
    "    <ul>\n",
    "        <li style=\"color: red; font-weight: bold;\">Is there a difference in the distributions when using hue for the islands instead?</li>\n",
    "        <li><b>Bonus task:</b> <span style=\"color: red; font-weight: bold;\">How much does the \"sex\"-column affect the result?</span> (MALE / FEMALE)</li>\n",
    "    </ul>\n",
    "</ul>"
   ]
  },
  {
   "cell_type": "code",
   "execution_count": 1,
   "metadata": {},
   "outputs": [],
   "source": [
    "# code here"
   ]
  },
  {
   "attachments": {},
   "cell_type": "markdown",
   "metadata": {},
   "source": [
    "<ul>\n",
    "    <li>Create a scatter plot for <b><i>bill_length_mm</i></b> and <b><i>flipper_length_mm</i></b>, use species as hue (try also island as hue)</li>\n",
    "    <ul>\n",
    "        <li style=\"color: red; font-weight: bold;\">Which affects the result more, species or island?</li> \n",
    "    </ul>\n",
    "</ul>"
   ]
  },
  {
   "cell_type": "code",
   "execution_count": null,
   "metadata": {},
   "outputs": [],
   "source": [
    "# code here"
   ]
  },
  {
   "attachments": {},
   "cell_type": "markdown",
   "metadata": {},
   "source": [
    "<ul>\n",
    "    <li>Use box plots, violin plots or swarm plots:</li>\n",
    "    <ul>\n",
    "        <li>inspect the following information:</li>\n",
    "        <ul>\n",
    "            <li><b></i>flipper_length_mm</i></b></li>\n",
    "            <li><b></i>bill_length_mm</i></b></li>\n",
    "            <li><b></i>body_mass_g</i></b></li>\n",
    "        </ul>\n",
    "        <li>hue = island,  x= species</li>\n",
    "        <ul>\n",
    "            <li style=\"color: red; font-weight: bold;\">What interesting insights/findings can you see in the data this way? </li>\n",
    "            <li style=\"color: darkred; font-weight: bold;\">Or in other words: \"how the data works regarding the variables above?\" </li>\n",
    "        </ul>\n",
    "    </ul>\n",
    "</ul>"
   ]
  },
  {
   "cell_type": "code",
   "execution_count": null,
   "metadata": {},
   "outputs": [],
   "source": [
    "# code here"
   ]
  },
  {
   "attachments": {},
   "cell_type": "markdown",
   "metadata": {},
   "source": [
    "<img src=\"http://srv.plab.fi/~tuomasv/data_analytics_2023_images/exercise_set_3/penguins.png\" />\n"
   ]
  },
  {
   "attachments": {},
   "cell_type": "markdown",
   "metadata": {},
   "source": [
    "<h4><b>2. In this exercise, use the 'mpg' dataset from seaborn! </b></h4>\n",
    "<b>-> sns.load_dataset('mpg')</b>\n",
    "<p>\n",
    "mpg stands for \"miles per gallon\", which is a common way to represent fuel consumption in USA.\n",
    "</p>\n"
   ]
  },
  {
   "attachments": {},
   "cell_type": "markdown",
   "metadata": {},
   "source": [
    "<b>Clean up the data (instructions and tasks below)</b>"
   ]
  },
  {
   "attachments": {},
   "cell_type": "markdown",
   "metadata": {},
   "source": [
    "<ul>\n",
    "<li>Create a new column: <b>\"liters_per_100km\"</b> , which converts the mpg to liters per 100 km</li>\n",
    "<ul>\n",
    "<li>You can Google the conversion formula easily: \"miles per gallon to liters per 100km\" or \"How do you convert MPG to l 100km?\"\n",
    "</li>\n",
    "<li>remove the original mpg –column after this</li>\n",
    "</ul>\n",
    "\n",
    "</ul>"
   ]
  },
  {
   "cell_type": "code",
   "execution_count": null,
   "metadata": {},
   "outputs": [],
   "source": [
    "# code here"
   ]
  },
  {
   "attachments": {},
   "cell_type": "markdown",
   "metadata": {},
   "source": [
    "<li>Remove the \"name\" -column</li>"
   ]
  },
  {
   "cell_type": "code",
   "execution_count": null,
   "metadata": {},
   "outputs": [],
   "source": [
    "# code here"
   ]
  },
  {
   "attachments": {},
   "cell_type": "markdown",
   "metadata": {},
   "source": [
    "<ul>\n",
    "<li>After this, create a correlation matrix. There are two\n",
    "columns that do not correlate as much as the others,\n",
    "remove these two from the dataset <span style=\"color: red; font-weight: bold;\">(mention also which columns you decided to remove and why)</span></li>\n",
    "<ul>\n",
    "<li style=\"font-weight: bold;\">Create also a heatmap of the correlation matrix after you remove the two unneeded columns</li>\n",
    "</ul>\n",
    "</ul>"
   ]
  },
  {
   "cell_type": "code",
   "execution_count": 2,
   "metadata": {},
   "outputs": [],
   "source": [
    "# code here"
   ]
  },
  {
   "attachments": {},
   "cell_type": "markdown",
   "metadata": {},
   "source": [
    "<ul>\n",
    "<li>There are three different columns that are strongly\n",
    "connected to the car's efficiency (both power and\n",
    "consumption), select one of them and remove the others\n",
    "from the dataset\n",
    "</li>\n",
    "<ul>\n",
    "<li style=\"color: red; font-weight: bold;\">Which column is the best selection to indicate the\n",
    "car’s efficiency, and why? (cylinders, horsepower or\n",
    "displacement/engine size)</li>\n",
    "<li style=\"color: darkred; font-weight: bold;\">Remember: look at the big picture, also compare how well the variables correlate to other variables than just the consumption (= which variable has the best overall effect towards all variables)</li>\n",
    "</ul>\n",
    "</ul>"
   ]
  },
  {
   "cell_type": "code",
   "execution_count": 1,
   "metadata": {},
   "outputs": [],
   "source": [
    "# code here"
   ]
  },
  {
   "attachments": {},
   "cell_type": "markdown",
   "metadata": {},
   "source": [
    "<ul>\n",
    "    <li><b>Finally, use the pair plot and hue (origin)</b></li>\n",
    "    <ul>\n",
    "        <li style=\"color: red; font-weight: bold;\">Which origin country tends have bigger fuel consumption in\n",
    "cars?</li>\n",
    "<li><span style=\"color: red; font-weight: bold;\">Which is generally the origin with lowest consumption?</span>\n",
    "(more specific plots might be a good idea here, for example:\n",
    "box plot, scatter plot etc., pandas functions are helpful too!)</li>\n",
    "<li style=\"color: red; font-weight: bold;\">What other features the cars seem to have that result into\n",
    "bigger or lower consumption?</li>\n",
    "    </ul>\n",
    "</ul>"
   ]
  },
  {
   "cell_type": "code",
   "execution_count": null,
   "metadata": {},
   "outputs": [],
   "source": [
    "# code here"
   ]
  },
  {
   "attachments": {},
   "cell_type": "markdown",
   "metadata": {},
   "source": [
    "<img src=\"http://srv.plab.fi/~tuomasv/data_analytics_2023_images/exercise_set_3/mpg.png\" />\n"
   ]
  },
  {
   "attachments": {},
   "cell_type": "markdown",
   "metadata": {},
   "source": [
    "<h4><b>3. csv-data, pandas and seaborn, groceries data</b></h4>\n"
   ]
  },
  {
   "attachments": {},
   "cell_type": "markdown",
   "metadata": {},
   "source": [
    "<p>\n",
    "This dataset has been downloaded from <b><i>kaggle.com</i></b>.<br />\n",
    "Download the \"groceries.csv\" from Moodle.\n",
    "<br /><br />\n",
    "Load the data by using pandas. (read_csv() etc.)\n",
    "<br /><br />\n",
    "\n",
    "<b>Note:</b> since this is an actual dataset from the internet, the data is in quite a rough format.\n",
    "\n",
    "</p>"
   ]
  },
  {
   "attachments": {},
   "cell_type": "markdown",
   "metadata": {},
   "source": [
    "<li>If you take a look at the data, you will notice three columns have NaN –\n",
    "values. You can either remove these columns all together, or you can fill\n",
    "the missing values with average values of that column. For example, for\n",
    "the Fish -column you could do something like this:<br /><br />\n",
    "\n",
    "<b>df.fillna({'Fish': df['Fish'].mean()}, inplace=True)</b><br /><br />\n",
    "In this case, food is the name of the DataFrame we just got from the csv-file. Do this same operation to the two other columns with missing\n",
    "values.</li>"
   ]
  },
  {
   "cell_type": "code",
   "execution_count": null,
   "metadata": {},
   "outputs": [],
   "source": [
    "# handle incomplete rows here, justify your approach on how you handled them"
   ]
  },
  {
   "attachments": {},
   "cell_type": "markdown",
   "metadata": {},
   "source": [
    "<ul>\n",
    "<li>In this data, the date column is a bit difficult to use, since it's not\n",
    "completely in numerical format. Split the Month-column so, that you\n",
    "have two different columns: Month and Year</li>\n",
    "<ul>\n",
    "<li>For month, use a numeric format 1-12</li>\n",
    "<li>For year, use the full year 1990-2020</li>\n",
    "<li>Check out the examples in Moodle, this one is a bit tricky, but\n",
    "very neat to know how it's done!</li>\n",
    "</ul>\n",
    "</ul>"
   ]
  },
  {
   "cell_type": "code",
   "execution_count": null,
   "metadata": {},
   "outputs": [],
   "source": [
    "# code here"
   ]
  },
  {
   "attachments": {},
   "cell_type": "markdown",
   "metadata": {},
   "source": [
    "<li>After the cleanups, create a correlation matrix of the data. Create a heatmap on the correlations as well.\n",
    "<br /><br />\n",
    "<span style=\"color: red; font-weight: bold;\">Which grocery stands out?</span> (i.e. there seems to be one grocery item\n",
    "whose price doesn't follow other groceries at all)\n",
    "</li>"
   ]
  },
  {
   "cell_type": "code",
   "execution_count": 2,
   "metadata": {},
   "outputs": [],
   "source": [
    "# code here"
   ]
  },
  {
   "attachments": {},
   "cell_type": "markdown",
   "metadata": {},
   "source": [
    "<li style=\"color: red; font-weight: bold;\">Which groceries seem to correlate to each other's prices? What do they have in common?</li>"
   ]
  },
  {
   "cell_type": "code",
   "execution_count": null,
   "metadata": {},
   "outputs": [],
   "source": [
    "# code here"
   ]
  },
  {
   "attachments": {},
   "cell_type": "markdown",
   "metadata": {},
   "source": [
    "<b>Bonus task:</b>\n",
    "<p>Sometimes data can also reflect history! For example, \"Corn\" and some\n",
    "other foods seem to have a notable peak in its price in one of the years.\n",
    "Find this year, and Google if you can find a reason for the price peak (for\n",
    "example, search: \"us corn expensive XXXX\". <span style=\"color: red; font-weight: bold;\">Can you find any other food\n",
    "that has relation to a real world event in a similar in this dataset?</span></p>\n",
    "<p><b>Tip:</b> use pivot table and heatmap! Remember also, the first year in the\n",
    "dataset might show as blank white, that means there's no data. You\n",
    "should also split the date</p>\n",
    "<br />\n",
    "<img src=\"http://srv.plab.fi/~tuomasv/data_analytics_2023_images/exercise_set_3/food.png\" />\n"
   ]
  },
  {
   "cell_type": "markdown",
   "metadata": {},
   "source": [
    "<h4><b>4. csv-data, pandas and seaborn, mobile phone data, regression plots</b></h4>\n"
   ]
  },
  {
   "cell_type": "markdown",
   "metadata": {},
   "source": [
    "<p>This dataset has been downloaded from <b><i>kaggle.com</i></b> and modified. <br />\n",
    "Download the \"mobilephones.csv\" from Moodle.  Load the data by using pandas.  (read_csv() etc.)</p>\n",
    "\n",
    "<p>\n",
    "Regression plots (<b>lmplot()</b> in seaborn) are often extremely useful in finding more insight and \"hidden connections\" in your data. </p>\n",
    "\n",
    "<p>\n",
    "Remember to also check out the confidence interval, if it's wide around the regression line = there's usually fluctuation within the values. <br />Narrow line => the linear connection is quite evident.</p>\n"
   ]
  },
  {
   "cell_type": "markdown",
   "metadata": {},
   "source": [
    "<b>With the mobile phone data, do the following:</b>"
   ]
  },
  {
   "cell_type": "markdown",
   "metadata": {},
   "source": [
    "<ul>\n",
    "\n",
    "<li>Use regression plot for RAM and Price, no hue</li>\n",
    "<ul>\n",
    "    <li style=\"color: red; font-weight: bold;\">What is the correlation based on the regression line?</li>\n",
    "</ul>\n",
    "\n",
    "\n",
    "\n",
    "</ul>"
   ]
  },
  {
   "cell_type": "code",
   "execution_count": null,
   "metadata": {},
   "outputs": [],
   "source": [
    "# code here"
   ]
  },
  {
   "cell_type": "markdown",
   "metadata": {},
   "source": [
    "<ul>\n",
    "<li>Use regression plot for RAM and Price, hue on Brand</li>\n",
    "<ul>\n",
    "    <li style=\"color: red; font-weight: bold;\">How is the correlation different when compared to without hue?</li>\n",
    "</ul>\n",
    "</ul>"
   ]
  },
  {
   "cell_type": "code",
   "execution_count": null,
   "metadata": {},
   "outputs": [],
   "source": [
    "# code here"
   ]
  },
  {
   "cell_type": "markdown",
   "metadata": {},
   "source": [
    "<ul>\n",
    "<li>Use regression plot for BatteryCapacity and Price, no hue</li>\n",
    "<ul>\n",
    "    <li style=\"color: red; font-weight: bold;\">What is the correlation based on the regression line?</li>\n",
    "</ul>\n",
    "\n",
    "\n",
    "</ul>"
   ]
  },
  {
   "cell_type": "code",
   "execution_count": null,
   "metadata": {},
   "outputs": [],
   "source": [
    "# code here"
   ]
  },
  {
   "cell_type": "markdown",
   "metadata": {},
   "source": [
    "<ul>\n",
    "<li>Use regression plot for BatteryCapacity and Price, hue on Brand</li>\n",
    "<ul>\n",
    "    <li style=\"color: red; font-weight: bold;\">How is the correlation different when compared to without hue?</li>\n",
    "</ul>\n",
    "</ul>"
   ]
  },
  {
   "cell_type": "code",
   "execution_count": null,
   "metadata": {},
   "outputs": [],
   "source": [
    "# code here"
   ]
  },
  {
   "cell_type": "markdown",
   "metadata": {},
   "source": [
    "<ul>\n",
    "<li><b>Bonus task:</b> Use regression plot for ScreenSize and Price, without and with hue on Brand</li>\n",
    "<ul>\n",
    "    <li style=\"color: red; font-weight: bold;\">Compare the correlations with and without hue. Is there a difference?</li>\n",
    "</ul>\n",
    "</ul>"
   ]
  },
  {
   "cell_type": "code",
   "execution_count": null,
   "metadata": {},
   "outputs": [],
   "source": [
    "# optional bonus task code here"
   ]
  },
  {
   "cell_type": "markdown",
   "metadata": {},
   "source": [
    "<img src=\"http://srv.plab.fi/~tuomasv/data_analytics_2023_images/exercise_set_3/mobilephone.png\" />"
   ]
  },
  {
   "attachments": {},
   "cell_type": "markdown",
   "metadata": {},
   "source": [
    "\n",
    "<h2><b>Advanced extra tasks for extra points (varying challenges, some require Googling):</b></h2>"
   ]
  },
  {
   "attachments": {},
   "cell_type": "markdown",
   "metadata": {},
   "source": [
    "<ul>\n",
    "<li>1. <b>seaborn:</b> Try out Boxenplot and/or Dendrogram in any of the previous\n",
    "dataset exercises. Do these plot types provide some interesting info on\n",
    "the data? (Google for examples on these plot types)</li>\n",
    "<ul>\n",
    "<li>You may also consider some other plots, for example:\n",
    "<b>displot, catplot, relplot</b></li>\n",
    "</ul>\n",
    "</ul>"
   ]
  },
  {
   "cell_type": "code",
   "execution_count": 3,
   "metadata": {},
   "outputs": [],
   "source": [
    "# code for the advanced extra task"
   ]
  },
  {
   "attachments": {},
   "cell_type": "markdown",
   "metadata": {},
   "source": [
    "<ul>\n",
    "<li><b>2. Use the \"titanic\" dataset from the seaborn datasets\n",
    "(sns.load_dataset('titanic')).</b> Find out the features of a typical person\n",
    "that survived or did not survive the sinking of Titanic.</li>\n",
    "</ul>\n",
    "\n",
    "<img src=\"http://srv.plab.fi/~tuomasv/data_analytics_2023_images/exercise_set_3/titanic.png\"/>"
   ]
  },
  {
   "cell_type": "code",
   "execution_count": 1,
   "metadata": {},
   "outputs": [],
   "source": [
    "# code for the advanced extra task, you can also create a separate notebook for this \n",
    "# (might be a better idea, since a new dataset always adds quite much new code)"
   ]
  },
  {
   "attachments": {},
   "cell_type": "markdown",
   "metadata": {},
   "source": [
    "<li><b>3. Use the \"taxis\" dataset from the seaborn datasets\n",
    "(sns.load_dataset('taxis')).</b> Find out any correlations or interesting\n",
    "behaviors based on any columns in the data (color, payment,\n",
    "pickup_borough, dropoff_borough etc.)\n",
    "<br /><br />\n",
    "\n",
    "<b>Notes and ideas to try out:</b><br />\n",
    "Consider removing the pickup_zone and dropoff_zone, since there are\n",
    "way too many alternatives. Borough is the larger area in question, which\n",
    "can be helpful while grouping data (hue!)<br /><br />\n",
    "How about pickup and dropoff times, should they be modified? From\n",
    "taxi point of view, is the weekday and time of day (morning, day,\n",
    "evening, night) more interesting than the actual dates?\n",
    "<br /><br />\n",
    "These are just ideas, you're free to come up with your own ideas\n",
    "regarding the data!</li>\n",
    "<br />\n",
    "<img src=\"http://srv.plab.fi/~tuomasv/data_analytics_2023_images/exercise_set_3/taxis.png\"/>\n"
   ]
  },
  {
   "cell_type": "code",
   "execution_count": null,
   "metadata": {},
   "outputs": [],
   "source": [
    "# code for the advanced extra task, you can also create a separate notebook for this \n",
    "# (might be a better idea, since a new dataset always adds quite much new code)"
   ]
  },
  {
   "attachments": {},
   "cell_type": "markdown",
   "metadata": {},
   "source": [
    "<ul>\n",
    "<li><b>4. Try out any of the previous examples and exercises by using any or many\n",
    "of the following additional plotting libraries:<br /><br />\n",
    "</li>\n",
    "<ul>\n",
    "<li><b>Matplotlib (this is the most common in addition to seaborn,\n",
    "especially regarding machine learning, recommended to learn)</b><br />\n",
    "<a href=\"https://matplotlib.org/stable/tutorials/index.html#introductory\">https://matplotlib.org/stable/tutorials/index.html#introductory</a><br /><br /></li>\n",
    "<li><b>Plotly</b><br />\n",
    "<a href=\"https://plotly.com/python/getting-started/\">https://plotly.com/python/getting-started/</a><br /><br /></li>\n",
    "<li><b>Bokeh</b><br /><a href=\"https://docs.bokeh.org/en/latest/docs/user_guide.html\">https://docs.bokeh.org/en/latest/docs/user_guide.html</a>\n",
    "<br /><br /></li>\n",
    "</ul>\n",
    "</ul>\n",
    "<img src=\"http://srv.plab.fi/~tuomasv/data_analytics_2023_images/exercise_set_3/charts.png\" />"
   ]
  },
  {
   "cell_type": "code",
   "execution_count": null,
   "metadata": {},
   "outputs": [],
   "source": [
    "# code for the advanced extra task, you can also create a separate notebook for this \n",
    "# (might be a better idea, since a new dataset always adds quite much new code)"
   ]
  },
  {
   "attachments": {},
   "cell_type": "markdown",
   "metadata": {},
   "source": [
    "<ul>\n",
    "<li><b>5. Try out any of the datasets below, or find yourself an interesting csvdataset from kaggle.com!  </b><br>\n",
    "\n",
    "Use all your skills in numpy, pandas and seaborn, and find out features in\n",
    "the data. <br ><br />\n",
    "<b>Was there something that is surprising in the dataset? What\n",
    "interesting correlations did you find?</b>\n",
    "<br><br>\n",
    "<b>Some interesting datasets, examples (you can find you own too!):</b>\n",
    "</li>\n",
    "<ul>\n",
    "<li><a href=\"https://www.kaggle.com/anamvillalpando/world-happiness-ranking\">https://www.kaggle.com/anamvillalpando/world-happiness-ranking</a></li>\n",
    "<li><a href=\"https://www.kaggle.com/sakshigoyal7/credit-card-customers\">https://www.kaggle.com/sakshigoyal7/credit-card-customers</a></li>\n",
    "<li><a href=\"https://www.kaggle.com/lucabasa/dutch-energy\">https://www.kaggle.com/lucabasa/dutch-energy</a></li>\n",
    "<li><a href=\"https://www.kaggle.com/yamaerenay/spotify-dataset-19212020-160k-tracks?select=data_w_genres.csv\">https://www.kaggle.com/yamaerenay/spotify-dataset-19212020-160k-tracks?select=data_w_genres.csv</a></li>\n",
    "<li><a href=\"https://www.kaggle.com/kboghe/android-apps-metadata?select=Android+apps+csv.csv\">https://www.kaggle.com/kboghe/android-apps-metadata?select=Android+apps+csv.csv</a></li>\n",
    "<li><a href=\"https://www.kaggle.com/sudalairajkumar/cryptocurrencypricehistory?select=coin_Bitcoin.csv\">https://www.kaggle.com/sudalairajkumar/cryptocurrencypricehistory?select=coin_Bitcoin.csv</a><br /><br /></li>\n",
    "</ul>\n",
    "<li><b>Note:</b> These datasets can be quite rough to handle at first, feel free to\n",
    "ask tips from your instructor if some dataset interests you!</li>\n",
    "</ul>\n",
    "\n",
    "<img src=\"http://srv.plab.fi/~tuomasv/data_analytics_2023_images/exercise_set_2/es2_5.png\" />"
   ]
  },
  {
   "cell_type": "code",
   "execution_count": null,
   "metadata": {},
   "outputs": [],
   "source": [
    "# do any Kaggle.com -related extra tasks in their own Jupyter notebooks for easier coding"
   ]
  },
  {
   "cell_type": "markdown",
   "metadata": {},
   "source": []
  }
 ],
 "metadata": {
  "kernelspec": {
   "display_name": ".venv",
   "language": "python",
   "name": "python3"
  },
  "language_info": {
   "codemirror_mode": {
    "name": "ipython",
    "version": 3
   },
   "file_extension": ".py",
   "mimetype": "text/x-python",
   "name": "python",
   "nbconvert_exporter": "python",
   "pygments_lexer": "ipython3",
   "version": "3.9.13"
  },
  "orig_nbformat": 4,
  "vscode": {
   "interpreter": {
    "hash": "7b393597a1a01400f99fd0b0bd7e53e32f7c09a6c4e3f1d7dcfe73f5e3a50c61"
   }
  }
 },
 "nbformat": 4,
 "nbformat_minor": 2
}
