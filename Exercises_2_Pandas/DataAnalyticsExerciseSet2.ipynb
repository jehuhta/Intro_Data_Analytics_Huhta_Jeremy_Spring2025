{
 "cells": [
  {
   "attachments": {},
   "cell_type": "markdown",
   "metadata": {},
   "source": [
    "<h3><b>Introduction to Data Analytics - Exercise set 2 - pandas-module</b></h3>"
   ]
  },
  {
   "attachments": {},
   "cell_type": "markdown",
   "metadata": {},
   "source": [
    "Put all your exercises (Jupyter Notebooks or Python-files) in your course Git-project.<br /><br />\n",
    "<span style=\"font-weight: bold;\">Use either code comments or Jupyter Notebook markdown (text) to document which exercise you are doing and what a certain code section does!</span><br />\n",
    "\n",
    "<span style=\"font-weight: bold;\">Remember: your Jupyter notebook's clarity (how easy it is to read and understand) also affects your scoring!</span><br /><br />\n",
    "<span style=\"font-weight: bold;\">Remember also: \n",
    "<span style=\"font-weight: bold;\">If you use generative AI in any part of any exercise, \n",
    "MENTION IT CLEARLY! </span><br />\n",
    "<span style=\"font-weight: bold;\">(code comments are enough, also mention the prompts used).</span><br /><br />\n",
    "See also the materials discussing the usage of AI in this course!</span><br /><br />\n",
    "\n",
    "\n",
    "You can return all of these exercises in a single Jupyter Notebook, if you wish."
   ]
  },
  {
   "attachments": {},
   "cell_type": "markdown",
   "metadata": {},
   "source": [
    "<b>The datasets for these exercises have been collected from kaggle.com<br />\n",
    "(a service providing different datasets for practice)</b>\n",
    "\n",
    "<img src=\"http://srv.plab.fi/~tuomasv/data_analytics_2023_images/exercise_set_2/es2_1.png\" />"
   ]
  },
  {
   "attachments": {},
   "cell_type": "markdown",
   "metadata": {},
   "source": [
    "<h4><b>1. import pandas and read the csv-file found in Moodle (loans.csv). Use Python coding with pandas to answer the questions.</b></h4>\n"
   ]
  },
  {
   "cell_type": "code",
   "execution_count": 245,
   "metadata": {},
   "outputs": [
    {
     "data": {
      "text/html": [
       "<div>\n",
       "<style scoped>\n",
       "    .dataframe tbody tr th:only-of-type {\n",
       "        vertical-align: middle;\n",
       "    }\n",
       "\n",
       "    .dataframe tbody tr th {\n",
       "        vertical-align: top;\n",
       "    }\n",
       "\n",
       "    .dataframe thead th {\n",
       "        text-align: right;\n",
       "    }\n",
       "</style>\n",
       "<table border=\"1\" class=\"dataframe\">\n",
       "  <thead>\n",
       "    <tr style=\"text-align: right;\">\n",
       "      <th></th>\n",
       "      <th>Loan ID</th>\n",
       "      <th>Customer ID</th>\n",
       "      <th>Loan Status</th>\n",
       "      <th>Current Loan Amount</th>\n",
       "      <th>Term</th>\n",
       "      <th>Credit Score</th>\n",
       "      <th>Annual Income</th>\n",
       "      <th>Years in current job</th>\n",
       "      <th>Home Ownership</th>\n",
       "      <th>Purpose</th>\n",
       "      <th>Monthly Debt</th>\n",
       "      <th>Years of Credit History</th>\n",
       "      <th>Months since last delinquent</th>\n",
       "      <th>Number of Open Accounts</th>\n",
       "      <th>Number of Credit Problems</th>\n",
       "      <th>Current Credit Balance</th>\n",
       "      <th>Maximum Open Credit</th>\n",
       "      <th>Bankruptcies</th>\n",
       "      <th>Tax Liens</th>\n",
       "    </tr>\n",
       "  </thead>\n",
       "  <tbody>\n",
       "    <tr>\n",
       "      <th>0</th>\n",
       "      <td>14dd8831-6af5-400b-83ec-68e61888a048</td>\n",
       "      <td>981165ec-3274-42f5-a3b4-d104041a9ca9</td>\n",
       "      <td>Fully Paid</td>\n",
       "      <td>445412.0</td>\n",
       "      <td>Short Term</td>\n",
       "      <td>709.0</td>\n",
       "      <td>1167493.0</td>\n",
       "      <td>8 years</td>\n",
       "      <td>Home Mortgage</td>\n",
       "      <td>Home Improvements</td>\n",
       "      <td>5214.74</td>\n",
       "      <td>17.2</td>\n",
       "      <td>NaN</td>\n",
       "      <td>6.0</td>\n",
       "      <td>1.0</td>\n",
       "      <td>228190.0</td>\n",
       "      <td>416746.0</td>\n",
       "      <td>1.0</td>\n",
       "      <td>0.0</td>\n",
       "    </tr>\n",
       "    <tr>\n",
       "      <th>1</th>\n",
       "      <td>4771cc26-131a-45db-b5aa-537ea4ba5342</td>\n",
       "      <td>2de017a3-2e01-49cb-a581-08169e83be29</td>\n",
       "      <td>Fully Paid</td>\n",
       "      <td>262328.0</td>\n",
       "      <td>Short Term</td>\n",
       "      <td>NaN</td>\n",
       "      <td>NaN</td>\n",
       "      <td>10+ years</td>\n",
       "      <td>Home Mortgage</td>\n",
       "      <td>Debt Consolidation</td>\n",
       "      <td>33295.98</td>\n",
       "      <td>21.1</td>\n",
       "      <td>8.0</td>\n",
       "      <td>35.0</td>\n",
       "      <td>0.0</td>\n",
       "      <td>229976.0</td>\n",
       "      <td>850784.0</td>\n",
       "      <td>0.0</td>\n",
       "      <td>0.0</td>\n",
       "    </tr>\n",
       "    <tr>\n",
       "      <th>2</th>\n",
       "      <td>4eed4e6a-aa2f-4c91-8651-ce984ee8fb26</td>\n",
       "      <td>5efb2b2b-bf11-4dfd-a572-3761a2694725</td>\n",
       "      <td>Fully Paid</td>\n",
       "      <td>99999999.0</td>\n",
       "      <td>Short Term</td>\n",
       "      <td>741.0</td>\n",
       "      <td>2231892.0</td>\n",
       "      <td>8 years</td>\n",
       "      <td>Own Home</td>\n",
       "      <td>Debt Consolidation</td>\n",
       "      <td>29200.53</td>\n",
       "      <td>14.9</td>\n",
       "      <td>29.0</td>\n",
       "      <td>18.0</td>\n",
       "      <td>1.0</td>\n",
       "      <td>297996.0</td>\n",
       "      <td>750090.0</td>\n",
       "      <td>0.0</td>\n",
       "      <td>0.0</td>\n",
       "    </tr>\n",
       "    <tr>\n",
       "      <th>3</th>\n",
       "      <td>77598f7b-32e7-4e3b-a6e5-06ba0d98fe8a</td>\n",
       "      <td>e777faab-98ae-45af-9a86-7ce5b33b1011</td>\n",
       "      <td>Fully Paid</td>\n",
       "      <td>347666.0</td>\n",
       "      <td>Long Term</td>\n",
       "      <td>721.0</td>\n",
       "      <td>806949.0</td>\n",
       "      <td>3 years</td>\n",
       "      <td>Own Home</td>\n",
       "      <td>Debt Consolidation</td>\n",
       "      <td>8741.90</td>\n",
       "      <td>12.0</td>\n",
       "      <td>NaN</td>\n",
       "      <td>9.0</td>\n",
       "      <td>0.0</td>\n",
       "      <td>256329.0</td>\n",
       "      <td>386958.0</td>\n",
       "      <td>0.0</td>\n",
       "      <td>0.0</td>\n",
       "    </tr>\n",
       "    <tr>\n",
       "      <th>4</th>\n",
       "      <td>d4062e70-befa-4995-8643-a0de73938182</td>\n",
       "      <td>81536ad9-5ccf-4eb8-befb-47a4d608658e</td>\n",
       "      <td>Fully Paid</td>\n",
       "      <td>176220.0</td>\n",
       "      <td>Short Term</td>\n",
       "      <td>NaN</td>\n",
       "      <td>NaN</td>\n",
       "      <td>5 years</td>\n",
       "      <td>Rent</td>\n",
       "      <td>Debt Consolidation</td>\n",
       "      <td>20639.70</td>\n",
       "      <td>6.1</td>\n",
       "      <td>NaN</td>\n",
       "      <td>15.0</td>\n",
       "      <td>0.0</td>\n",
       "      <td>253460.0</td>\n",
       "      <td>427174.0</td>\n",
       "      <td>0.0</td>\n",
       "      <td>0.0</td>\n",
       "    </tr>\n",
       "    <tr>\n",
       "      <th>...</th>\n",
       "      <td>...</td>\n",
       "      <td>...</td>\n",
       "      <td>...</td>\n",
       "      <td>...</td>\n",
       "      <td>...</td>\n",
       "      <td>...</td>\n",
       "      <td>...</td>\n",
       "      <td>...</td>\n",
       "      <td>...</td>\n",
       "      <td>...</td>\n",
       "      <td>...</td>\n",
       "      <td>...</td>\n",
       "      <td>...</td>\n",
       "      <td>...</td>\n",
       "      <td>...</td>\n",
       "      <td>...</td>\n",
       "      <td>...</td>\n",
       "      <td>...</td>\n",
       "      <td>...</td>\n",
       "    </tr>\n",
       "    <tr>\n",
       "      <th>100509</th>\n",
       "      <td>NaN</td>\n",
       "      <td>NaN</td>\n",
       "      <td>NaN</td>\n",
       "      <td>NaN</td>\n",
       "      <td>NaN</td>\n",
       "      <td>NaN</td>\n",
       "      <td>NaN</td>\n",
       "      <td>NaN</td>\n",
       "      <td>NaN</td>\n",
       "      <td>NaN</td>\n",
       "      <td>NaN</td>\n",
       "      <td>NaN</td>\n",
       "      <td>NaN</td>\n",
       "      <td>NaN</td>\n",
       "      <td>NaN</td>\n",
       "      <td>NaN</td>\n",
       "      <td>NaN</td>\n",
       "      <td>NaN</td>\n",
       "      <td>NaN</td>\n",
       "    </tr>\n",
       "    <tr>\n",
       "      <th>100510</th>\n",
       "      <td>NaN</td>\n",
       "      <td>NaN</td>\n",
       "      <td>NaN</td>\n",
       "      <td>NaN</td>\n",
       "      <td>NaN</td>\n",
       "      <td>NaN</td>\n",
       "      <td>NaN</td>\n",
       "      <td>NaN</td>\n",
       "      <td>NaN</td>\n",
       "      <td>NaN</td>\n",
       "      <td>NaN</td>\n",
       "      <td>NaN</td>\n",
       "      <td>NaN</td>\n",
       "      <td>NaN</td>\n",
       "      <td>NaN</td>\n",
       "      <td>NaN</td>\n",
       "      <td>NaN</td>\n",
       "      <td>NaN</td>\n",
       "      <td>NaN</td>\n",
       "    </tr>\n",
       "    <tr>\n",
       "      <th>100511</th>\n",
       "      <td>NaN</td>\n",
       "      <td>NaN</td>\n",
       "      <td>NaN</td>\n",
       "      <td>NaN</td>\n",
       "      <td>NaN</td>\n",
       "      <td>NaN</td>\n",
       "      <td>NaN</td>\n",
       "      <td>NaN</td>\n",
       "      <td>NaN</td>\n",
       "      <td>NaN</td>\n",
       "      <td>NaN</td>\n",
       "      <td>NaN</td>\n",
       "      <td>NaN</td>\n",
       "      <td>NaN</td>\n",
       "      <td>NaN</td>\n",
       "      <td>NaN</td>\n",
       "      <td>NaN</td>\n",
       "      <td>NaN</td>\n",
       "      <td>NaN</td>\n",
       "    </tr>\n",
       "    <tr>\n",
       "      <th>100512</th>\n",
       "      <td>NaN</td>\n",
       "      <td>NaN</td>\n",
       "      <td>NaN</td>\n",
       "      <td>NaN</td>\n",
       "      <td>NaN</td>\n",
       "      <td>NaN</td>\n",
       "      <td>NaN</td>\n",
       "      <td>NaN</td>\n",
       "      <td>NaN</td>\n",
       "      <td>NaN</td>\n",
       "      <td>NaN</td>\n",
       "      <td>NaN</td>\n",
       "      <td>NaN</td>\n",
       "      <td>NaN</td>\n",
       "      <td>NaN</td>\n",
       "      <td>NaN</td>\n",
       "      <td>NaN</td>\n",
       "      <td>NaN</td>\n",
       "      <td>NaN</td>\n",
       "    </tr>\n",
       "    <tr>\n",
       "      <th>100513</th>\n",
       "      <td>NaN</td>\n",
       "      <td>NaN</td>\n",
       "      <td>NaN</td>\n",
       "      <td>NaN</td>\n",
       "      <td>NaN</td>\n",
       "      <td>NaN</td>\n",
       "      <td>NaN</td>\n",
       "      <td>NaN</td>\n",
       "      <td>NaN</td>\n",
       "      <td>NaN</td>\n",
       "      <td>NaN</td>\n",
       "      <td>NaN</td>\n",
       "      <td>NaN</td>\n",
       "      <td>NaN</td>\n",
       "      <td>NaN</td>\n",
       "      <td>NaN</td>\n",
       "      <td>NaN</td>\n",
       "      <td>NaN</td>\n",
       "      <td>NaN</td>\n",
       "    </tr>\n",
       "  </tbody>\n",
       "</table>\n",
       "<p>100514 rows × 19 columns</p>\n",
       "</div>"
      ],
      "text/plain": [
       "                                     Loan ID  \\\n",
       "0       14dd8831-6af5-400b-83ec-68e61888a048   \n",
       "1       4771cc26-131a-45db-b5aa-537ea4ba5342   \n",
       "2       4eed4e6a-aa2f-4c91-8651-ce984ee8fb26   \n",
       "3       77598f7b-32e7-4e3b-a6e5-06ba0d98fe8a   \n",
       "4       d4062e70-befa-4995-8643-a0de73938182   \n",
       "...                                      ...   \n",
       "100509                                   NaN   \n",
       "100510                                   NaN   \n",
       "100511                                   NaN   \n",
       "100512                                   NaN   \n",
       "100513                                   NaN   \n",
       "\n",
       "                                 Customer ID Loan Status  Current Loan Amount  \\\n",
       "0       981165ec-3274-42f5-a3b4-d104041a9ca9  Fully Paid             445412.0   \n",
       "1       2de017a3-2e01-49cb-a581-08169e83be29  Fully Paid             262328.0   \n",
       "2       5efb2b2b-bf11-4dfd-a572-3761a2694725  Fully Paid           99999999.0   \n",
       "3       e777faab-98ae-45af-9a86-7ce5b33b1011  Fully Paid             347666.0   \n",
       "4       81536ad9-5ccf-4eb8-befb-47a4d608658e  Fully Paid             176220.0   \n",
       "...                                      ...         ...                  ...   \n",
       "100509                                   NaN         NaN                  NaN   \n",
       "100510                                   NaN         NaN                  NaN   \n",
       "100511                                   NaN         NaN                  NaN   \n",
       "100512                                   NaN         NaN                  NaN   \n",
       "100513                                   NaN         NaN                  NaN   \n",
       "\n",
       "              Term  Credit Score  Annual Income Years in current job  \\\n",
       "0       Short Term         709.0      1167493.0              8 years   \n",
       "1       Short Term           NaN            NaN            10+ years   \n",
       "2       Short Term         741.0      2231892.0              8 years   \n",
       "3        Long Term         721.0       806949.0              3 years   \n",
       "4       Short Term           NaN            NaN              5 years   \n",
       "...            ...           ...            ...                  ...   \n",
       "100509         NaN           NaN            NaN                  NaN   \n",
       "100510         NaN           NaN            NaN                  NaN   \n",
       "100511         NaN           NaN            NaN                  NaN   \n",
       "100512         NaN           NaN            NaN                  NaN   \n",
       "100513         NaN           NaN            NaN                  NaN   \n",
       "\n",
       "       Home Ownership             Purpose  Monthly Debt  \\\n",
       "0       Home Mortgage   Home Improvements       5214.74   \n",
       "1       Home Mortgage  Debt Consolidation      33295.98   \n",
       "2            Own Home  Debt Consolidation      29200.53   \n",
       "3            Own Home  Debt Consolidation       8741.90   \n",
       "4                Rent  Debt Consolidation      20639.70   \n",
       "...               ...                 ...           ...   \n",
       "100509            NaN                 NaN           NaN   \n",
       "100510            NaN                 NaN           NaN   \n",
       "100511            NaN                 NaN           NaN   \n",
       "100512            NaN                 NaN           NaN   \n",
       "100513            NaN                 NaN           NaN   \n",
       "\n",
       "        Years of Credit History  Months since last delinquent  \\\n",
       "0                          17.2                           NaN   \n",
       "1                          21.1                           8.0   \n",
       "2                          14.9                          29.0   \n",
       "3                          12.0                           NaN   \n",
       "4                           6.1                           NaN   \n",
       "...                         ...                           ...   \n",
       "100509                      NaN                           NaN   \n",
       "100510                      NaN                           NaN   \n",
       "100511                      NaN                           NaN   \n",
       "100512                      NaN                           NaN   \n",
       "100513                      NaN                           NaN   \n",
       "\n",
       "        Number of Open Accounts  Number of Credit Problems  \\\n",
       "0                           6.0                        1.0   \n",
       "1                          35.0                        0.0   \n",
       "2                          18.0                        1.0   \n",
       "3                           9.0                        0.0   \n",
       "4                          15.0                        0.0   \n",
       "...                         ...                        ...   \n",
       "100509                      NaN                        NaN   \n",
       "100510                      NaN                        NaN   \n",
       "100511                      NaN                        NaN   \n",
       "100512                      NaN                        NaN   \n",
       "100513                      NaN                        NaN   \n",
       "\n",
       "        Current Credit Balance  Maximum Open Credit  Bankruptcies  Tax Liens  \n",
       "0                     228190.0             416746.0           1.0        0.0  \n",
       "1                     229976.0             850784.0           0.0        0.0  \n",
       "2                     297996.0             750090.0           0.0        0.0  \n",
       "3                     256329.0             386958.0           0.0        0.0  \n",
       "4                     253460.0             427174.0           0.0        0.0  \n",
       "...                        ...                  ...           ...        ...  \n",
       "100509                     NaN                  NaN           NaN        NaN  \n",
       "100510                     NaN                  NaN           NaN        NaN  \n",
       "100511                     NaN                  NaN           NaN        NaN  \n",
       "100512                     NaN                  NaN           NaN        NaN  \n",
       "100513                     NaN                  NaN           NaN        NaN  \n",
       "\n",
       "[100514 rows x 19 columns]"
      ]
     },
     "execution_count": 245,
     "metadata": {},
     "output_type": "execute_result"
    }
   ],
   "source": [
    "# you can import numpy and pandas here\n",
    "import pandas as pd\n",
    "# and also load the needed csv-file\n",
    "df = pd.read_csv('loans.csv')\n",
    "df"
   ]
  },
  {
   "attachments": {},
   "cell_type": "markdown",
   "metadata": {},
   "source": [
    "<li>Remove the Customer ID –column from data</li>\n",
    "<li>Print the head of the data</li>"
   ]
  },
  {
   "cell_type": "code",
   "execution_count": 246,
   "metadata": {},
   "outputs": [
    {
     "data": {
      "text/html": [
       "<div>\n",
       "<style scoped>\n",
       "    .dataframe tbody tr th:only-of-type {\n",
       "        vertical-align: middle;\n",
       "    }\n",
       "\n",
       "    .dataframe tbody tr th {\n",
       "        vertical-align: top;\n",
       "    }\n",
       "\n",
       "    .dataframe thead th {\n",
       "        text-align: right;\n",
       "    }\n",
       "</style>\n",
       "<table border=\"1\" class=\"dataframe\">\n",
       "  <thead>\n",
       "    <tr style=\"text-align: right;\">\n",
       "      <th></th>\n",
       "      <th>Loan ID</th>\n",
       "      <th>Loan Status</th>\n",
       "      <th>Current Loan Amount</th>\n",
       "      <th>Term</th>\n",
       "      <th>Credit Score</th>\n",
       "      <th>Annual Income</th>\n",
       "      <th>Years in current job</th>\n",
       "      <th>Home Ownership</th>\n",
       "      <th>Purpose</th>\n",
       "      <th>Monthly Debt</th>\n",
       "      <th>Years of Credit History</th>\n",
       "      <th>Months since last delinquent</th>\n",
       "      <th>Number of Open Accounts</th>\n",
       "      <th>Number of Credit Problems</th>\n",
       "      <th>Current Credit Balance</th>\n",
       "      <th>Maximum Open Credit</th>\n",
       "      <th>Bankruptcies</th>\n",
       "      <th>Tax Liens</th>\n",
       "    </tr>\n",
       "  </thead>\n",
       "  <tbody>\n",
       "    <tr>\n",
       "      <th>0</th>\n",
       "      <td>14dd8831-6af5-400b-83ec-68e61888a048</td>\n",
       "      <td>Fully Paid</td>\n",
       "      <td>445412.0</td>\n",
       "      <td>Short Term</td>\n",
       "      <td>709.0</td>\n",
       "      <td>1167493.0</td>\n",
       "      <td>8 years</td>\n",
       "      <td>Home Mortgage</td>\n",
       "      <td>Home Improvements</td>\n",
       "      <td>5214.74</td>\n",
       "      <td>17.2</td>\n",
       "      <td>NaN</td>\n",
       "      <td>6.0</td>\n",
       "      <td>1.0</td>\n",
       "      <td>228190.0</td>\n",
       "      <td>416746.0</td>\n",
       "      <td>1.0</td>\n",
       "      <td>0.0</td>\n",
       "    </tr>\n",
       "    <tr>\n",
       "      <th>1</th>\n",
       "      <td>4771cc26-131a-45db-b5aa-537ea4ba5342</td>\n",
       "      <td>Fully Paid</td>\n",
       "      <td>262328.0</td>\n",
       "      <td>Short Term</td>\n",
       "      <td>NaN</td>\n",
       "      <td>NaN</td>\n",
       "      <td>10+ years</td>\n",
       "      <td>Home Mortgage</td>\n",
       "      <td>Debt Consolidation</td>\n",
       "      <td>33295.98</td>\n",
       "      <td>21.1</td>\n",
       "      <td>8.0</td>\n",
       "      <td>35.0</td>\n",
       "      <td>0.0</td>\n",
       "      <td>229976.0</td>\n",
       "      <td>850784.0</td>\n",
       "      <td>0.0</td>\n",
       "      <td>0.0</td>\n",
       "    </tr>\n",
       "    <tr>\n",
       "      <th>2</th>\n",
       "      <td>4eed4e6a-aa2f-4c91-8651-ce984ee8fb26</td>\n",
       "      <td>Fully Paid</td>\n",
       "      <td>99999999.0</td>\n",
       "      <td>Short Term</td>\n",
       "      <td>741.0</td>\n",
       "      <td>2231892.0</td>\n",
       "      <td>8 years</td>\n",
       "      <td>Own Home</td>\n",
       "      <td>Debt Consolidation</td>\n",
       "      <td>29200.53</td>\n",
       "      <td>14.9</td>\n",
       "      <td>29.0</td>\n",
       "      <td>18.0</td>\n",
       "      <td>1.0</td>\n",
       "      <td>297996.0</td>\n",
       "      <td>750090.0</td>\n",
       "      <td>0.0</td>\n",
       "      <td>0.0</td>\n",
       "    </tr>\n",
       "    <tr>\n",
       "      <th>3</th>\n",
       "      <td>77598f7b-32e7-4e3b-a6e5-06ba0d98fe8a</td>\n",
       "      <td>Fully Paid</td>\n",
       "      <td>347666.0</td>\n",
       "      <td>Long Term</td>\n",
       "      <td>721.0</td>\n",
       "      <td>806949.0</td>\n",
       "      <td>3 years</td>\n",
       "      <td>Own Home</td>\n",
       "      <td>Debt Consolidation</td>\n",
       "      <td>8741.90</td>\n",
       "      <td>12.0</td>\n",
       "      <td>NaN</td>\n",
       "      <td>9.0</td>\n",
       "      <td>0.0</td>\n",
       "      <td>256329.0</td>\n",
       "      <td>386958.0</td>\n",
       "      <td>0.0</td>\n",
       "      <td>0.0</td>\n",
       "    </tr>\n",
       "    <tr>\n",
       "      <th>4</th>\n",
       "      <td>d4062e70-befa-4995-8643-a0de73938182</td>\n",
       "      <td>Fully Paid</td>\n",
       "      <td>176220.0</td>\n",
       "      <td>Short Term</td>\n",
       "      <td>NaN</td>\n",
       "      <td>NaN</td>\n",
       "      <td>5 years</td>\n",
       "      <td>Rent</td>\n",
       "      <td>Debt Consolidation</td>\n",
       "      <td>20639.70</td>\n",
       "      <td>6.1</td>\n",
       "      <td>NaN</td>\n",
       "      <td>15.0</td>\n",
       "      <td>0.0</td>\n",
       "      <td>253460.0</td>\n",
       "      <td>427174.0</td>\n",
       "      <td>0.0</td>\n",
       "      <td>0.0</td>\n",
       "    </tr>\n",
       "  </tbody>\n",
       "</table>\n",
       "</div>"
      ],
      "text/plain": [
       "                                Loan ID Loan Status  Current Loan Amount  \\\n",
       "0  14dd8831-6af5-400b-83ec-68e61888a048  Fully Paid             445412.0   \n",
       "1  4771cc26-131a-45db-b5aa-537ea4ba5342  Fully Paid             262328.0   \n",
       "2  4eed4e6a-aa2f-4c91-8651-ce984ee8fb26  Fully Paid           99999999.0   \n",
       "3  77598f7b-32e7-4e3b-a6e5-06ba0d98fe8a  Fully Paid             347666.0   \n",
       "4  d4062e70-befa-4995-8643-a0de73938182  Fully Paid             176220.0   \n",
       "\n",
       "         Term  Credit Score  Annual Income Years in current job  \\\n",
       "0  Short Term         709.0      1167493.0              8 years   \n",
       "1  Short Term           NaN            NaN            10+ years   \n",
       "2  Short Term         741.0      2231892.0              8 years   \n",
       "3   Long Term         721.0       806949.0              3 years   \n",
       "4  Short Term           NaN            NaN              5 years   \n",
       "\n",
       "  Home Ownership             Purpose  Monthly Debt  Years of Credit History  \\\n",
       "0  Home Mortgage   Home Improvements       5214.74                     17.2   \n",
       "1  Home Mortgage  Debt Consolidation      33295.98                     21.1   \n",
       "2       Own Home  Debt Consolidation      29200.53                     14.9   \n",
       "3       Own Home  Debt Consolidation       8741.90                     12.0   \n",
       "4           Rent  Debt Consolidation      20639.70                      6.1   \n",
       "\n",
       "   Months since last delinquent  Number of Open Accounts  \\\n",
       "0                           NaN                      6.0   \n",
       "1                           8.0                     35.0   \n",
       "2                          29.0                     18.0   \n",
       "3                           NaN                      9.0   \n",
       "4                           NaN                     15.0   \n",
       "\n",
       "   Number of Credit Problems  Current Credit Balance  Maximum Open Credit  \\\n",
       "0                        1.0                228190.0             416746.0   \n",
       "1                        0.0                229976.0             850784.0   \n",
       "2                        1.0                297996.0             750090.0   \n",
       "3                        0.0                256329.0             386958.0   \n",
       "4                        0.0                253460.0             427174.0   \n",
       "\n",
       "   Bankruptcies  Tax Liens  \n",
       "0           1.0        0.0  \n",
       "1           0.0        0.0  \n",
       "2           0.0        0.0  \n",
       "3           0.0        0.0  \n",
       "4           0.0        0.0  "
      ]
     },
     "execution_count": 246,
     "metadata": {},
     "output_type": "execute_result"
    }
   ],
   "source": [
    "# remove the column and print out the head of the DataFrame\n",
    "df = df.drop('Customer ID', axis=1)\n",
    "df.head()"
   ]
  },
  {
   "attachments": {},
   "cell_type": "markdown",
   "metadata": {},
   "source": [
    "<ul>\n",
    "    <li>Remove rows from the data that have <b style=\"color: red;\">a too large of a loan</b> (Current Loan Amount should be less than 99999999)</li>\n",
    "    <ul>\n",
    "        <li><b>Tip:</b> use conditional filtering!</li>\n",
    "    </ul>\n",
    "</ul>"
   ]
  },
  {
   "cell_type": "code",
   "execution_count": 247,
   "metadata": {},
   "outputs": [
    {
     "ename": "TypeError",
     "evalue": "'str' object is not callable",
     "output_type": "error",
     "traceback": [
      "\u001b[1;31m---------------------------------------------------------------------------\u001b[0m",
      "\u001b[1;31mTypeError\u001b[0m                                 Traceback (most recent call last)",
      "Cell \u001b[1;32mIn[247], line 9\u001b[0m\n\u001b[0;32m      6\u001b[0m df \u001b[38;5;241m=\u001b[39m df[loan_amounts \u001b[38;5;241m<\u001b[39m \u001b[38;5;241m99999999\u001b[39m]\n\u001b[0;32m      8\u001b[0m \u001b[38;5;66;03m# Checking to make sure there are no values higher than 999999999.\u001b[39;00m\n\u001b[1;32m----> 9\u001b[0m \u001b[38;5;28;43mprint\u001b[39;49m\u001b[43m(\u001b[49m\u001b[38;5;124;43mf\u001b[39;49m\u001b[38;5;124;43m\"\u001b[39;49m\u001b[38;5;124;43mHighest loan amount: \u001b[39;49m\u001b[38;5;132;43;01m{\u001b[39;49;00m\u001b[43mloan_amounts\u001b[49m\u001b[38;5;241;43m.\u001b[39;49m\u001b[43mmax\u001b[49m\u001b[43m(\u001b[49m\u001b[43m)\u001b[49m\u001b[38;5;132;43;01m}\u001b[39;49;00m\u001b[38;5;124;43m\"\u001b[39;49m\u001b[43m)\u001b[49m\n",
      "\u001b[1;31mTypeError\u001b[0m: 'str' object is not callable"
     ]
    }
   ],
   "source": [
    "# Removing loans that are unreasonable large\n",
    "loan_amounts = df['Current Loan Amount']\n",
    "\n",
    "# Values larger than 999999999 are excluded using conditional\n",
    "# filtering.\n",
    "df = df[loan_amounts < 99999999]\n",
    "\n",
    "# Checking to make sure there are no values higher than 999999999.\n",
    "print(f\"Highest loan amount: {loan_amounts.max()}\")"
   ]
  },
  {
   "attachments": {},
   "cell_type": "markdown",
   "metadata": {},
   "source": [
    "<ul>\n",
    "    <li>Remove rows that have the annual income as NaN (not a number)</li>\n",
    "    <ul>\n",
    "        <li><b>Extra task:</b> use imputation and average income as the value instead of NaN</li>\n",
    "    </ul>\n",
    "</ul>"
   ]
  },
  {
   "cell_type": "code",
   "execution_count": null,
   "metadata": {},
   "outputs": [
    {
     "data": {
      "text/plain": [
       "Loan ID                             0\n",
       "Loan Status                         0\n",
       "Current Loan Amount                 0\n",
       "Term                                0\n",
       "Credit Score                        0\n",
       "Annual Income                       0\n",
       "Years in current job             2984\n",
       "Home Ownership                      0\n",
       "Purpose                             0\n",
       "Monthly Debt                        0\n",
       "Years of Credit History             0\n",
       "Months since last delinquent    36320\n",
       "Number of Open Accounts             0\n",
       "Number of Credit Problems           0\n",
       "Current Credit Balance              0\n",
       "Maximum Open Credit                 1\n",
       "Bankruptcies                      135\n",
       "Tax Liens                           5\n",
       "dtype: int64"
      ]
     },
     "execution_count": 126,
     "metadata": {},
     "output_type": "execute_result"
    }
   ],
   "source": [
    "# remove rows if annual income is NaN\n",
    "\n",
    "# we're going to create a new variable so we keep the\n",
    "# NaN changes in the next exercise.\n",
    "df_subset = df[df['Annual Income'] > 500]\n",
    "\n",
    "# verifying that there is in fact zero NaN values in Annual Income\n",
    "df_subset.isna().sum()\n"
   ]
  },
  {
   "cell_type": "code",
   "execution_count": null,
   "metadata": {},
   "outputs": [
    {
     "name": "stderr",
     "output_type": "stream",
     "text": [
      "C:\\Users\\OWNER\\AppData\\Local\\Temp\\ipykernel_31068\\1160980245.py:5: FutureWarning: A value is trying to be set on a copy of a DataFrame or Series through chained assignment using an inplace method.\n",
      "The behavior will change in pandas 3.0. This inplace method will never work because the intermediate object on which we are setting values always behaves as a copy.\n",
      "\n",
      "For example, when doing 'df[col].method(value, inplace=True)', try using 'df.method({col: value}, inplace=True)' or df[col] = df[col].method(value) instead, to perform the operation inplace on the original object.\n",
      "\n",
      "\n",
      "  df['Annual Income'].fillna((df['Annual Income'].mean()), inplace=True)\n"
     ]
    },
    {
     "data": {
      "text/plain": [
       "Loan ID                             0\n",
       "Loan Status                         0\n",
       "Current Loan Amount                 0\n",
       "Term                                0\n",
       "Credit Score                    19154\n",
       "Annual Income                       0\n",
       "Years in current job             3794\n",
       "Home Ownership                      0\n",
       "Purpose                             0\n",
       "Monthly Debt                        0\n",
       "Years of Credit History             0\n",
       "Months since last delinquent    46788\n",
       "Number of Open Accounts             0\n",
       "Number of Credit Problems           0\n",
       "Current Credit Balance              0\n",
       "Maximum Open Credit                 2\n",
       "Bankruptcies                      177\n",
       "Tax Liens                           9\n",
       "dtype: int64"
      ]
     },
     "execution_count": 127,
     "metadata": {},
     "output_type": "execute_result"
    }
   ],
   "source": [
    "# Extra task, using imputation and mean to replace\n",
    "# the NaN values in Annual Income.\n",
    "\n",
    "# fills all NaN values with the mean of the Annual Income values.\n",
    "df['Annual Income'].fillna((df['Annual Income'].mean()), inplace=True)\n",
    "\n",
    "# checking if there are NaN values present in Annual Income.\n",
    "df.isna().sum()"
   ]
  },
  {
   "attachments": {},
   "cell_type": "markdown",
   "metadata": {},
   "source": [
    "<li>Get the average Current Loan Amount (there are many ways to do this)</li>"
   ]
  },
  {
   "cell_type": "code",
   "execution_count": null,
   "metadata": {},
   "outputs": [
    {
     "name": "stdout",
     "output_type": "stream",
     "text": [
      " The average current loan amount: 312313.6\n"
     ]
    }
   ],
   "source": [
    "# Getting the average loan amount using mean\n",
    "average_current_loan = df['Current Loan Amount'].mean()\n",
    "\n",
    "# Rounded to two decimals because it is currency.\n",
    "print(f\" The average current loan amount: {average_current_loan.round(2)}\")"
   ]
  },
  {
   "attachments": {},
   "cell_type": "markdown",
   "metadata": {},
   "source": [
    "<li>Get the highest and lowest Annual Income in the dataset</li>"
   ]
  },
  {
   "cell_type": "code",
   "execution_count": null,
   "metadata": {},
   "outputs": [
    {
     "name": "stdout",
     "output_type": "stream",
     "text": [
      "The lowest annual income: 76627.0\n",
      "The highest annual income: 165557393.0\n"
     ]
    }
   ],
   "source": [
    "# get highest and lowest annual income in dataset using min() and max()\n",
    "lowest_annual_income = df['Annual Income'].min()\n",
    "highest_annual_income = df['Annual Income'].max()\n",
    "\n",
    "# rounded to two decimals because it is currency.\n",
    "print(f\"The lowest annual income: {lowest_annual_income.round(2)}\")\n",
    "print(f\"The highest annual income: {highest_annual_income.round(2)}\")"
   ]
  },
  {
   "attachments": {},
   "cell_type": "markdown",
   "metadata": {},
   "source": [
    "<li>Get the Home Ownership value of the <b>Loan ID = bbf87a87-22cd-4d10-bd9b-7a9cc1b6e59d</b></li>"
   ]
  },
  {
   "cell_type": "code",
   "execution_count": null,
   "metadata": {},
   "outputs": [
    {
     "name": "stdout",
     "output_type": "stream",
     "text": [
      "491    Own Home\n",
      "Name: Home Ownership, dtype: object\n"
     ]
    }
   ],
   "source": [
    "# Retrieving the Home Ownership value from the given loan ID.\n",
    "\n",
    "# selecting the desired row with the given values.\n",
    "row = df[df[\"Loan ID\"] == 'bbf87a87-22cd-4d10-bd9b-7a9cc1b6e59d']\n",
    "\n",
    "# printing the Home Ownership value of the selected row.\n",
    "print(row[\"Home Ownership\"])"
   ]
  },
  {
   "attachments": {},
   "cell_type": "markdown",
   "metadata": {},
   "source": [
    "<li>Create a new field into your dataset called <b>Actual Annual Income</b>.</li>\n",
    "<br><b>Note:</b> The Actual Annual Income follows this formula:<br>\n",
    "<b style=\"color: green\">Annual Income – 12 * Monthly Debt</b><br><br>\n"
   ]
  },
  {
   "cell_type": "code",
   "execution_count": null,
   "metadata": {},
   "outputs": [
    {
     "data": {
      "text/html": [
       "<div>\n",
       "<style scoped>\n",
       "    .dataframe tbody tr th:only-of-type {\n",
       "        vertical-align: middle;\n",
       "    }\n",
       "\n",
       "    .dataframe tbody tr th {\n",
       "        vertical-align: top;\n",
       "    }\n",
       "\n",
       "    .dataframe thead th {\n",
       "        text-align: right;\n",
       "    }\n",
       "</style>\n",
       "<table border=\"1\" class=\"dataframe\">\n",
       "  <thead>\n",
       "    <tr style=\"text-align: right;\">\n",
       "      <th></th>\n",
       "      <th>Loan ID</th>\n",
       "      <th>Loan Status</th>\n",
       "      <th>Current Loan Amount</th>\n",
       "      <th>Term</th>\n",
       "      <th>Credit Score</th>\n",
       "      <th>Annual Income</th>\n",
       "      <th>Years in current job</th>\n",
       "      <th>Home Ownership</th>\n",
       "      <th>Purpose</th>\n",
       "      <th>Monthly Debt</th>\n",
       "      <th>Years of Credit History</th>\n",
       "      <th>Months since last delinquent</th>\n",
       "      <th>Number of Open Accounts</th>\n",
       "      <th>Number of Credit Problems</th>\n",
       "      <th>Current Credit Balance</th>\n",
       "      <th>Maximum Open Credit</th>\n",
       "      <th>Bankruptcies</th>\n",
       "      <th>Tax Liens</th>\n",
       "      <th>Actual Annual Income</th>\n",
       "    </tr>\n",
       "  </thead>\n",
       "  <tbody>\n",
       "    <tr>\n",
       "      <th>0</th>\n",
       "      <td>14dd8831-6af5-400b-83ec-68e61888a048</td>\n",
       "      <td>Fully Paid</td>\n",
       "      <td>445412.0</td>\n",
       "      <td>Short Term</td>\n",
       "      <td>709.0</td>\n",
       "      <td>1167493.00</td>\n",
       "      <td>8 years</td>\n",
       "      <td>Home Mortgage</td>\n",
       "      <td>Home Improvements</td>\n",
       "      <td>5214.74</td>\n",
       "      <td>17.2</td>\n",
       "      <td>NaN</td>\n",
       "      <td>6.0</td>\n",
       "      <td>1.0</td>\n",
       "      <td>228190.0</td>\n",
       "      <td>416746.0</td>\n",
       "      <td>1.0</td>\n",
       "      <td>0.0</td>\n",
       "      <td>1104916.12</td>\n",
       "    </tr>\n",
       "    <tr>\n",
       "      <th>1</th>\n",
       "      <td>4771cc26-131a-45db-b5aa-537ea4ba5342</td>\n",
       "      <td>Fully Paid</td>\n",
       "      <td>262328.0</td>\n",
       "      <td>Short Term</td>\n",
       "      <td>NaN</td>\n",
       "      <td>1373245.98</td>\n",
       "      <td>10+ years</td>\n",
       "      <td>Home Mortgage</td>\n",
       "      <td>Debt Consolidation</td>\n",
       "      <td>33295.98</td>\n",
       "      <td>21.1</td>\n",
       "      <td>8.0</td>\n",
       "      <td>35.0</td>\n",
       "      <td>0.0</td>\n",
       "      <td>229976.0</td>\n",
       "      <td>850784.0</td>\n",
       "      <td>0.0</td>\n",
       "      <td>0.0</td>\n",
       "      <td>973694.22</td>\n",
       "    </tr>\n",
       "    <tr>\n",
       "      <th>3</th>\n",
       "      <td>77598f7b-32e7-4e3b-a6e5-06ba0d98fe8a</td>\n",
       "      <td>Fully Paid</td>\n",
       "      <td>347666.0</td>\n",
       "      <td>Long Term</td>\n",
       "      <td>721.0</td>\n",
       "      <td>806949.00</td>\n",
       "      <td>3 years</td>\n",
       "      <td>Own Home</td>\n",
       "      <td>Debt Consolidation</td>\n",
       "      <td>8741.90</td>\n",
       "      <td>12.0</td>\n",
       "      <td>NaN</td>\n",
       "      <td>9.0</td>\n",
       "      <td>0.0</td>\n",
       "      <td>256329.0</td>\n",
       "      <td>386958.0</td>\n",
       "      <td>0.0</td>\n",
       "      <td>0.0</td>\n",
       "      <td>702046.20</td>\n",
       "    </tr>\n",
       "    <tr>\n",
       "      <th>4</th>\n",
       "      <td>d4062e70-befa-4995-8643-a0de73938182</td>\n",
       "      <td>Fully Paid</td>\n",
       "      <td>176220.0</td>\n",
       "      <td>Short Term</td>\n",
       "      <td>NaN</td>\n",
       "      <td>1373245.98</td>\n",
       "      <td>5 years</td>\n",
       "      <td>Rent</td>\n",
       "      <td>Debt Consolidation</td>\n",
       "      <td>20639.70</td>\n",
       "      <td>6.1</td>\n",
       "      <td>NaN</td>\n",
       "      <td>15.0</td>\n",
       "      <td>0.0</td>\n",
       "      <td>253460.0</td>\n",
       "      <td>427174.0</td>\n",
       "      <td>0.0</td>\n",
       "      <td>0.0</td>\n",
       "      <td>1125569.58</td>\n",
       "    </tr>\n",
       "    <tr>\n",
       "      <th>5</th>\n",
       "      <td>89d8cb0c-e5c2-4f54-b056-48a645c543dd</td>\n",
       "      <td>Charged Off</td>\n",
       "      <td>206602.0</td>\n",
       "      <td>Short Term</td>\n",
       "      <td>7290.0</td>\n",
       "      <td>896857.00</td>\n",
       "      <td>10+ years</td>\n",
       "      <td>Home Mortgage</td>\n",
       "      <td>Debt Consolidation</td>\n",
       "      <td>16367.74</td>\n",
       "      <td>17.3</td>\n",
       "      <td>NaN</td>\n",
       "      <td>6.0</td>\n",
       "      <td>0.0</td>\n",
       "      <td>215308.0</td>\n",
       "      <td>272448.0</td>\n",
       "      <td>0.0</td>\n",
       "      <td>0.0</td>\n",
       "      <td>700444.12</td>\n",
       "    </tr>\n",
       "  </tbody>\n",
       "</table>\n",
       "</div>"
      ],
      "text/plain": [
       "                                Loan ID  Loan Status  Current Loan Amount  \\\n",
       "0  14dd8831-6af5-400b-83ec-68e61888a048   Fully Paid             445412.0   \n",
       "1  4771cc26-131a-45db-b5aa-537ea4ba5342   Fully Paid             262328.0   \n",
       "3  77598f7b-32e7-4e3b-a6e5-06ba0d98fe8a   Fully Paid             347666.0   \n",
       "4  d4062e70-befa-4995-8643-a0de73938182   Fully Paid             176220.0   \n",
       "5  89d8cb0c-e5c2-4f54-b056-48a645c543dd  Charged Off             206602.0   \n",
       "\n",
       "         Term  Credit Score  Annual Income Years in current job  \\\n",
       "0  Short Term         709.0     1167493.00              8 years   \n",
       "1  Short Term           NaN     1373245.98            10+ years   \n",
       "3   Long Term         721.0      806949.00              3 years   \n",
       "4  Short Term           NaN     1373245.98              5 years   \n",
       "5  Short Term        7290.0      896857.00            10+ years   \n",
       "\n",
       "  Home Ownership             Purpose  Monthly Debt  Years of Credit History  \\\n",
       "0  Home Mortgage   Home Improvements       5214.74                     17.2   \n",
       "1  Home Mortgage  Debt Consolidation      33295.98                     21.1   \n",
       "3       Own Home  Debt Consolidation       8741.90                     12.0   \n",
       "4           Rent  Debt Consolidation      20639.70                      6.1   \n",
       "5  Home Mortgage  Debt Consolidation      16367.74                     17.3   \n",
       "\n",
       "   Months since last delinquent  Number of Open Accounts  \\\n",
       "0                           NaN                      6.0   \n",
       "1                           8.0                     35.0   \n",
       "3                           NaN                      9.0   \n",
       "4                           NaN                     15.0   \n",
       "5                           NaN                      6.0   \n",
       "\n",
       "   Number of Credit Problems  Current Credit Balance  Maximum Open Credit  \\\n",
       "0                        1.0                228190.0             416746.0   \n",
       "1                        0.0                229976.0             850784.0   \n",
       "3                        0.0                256329.0             386958.0   \n",
       "4                        0.0                253460.0             427174.0   \n",
       "5                        0.0                215308.0             272448.0   \n",
       "\n",
       "   Bankruptcies  Tax Liens  Actual Annual Income  \n",
       "0           1.0        0.0            1104916.12  \n",
       "1           0.0        0.0             973694.22  \n",
       "3           0.0        0.0             702046.20  \n",
       "4           0.0        0.0            1125569.58  \n",
       "5           0.0        0.0             700444.12  "
      ]
     },
     "execution_count": 131,
     "metadata": {},
     "output_type": "execute_result"
    }
   ],
   "source": [
    "# create a new field for Actual Annual income (annual income - 12 * monthly debt)\n",
    "df['Actual Annual Income'] = df['Annual Income'] - 12 * df['Monthly Debt']\n",
    "df.head().round(2)"
   ]
  },
  {
   "cell_type": "markdown",
   "metadata": {},
   "source": [
    "<li>Get the Actual Annual Income of the loan with the <b>ID = 76fa89b9-e6a8-49af-afa1-8151315aba8e</b></li>"
   ]
  },
  {
   "cell_type": "code",
   "execution_count": null,
   "metadata": {},
   "outputs": [],
   "source": [
    "# get the Actual Annual income (the new column) for the needed ID\n",
    "row = df[df['Loan ID'] == '76fa89b9-e6a8-49af-afa1-8151315aba8e']\n",
    "row\n",
    "\n",
    "# duplicates with the same ID are likely not intended, so \n",
    "# let's drop the duplicates. this will make the df more accurate.\n",
    "df = df.drop_duplicates()\n"
   ]
  },
  {
   "attachments": {},
   "cell_type": "markdown",
   "metadata": {},
   "source": [
    "<li>Get the Loan ID of the loan with the smallest Actual Annual Income </li>"
   ]
  },
  {
   "cell_type": "code",
   "execution_count": null,
   "metadata": {},
   "outputs": [
    {
     "name": "stdout",
     "output_type": "stream",
     "text": [
      "the smallest Actual Annual Income: -456900.9\n"
     ]
    }
   ],
   "source": [
    "# get loan ID of lowest Actual Annual income (the new column)\n",
    "smallest_actual_income = df['Actual Annual Income'].min()\n",
    "print(f\"the smallest Actual Annual Income: {smallest_actual_income.round(2)}\")"
   ]
  },
  {
   "attachments": {},
   "cell_type": "markdown",
   "metadata": {},
   "source": [
    "<li>How many loans are \"Long term\"?</li>"
   ]
  },
  {
   "cell_type": "code",
   "execution_count": null,
   "metadata": {},
   "outputs": [
    {
     "name": "stdout",
     "output_type": "stream",
     "text": [
      " Amount of long term loans: 78301\n"
     ]
    }
   ],
   "source": [
    "# produce code that shows many loans are long term\n",
    "print(f\" Amount of long term loans: {df['Term'].count()}\")"
   ]
  },
  {
   "attachments": {},
   "cell_type": "markdown",
   "metadata": {},
   "source": [
    "<li>How many loaners have more than 1 bankruptcy?</li>"
   ]
  },
  {
   "cell_type": "code",
   "execution_count": null,
   "metadata": {},
   "outputs": [
    {
     "data": {
      "text/plain": [
       "np.int64(411)"
      ]
     },
     "execution_count": 135,
     "metadata": {},
     "output_type": "execute_result"
    }
   ],
   "source": [
    "# produce code that shows how many loaners have more than 1 bankruptcy\n",
    "# creating helper variable for bankrupcies column.\n",
    "bankruptcies_column = df['Bankruptcies']\n",
    "\n",
    "# counting the bankruptcies column where bankrupcies are greater than 1.\n",
    "bankruptcies_column[df['Bankruptcies'] > 1].count()"
   ]
  },
  {
   "attachments": {},
   "cell_type": "markdown",
   "metadata": {},
   "source": [
    "<li>How many Short Term loans are for Home Improvements?</li>"
   ]
  },
  {
   "cell_type": "code",
   "execution_count": null,
   "metadata": {},
   "outputs": [
    {
     "name": "stdout",
     "output_type": "stream",
     "text": [
      " Amount of short term loans for home impprovements: 3163\n"
     ]
    }
   ],
   "source": [
    "# produce code that shows how many of the Short Term loans are for Home Improvements\n",
    "short_term_loans = df[df['Term'] == \"Short Term\"]\n",
    "home_improvement_loans = df[df['Purpose'] == \"Home Improvements\"]\n",
    "\n",
    "filtered_df = short_term_loans + home_improvement_loans\n",
    "print(f\" Amount of short term loans for home impprovements: {filtered_df['Term'].count()}\")"
   ]
  },
  {
   "attachments": {},
   "cell_type": "markdown",
   "metadata": {},
   "source": [
    "<li>How many unique loan purposes are there?</li>"
   ]
  },
  {
   "cell_type": "code",
   "execution_count": null,
   "metadata": {},
   "outputs": [
    {
     "data": {
      "text/plain": [
       "16"
      ]
     },
     "execution_count": 233,
     "metadata": {},
     "output_type": "execute_result"
    }
   ],
   "source": [
    "# produce code that shows how many unique loan purposes there are\n",
    "df['Purpose'].nunique()\n"
   ]
  },
  {
   "cell_type": "markdown",
   "metadata": {},
   "source": []
  },
  {
   "attachments": {},
   "cell_type": "markdown",
   "metadata": {},
   "source": [
    "<li>What are the 3 most common loan purposes?</li>"
   ]
  },
  {
   "cell_type": "code",
   "execution_count": 260,
   "metadata": {},
   "outputs": [
    {
     "data": {
      "text/plain": [
       "Purpose\n",
       "Debt Consolidation      69506\n",
       "other                    5409\n",
       "Home Improvements        5124\n",
       "Other                    2849\n",
       "Business Loan            1451\n",
       "Buy a Car                1088\n",
       "Medical Bills             996\n",
       "Buy House                 605\n",
       "Take a Trip               510\n",
       "major_purchase            307\n",
       "small_business            257\n",
       "moving                    130\n",
       "wedding                    95\n",
       "vacation                   94\n",
       "Educational Expenses       85\n",
       "renewable_energy           10\n",
       "Name: count, dtype: int64"
      ]
     },
     "execution_count": 260,
     "metadata": {},
     "output_type": "execute_result"
    }
   ],
   "source": [
    "# produce code that shows the 3 most common loan purposes\n",
    "df['Purpose'].value_counts()"
   ]
  },
  {
   "attachments": {},
   "cell_type": "markdown",
   "metadata": {},
   "source": [
    "<li>Is there a correlation between <b>Annual Income</b> and <b>Number of Open Accounts</b> or is there a correlation between <b>Number of Credit Problems</b> and <b>Bankruptcies</b>?</li>\n",
    "<br />\n",
    "<b>EXPLAIN AND DISCUSS YOUR FINDINGS AS WELL! (code comments or markdown)</b>"
   ]
  },
  {
   "cell_type": "code",
   "execution_count": null,
   "metadata": {},
   "outputs": [],
   "source": [
    "# produce code that shows which correlation statement is true\n",
    "\n",
    "\n",
    "\n"
   ]
  },
  {
   "attachments": {},
   "cell_type": "markdown",
   "metadata": {},
   "source": [
    "<h4><b>2. Download the purchases.csv from Moodle, and do the following observations:</b></h4>\n"
   ]
  },
  {
   "attachments": {},
   "cell_type": "markdown",
   "metadata": {},
   "source": [
    "<li>What was the total price sum of the Purchase Order Number 018H2015? (14 rows in total)</li>"
   ]
  },
  {
   "cell_type": "code",
   "execution_count": null,
   "metadata": {},
   "outputs": [],
   "source": [
    "# produce the code that gets the needed total price sum"
   ]
  },
  {
   "attachments": {},
   "cell_type": "markdown",
   "metadata": {},
   "source": [
    "<li>What is the name and description of the purchased item with the Purchase Order Number 3176273?</li>"
   ]
  },
  {
   "cell_type": "code",
   "execution_count": null,
   "metadata": {},
   "outputs": [],
   "source": [
    "# produce the code that gets the needed name and description"
   ]
  },
  {
   "attachments": {},
   "cell_type": "markdown",
   "metadata": {},
   "source": [
    "<li>How many occasions (rows) of purchase data happened during the year 2013?</li>"
   ]
  },
  {
   "cell_type": "code",
   "execution_count": null,
   "metadata": {},
   "outputs": [],
   "source": [
    "# produce the code that filters the needed data for year 2013"
   ]
  },
  {
   "attachments": {},
   "cell_type": "markdown",
   "metadata": {},
   "source": [
    "<ul><li>What are the 5 most common Departments in the data?</li>\n",
    "<ul><li><b>Extra task: </b>What are 3 Departments using most money in the data?</li></ul>\n",
    "</ul>"
   ]
  },
  {
   "cell_type": "code",
   "execution_count": null,
   "metadata": {},
   "outputs": [],
   "source": [
    "# produce the code that gtest the needed most common departments"
   ]
  },
  {
   "attachments": {},
   "cell_type": "markdown",
   "metadata": {},
   "source": [
    "<li>Sort the data by Department Name</li>"
   ]
  },
  {
   "cell_type": "code",
   "execution_count": null,
   "metadata": {},
   "outputs": [],
   "source": [
    "# sort the data by department name"
   ]
  },
  {
   "attachments": {},
   "cell_type": "markdown",
   "metadata": {},
   "source": [
    "<ul>\n",
    "<li><b>Small extra tasks for extra points</b></li>\n",
    "<ul>\n",
    "<li>How many purchases in the data were IT Goods and had the total price more than 50000 dollars?</li>\n",
    "<li>How many of the purchases have anything to do with IT? (IT Goods, IT Services, IT Telecommunications)</li>\n",
    "\n",
    "</ul>\n",
    "</ul>"
   ]
  },
  {
   "cell_type": "code",
   "execution_count": null,
   "metadata": {},
   "outputs": [],
   "source": [
    "# produce the code for the extra tasks if you wish complete them"
   ]
  },
  {
   "cell_type": "markdown",
   "metadata": {},
   "source": [
    "<ul>\n",
    "<li><b>Other extra tasks for extra points</b></li>\n",
    "<ul>\n",
    "<li>Create a new DataFrame, where you have filtered out purchases that have a Total Price of 0 or less</li>\n",
    "<li>For this DataFrame, use groupby() –function twice to group the purchases data by Acquisition Type, and then calculating the result first by sum() and then by mean()</li>\n",
    "<li>Which two acquisition types have the largest sums and means after grouping the data?</li>\n",
    "</ul>\n",
    "</ul>"
   ]
  },
  {
   "cell_type": "code",
   "execution_count": null,
   "metadata": {},
   "outputs": [],
   "source": [
    "# produce the code for the extra tasks if you wish to complete them"
   ]
  },
  {
   "attachments": {},
   "cell_type": "markdown",
   "metadata": {},
   "source": [
    "<img src=\"http://srv.plab.fi/~tuomasv/data_analytics_2023_images/exercise_set_2/es2_2.png\" />"
   ]
  },
  {
   "attachments": {},
   "cell_type": "markdown",
   "metadata": {},
   "source": [
    "<h4><b>3. Download the data_salaries_india.csv from Moodle, and consider the following questions of the data. Use any means in pandas (or even NumPy) you wish to explain your answers.</b></h4>\n"
   ]
  },
  {
   "attachments": {},
   "cell_type": "markdown",
   "metadata": {},
   "source": [
    "<ul>\n",
    "<li>Before we can do anything with the salaries, we have to convert them into something more usable</li>\n",
    "<ul>\n",
    "<li>Note: the salaries can be yearly, monthly or hourly salaries</li>\n",
    "<ul>\n",
    "<li>We don't also need the Indian rupee –sign (₹)</li>\n",
    "</ul>\n",
    "<li>You can use the template in Moodle to help you out with this (Salary filtering, pandas exercise 3)</li>\n",
    "</ul>\n",
    "</ul>"
   ]
  },
  {
   "cell_type": "code",
   "execution_count": null,
   "metadata": {},
   "outputs": [],
   "source": [
    "# convert the salaries as needed"
   ]
  },
  {
   "attachments": {},
   "cell_type": "markdown",
   "metadata": {},
   "source": [
    "<ul>\n",
    "<li>What are the most common values in different fields (Job Titles, Companies, Location)? <b>Based on the distribution, is the data balanced or not?</b></li>\n",
    "<ul>\n",
    "<li><b>Extra task:</b> there seem to be some Job Titles that are almost the same, like \"Machine Learning Data Associate\" and \"Machine Learning Associate\", combine these into something common to reduce amount of options</li>\n",
    "</ul>\n",
    "</ul>"
   ]
  },
  {
   "cell_type": "code",
   "execution_count": null,
   "metadata": {},
   "outputs": [],
   "source": [
    "# produce the code that shows the most common values in different fields\n",
    "# and answer the question about the distribution"
   ]
  },
  {
   "attachments": {},
   "cell_type": "markdown",
   "metadata": {},
   "source": [
    "<li>Are there any outliers in the data that might affect the averages negatively (certain salaries)? Manage the outliers as you best see fit (either remove them or leave them, based on your analysis) </li>"
   ]
  },
  {
   "cell_type": "code",
   "execution_count": null,
   "metadata": {},
   "outputs": [],
   "source": [
    "# produce the code that shows the potential outliers and take care of them as you see fit"
   ]
  },
  {
   "attachments": {},
   "cell_type": "markdown",
   "metadata": {},
   "source": [
    "<ul>\n",
    "<li>If we want to correlate upon categories, we need to handle them with the correct procedures.  <b>Convert the Role-column with the appropriate method, and add the new column to the DataFrame.</b></li>\n",
    "<ul>\n",
    "<li><b>Note:</b> see the pandas-materials how to handle binary –columns (you can also use category mapping in this case!)</li>\n",
    "</ul>\n",
    "</ul>"
   ]
  },
  {
   "cell_type": "code",
   "execution_count": null,
   "metadata": {},
   "outputs": [],
   "source": [
    "# examples for handling different categorical variables can be found in Moodle\n",
    "# also check the pandas -materials on how to convert different types of categories correctly"
   ]
  },
  {
   "attachments": {},
   "cell_type": "markdown",
   "metadata": {},
   "source": [
    "<ul>\n",
    "<li><b>Finally, check out the correlations. Does anything correlate with anything? Can we make any assumptions?</b></li>\n",
    "<ul>\n",
    "<li>Tip: When correlating against binary variables, sometimes the Spearman correlation might be more sensitive, in pandas:</li>\n",
    "</ul>\n",
    "</ul>"
   ]
  },
  {
   "cell_type": "code",
   "execution_count": null,
   "metadata": {},
   "outputs": [],
   "source": [
    "# Remember: df.corr(method=\"spearman\", numeric_only=True)"
   ]
  },
  {
   "attachments": {},
   "cell_type": "markdown",
   "metadata": {},
   "source": [
    "<b>Extra tasks for this dataset</b><br><br>\n",
    "\n",
    "<ul>\n",
    "<li>After all salaries have been converted to correct format by using the helper function (check Moodle), use quantiles and split the data into four different parts, based on salary:</li>\n",
    "<ul>\n",
    "<li><span style=\"color: red;\">Top 25%</span><br>=> quantile(0.75)</li>\n",
    "<li><span style=\"color: red;\">Above average, values between top 25-50%</span><br>\n",
    "=> quantile(0.5)  - quantile(0.75)</li>\n",
    "<li><span style=\"color: red;\">Below average, values between top 50-75% </span><br>\n",
    "=> quantile(0.25) – quantile(0.5)\n",
    "</li>\n",
    "<li><span style=\"color: red;\">Bottom 25%</span><br>=> quantile(0.25)</li>\n",
    "<br>\n",
    "<li>What are the salary ranges for each quantile?</li><li>\n",
    "See examples in pandas-materials on how to use quantiles\n",
    "</li>\n",
    "</ul>\n",
    "</ul>\n",
    "<hr>\n",
    "\n",
    "<ul>\n",
    "<li>Did you get any ideas how this data could be improved? Do we need some particular new data or some other operations on the data? Should we filter something out based on some other column?<br><br><b>Provide arguments for your answers in code comments.</b><br><br> </li>\n",
    "<ul>\n",
    "<li>Note: There are many good possible answers here!</li>\n",
    "<li>Tip: How about replacing the \"Salaries Reported\" column with actual rows based on that number? Try doing this with the data!</li>\n",
    "<li>Remember: This data only represents data engineering salaries based on selected Indian cities.\n",
    "The world is a vast place :)\n",
    "</li>\n",
    "</ul>\n",
    "</ul>"
   ]
  },
  {
   "cell_type": "code",
   "execution_count": null,
   "metadata": {},
   "outputs": [],
   "source": [
    "# code for the extra tasks"
   ]
  },
  {
   "attachments": {},
   "cell_type": "markdown",
   "metadata": {},
   "source": [
    "\n",
    "<h2><b>Advanced extra tasks for extra points (varying challenges, some require Googling):</b></h2>"
   ]
  },
  {
   "attachments": {},
   "cell_type": "markdown",
   "metadata": {},
   "source": [
    "<ul>\n",
    "<li><b>1. Data merge is a useful tool when you have multiple files of data that have the exact same structure.</b><br><br>Download the two csv-files from Moodle (videogames1.csv, videogames2.csv), and combine them into one DataFrame. Lastly, save the Data Frame into a new csv-file => combined.csv.</li>\n",
    "</ul>"
   ]
  },
  {
   "cell_type": "code",
   "execution_count": null,
   "metadata": {},
   "outputs": [],
   "source": [
    "# code for the advanced extra task"
   ]
  },
  {
   "attachments": {},
   "cell_type": "markdown",
   "metadata": {},
   "source": [
    "<ul>\n",
    "<li><b>2. Functions and lambdas allow us to extend the operations we wish to do to columns and rows in pandas. </b><br><br>For example, the built-in functions may not be enough in all cases. Use the data of exercise 1 (loans.csv), and create a new column called \"Income Group\" that holds a text value. <br><br>Create either a function or a lambda that creates an income group based on Annual Income. Use the following ranges to create the values:</li>\n",
    "</ul>\n",
    "\n",
    "<img src=\"http://srv.plab.fi/~tuomasv/data_analytics_2023_images/exercise_set_2/es2_3.png\"/>"
   ]
  },
  {
   "attachments": {},
   "cell_type": "markdown",
   "metadata": {},
   "source": [
    "<li>After creating the function/lambda, you can use it by using pandas' .apply() –function.<br><br></li>\n",
    "\n",
    "<li>Finally, get the amount of rows grouped by each of the new Income Group –field values and print them out. <b>(value_counts() is handy here!)</b></li> \n"
   ]
  },
  {
   "cell_type": "code",
   "execution_count": null,
   "metadata": {},
   "outputs": [],
   "source": [
    "# code for the advanced extra task"
   ]
  },
  {
   "attachments": {},
   "cell_type": "markdown",
   "metadata": {},
   "source": [
    "<ul>\n",
    "<li><b>3.\tNormalization allows us to convert the values of numeric columns to be between 0 and 1.</b> This is helpful when two different numbers seem to follow the same trend, but have completely different value ranges. For example, gold and silver prices tend to follow similar patterns, but their market worth is quite different. By using normalization, we can compare these trends more easily. <br>\n",
    "\n",
    "Get historical prices of both gold and silver, and compare them without and with normalization. You can plot the prices by using df.plot() –function. Check the dataset in list in Moodle for some alternatives for gold and silver prices.\n",
    "</li>\n",
    "</ul>\n",
    "<img src=\"http://srv.plab.fi/~tuomasv/data_analytics_2023_images/exercise_set_2/es2_4.png\" />"
   ]
  },
  {
   "attachments": {},
   "cell_type": "markdown",
   "metadata": {},
   "source": [
    "<ul>\n",
    "<li><b>4.\tCreate an account to kaggle.com, and find any dataset that interests you. </b><br>\n",
    "\n",
    "There's a list of possibly interesting datasets listed in Moodle as well.\n",
    "<br><br>\n",
    "<b>Try to find interesting features in data, in particular:</b>\n",
    "</li>\n",
    "<ul>\n",
    "<li>Clean up data first (rows with too many NaN –values), values that are way too big or small, insignificant columns etc.)</li>\n",
    "<li>You can create new columns as well if it seems suitable! (either by using functions or other means)</li>\n",
    "<li>Interesting correlations (.corr() –function) and other interesting features in the data. Is something surprising in the data?</li>\n",
    "<li><b>Note: </b>There are many ways on how to approach this exercise.</li>\n",
    "</ul>\n",
    "</ul>\n",
    "<br />\n",
    "<img src=\"http://srv.plab.fi/~tuomasv/data_analytics_2023_images/exercise_set_2/es2_5.png\" />\n"
   ]
  },
  {
   "cell_type": "code",
   "execution_count": null,
   "metadata": {},
   "outputs": [],
   "source": [
    "# do any Kaggle.com -related extra tasks in their own Jupyter notebooks for easier coding"
   ]
  },
  {
   "cell_type": "markdown",
   "metadata": {},
   "source": []
  }
 ],
 "metadata": {
  "kernelspec": {
   "display_name": ".venv",
   "language": "python",
   "name": "python3"
  },
  "language_info": {
   "codemirror_mode": {
    "name": "ipython",
    "version": 3
   },
   "file_extension": ".py",
   "mimetype": "text/x-python",
   "name": "python",
   "nbconvert_exporter": "python",
   "pygments_lexer": "ipython3",
   "version": "3.10.11"
  },
  "orig_nbformat": 4,
  "vscode": {
   "interpreter": {
    "hash": "7b393597a1a01400f99fd0b0bd7e53e32f7c09a6c4e3f1d7dcfe73f5e3a50c61"
   }
  }
 },
 "nbformat": 4,
 "nbformat_minor": 2
}
