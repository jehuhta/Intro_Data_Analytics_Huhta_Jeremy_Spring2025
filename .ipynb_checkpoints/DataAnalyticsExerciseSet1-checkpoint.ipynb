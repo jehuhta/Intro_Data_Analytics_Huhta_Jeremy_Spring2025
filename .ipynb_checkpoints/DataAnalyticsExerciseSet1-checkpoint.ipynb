{
 "cells": [
  {
   "attachments": {},
   "cell_type": "markdown",
   "metadata": {},
   "source": [
    "<h3><b>Introduction to Data Analytics - Exercise set 1 - Python and NumPy Basics</b></h3>"
   ]
  },
  {
   "attachments": {},
   "cell_type": "markdown",
   "metadata": {},
   "source": [
    "Put all your exercises (Jupyter Notebooks or Python-files) in your course Git-project.<br /><br />\n",
    "<span style=\"font-weight: bold;\">Use either code comments or Jupyter Notebook markdown (text) to document which exercise you are doing and what a certain code section does!</span><br />\n",
    "\n",
    "<span style=\"font-weight: bold;\">Remember: your Jupyter notebook's clarity (how easy it is to read and understand) also affects your scoring!</span><br /><br />\n",
    "<span style=\"font-weight: bold;\">Remember also: \n",
    "<span style=\"font-weight: bold;\">If you use generative AI in any part of any exercise, \n",
    "MENTION IT CLEARLY! </span><br />\n",
    "<span style=\"font-weight: bold;\">(code comments are enough, also mention the prompts used).</span><br /><br />\n",
    "See also the materials discussing the usage of AI in this course!</span><br /><br />\n",
    "\n",
    "\n",
    "You can return all of these exercises in a single Jupyter Notebook, if you wish.\n",
    "\n",
    "<img src=\"http://srv.plab.fi/~tuomasv/data_analytics_2023_images/exercise_set_1/numpylogo.png\" width=\"250\"/>"
   ]
  },
  {
   "cell_type": "markdown",
   "metadata": {},
   "source": [
    "<b>NOTE!</b> For each subtask, save the result into a separate variable!"
   ]
  },
  {
   "cell_type": "code",
   "execution_count": 84,
   "metadata": {},
   "outputs": [],
   "source": [
    "# setup all needed modules and configurations\n",
    "import numpy as np"
   ]
  },
  {
   "cell_type": "markdown",
   "metadata": {},
   "source": [
    "<b>We can change the default Jupyter style for NumPy arrays by overriding the display formatter:</b>"
   ]
  },
  {
   "cell_type": "code",
   "execution_count": 85,
   "metadata": {},
   "outputs": [
    {
     "data": {
      "text/html": [
       "<table style='border: 1px solid black; border-collapse: collapse;'><tr><td style='padding: 5px; border: 1px solid black; font-weight: bold; width: 1ch; text-align: center;'>0</td><td style='padding: 5px; border: 1px solid black; font-weight: bold; width: 1ch; text-align: center;'>1</td><td style='padding: 5px; border: 1px solid black; font-weight: bold; width: 1ch; text-align: center;'>2</td></tr><tr><td style='padding: 5px; border: 1px solid black; font-weight: bold; width: 1ch; text-align: center;'>3</td><td style='padding: 5px; border: 1px solid black; font-weight: bold; width: 1ch; text-align: center;'>4</td><td style='padding: 5px; border: 1px solid black; font-weight: bold; width: 1ch; text-align: center;'>5</td></tr><tr><td style='padding: 5px; border: 1px solid black; font-weight: bold; width: 1ch; text-align: center;'>6</td><td style='padding: 5px; border: 1px solid black; font-weight: bold; width: 1ch; text-align: center;'>7</td><td style='padding: 5px; border: 1px solid black; font-weight: bold; width: 1ch; text-align: center;'>8</td></tr></table>"
      ],
      "text/plain": [
       "array([[0, 1, 2],\n",
       "       [3, 4, 5],\n",
       "       [6, 7, 8]])"
      ]
     },
     "execution_count": 85,
     "metadata": {},
     "output_type": "execute_result"
    }
   ],
   "source": [
    "# RUN THIS CODE CELL IN ORDER TO USE THE CUSTOM STYLES\n",
    "from IPython.core.interactiveshell import InteractiveShell\n",
    "\n",
    "# Custom HTML formatter for NumPy arrays\n",
    "# you can customize the color's if you wish!\n",
    "# NOTE: this can be a bit buggy with some \n",
    "# more advanced NumPy operations, try removing\n",
    "# this custom formatting code if problems arise\n",
    "\n",
    "# NOTE: you can control the amount of decimals by changing \n",
    "# precision value below (9 is enough for the NumPy exercises)\n",
    "def array_to_html(arr, precision=9):\n",
    "    # Round the numbers to the specified precision and convert to string\n",
    "    str_arr = np.round(arr, precision).astype(str)\n",
    "    \n",
    "    # Find the maximum width (longest string length)\n",
    "    max_width = max([len(val) for val in str_arr.flatten()])\n",
    "    \n",
    "    # Create the HTML table with consistent column width and centered text\n",
    "    html = \"<table style='border: 1px solid black; border-collapse: collapse;'>\"\n",
    "    \n",
    "    if arr.ndim == 1:\n",
    "        # Handle 1D array (vector)\n",
    "        for val in str_arr:\n",
    "            html += f\"<tr><td style='padding: 5px; border: 1px solid black; font-weight: bold; width: {max_width}ch; text-align: center;'>{val}</td></tr>\"\n",
    "    else:\n",
    "        # Handle 2D array (matrix)\n",
    "        for row in str_arr:\n",
    "            html += \"<tr>\"\n",
    "            for val in row:\n",
    "                html += f\"<td style='padding: 5px; border: 1px solid black; font-weight: bold; width: {max_width}ch; text-align: center;'>{val}</td>\"\n",
    "            html += \"</tr>\"\n",
    "    \n",
    "    html += \"</table>\"\n",
    "    return html\n",
    "\n",
    "# Register the formatter in IPython\n",
    "InteractiveShell.instance().display_formatter.formatters['text/html'].for_type(\n",
    "    np.ndarray, lambda arr: array_to_html(arr)\n",
    ")\n",
    "\n",
    "# Usage as usual from now on\n",
    "data = np.arange(0, 9).reshape(3, 3)\n",
    "data\n"
   ]
  },
  {
   "attachments": {},
   "cell_type": "markdown",
   "metadata": {},
   "source": [
    "<h4><b>1. Create these lists without NumPy:</b></h4>\n",
    "\n",
    "- List of 15 ones\n",
    "\n",
    "- List of 15 number 7's\n",
    "\n",
    "- List of numbers from 100 to 150\n",
    "\n",
    "- List of even numbers between 0 and 100\n",
    "\n",
    "- List of years that are divisible by 4 between 1950 and 2020\n",
    "\n",
    "<br>\n",
    "\n",
    "<b>Tip: creating a list with Python code is usually something like this:</b>\n",
    "\n",
    "<pre>\n",
    "numbers = []\n",
    "\n",
    "for x in range(0, 5):\n",
    "    numbers.append(x)\n",
    "</pre>"
   ]
  },
  {
   "cell_type": "code",
   "execution_count": 86,
   "metadata": {},
   "outputs": [],
   "source": [
    "# exercise 1.1, create lists without NumPy\n",
    "# use additional code cells or different variable names for each subtask\n",
    "numbers = []\n",
    "\n",
    "for x in range(0,15):\n",
    "  numbers.append(1)\n",
    "\n",
    "print(numbers)\n",
    "print(f\"The length of the list: {len(numbers)}\")\n"
   ]
  },
  {
   "attachments": {},
   "cell_type": "markdown",
   "metadata": {},
   "source": [
    "<h4><b>2.\tNow, create these arrays with NumPy!</b></h4>\n",
    "\n",
    "- Array of 15 zeroes\n",
    "\n",
    "- Array of 15 ones\n",
    "\n",
    "- Array of 15 number 7's\n",
    "\n",
    "- Array of numbers from 100 to 150\n",
    "\n",
    "- Array of numbers from 1900 to 2021\n",
    "\n",
    "- Array of even numbers between 0 and 100\n",
    "\n",
    "- Array of years that are divisible by 4 between 1950 and 2020\n",
    "\n"
   ]
  },
  {
   "cell_type": "code",
   "execution_count": 87,
   "metadata": {},
   "outputs": [],
   "source": [
    "# exercise 1.2, create lists WITH NumPy\n",
    "# use additional code cells or different variable names for each subtask\n"
   ]
  },
  {
   "attachments": {},
   "cell_type": "markdown",
   "metadata": {},
   "source": [
    "<h4><b style=\"color: red\">Note: compare the NumPy code to the plain Python code after doing the exercises. Easier or more difficult? :) \n",
    "(answer in code comments or as text in Jupyter Notebook)</b></h4>"
   ]
  },
  {
   "attachments": {},
   "cell_type": "markdown",
   "metadata": {},
   "source": [
    "<h3><b>3. Let's try out NumPy vectors and matrices:</b></h3>\n",
    "\n",
    "- Create a NumPy vector (list) containing these values:<br>\n",
    "<b><i>5, 16, 9, 2, 19, 18, 11, 7</i></b><br>\n",
    "    - Use argmax() to find the position index of the largest value in the vector, and print it\n",
    "<br><br>\n",
    "- Create a 7x7 matrix, with values from 1 to 49\n",
    "\n",
    "    - Extra task: Create this matrix (list of lists) without NumPy in Python! <b>(Without the help of AI!)</b>\n",
    "\n",
    "<br>\n",
    "\n",
    "- Generate 8x8 random number matrix, values between 0 and 5\n",
    "\n",
    "- Generate 8x8 random number matrix, using standard normal distribution values (= values are between -3 and 3)\n"
   ]
  },
  {
   "cell_type": "code",
   "execution_count": 88,
   "metadata": {},
   "outputs": [],
   "source": [
    "# exercise 1.3, NumPy vectors and matrices\n",
    "# use different variable names for each subtask\n",
    "# you can also make new code cells if you need\n"
   ]
  },
  {
   "attachments": {},
   "cell_type": "markdown",
   "metadata": {},
   "source": [
    "<h3><b>4. Create a linearly spaced… </b></h3>\n",
    "\n",
    "- array (list/vector) of 10 values between value 0 and 1\n",
    "\n",
    "- 10x10 matrix between values 0 and 5\n",
    "\n",
    "    - Extra task: create this matrix without NumPy as well! <b>(Without the help of AI!)</b>\n",
    "\n",
    "\n",
    "<img src=\"http://srv.plab.fi/~tuomasv/data_analytics_2023_images/exercise_set_1/cubes.png\"/>\n"
   ]
  },
  {
   "cell_type": "code",
   "execution_count": 89,
   "metadata": {},
   "outputs": [],
   "source": [
    "# exercise 1.4, linspace\n",
    "# use different variable names for each subtask\n",
    "# you can also make new code cells if you need\n"
   ]
  },
  {
   "attachments": {},
   "cell_type": "markdown",
   "metadata": {},
   "source": [
    "<h3><b>5. Recreate the matrices in code based on the pictures.</b></h3>\n",
    "\n",
    "- Create this 3x5 matrix with NumPy:\n",
    "\n",
    "<img src=\"http://srv.plab.fi/~tuomasv/data_analytics_2023_images/exercise_set_1/matrix1.png\"/>\n",
    "\n",
    "\n",
    "Note: The values above have no logic, you'll have to feed basic Python lists to NumPy for this result\n"
   ]
  },
  {
   "cell_type": "code",
   "execution_count": 90,
   "metadata": {},
   "outputs": [],
   "source": [
    "# exercise 1.5a, create matrix\n"
   ]
  },
  {
   "attachments": {},
   "cell_type": "markdown",
   "metadata": {},
   "source": [
    "- Generate this NumPy array:\n",
    "\n",
    "<img src=\"http://srv.plab.fi/~tuomasv/data_analytics_2023_images/exercise_set_1/matrix2.png\" width=\"800\"/>"
   ]
  },
  {
   "cell_type": "code",
   "execution_count": 91,
   "metadata": {},
   "outputs": [],
   "source": [
    "# exercise 1.5b, generate NumPy array / matrix\n"
   ]
  },
  {
   "attachments": {},
   "cell_type": "markdown",
   "metadata": {},
   "source": [
    "- Generate this NumPy array:\n",
    "\n",
    "<img src=\"http://srv.plab.fi/~tuomasv/data_analytics_2023_images/exercise_set_1/matrix3.png\" width=\"500\"/>\n",
    "\n",
    "<b>Tips:</b> arange-function (and step-parameter) + reshape is recommended. Alternatively you can use broadcasting and division if you like."
   ]
  },
  {
   "cell_type": "code",
   "execution_count": 92,
   "metadata": {},
   "outputs": [],
   "source": [
    "# exercise 1.5c, generate NumPy array / matrix\n"
   ]
  },
  {
   "attachments": {},
   "cell_type": "markdown",
   "metadata": {},
   "source": [
    "<h3><b>6. Use this matrix in your code:</b></h3>\n",
    "\n",
    "dataset = np.arange(1, 37).reshape(6, 6)\n",
    "\n",
    "<img src=\"http://srv.plab.fi/~tuomasv/data_analytics_2023_images/exercise_set_1/matrix4.png\"/>\n"
   ]
  },
  {
   "cell_type": "code",
   "execution_count": 93,
   "metadata": {},
   "outputs": [
    {
     "data": {
      "text/html": [
       "<table style='border: 1px solid black; border-collapse: collapse;'><tr><td style='padding: 5px; border: 1px solid black; font-weight: bold; width: 2ch; text-align: center;'>1</td><td style='padding: 5px; border: 1px solid black; font-weight: bold; width: 2ch; text-align: center;'>2</td><td style='padding: 5px; border: 1px solid black; font-weight: bold; width: 2ch; text-align: center;'>3</td><td style='padding: 5px; border: 1px solid black; font-weight: bold; width: 2ch; text-align: center;'>4</td><td style='padding: 5px; border: 1px solid black; font-weight: bold; width: 2ch; text-align: center;'>5</td><td style='padding: 5px; border: 1px solid black; font-weight: bold; width: 2ch; text-align: center;'>6</td></tr><tr><td style='padding: 5px; border: 1px solid black; font-weight: bold; width: 2ch; text-align: center;'>7</td><td style='padding: 5px; border: 1px solid black; font-weight: bold; width: 2ch; text-align: center;'>8</td><td style='padding: 5px; border: 1px solid black; font-weight: bold; width: 2ch; text-align: center;'>9</td><td style='padding: 5px; border: 1px solid black; font-weight: bold; width: 2ch; text-align: center;'>10</td><td style='padding: 5px; border: 1px solid black; font-weight: bold; width: 2ch; text-align: center;'>11</td><td style='padding: 5px; border: 1px solid black; font-weight: bold; width: 2ch; text-align: center;'>12</td></tr><tr><td style='padding: 5px; border: 1px solid black; font-weight: bold; width: 2ch; text-align: center;'>13</td><td style='padding: 5px; border: 1px solid black; font-weight: bold; width: 2ch; text-align: center;'>14</td><td style='padding: 5px; border: 1px solid black; font-weight: bold; width: 2ch; text-align: center;'>15</td><td style='padding: 5px; border: 1px solid black; font-weight: bold; width: 2ch; text-align: center;'>16</td><td style='padding: 5px; border: 1px solid black; font-weight: bold; width: 2ch; text-align: center;'>17</td><td style='padding: 5px; border: 1px solid black; font-weight: bold; width: 2ch; text-align: center;'>18</td></tr><tr><td style='padding: 5px; border: 1px solid black; font-weight: bold; width: 2ch; text-align: center;'>19</td><td style='padding: 5px; border: 1px solid black; font-weight: bold; width: 2ch; text-align: center;'>20</td><td style='padding: 5px; border: 1px solid black; font-weight: bold; width: 2ch; text-align: center;'>21</td><td style='padding: 5px; border: 1px solid black; font-weight: bold; width: 2ch; text-align: center;'>22</td><td style='padding: 5px; border: 1px solid black; font-weight: bold; width: 2ch; text-align: center;'>23</td><td style='padding: 5px; border: 1px solid black; font-weight: bold; width: 2ch; text-align: center;'>24</td></tr><tr><td style='padding: 5px; border: 1px solid black; font-weight: bold; width: 2ch; text-align: center;'>25</td><td style='padding: 5px; border: 1px solid black; font-weight: bold; width: 2ch; text-align: center;'>26</td><td style='padding: 5px; border: 1px solid black; font-weight: bold; width: 2ch; text-align: center;'>27</td><td style='padding: 5px; border: 1px solid black; font-weight: bold; width: 2ch; text-align: center;'>28</td><td style='padding: 5px; border: 1px solid black; font-weight: bold; width: 2ch; text-align: center;'>29</td><td style='padding: 5px; border: 1px solid black; font-weight: bold; width: 2ch; text-align: center;'>30</td></tr><tr><td style='padding: 5px; border: 1px solid black; font-weight: bold; width: 2ch; text-align: center;'>31</td><td style='padding: 5px; border: 1px solid black; font-weight: bold; width: 2ch; text-align: center;'>32</td><td style='padding: 5px; border: 1px solid black; font-weight: bold; width: 2ch; text-align: center;'>33</td><td style='padding: 5px; border: 1px solid black; font-weight: bold; width: 2ch; text-align: center;'>34</td><td style='padding: 5px; border: 1px solid black; font-weight: bold; width: 2ch; text-align: center;'>35</td><td style='padding: 5px; border: 1px solid black; font-weight: bold; width: 2ch; text-align: center;'>36</td></tr></table>"
      ],
      "text/plain": [
       "array([[ 1,  2,  3,  4,  5,  6],\n",
       "       [ 7,  8,  9, 10, 11, 12],\n",
       "       [13, 14, 15, 16, 17, 18],\n",
       "       [19, 20, 21, 22, 23, 24],\n",
       "       [25, 26, 27, 28, 29, 30],\n",
       "       [31, 32, 33, 34, 35, 36]])"
      ]
     },
     "execution_count": 93,
     "metadata": {},
     "output_type": "execute_result"
    }
   ],
   "source": [
    "# exercise 1.6a, matrix slicing\n",
    "dataset = np.arange(1, 37).reshape(6, 6)\n",
    "dataset"
   ]
  },
  {
   "attachments": {},
   "cell_type": "markdown",
   "metadata": {},
   "source": [
    "- Create a slice of the matrix that contains this part of the matrix:\n",
    "\n",
    "<img src=\"http://srv.plab.fi/~tuomasv/data_analytics_2023_images/exercise_set_1/matrix5.png\"/>"
   ]
  },
  {
   "cell_type": "code",
   "execution_count": 94,
   "metadata": {},
   "outputs": [],
   "source": [
    "# exercise 1.6b, matrix slicing\n"
   ]
  },
  {
   "attachments": {},
   "cell_type": "markdown",
   "metadata": {},
   "source": [
    "- Pick out this column slice from data\n",
    "\n",
    "<img src=\"http://srv.plab.fi/~tuomasv/data_analytics_2023_images/exercise_set_1/series1.png\"/>"
   ]
  },
  {
   "cell_type": "code",
   "execution_count": 95,
   "metadata": {},
   "outputs": [],
   "source": [
    "# exercise 1.6c, matrix slicing\n"
   ]
  },
  {
   "attachments": {},
   "cell_type": "markdown",
   "metadata": {},
   "source": [
    "- Pick out this row from the data\n",
    "\n",
    "<img src=\"http://srv.plab.fi/~tuomasv/data_analytics_2023_images/exercise_set_1/series2.png\"/>"
   ]
  },
  {
   "cell_type": "code",
   "execution_count": 96,
   "metadata": {},
   "outputs": [],
   "source": [
    "# exercise 1.6d, matrix slicing"
   ]
  },
  {
   "attachments": {},
   "cell_type": "markdown",
   "metadata": {},
   "source": [
    "- Pick out these three rows from data:\n",
    "\n",
    "<img src=\"http://srv.plab.fi/~tuomasv/data_analytics_2023_images/exercise_set_1/matrix6.png\"/>"
   ]
  },
  {
   "cell_type": "code",
   "execution_count": 97,
   "metadata": {},
   "outputs": [],
   "source": [
    "# exercise 1.6e, matrix slicing"
   ]
  },
  {
   "attachments": {},
   "cell_type": "markdown",
   "metadata": {},
   "source": [
    "<h3><b>7. Use this matrix:</b></h3>\n",
    "\n",
    "<b>dataset_2 = np.arange(1, 50).reshape(7, 7)</b>\n",
    "\n",
    "- Add 50 to all values in the array (use broadcasting)\n",
    "\n",
    "- Get the sum of all values in the dataset\n",
    "    - <b>Use this version of the data in the following steps!</b>\n",
    "\n",
    "- Get sum of only odd numbers in the dataset\n",
    "\n",
    "- Get the standard deviation of the values in the dataset\n",
    "\n",
    "- Get the sum of all values by ROW in the dataset\n",
    "\n",
    "- Get the sum of all values by COLUMN in the dataset (tip, use the axis –parameter)\n",
    "\n",
    "<br>\n",
    "\n",
    "- <b>Extra task:</b> Do the total sum, row sum and column sum exercises <u><b>without</b></u> NumPy in Python! <b>(Without the help of AI!)</b>\n",
    "\n",
    "<br>\n",
    "<b>Note:</b> Don't create a new dataset when adding 50 to all values in the array, use the existing one.\n",
    "<br><br>\n",
    "<img src=\"http://srv.plab.fi/~tuomasv/data_analytics_2023_images/exercise_set_1/desktopcomputer.png\"/>\n"
   ]
  },
  {
   "cell_type": "code",
   "execution_count": 98,
   "metadata": {},
   "outputs": [],
   "source": [
    "# exercise 1.7, NumPy -operations on a matrix\n",
    "dataset_2 = np.arange(1, 50).reshape(7, 7)\n",
    "\n",
    "# use different variable names for each subtask\n",
    "# you can also make new code cells if you need\n"
   ]
  },
  {
   "attachments": {},
   "cell_type": "markdown",
   "metadata": {},
   "source": [
    "<br><br>\n",
    "<h2><b>Advanced extra tasks for extra points (varying challenges, some require Googling):</b></h2>"
   ]
  },
  {
   "attachments": {},
   "cell_type": "markdown",
   "metadata": {},
   "source": [
    "<h3><b>1. Create two files for this exercise: save_matrix.py and read_matrix.py</b></h3>\n",
    "\n",
    "- in save_matrix.py: create a 15x15 matrix, and save it to a file (matrix.txt)\n",
    " - in read_matrix.py, read matrix.txt, and convert it back to a NumPy matrix\n",
    "\n",
    "NumPy has loadtxt() and savetxt()-functions for these purposes.\n"
   ]
  },
  {
   "cell_type": "code",
   "execution_count": 99,
   "metadata": {},
   "outputs": [],
   "source": [
    "# advanced extra exercise 1\n"
   ]
  },
  {
   "attachments": {},
   "cell_type": "markdown",
   "metadata": {},
   "source": [
    "<h3><b>2. Masked arrays are a feature of NumPy that allow us to deal with pieces data that are incorrect or missing in a dataset (for example, faulty measurements from equipment etc.).</b></h3>\n",
    "\n",
    "Create a NumPy matrix, that contains numbers between 0 to 50, and put some faulty numbers in a 10 different spots \n",
    "(for example: -100)\n",
    "\n",
    "Use a masked array to handle the -100 values in your matrix. Replace every -100 with 0.\n"
   ]
  },
  {
   "cell_type": "code",
   "execution_count": 100,
   "metadata": {},
   "outputs": [],
   "source": [
    "# advanced extra exercise 2\n"
   ]
  },
  {
   "attachments": {},
   "cell_type": "markdown",
   "metadata": {},
   "source": [
    "<h3><b>3. argsort is a feature of NumPy  that allows you to sort a NumPy array based on another NumPy array. </b></h3>\n",
    "\n",
    "This is useful if you have two separate arrays, but their data  should be in sync even if order of data is changed. For example, one array contains the prices of cars, and another contains the manufacturing years. If we wish to sort the data by manufacturing years, and keep the prices in sync as well, argsort will be handy.\n",
    "\n",
    "Useful link:\n",
    "http://arogozhnikov.github.io/2015/09/29/NumpyTipsAndTricks1.html\n",
    "\n",
    "Create two random datasets:\n",
    "\n",
    "- Manufacturing years of 10 cars, values between 2010 and 2020\n",
    "\n",
    "- Selling price of 10 cars, prices between 2000€ and 60000€\n",
    "\n",
    "Use argsort to sort both datasets according to manufacturing years.\n"
   ]
  },
  {
   "cell_type": "code",
   "execution_count": 101,
   "metadata": {},
   "outputs": [],
   "source": [
    "# advanced extra exercise 3\n"
   ]
  },
  {
   "attachments": {},
   "cell_type": "markdown",
   "metadata": {},
   "source": [
    "<h3><b>4. Try out the following additional NumPy features, and discuss in your code comments or in Jupyter Notebook text where they could be useful. You can also Google and search for ideas where these could be used. </b></h3>\n",
    "\n",
    "You can write your thoughts as comments in the code or Jupyter text as you try out each feature.\n",
    "\n",
    "- np.repeat()\n",
    "\n",
    "- np.ravel()\n",
    "\n",
    "- np.hsplit(), np.vsplit(), np.hstack, np.vstack()\n",
    "\n",
    "- np.transpose()\n",
    "\n",
    "- np.round()\n",
    "\n",
    "- np.expand_dims(), np.squeeze()\n",
    "\n",
    "- np.digitize()\n",
    "\n",
    "\n"
   ]
  },
  {
   "cell_type": "code",
   "execution_count": 102,
   "metadata": {},
   "outputs": [],
   "source": [
    "# advanced extra exercise 4\n"
   ]
  }
 ],
 "metadata": {
  "kernelspec": {
   "display_name": "Python 3 (ipykernel)",
   "language": "python",
   "name": "python3"
  },
  "language_info": {
   "codemirror_mode": {
    "name": "ipython",
    "version": 3
   },
   "file_extension": ".py",
   "mimetype": "text/x-python",
   "name": "python",
   "nbconvert_exporter": "python",
   "pygments_lexer": "ipython3",
   "version": "3.10.11"
  },
  "vscode": {
   "interpreter": {
    "hash": "7b393597a1a01400f99fd0b0bd7e53e32f7c09a6c4e3f1d7dcfe73f5e3a50c61"
   }
  }
 },
 "nbformat": 4,
 "nbformat_minor": 4
}
