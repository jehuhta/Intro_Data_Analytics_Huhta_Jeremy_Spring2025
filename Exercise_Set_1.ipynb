{
 "cells": [
  {
   "cell_type": "markdown",
   "metadata": {},
   "source": [
    "<h1> Exercise Set 1 </h1>\n",
    "<p>By: Jeremy Huhta </p>"
   ]
  },
  {
   "attachments": {
    "image.png": {
     "image/png": "[encoded data removed]"
    }
   },
   "cell_type": "markdown",
   "metadata": {},
   "source": [
    "![image.png](attachment:image.png)"
   ]
  },
  {
   "cell_type": "markdown",
   "metadata": {},
   "source": [
    "---"
   ]
  },
  {
   "cell_type": "markdown",
   "metadata": {},
   "source": [
    "<h3> Imports </h3>"
   ]
  },
  {
   "cell_type": "code",
   "execution_count": 664,
   "metadata": {},
   "outputs": [],
   "source": [
    "import numpy as np"
   ]
  },
  {
   "cell_type": "markdown",
   "metadata": {},
   "source": [
    "---"
   ]
  },
  {
   "cell_type": "markdown",
   "metadata": {},
   "source": [
    "<h3>Exercise 1 </h3>\n",
    "<p> Creating arrays using plain Python: </p>\n",
    "<ul>\n",
    "  <li> List of 15 ones </li>\n",
    "  <li> List of 15 number 7's </li>\n",
    "  <li> List of numbers from 100 to 150 </li>\n",
    "  <li> List of even numbers between 0 and 100 </li>\n",
    "  <li> List of years that are divisible by 4 between 1950 and 2020 </li>\n",
    "</ul>"
   ]
  },
  {
   "cell_type": "markdown",
   "metadata": {},
   "source": [
    "---\n",
    "\n"
   ]
  },
  {
   "cell_type": "markdown",
   "metadata": {},
   "source": [
    "<p> A List of 15 ones. </p>"
   ]
  },
  {
   "cell_type": "code",
   "execution_count": 665,
   "metadata": {},
   "outputs": [
    {
     "name": "stdout",
     "output_type": "stream",
     "text": [
      "[1, 1, 1, 1, 1, 1, 1, 1, 1, 1, 1, 1, 1, 1, 1]\n",
      "The length of the list: 15\n"
     ]
    }
   ],
   "source": [
    "# A list of fifteen 1's in a list\n",
    "numbers = []\n",
    "\n",
    "for x in range(0,15):\n",
    "  numbers.append(1)\n",
    "\n",
    "print(numbers)\n",
    "print(f\"The length of the list: {len(numbers)}\")"
   ]
  },
  {
   "cell_type": "markdown",
   "metadata": {},
   "source": [
    "<p> A list of fifteen 7's in a list </p>"
   ]
  },
  {
   "cell_type": "code",
   "execution_count": 666,
   "metadata": {},
   "outputs": [
    {
     "name": "stdout",
     "output_type": "stream",
     "text": [
      "[7, 7, 7, 7, 7, 7, 7, 7, 7, 7, 7, 7, 7, 7, 7]\n",
      "The length of the list: 15\n"
     ]
    }
   ],
   "source": [
    "# A list of fifteen 7's in a list\n",
    "numbers = []\n",
    "\n",
    "for x in range(0, 15):\n",
    "  numbers.append(7)\n",
    "\n",
    "print(numbers)\n",
    "print(f\"The length of the list: {len(numbers)}\")"
   ]
  },
  {
   "cell_type": "markdown",
   "metadata": {},
   "source": [
    "<p> A list of numbers from 100 to 150 </p>"
   ]
  },
  {
   "cell_type": "code",
   "execution_count": 667,
   "metadata": {},
   "outputs": [
    {
     "name": "stdout",
     "output_type": "stream",
     "text": [
      "[100, 101, 102, 103, 104, 105, 106, 107, 108, 109, 110, 111, 112, 113, 114, 115, 116, 117, 118, 119, 120, 121, 122, 123, 124, 125, 126, 127, 128, 129, 130, 131, 132, 133, 134, 135, 136, 137, 138, 139, 140, 141, 142, 143, 144, 145, 146, 147, 148, 149, 150]\n",
      "The length of the list: 51\n"
     ]
    }
   ],
   "source": [
    "# A list of numbers from 100 to 150\n",
    "numbers = []\n",
    "\n",
    "for i in range(100,151):\n",
    "  numbers.append(i)\n",
    "\n",
    "print(numbers)\n",
    "print(f\"The length of the list: {len(numbers)}\")"
   ]
  },
  {
   "cell_type": "markdown",
   "metadata": {},
   "source": [
    "<p> A list of even numbers between 0 and 100 </p>"
   ]
  },
  {
   "cell_type": "code",
   "execution_count": 668,
   "metadata": {},
   "outputs": [
    {
     "name": "stdout",
     "output_type": "stream",
     "text": [
      "[0, 2, 4, 6, 8, 10, 12, 14, 16, 18, 20, 22, 24, 26, 28, 30, 32, 34, 36, 38, 40, 42, 44, 46, 48, 50, 52, 54, 56, 58, 60, 62, 64, 66, 68, 70, 72, 74, 76, 78, 80, 82, 84, 86, 88, 90, 92, 94, 96, 98, 100]\n"
     ]
    }
   ],
   "source": [
    "# A list of even numbers between 0 and 100\n",
    "numbers = []\n",
    "\n",
    "for i in range(0,101):\n",
    "  if i % 2 == 0:\n",
    "    numbers.append(i)\n",
    "\n",
    "print(numbers)\n"
   ]
  },
  {
   "cell_type": "markdown",
   "metadata": {},
   "source": [
    "<p> A list of years divisible by 4 in range 1950-2020 </p>"
   ]
  },
  {
   "cell_type": "code",
   "execution_count": 669,
   "metadata": {},
   "outputs": [
    {
     "name": "stdout",
     "output_type": "stream",
     "text": [
      "[1952, 1956, 1960, 1964, 1968, 1972, 1976, 1980, 1984, 1988, 1992, 1996, 2000, 2004, 2008, 2012, 2016, 2020]\n"
     ]
    }
   ],
   "source": [
    "# A list of years divisible by 4 in range 1950-2020\n",
    "numbers = []\n",
    "for i in range(1950,2021):\n",
    "  if i % 4 == 0:\n",
    "    numbers.append(i)\n",
    "    \n",
    "print(numbers)\n",
    "    "
   ]
  },
  {
   "cell_type": "markdown",
   "metadata": {},
   "source": [
    "---"
   ]
  },
  {
   "cell_type": "markdown",
   "metadata": {},
   "source": [
    "<h3>Exercise 2 </h3>\n",
    "<p> Creating arrays using NumPy: </p>\n",
    "\n",
    "<ul>\n",
    "<li>Array of 15 zeroes </li>\n",
    "<li>Array of 15 ones </li>\n",
    "<li> Array of 15 number 7's </li>\n",
    "<li> Array of numbers from 100 to 150 </li>\n",
    "<li> Array of numbers from 1900 to 2021 </li>\n",
    "<li> Array of even numbers between 0 and 100 </li>\n",
    "<li> Array of years that are divisible by 4 between 1950 and 2020 </li>\n",
    "\n",
    "\n",
    "\n",
    "</ul>"
   ]
  },
  {
   "cell_type": "markdown",
   "metadata": {},
   "source": [
    "---"
   ]
  },
  {
   "cell_type": "markdown",
   "metadata": {},
   "source": [
    "<p> An array of 15 zeroes. </p>"
   ]
  },
  {
   "cell_type": "code",
   "execution_count": 670,
   "metadata": {},
   "outputs": [
    {
     "name": "stdout",
     "output_type": "stream",
     "text": [
      "The amount of entries in the list: 15\n"
     ]
    }
   ],
   "source": [
    "# An array of 15 zeroes.\n",
    "numbers = np.zeros(15)\n",
    "numbers\n",
    "print(f\"The amount of entries in the list: {len(numbers)}\")\n"
   ]
  },
  {
   "cell_type": "markdown",
   "metadata": {},
   "source": [
    "<p> An array of 15 ones. </p>"
   ]
  },
  {
   "cell_type": "code",
   "execution_count": 671,
   "metadata": {},
   "outputs": [
    {
     "name": "stdout",
     "output_type": "stream",
     "text": [
      "The amount of entries in the list: 15\n"
     ]
    }
   ],
   "source": [
    "# An array of 15 ones.\n",
    "numbers = np.ones(15)\n",
    "numbers\n",
    "print(f\"The amount of entries in the list: {len(numbers)}\")"
   ]
  },
  {
   "cell_type": "markdown",
   "metadata": {},
   "source": [
    "An array of 15 number 7's."
   ]
  },
  {
   "cell_type": "code",
   "execution_count": 672,
   "metadata": {},
   "outputs": [
    {
     "name": "stdout",
     "output_type": "stream",
     "text": [
      "The amount of entries in the list: 15\n"
     ]
    }
   ],
   "source": [
    "# An array of 15 number 7's.\n",
    "numbers = np.ones(15).astype(int)*7\n",
    "numbers\n",
    "print(f\"The amount of entries in the list: {len(numbers)}\")\n"
   ]
  },
  {
   "cell_type": "markdown",
   "metadata": {},
   "source": [
    "Array of numbers from 100 to 150."
   ]
  },
  {
   "cell_type": "code",
   "execution_count": 673,
   "metadata": {},
   "outputs": [
    {
     "data": {
      "text/plain": [
       "array([  0,   1,   2,   3,   4,   5,   6,   7,   8,   9,  10,  11,  12,\n",
       "        13,  14,  15,  16,  17,  18,  19,  20,  21,  22,  23,  24,  25,\n",
       "        26,  27,  28,  29,  30,  31,  32,  33,  34,  35,  36,  37,  38,\n",
       "        39,  40,  41,  42,  43,  44,  45,  46,  47,  48,  49,  50,  51,\n",
       "        52,  53,  54,  55,  56,  57,  58,  59,  60,  61,  62,  63,  64,\n",
       "        65,  66,  67,  68,  69,  70,  71,  72,  73,  74,  75,  76,  77,\n",
       "        78,  79,  80,  81,  82,  83,  84,  85,  86,  87,  88,  89,  90,\n",
       "        91,  92,  93,  94,  95,  96,  97,  98,  99, 100, 101, 102, 103,\n",
       "       104, 105, 106, 107, 108, 109, 110, 111, 112, 113, 114, 115, 116,\n",
       "       117, 118, 119, 120, 121, 122, 123, 124, 125, 126, 127, 128, 129,\n",
       "       130, 131, 132, 133, 134, 135, 136, 137, 138, 139, 140, 141, 142,\n",
       "       143, 144, 145, 146, 147, 148, 149, 150])"
      ]
     },
     "execution_count": 673,
     "metadata": {},
     "output_type": "execute_result"
    }
   ],
   "source": [
    "# Array of numbers from 100 to 150.\n",
    "numbers = np.arange(0,151)\n",
    "numbers"
   ]
  },
  {
   "cell_type": "markdown",
   "metadata": {},
   "source": [
    "Array of numbers from 1900 to 2021."
   ]
  },
  {
   "cell_type": "code",
   "execution_count": 674,
   "metadata": {},
   "outputs": [
    {
     "data": {
      "text/plain": [
       "array([1900, 1901, 1902, 1903, 1904, 1905, 1906, 1907, 1908, 1909, 1910,\n",
       "       1911, 1912, 1913, 1914, 1915, 1916, 1917, 1918, 1919, 1920, 1921,\n",
       "       1922, 1923, 1924, 1925, 1926, 1927, 1928, 1929, 1930, 1931, 1932,\n",
       "       1933, 1934, 1935, 1936, 1937, 1938, 1939, 1940, 1941, 1942, 1943,\n",
       "       1944, 1945, 1946, 1947, 1948, 1949, 1950, 1951, 1952, 1953, 1954,\n",
       "       1955, 1956, 1957, 1958, 1959, 1960, 1961, 1962, 1963, 1964, 1965,\n",
       "       1966, 1967, 1968, 1969, 1970, 1971, 1972, 1973, 1974, 1975, 1976,\n",
       "       1977, 1978, 1979, 1980, 1981, 1982, 1983, 1984, 1985, 1986, 1987,\n",
       "       1988, 1989, 1990, 1991, 1992, 1993, 1994, 1995, 1996, 1997, 1998,\n",
       "       1999, 2000, 2001, 2002, 2003, 2004, 2005, 2006, 2007, 2008, 2009,\n",
       "       2010, 2011, 2012, 2013, 2014, 2015, 2016, 2017, 2018, 2019, 2020,\n",
       "       2021])"
      ]
     },
     "execution_count": 674,
     "metadata": {},
     "output_type": "execute_result"
    }
   ],
   "source": [
    "# Array of numbers from 1900 to 2021.\n",
    "numbers = np.arange(1900,2022)\n",
    "numbers"
   ]
  },
  {
   "cell_type": "markdown",
   "metadata": {},
   "source": [
    "Array of even numbers between 0 and 100."
   ]
  },
  {
   "cell_type": "code",
   "execution_count": 675,
   "metadata": {},
   "outputs": [
    {
     "data": {
      "text/plain": [
       "array([  0,   2,   4,   6,   8,  10,  12,  14,  16,  18,  20,  22,  24,\n",
       "        26,  28,  30,  32,  34,  36,  38,  40,  42,  44,  46,  48,  50,\n",
       "        52,  54,  56,  58,  60,  62,  64,  66,  68,  70,  72,  74,  76,\n",
       "        78,  80,  82,  84,  86,  88,  90,  92,  94,  96,  98, 100])"
      ]
     },
     "execution_count": 675,
     "metadata": {},
     "output_type": "execute_result"
    }
   ],
   "source": [
    "# Array of even numbers between 0 and 100.\n",
    "numbers = np.arange(0,101,2)\n",
    "numbers\n"
   ]
  },
  {
   "cell_type": "markdown",
   "metadata": {},
   "source": [
    "Array of years that are divisble by 4 between 1950 and 2020."
   ]
  },
  {
   "cell_type": "code",
   "execution_count": 676,
   "metadata": {},
   "outputs": [
    {
     "data": {
      "text/plain": [
       "array([1952, 1956, 1960, 1964, 1968, 1972, 1976, 1980, 1984, 1988, 1992,\n",
       "       1996, 2000, 2004, 2008, 2012, 2016, 2020])"
      ]
     },
     "execution_count": 676,
     "metadata": {},
     "output_type": "execute_result"
    }
   ],
   "source": [
    "# Array of years that are divisble by 4 between 1950 and 2020.\n",
    "numbers = np.arange(1952,2021,4)\n",
    "numbers"
   ]
  },
  {
   "cell_type": "markdown",
   "metadata": {},
   "source": [
    "---"
   ]
  },
  {
   "cell_type": "markdown",
   "metadata": {},
   "source": [
    "### Thoughts about the difference between Exercise 1 and 2 (plain Python and NumPy):\n",
    "\n",
    "It's much easier to use NumPy, particularly because it's faster and it doesn't require loops! \n",
    "\n",
    "It is a worthy mention, however, that the NumPy's arange step begins from the starting value, not the number division.\n",
    "\n",
    "<br>\n",
    "\n",
    "Example: \n",
    "\n",
    "*Array of years that are divisble by 4 between 1950 and 2020*\n",
    "\n",
    "\n",
    "`numbers = np.arange(1950,2021,4)`\n",
    "\n",
    "` [1950,1954,1958, ...]`\n",
    "\n",
    "<br>\n",
    "\n",
    "This is **not correct**, since the step count of 4 is relative from the **starting value, not from the number itself.**\n",
    "\n",
    "\n",
    "\n",
    "\n",
    "\n",
    "\n",
    "\n"
   ]
  },
  {
   "cell_type": "markdown",
   "metadata": {},
   "source": [
    "---"
   ]
  },
  {
   "cell_type": "markdown",
   "metadata": {},
   "source": [
    "<h3>Exercise 3 </h3>\n",
    "<p> Using NumPy vectors and matrices: </p>\n",
    "\n",
    "<ul>\n",
    "  <li> Create a NumPy vector (list) containing these values: 5, 16, 9, 2, 19, 18, 11, 7.</li>\n",
    "  <p> Use argmax() to find the position index of the largest value in the vector, and print it.</p>\n",
    "  <li> Create a 7x7 matrix, with values from 1 to 49. </li>\n",
    "  <p>  Extra task: Create this matrix (list of lists) without NumPy in Python! (without the help of AI!) </p>\n",
    "  <li> Generate 8x8 random number matrix, values between 0 and 5 </li>\n",
    "  <p></p>\n",
    "  <li> Generate 8x8 random number matrix, using standard normal distribution values (= values are between -3 and 3) </li>\n",
    "</ul>"
   ]
  },
  {
   "cell_type": "markdown",
   "metadata": {},
   "source": [
    "---"
   ]
  },
  {
   "cell_type": "markdown",
   "metadata": {},
   "source": [
    "Create a NumPy vector (list) containing these values: 5, 16, 9, 2, 19, 18, 11, 7."
   ]
  },
  {
   "cell_type": "code",
   "execution_count": 677,
   "metadata": {},
   "outputs": [
    {
     "name": "stdout",
     "output_type": "stream",
     "text": [
      " The index of the highest value in the array: 4\n"
     ]
    }
   ],
   "source": [
    "# A NumPy vector (list) containing these values: 5, 16, 9, 2, 19, 18, 11, 7.\n",
    "numbers = [5, 16, 9, 2, 19, 18, 11, 7]\n",
    "data = np.array(numbers)\n",
    "\n",
    "# gives the index of the highest value in the array.\n",
    "max_value_position = data.argmax()\n",
    "\n",
    "print(f\" The index of the highest value in the array: {max_value_position}\")\n"
   ]
  },
  {
   "cell_type": "markdown",
   "metadata": {},
   "source": [
    "Create a 7x7 matrix, with the values from 1 to 49."
   ]
  },
  {
   "cell_type": "code",
   "execution_count": 678,
   "metadata": {},
   "outputs": [
    {
     "data": {
      "text/plain": [
       "array([[ 1,  2,  3,  4,  5,  6,  7],\n",
       "       [ 8,  9, 10, 11, 12, 13, 14],\n",
       "       [15, 16, 17, 18, 19, 20, 21],\n",
       "       [22, 23, 24, 25, 26, 27, 28],\n",
       "       [29, 30, 31, 32, 33, 34, 35],\n",
       "       [36, 37, 38, 39, 40, 41, 42],\n",
       "       [43, 44, 45, 46, 47, 48, 49]])"
      ]
     },
     "execution_count": 678,
     "metadata": {},
     "output_type": "execute_result"
    }
   ],
   "source": [
    "# Create a 7x7 matrix, with the values from 1 to 49.\n",
    "numbers = np.arange(1,50).reshape(7,7)\n",
    "\n",
    "numbers"
   ]
  },
  {
   "cell_type": "markdown",
   "metadata": {},
   "source": [
    "Extra task: Create this matrix (list of lists) without NumPy in Python! (without the help of AI!)"
   ]
  },
  {
   "cell_type": "code",
   "execution_count": 679,
   "metadata": {},
   "outputs": [
    {
     "data": {
      "text/plain": [
       "[[1, 2, 3, 4, 5, 6, 7],\n",
       " [8, 9, 10, 11, 12, 13, 14],\n",
       " [15, 16, 17, 18, 19, 20, 21],\n",
       " [22, 23, 24, 25, 26, 27, 28],\n",
       " [29, 30, 31, 32, 33, 34, 35],\n",
       " [36, 37, 38, 39, 40, 41, 42],\n",
       " [43, 44, 45, 46, 47, 48, 49]]"
      ]
     },
     "execution_count": 679,
     "metadata": {},
     "output_type": "execute_result"
    }
   ],
   "source": [
    "# Create the same matrix, 1-49, 7x7, in Python!\n",
    "\n",
    "# This strategy uses the incrementor to count from 1 - 49.\n",
    "matrix = []\n",
    "increment = 1\n",
    "\n",
    "# For each row, it makes an empty list and fills it with the\n",
    "# Increment number above seven times.\n",
    "for r in range(1,8):\n",
    "  row = []\n",
    "\n",
    "  for i in range(1,8):\n",
    "   row.append(increment)\n",
    "   # It then adds 1 to increment, so it can call the next number.\n",
    "   increment += 1\n",
    "\n",
    "  # Finally, it adds the row to the matrix list.\n",
    "  matrix.append(row)\n",
    "\n",
    "matrix"
   ]
  },
  {
   "cell_type": "markdown",
   "metadata": {},
   "source": [
    "Generate 8x8 random number matrix, values between 0 and 5"
   ]
  },
  {
   "cell_type": "code",
   "execution_count": 680,
   "metadata": {},
   "outputs": [
    {
     "data": {
      "text/plain": [
       "array([[4, 4, 2, 0, 2, 3, 0, 4],\n",
       "       [2, 2, 4, 2, 0, 3, 4, 0],\n",
       "       [2, 1, 1, 0, 4, 4, 1, 3],\n",
       "       [2, 4, 3, 1, 0, 0, 4, 3],\n",
       "       [0, 3, 3, 0, 1, 0, 3, 4],\n",
       "       [3, 2, 1, 4, 3, 3, 0, 3],\n",
       "       [0, 0, 3, 4, 4, 2, 4, 0],\n",
       "       [3, 0, 2, 2, 0, 4, 2, 4]], dtype=int32)"
      ]
     },
     "execution_count": 680,
     "metadata": {},
     "output_type": "execute_result"
    }
   ],
   "source": [
    "# Generate a 8x8 random number matrix with the values between 0 and 5 for each row.append\n",
    "data = np.random.randint(0,5, 64).reshape(8,8)\n",
    "data"
   ]
  },
  {
   "cell_type": "markdown",
   "metadata": {},
   "source": [
    "Generate 8x8 random number matrix, using standard normal distribution values (= values are between -3 and 3)"
   ]
  },
  {
   "cell_type": "code",
   "execution_count": 681,
   "metadata": {},
   "outputs": [
    {
     "data": {
      "text/plain": [
       "array([[ 0.09502358,  0.08857888, -0.50803991,  0.57775915, -1.05410714,\n",
       "        -0.24238659, -0.31970853,  1.24078712],\n",
       "       [-0.15269919, -0.88534222, -0.04820508, -0.15602126, -1.39156104,\n",
       "         0.72652761,  1.00563666,  1.0497243 ],\n",
       "       [-0.23172623,  2.38060548, -0.28649524,  0.22590669,  0.36530377,\n",
       "        -0.68250498,  1.31408518,  0.54354286],\n",
       "       [-0.37929875, -0.43207645,  0.625849  ,  0.94651467, -0.04002579,\n",
       "        -0.31663981, -0.38639605, -1.64846396],\n",
       "       [-0.75033038,  0.46694726, -1.5987419 ,  1.05880299, -1.03799191,\n",
       "        -0.33554984, -1.29182765,  0.98513873],\n",
       "       [ 1.25506141, -0.93517505, -0.41565349, -0.64468658, -0.74048392,\n",
       "         0.54242685,  0.30055349, -2.21101207],\n",
       "       [ 1.66165553,  0.2306075 ,  0.40551545, -2.51417082,  0.51692081,\n",
       "        -0.56906626, -0.7464619 , -2.28318947],\n",
       "       [-0.12056075, -0.41316069, -1.33887231,  0.79981045,  0.29715764,\n",
       "        -0.26249934, -0.95547244, -0.36865464]])"
      ]
     },
     "execution_count": 681,
     "metadata": {},
     "output_type": "execute_result"
    }
   ],
   "source": [
    "# Generate 8x8 random number matrix, using standard normal distribution values (= values are between -3 and 3)\n",
    "data = np.random.randn(8,8)\n",
    "data"
   ]
  },
  {
   "cell_type": "markdown",
   "metadata": {},
   "source": [
    "---"
   ]
  },
  {
   "cell_type": "markdown",
   "metadata": {},
   "source": [
    "### Exercise 4\n",
    " Create a linearly spaced…\n",
    "\n",
    " * array (list/vector) of 10 values between value 0 and 1\n",
    "* 10x10 matrix between values 0 and 5\n",
    "* Extra task: create this matrix without NumPy as well! (without the help of AI!)"
   ]
  },
  {
   "cell_type": "markdown",
   "metadata": {},
   "source": [
    "---"
   ]
  },
  {
   "cell_type": "markdown",
   "metadata": {},
   "source": [
    "Create an array (list/vector) of 10 values between value 0 and 1."
   ]
  },
  {
   "cell_type": "code",
   "execution_count": 682,
   "metadata": {},
   "outputs": [
    {
     "data": {
      "text/plain": [
       "array([0.182333  , 0.0129257 , 0.4279001 , 0.05828096, 0.88574562,\n",
       "       0.35152141, 0.78803073, 0.38298111, 0.9730435 , 0.29450612])"
      ]
     },
     "execution_count": 682,
     "metadata": {},
     "output_type": "execute_result"
    }
   ],
   "source": [
    "# Create an array (list/vector) of 10 values between value 0 and 1.\n",
    "data = np.random.rand(10)\n",
    "data"
   ]
  },
  {
   "cell_type": "markdown",
   "metadata": {},
   "source": [
    "Create an array, 10x10 matrix between values 0 and 5."
   ]
  },
  {
   "cell_type": "code",
   "execution_count": 683,
   "metadata": {},
   "outputs": [
    {
     "data": {
      "text/plain": [
       "array([[4, 3, 4, 2, 0, 3, 2, 5, 3, 0],\n",
       "       [1, 4, 5, 4, 1, 1, 2, 2, 4, 5],\n",
       "       [3, 2, 5, 3, 3, 2, 1, 4, 0, 4],\n",
       "       [2, 5, 3, 5, 2, 4, 1, 1, 5, 5],\n",
       "       [4, 0, 1, 2, 0, 0, 4, 3, 5, 0],\n",
       "       [5, 3, 4, 1, 2, 1, 4, 4, 0, 0],\n",
       "       [1, 4, 0, 5, 4, 4, 2, 2, 2, 1],\n",
       "       [0, 0, 1, 0, 3, 4, 3, 4, 2, 4],\n",
       "       [1, 0, 4, 0, 0, 5, 0, 4, 1, 0],\n",
       "       [2, 4, 1, 1, 5, 0, 3, 2, 4, 0]], dtype=int32)"
      ]
     },
     "execution_count": 683,
     "metadata": {},
     "output_type": "execute_result"
    }
   ],
   "source": [
    "# Create an array, 10x10 matrix between values 0 and 5.\n",
    "data = np.random.randint(0,6, 100).reshape(10,10)\n",
    "data"
   ]
  }
 ],
 "metadata": {
  "kernelspec": {
   "display_name": ".venv",
   "language": "python",
   "name": "python3"
  },
  "language_info": {
   "codemirror_mode": {
    "name": "ipython",
    "version": 3
   },
   "file_extension": ".py",
   "mimetype": "text/x-python",
   "name": "python",
   "nbconvert_exporter": "python",
   "pygments_lexer": "ipython3",
   "version": "3.10.11"
  }
 },
 "nbformat": 4,
 "nbformat_minor": 2
}
