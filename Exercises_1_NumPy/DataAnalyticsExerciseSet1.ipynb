{
 "cells": [
  {
   "attachments": {},
   "cell_type": "markdown",
   "metadata": {},
   "source": [
    "<h3><b>Introduction to Data Analytics - Exercise set 1 - Python and NumPy Basics</b></h3>"
   ]
  },
  {
   "attachments": {},
   "cell_type": "markdown",
   "metadata": {},
   "source": [
    "Put all your exercises (Jupyter Notebooks or Python-files) in your course Git-project.<br /><br />\n",
    "<span style=\"font-weight: bold;\">Use either code comments or Jupyter Notebook markdown (text) to document which exercise you are doing and what a certain code section does!</span><br />\n",
    "\n",
    "<span style=\"font-weight: bold;\">Remember: your Jupyter notebook's clarity (how easy it is to read and understand) also affects your scoring!</span><br /><br />\n",
    "<span style=\"font-weight: bold;\">Remember also: \n",
    "<span style=\"font-weight: bold;\">If you use generative AI in any part of any exercise, \n",
    "MENTION IT CLEARLY! </span><br />\n",
    "<span style=\"font-weight: bold;\">(code comments are enough, also mention the prompts used).</span><br /><br />\n",
    "See also the materials discussing the usage of AI in this course!</span><br /><br />\n",
    "\n",
    "\n",
    "You can return all of these exercises in a single Jupyter Notebook, if you wish.\n",
    "\n",
    "<img src=\"http://srv.plab.fi/~tuomasv/data_analytics_2023_images/exercise_set_1/numpylogo.png\" width=\"250\"/>"
   ]
  },
  {
   "cell_type": "markdown",
   "metadata": {},
   "source": [
    "<b>NOTE!</b> For each subtask, save the result into a separate variable!"
   ]
  },
  {
   "cell_type": "markdown",
   "metadata": {},
   "source": [
    "<b>We can change the default Jupyter style for NumPy arrays by overriding the display formatter:</b>"
   ]
  },
  {
   "cell_type": "code",
   "execution_count": 62,
   "metadata": {},
   "outputs": [
    {
     "data": {
      "text/plain": [
       "<function __main__.<lambda>(arr)>"
      ]
     },
     "execution_count": 62,
     "metadata": {},
     "output_type": "execute_result"
    }
   ],
   "source": [
    "# RUN THIS CODE CELL IN ORDER TO USE THE CUSTOM STYLES\n",
    "from IPython.core.interactiveshell import InteractiveShell\n",
    "from __future__ import print_function\n",
    "import numpy as np\n",
    "import numpy.ma as ma\n",
    "\n",
    "# Custom HTML formatter for NumPy arrays\n",
    "# you can customize the color's if you wish!\n",
    "# NOTE: this can be a bit buggy with some \n",
    "# more advanced NumPy operations, try removing\n",
    "# this custom formatting code if problems arise\n",
    "\n",
    "# NOTE: you can control the amount of decimals by changing \n",
    "# precision value below (9 is enough for the NumPy exercises)\n",
    "def array_to_html(arr, precision=9):\n",
    "    # Round the numbers to the specified precision and convert to string\n",
    "    str_arr = np.round(arr, precision).astype(str)\n",
    "    \n",
    "    # Find the maximum width (longest string length)\n",
    "    max_width = max([len(val) for val in str_arr.flatten()])\n",
    "    \n",
    "    # Create the HTML table with consistent column width and centered text\n",
    "    html = \"<table style='border: 1px solid black; border-collapse: collapse;'>\"\n",
    "    \n",
    "    if arr.ndim == 1:\n",
    "        # Handle 1D array (vector)\n",
    "        for val in str_arr:\n",
    "            html += f\"<tr><td style='padding: 5px; border: 1px solid black; font-weight: bold; width: {max_width}ch; text-align: center;'>{val}</td></tr>\"\n",
    "    else:\n",
    "        # Handle 2D array (matrix)\n",
    "        for row in str_arr:\n",
    "            html += \"<tr>\"\n",
    "            for val in row:\n",
    "                html += f\"<td style='padding: 5px; border: 1px solid black; font-weight: bold; width: {max_width}ch; text-align: center;'>{val}</td>\"\n",
    "            html += \"</tr>\"\n",
    "    \n",
    "    html += \"</table>\"\n",
    "    return html\n",
    "\n",
    "# Register the formatter in IPython\n",
    "InteractiveShell.instance().display_formatter.formatters['text/html'].for_type(\n",
    "    np.ndarray, lambda arr: array_to_html(arr)\n",
    ")\n",
    "\n"
   ]
  },
  {
   "attachments": {},
   "cell_type": "markdown",
   "metadata": {},
   "source": [
    "<h4><b>1. Create these lists without NumPy:</b></h4>\n",
    "\n",
    "- List of 15 ones\n",
    "\n",
    "- List of 15 number 7's\n",
    "\n",
    "- List of numbers from 100 to 150\n",
    "\n",
    "- List of even numbers between 0 and 100\n",
    "\n",
    "- List of years that are divisible by 4 between 1950 and 2020\n",
    "\n",
    "<br>\n",
    "\n",
    "<b>Tip: creating a list with Python code is usually something like this:</b>\n",
    "\n",
    "<pre>\n",
    "numbers = []\n",
    "\n",
    "for x in range(0, 5):\n",
    "    numbers.append(x)\n",
    "</pre>"
   ]
  },
  {
   "cell_type": "code",
   "execution_count": 63,
   "metadata": {},
   "outputs": [
    {
     "name": "stdout",
     "output_type": "stream",
     "text": [
      "[1, 1, 1, 1, 1, 1, 1, 1, 1, 1, 1, 1, 1, 1, 1]\n",
      "The length of the list: 15\n"
     ]
    }
   ],
   "source": [
    "# Exercise 1a\n",
    "# List of 15 ones.\n",
    "numbers = []\n",
    "\n",
    "for x in range(0,15):\n",
    "  numbers.append(1)\n",
    "\n",
    "print(numbers)\n",
    "print(f\"The length of the list: {len(numbers)}\")\n"
   ]
  },
  {
   "cell_type": "code",
   "execution_count": 64,
   "metadata": {},
   "outputs": [
    {
     "name": "stdout",
     "output_type": "stream",
     "text": [
      "[7, 7, 7, 7, 7, 7, 7, 7, 7, 7, 7, 7, 7, 7, 7]\n",
      "The length of the list: 15\n"
     ]
    }
   ],
   "source": [
    "# Question 1b\n",
    "# List of fifteen 7's in a list\n",
    "numbers = []\n",
    "\n",
    "for x in range(0, 15):\n",
    "  numbers.append(7)\n",
    "\n",
    "print(numbers)\n",
    "print(f\"The length of the list: {len(numbers)}\")"
   ]
  },
  {
   "cell_type": "code",
   "execution_count": 65,
   "metadata": {},
   "outputs": [
    {
     "name": "stdout",
     "output_type": "stream",
     "text": [
      "[100, 101, 102, 103, 104, 105, 106, 107, 108, 109, 110, 111, 112, 113, 114, 115, 116, 117, 118, 119, 120, 121, 122, 123, 124, 125, 126, 127, 128, 129, 130, 131, 132, 133, 134, 135, 136, 137, 138, 139, 140, 141, 142, 143, 144, 145, 146, 147, 148, 149, 150]\n",
      "The length of the list: 51\n"
     ]
    }
   ],
   "source": [
    "# Question 1c\n",
    "# Creating a list of numbers from 100 to 150.\n",
    "numbers = []\n",
    "\n",
    "for i in range(100,151):\n",
    "  numbers.append(i)\n",
    "\n",
    "print(numbers)\n",
    "print(f\"The length of the list: {len(numbers)}\")"
   ]
  },
  {
   "cell_type": "code",
   "execution_count": 66,
   "metadata": {},
   "outputs": [
    {
     "name": "stdout",
     "output_type": "stream",
     "text": [
      "[0, 2, 4, 6, 8, 10, 12, 14, 16, 18, 20, 22, 24, 26, 28, 30, 32, 34, 36, 38, 40, 42, 44, 46, 48, 50, 52, 54, 56, 58, 60, 62, 64, 66, 68, 70, 72, 74, 76, 78, 80, 82, 84, 86, 88, 90, 92, 94, 96, 98, 100]\n"
     ]
    }
   ],
   "source": [
    "# Question 1d\n",
    "# A list of even numbers between 0 and 100\n",
    "numbers = []\n",
    "\n",
    "for i in range(0,101):\n",
    "  if i % 2 == 0:\n",
    "    numbers.append(i)\n",
    "\n",
    "print(numbers)\n"
   ]
  },
  {
   "cell_type": "code",
   "execution_count": 67,
   "metadata": {},
   "outputs": [
    {
     "name": "stdout",
     "output_type": "stream",
     "text": [
      "[1952, 1956, 1960, 1964, 1968, 1972, 1976, 1980, 1984, 1988, 1992, 1996, 2000, 2004, 2008, 2012, 2016, 2020]\n"
     ]
    }
   ],
   "source": [
    "# Question 1e\n",
    "# A list of years divisible by 4 in range 1950-2020\n",
    "numbers = []\n",
    "\n",
    "for i in range(1950,2021):\n",
    "  if i % 4 == 0:\n",
    "    numbers.append(i)\n",
    "    \n",
    "print(numbers)"
   ]
  },
  {
   "attachments": {},
   "cell_type": "markdown",
   "metadata": {},
   "source": [
    "<h4><b>2.\tNow, create these arrays with NumPy!</b></h4>\n",
    "\n",
    "- Array of 15 zeroes\n",
    "\n",
    "- Array of 15 ones\n",
    "\n",
    "- Array of 15 number 7's\n",
    "\n",
    "- Array of numbers from 100 to 150\n",
    "\n",
    "- Array of numbers from 1900 to 2021\n",
    "\n",
    "- Array of even numbers between 0 and 100\n",
    "\n",
    "- Array of years that are divisible by 4 between 1950 and 2020\n",
    "\n"
   ]
  },
  {
   "cell_type": "code",
   "execution_count": 68,
   "metadata": {},
   "outputs": [
    {
     "name": "stdout",
     "output_type": "stream",
     "text": [
      "Amount of zeroes in the array: 15\n"
     ]
    },
    {
     "data": {
      "text/html": [
       "<table style='border: 1px solid black; border-collapse: collapse;'><tr><td style='padding: 5px; border: 1px solid black; font-weight: bold; width: 3ch; text-align: center;'>0.0</td></tr><tr><td style='padding: 5px; border: 1px solid black; font-weight: bold; width: 3ch; text-align: center;'>0.0</td></tr><tr><td style='padding: 5px; border: 1px solid black; font-weight: bold; width: 3ch; text-align: center;'>0.0</td></tr><tr><td style='padding: 5px; border: 1px solid black; font-weight: bold; width: 3ch; text-align: center;'>0.0</td></tr><tr><td style='padding: 5px; border: 1px solid black; font-weight: bold; width: 3ch; text-align: center;'>0.0</td></tr><tr><td style='padding: 5px; border: 1px solid black; font-weight: bold; width: 3ch; text-align: center;'>0.0</td></tr><tr><td style='padding: 5px; border: 1px solid black; font-weight: bold; width: 3ch; text-align: center;'>0.0</td></tr><tr><td style='padding: 5px; border: 1px solid black; font-weight: bold; width: 3ch; text-align: center;'>0.0</td></tr><tr><td style='padding: 5px; border: 1px solid black; font-weight: bold; width: 3ch; text-align: center;'>0.0</td></tr><tr><td style='padding: 5px; border: 1px solid black; font-weight: bold; width: 3ch; text-align: center;'>0.0</td></tr><tr><td style='padding: 5px; border: 1px solid black; font-weight: bold; width: 3ch; text-align: center;'>0.0</td></tr><tr><td style='padding: 5px; border: 1px solid black; font-weight: bold; width: 3ch; text-align: center;'>0.0</td></tr><tr><td style='padding: 5px; border: 1px solid black; font-weight: bold; width: 3ch; text-align: center;'>0.0</td></tr><tr><td style='padding: 5px; border: 1px solid black; font-weight: bold; width: 3ch; text-align: center;'>0.0</td></tr><tr><td style='padding: 5px; border: 1px solid black; font-weight: bold; width: 3ch; text-align: center;'>0.0</td></tr></table>"
      ],
      "text/plain": [
       "array([0., 0., 0., 0., 0., 0., 0., 0., 0., 0., 0., 0., 0., 0., 0.])"
      ]
     },
     "execution_count": 68,
     "metadata": {},
     "output_type": "execute_result"
    }
   ],
   "source": [
    "# Exercise 2\n",
    "\n",
    "# create lists WITH NumPy\n",
    "# use additional code cells or different variable names for each subtask\n",
    "# An array of 15 zeroes.\n",
    "numbers = np.zeros(15)\n",
    "print(f\"Amount of zeroes in the array: {len(numbers)}\")\n",
    "numbers"
   ]
  },
  {
   "cell_type": "code",
   "execution_count": 69,
   "metadata": {},
   "outputs": [
    {
     "name": "stdout",
     "output_type": "stream",
     "text": [
      "Amount of ones in the array: 15\n"
     ]
    },
    {
     "data": {
      "text/html": [
       "<table style='border: 1px solid black; border-collapse: collapse;'><tr><td style='padding: 5px; border: 1px solid black; font-weight: bold; width: 3ch; text-align: center;'>1.0</td></tr><tr><td style='padding: 5px; border: 1px solid black; font-weight: bold; width: 3ch; text-align: center;'>1.0</td></tr><tr><td style='padding: 5px; border: 1px solid black; font-weight: bold; width: 3ch; text-align: center;'>1.0</td></tr><tr><td style='padding: 5px; border: 1px solid black; font-weight: bold; width: 3ch; text-align: center;'>1.0</td></tr><tr><td style='padding: 5px; border: 1px solid black; font-weight: bold; width: 3ch; text-align: center;'>1.0</td></tr><tr><td style='padding: 5px; border: 1px solid black; font-weight: bold; width: 3ch; text-align: center;'>1.0</td></tr><tr><td style='padding: 5px; border: 1px solid black; font-weight: bold; width: 3ch; text-align: center;'>1.0</td></tr><tr><td style='padding: 5px; border: 1px solid black; font-weight: bold; width: 3ch; text-align: center;'>1.0</td></tr><tr><td style='padding: 5px; border: 1px solid black; font-weight: bold; width: 3ch; text-align: center;'>1.0</td></tr><tr><td style='padding: 5px; border: 1px solid black; font-weight: bold; width: 3ch; text-align: center;'>1.0</td></tr><tr><td style='padding: 5px; border: 1px solid black; font-weight: bold; width: 3ch; text-align: center;'>1.0</td></tr><tr><td style='padding: 5px; border: 1px solid black; font-weight: bold; width: 3ch; text-align: center;'>1.0</td></tr><tr><td style='padding: 5px; border: 1px solid black; font-weight: bold; width: 3ch; text-align: center;'>1.0</td></tr><tr><td style='padding: 5px; border: 1px solid black; font-weight: bold; width: 3ch; text-align: center;'>1.0</td></tr><tr><td style='padding: 5px; border: 1px solid black; font-weight: bold; width: 3ch; text-align: center;'>1.0</td></tr></table>"
      ],
      "text/plain": [
       "array([1., 1., 1., 1., 1., 1., 1., 1., 1., 1., 1., 1., 1., 1., 1.])"
      ]
     },
     "execution_count": 69,
     "metadata": {},
     "output_type": "execute_result"
    }
   ],
   "source": [
    "# Question 2a\n",
    "# An array of 15 ones.\n",
    "numbers = np.ones(15)\n",
    "print(f\"Amount of ones in the array: {len(numbers)}\")\n",
    "numbers\n"
   ]
  },
  {
   "cell_type": "code",
   "execution_count": 70,
   "metadata": {},
   "outputs": [
    {
     "name": "stdout",
     "output_type": "stream",
     "text": [
      "Amount of sevens in the array: 15\n"
     ]
    },
    {
     "data": {
      "text/html": [
       "<table style='border: 1px solid black; border-collapse: collapse;'><tr><td style='padding: 5px; border: 1px solid black; font-weight: bold; width: 1ch; text-align: center;'>7</td></tr><tr><td style='padding: 5px; border: 1px solid black; font-weight: bold; width: 1ch; text-align: center;'>7</td></tr><tr><td style='padding: 5px; border: 1px solid black; font-weight: bold; width: 1ch; text-align: center;'>7</td></tr><tr><td style='padding: 5px; border: 1px solid black; font-weight: bold; width: 1ch; text-align: center;'>7</td></tr><tr><td style='padding: 5px; border: 1px solid black; font-weight: bold; width: 1ch; text-align: center;'>7</td></tr><tr><td style='padding: 5px; border: 1px solid black; font-weight: bold; width: 1ch; text-align: center;'>7</td></tr><tr><td style='padding: 5px; border: 1px solid black; font-weight: bold; width: 1ch; text-align: center;'>7</td></tr><tr><td style='padding: 5px; border: 1px solid black; font-weight: bold; width: 1ch; text-align: center;'>7</td></tr><tr><td style='padding: 5px; border: 1px solid black; font-weight: bold; width: 1ch; text-align: center;'>7</td></tr><tr><td style='padding: 5px; border: 1px solid black; font-weight: bold; width: 1ch; text-align: center;'>7</td></tr><tr><td style='padding: 5px; border: 1px solid black; font-weight: bold; width: 1ch; text-align: center;'>7</td></tr><tr><td style='padding: 5px; border: 1px solid black; font-weight: bold; width: 1ch; text-align: center;'>7</td></tr><tr><td style='padding: 5px; border: 1px solid black; font-weight: bold; width: 1ch; text-align: center;'>7</td></tr><tr><td style='padding: 5px; border: 1px solid black; font-weight: bold; width: 1ch; text-align: center;'>7</td></tr><tr><td style='padding: 5px; border: 1px solid black; font-weight: bold; width: 1ch; text-align: center;'>7</td></tr></table>"
      ],
      "text/plain": [
       "array([7, 7, 7, 7, 7, 7, 7, 7, 7, 7, 7, 7, 7, 7, 7])"
      ]
     },
     "execution_count": 70,
     "metadata": {},
     "output_type": "execute_result"
    }
   ],
   "source": [
    "# Question 2b\n",
    "# An array of 15 number 7's.\n",
    "numbers = np.ones(15).astype(int)*7\n",
    "print(f\"Amount of sevens in the array: {len(numbers)}\")\n",
    "numbers\n"
   ]
  },
  {
   "cell_type": "code",
   "execution_count": 71,
   "metadata": {},
   "outputs": [
    {
     "data": {
      "text/html": [
       "<table style='border: 1px solid black; border-collapse: collapse;'><tr><td style='padding: 5px; border: 1px solid black; font-weight: bold; width: 3ch; text-align: center;'>100</td></tr><tr><td style='padding: 5px; border: 1px solid black; font-weight: bold; width: 3ch; text-align: center;'>101</td></tr><tr><td style='padding: 5px; border: 1px solid black; font-weight: bold; width: 3ch; text-align: center;'>102</td></tr><tr><td style='padding: 5px; border: 1px solid black; font-weight: bold; width: 3ch; text-align: center;'>103</td></tr><tr><td style='padding: 5px; border: 1px solid black; font-weight: bold; width: 3ch; text-align: center;'>104</td></tr><tr><td style='padding: 5px; border: 1px solid black; font-weight: bold; width: 3ch; text-align: center;'>105</td></tr><tr><td style='padding: 5px; border: 1px solid black; font-weight: bold; width: 3ch; text-align: center;'>106</td></tr><tr><td style='padding: 5px; border: 1px solid black; font-weight: bold; width: 3ch; text-align: center;'>107</td></tr><tr><td style='padding: 5px; border: 1px solid black; font-weight: bold; width: 3ch; text-align: center;'>108</td></tr><tr><td style='padding: 5px; border: 1px solid black; font-weight: bold; width: 3ch; text-align: center;'>109</td></tr><tr><td style='padding: 5px; border: 1px solid black; font-weight: bold; width: 3ch; text-align: center;'>110</td></tr><tr><td style='padding: 5px; border: 1px solid black; font-weight: bold; width: 3ch; text-align: center;'>111</td></tr><tr><td style='padding: 5px; border: 1px solid black; font-weight: bold; width: 3ch; text-align: center;'>112</td></tr><tr><td style='padding: 5px; border: 1px solid black; font-weight: bold; width: 3ch; text-align: center;'>113</td></tr><tr><td style='padding: 5px; border: 1px solid black; font-weight: bold; width: 3ch; text-align: center;'>114</td></tr><tr><td style='padding: 5px; border: 1px solid black; font-weight: bold; width: 3ch; text-align: center;'>115</td></tr><tr><td style='padding: 5px; border: 1px solid black; font-weight: bold; width: 3ch; text-align: center;'>116</td></tr><tr><td style='padding: 5px; border: 1px solid black; font-weight: bold; width: 3ch; text-align: center;'>117</td></tr><tr><td style='padding: 5px; border: 1px solid black; font-weight: bold; width: 3ch; text-align: center;'>118</td></tr><tr><td style='padding: 5px; border: 1px solid black; font-weight: bold; width: 3ch; text-align: center;'>119</td></tr><tr><td style='padding: 5px; border: 1px solid black; font-weight: bold; width: 3ch; text-align: center;'>120</td></tr><tr><td style='padding: 5px; border: 1px solid black; font-weight: bold; width: 3ch; text-align: center;'>121</td></tr><tr><td style='padding: 5px; border: 1px solid black; font-weight: bold; width: 3ch; text-align: center;'>122</td></tr><tr><td style='padding: 5px; border: 1px solid black; font-weight: bold; width: 3ch; text-align: center;'>123</td></tr><tr><td style='padding: 5px; border: 1px solid black; font-weight: bold; width: 3ch; text-align: center;'>124</td></tr><tr><td style='padding: 5px; border: 1px solid black; font-weight: bold; width: 3ch; text-align: center;'>125</td></tr><tr><td style='padding: 5px; border: 1px solid black; font-weight: bold; width: 3ch; text-align: center;'>126</td></tr><tr><td style='padding: 5px; border: 1px solid black; font-weight: bold; width: 3ch; text-align: center;'>127</td></tr><tr><td style='padding: 5px; border: 1px solid black; font-weight: bold; width: 3ch; text-align: center;'>128</td></tr><tr><td style='padding: 5px; border: 1px solid black; font-weight: bold; width: 3ch; text-align: center;'>129</td></tr><tr><td style='padding: 5px; border: 1px solid black; font-weight: bold; width: 3ch; text-align: center;'>130</td></tr><tr><td style='padding: 5px; border: 1px solid black; font-weight: bold; width: 3ch; text-align: center;'>131</td></tr><tr><td style='padding: 5px; border: 1px solid black; font-weight: bold; width: 3ch; text-align: center;'>132</td></tr><tr><td style='padding: 5px; border: 1px solid black; font-weight: bold; width: 3ch; text-align: center;'>133</td></tr><tr><td style='padding: 5px; border: 1px solid black; font-weight: bold; width: 3ch; text-align: center;'>134</td></tr><tr><td style='padding: 5px; border: 1px solid black; font-weight: bold; width: 3ch; text-align: center;'>135</td></tr><tr><td style='padding: 5px; border: 1px solid black; font-weight: bold; width: 3ch; text-align: center;'>136</td></tr><tr><td style='padding: 5px; border: 1px solid black; font-weight: bold; width: 3ch; text-align: center;'>137</td></tr><tr><td style='padding: 5px; border: 1px solid black; font-weight: bold; width: 3ch; text-align: center;'>138</td></tr><tr><td style='padding: 5px; border: 1px solid black; font-weight: bold; width: 3ch; text-align: center;'>139</td></tr><tr><td style='padding: 5px; border: 1px solid black; font-weight: bold; width: 3ch; text-align: center;'>140</td></tr><tr><td style='padding: 5px; border: 1px solid black; font-weight: bold; width: 3ch; text-align: center;'>141</td></tr><tr><td style='padding: 5px; border: 1px solid black; font-weight: bold; width: 3ch; text-align: center;'>142</td></tr><tr><td style='padding: 5px; border: 1px solid black; font-weight: bold; width: 3ch; text-align: center;'>143</td></tr><tr><td style='padding: 5px; border: 1px solid black; font-weight: bold; width: 3ch; text-align: center;'>144</td></tr><tr><td style='padding: 5px; border: 1px solid black; font-weight: bold; width: 3ch; text-align: center;'>145</td></tr><tr><td style='padding: 5px; border: 1px solid black; font-weight: bold; width: 3ch; text-align: center;'>146</td></tr><tr><td style='padding: 5px; border: 1px solid black; font-weight: bold; width: 3ch; text-align: center;'>147</td></tr><tr><td style='padding: 5px; border: 1px solid black; font-weight: bold; width: 3ch; text-align: center;'>148</td></tr><tr><td style='padding: 5px; border: 1px solid black; font-weight: bold; width: 3ch; text-align: center;'>149</td></tr><tr><td style='padding: 5px; border: 1px solid black; font-weight: bold; width: 3ch; text-align: center;'>150</td></tr></table>"
      ],
      "text/plain": [
       "array([100, 101, 102, 103, 104, 105, 106, 107, 108, 109, 110, 111, 112,\n",
       "       113, 114, 115, 116, 117, 118, 119, 120, 121, 122, 123, 124, 125,\n",
       "       126, 127, 128, 129, 130, 131, 132, 133, 134, 135, 136, 137, 138,\n",
       "       139, 140, 141, 142, 143, 144, 145, 146, 147, 148, 149, 150])"
      ]
     },
     "execution_count": 71,
     "metadata": {},
     "output_type": "execute_result"
    }
   ],
   "source": [
    "# Question 2c\n",
    "# Array of numbers from 100 to 150.\n",
    "numbers = np.arange(100,151)\n",
    "numbers"
   ]
  },
  {
   "cell_type": "code",
   "execution_count": 72,
   "metadata": {},
   "outputs": [
    {
     "data": {
      "text/html": [
       "<table style='border: 1px solid black; border-collapse: collapse;'><tr><td style='padding: 5px; border: 1px solid black; font-weight: bold; width: 4ch; text-align: center;'>1900</td></tr><tr><td style='padding: 5px; border: 1px solid black; font-weight: bold; width: 4ch; text-align: center;'>1901</td></tr><tr><td style='padding: 5px; border: 1px solid black; font-weight: bold; width: 4ch; text-align: center;'>1902</td></tr><tr><td style='padding: 5px; border: 1px solid black; font-weight: bold; width: 4ch; text-align: center;'>1903</td></tr><tr><td style='padding: 5px; border: 1px solid black; font-weight: bold; width: 4ch; text-align: center;'>1904</td></tr><tr><td style='padding: 5px; border: 1px solid black; font-weight: bold; width: 4ch; text-align: center;'>1905</td></tr><tr><td style='padding: 5px; border: 1px solid black; font-weight: bold; width: 4ch; text-align: center;'>1906</td></tr><tr><td style='padding: 5px; border: 1px solid black; font-weight: bold; width: 4ch; text-align: center;'>1907</td></tr><tr><td style='padding: 5px; border: 1px solid black; font-weight: bold; width: 4ch; text-align: center;'>1908</td></tr><tr><td style='padding: 5px; border: 1px solid black; font-weight: bold; width: 4ch; text-align: center;'>1909</td></tr><tr><td style='padding: 5px; border: 1px solid black; font-weight: bold; width: 4ch; text-align: center;'>1910</td></tr><tr><td style='padding: 5px; border: 1px solid black; font-weight: bold; width: 4ch; text-align: center;'>1911</td></tr><tr><td style='padding: 5px; border: 1px solid black; font-weight: bold; width: 4ch; text-align: center;'>1912</td></tr><tr><td style='padding: 5px; border: 1px solid black; font-weight: bold; width: 4ch; text-align: center;'>1913</td></tr><tr><td style='padding: 5px; border: 1px solid black; font-weight: bold; width: 4ch; text-align: center;'>1914</td></tr><tr><td style='padding: 5px; border: 1px solid black; font-weight: bold; width: 4ch; text-align: center;'>1915</td></tr><tr><td style='padding: 5px; border: 1px solid black; font-weight: bold; width: 4ch; text-align: center;'>1916</td></tr><tr><td style='padding: 5px; border: 1px solid black; font-weight: bold; width: 4ch; text-align: center;'>1917</td></tr><tr><td style='padding: 5px; border: 1px solid black; font-weight: bold; width: 4ch; text-align: center;'>1918</td></tr><tr><td style='padding: 5px; border: 1px solid black; font-weight: bold; width: 4ch; text-align: center;'>1919</td></tr><tr><td style='padding: 5px; border: 1px solid black; font-weight: bold; width: 4ch; text-align: center;'>1920</td></tr><tr><td style='padding: 5px; border: 1px solid black; font-weight: bold; width: 4ch; text-align: center;'>1921</td></tr><tr><td style='padding: 5px; border: 1px solid black; font-weight: bold; width: 4ch; text-align: center;'>1922</td></tr><tr><td style='padding: 5px; border: 1px solid black; font-weight: bold; width: 4ch; text-align: center;'>1923</td></tr><tr><td style='padding: 5px; border: 1px solid black; font-weight: bold; width: 4ch; text-align: center;'>1924</td></tr><tr><td style='padding: 5px; border: 1px solid black; font-weight: bold; width: 4ch; text-align: center;'>1925</td></tr><tr><td style='padding: 5px; border: 1px solid black; font-weight: bold; width: 4ch; text-align: center;'>1926</td></tr><tr><td style='padding: 5px; border: 1px solid black; font-weight: bold; width: 4ch; text-align: center;'>1927</td></tr><tr><td style='padding: 5px; border: 1px solid black; font-weight: bold; width: 4ch; text-align: center;'>1928</td></tr><tr><td style='padding: 5px; border: 1px solid black; font-weight: bold; width: 4ch; text-align: center;'>1929</td></tr><tr><td style='padding: 5px; border: 1px solid black; font-weight: bold; width: 4ch; text-align: center;'>1930</td></tr><tr><td style='padding: 5px; border: 1px solid black; font-weight: bold; width: 4ch; text-align: center;'>1931</td></tr><tr><td style='padding: 5px; border: 1px solid black; font-weight: bold; width: 4ch; text-align: center;'>1932</td></tr><tr><td style='padding: 5px; border: 1px solid black; font-weight: bold; width: 4ch; text-align: center;'>1933</td></tr><tr><td style='padding: 5px; border: 1px solid black; font-weight: bold; width: 4ch; text-align: center;'>1934</td></tr><tr><td style='padding: 5px; border: 1px solid black; font-weight: bold; width: 4ch; text-align: center;'>1935</td></tr><tr><td style='padding: 5px; border: 1px solid black; font-weight: bold; width: 4ch; text-align: center;'>1936</td></tr><tr><td style='padding: 5px; border: 1px solid black; font-weight: bold; width: 4ch; text-align: center;'>1937</td></tr><tr><td style='padding: 5px; border: 1px solid black; font-weight: bold; width: 4ch; text-align: center;'>1938</td></tr><tr><td style='padding: 5px; border: 1px solid black; font-weight: bold; width: 4ch; text-align: center;'>1939</td></tr><tr><td style='padding: 5px; border: 1px solid black; font-weight: bold; width: 4ch; text-align: center;'>1940</td></tr><tr><td style='padding: 5px; border: 1px solid black; font-weight: bold; width: 4ch; text-align: center;'>1941</td></tr><tr><td style='padding: 5px; border: 1px solid black; font-weight: bold; width: 4ch; text-align: center;'>1942</td></tr><tr><td style='padding: 5px; border: 1px solid black; font-weight: bold; width: 4ch; text-align: center;'>1943</td></tr><tr><td style='padding: 5px; border: 1px solid black; font-weight: bold; width: 4ch; text-align: center;'>1944</td></tr><tr><td style='padding: 5px; border: 1px solid black; font-weight: bold; width: 4ch; text-align: center;'>1945</td></tr><tr><td style='padding: 5px; border: 1px solid black; font-weight: bold; width: 4ch; text-align: center;'>1946</td></tr><tr><td style='padding: 5px; border: 1px solid black; font-weight: bold; width: 4ch; text-align: center;'>1947</td></tr><tr><td style='padding: 5px; border: 1px solid black; font-weight: bold; width: 4ch; text-align: center;'>1948</td></tr><tr><td style='padding: 5px; border: 1px solid black; font-weight: bold; width: 4ch; text-align: center;'>1949</td></tr><tr><td style='padding: 5px; border: 1px solid black; font-weight: bold; width: 4ch; text-align: center;'>1950</td></tr><tr><td style='padding: 5px; border: 1px solid black; font-weight: bold; width: 4ch; text-align: center;'>1951</td></tr><tr><td style='padding: 5px; border: 1px solid black; font-weight: bold; width: 4ch; text-align: center;'>1952</td></tr><tr><td style='padding: 5px; border: 1px solid black; font-weight: bold; width: 4ch; text-align: center;'>1953</td></tr><tr><td style='padding: 5px; border: 1px solid black; font-weight: bold; width: 4ch; text-align: center;'>1954</td></tr><tr><td style='padding: 5px; border: 1px solid black; font-weight: bold; width: 4ch; text-align: center;'>1955</td></tr><tr><td style='padding: 5px; border: 1px solid black; font-weight: bold; width: 4ch; text-align: center;'>1956</td></tr><tr><td style='padding: 5px; border: 1px solid black; font-weight: bold; width: 4ch; text-align: center;'>1957</td></tr><tr><td style='padding: 5px; border: 1px solid black; font-weight: bold; width: 4ch; text-align: center;'>1958</td></tr><tr><td style='padding: 5px; border: 1px solid black; font-weight: bold; width: 4ch; text-align: center;'>1959</td></tr><tr><td style='padding: 5px; border: 1px solid black; font-weight: bold; width: 4ch; text-align: center;'>1960</td></tr><tr><td style='padding: 5px; border: 1px solid black; font-weight: bold; width: 4ch; text-align: center;'>1961</td></tr><tr><td style='padding: 5px; border: 1px solid black; font-weight: bold; width: 4ch; text-align: center;'>1962</td></tr><tr><td style='padding: 5px; border: 1px solid black; font-weight: bold; width: 4ch; text-align: center;'>1963</td></tr><tr><td style='padding: 5px; border: 1px solid black; font-weight: bold; width: 4ch; text-align: center;'>1964</td></tr><tr><td style='padding: 5px; border: 1px solid black; font-weight: bold; width: 4ch; text-align: center;'>1965</td></tr><tr><td style='padding: 5px; border: 1px solid black; font-weight: bold; width: 4ch; text-align: center;'>1966</td></tr><tr><td style='padding: 5px; border: 1px solid black; font-weight: bold; width: 4ch; text-align: center;'>1967</td></tr><tr><td style='padding: 5px; border: 1px solid black; font-weight: bold; width: 4ch; text-align: center;'>1968</td></tr><tr><td style='padding: 5px; border: 1px solid black; font-weight: bold; width: 4ch; text-align: center;'>1969</td></tr><tr><td style='padding: 5px; border: 1px solid black; font-weight: bold; width: 4ch; text-align: center;'>1970</td></tr><tr><td style='padding: 5px; border: 1px solid black; font-weight: bold; width: 4ch; text-align: center;'>1971</td></tr><tr><td style='padding: 5px; border: 1px solid black; font-weight: bold; width: 4ch; text-align: center;'>1972</td></tr><tr><td style='padding: 5px; border: 1px solid black; font-weight: bold; width: 4ch; text-align: center;'>1973</td></tr><tr><td style='padding: 5px; border: 1px solid black; font-weight: bold; width: 4ch; text-align: center;'>1974</td></tr><tr><td style='padding: 5px; border: 1px solid black; font-weight: bold; width: 4ch; text-align: center;'>1975</td></tr><tr><td style='padding: 5px; border: 1px solid black; font-weight: bold; width: 4ch; text-align: center;'>1976</td></tr><tr><td style='padding: 5px; border: 1px solid black; font-weight: bold; width: 4ch; text-align: center;'>1977</td></tr><tr><td style='padding: 5px; border: 1px solid black; font-weight: bold; width: 4ch; text-align: center;'>1978</td></tr><tr><td style='padding: 5px; border: 1px solid black; font-weight: bold; width: 4ch; text-align: center;'>1979</td></tr><tr><td style='padding: 5px; border: 1px solid black; font-weight: bold; width: 4ch; text-align: center;'>1980</td></tr><tr><td style='padding: 5px; border: 1px solid black; font-weight: bold; width: 4ch; text-align: center;'>1981</td></tr><tr><td style='padding: 5px; border: 1px solid black; font-weight: bold; width: 4ch; text-align: center;'>1982</td></tr><tr><td style='padding: 5px; border: 1px solid black; font-weight: bold; width: 4ch; text-align: center;'>1983</td></tr><tr><td style='padding: 5px; border: 1px solid black; font-weight: bold; width: 4ch; text-align: center;'>1984</td></tr><tr><td style='padding: 5px; border: 1px solid black; font-weight: bold; width: 4ch; text-align: center;'>1985</td></tr><tr><td style='padding: 5px; border: 1px solid black; font-weight: bold; width: 4ch; text-align: center;'>1986</td></tr><tr><td style='padding: 5px; border: 1px solid black; font-weight: bold; width: 4ch; text-align: center;'>1987</td></tr><tr><td style='padding: 5px; border: 1px solid black; font-weight: bold; width: 4ch; text-align: center;'>1988</td></tr><tr><td style='padding: 5px; border: 1px solid black; font-weight: bold; width: 4ch; text-align: center;'>1989</td></tr><tr><td style='padding: 5px; border: 1px solid black; font-weight: bold; width: 4ch; text-align: center;'>1990</td></tr><tr><td style='padding: 5px; border: 1px solid black; font-weight: bold; width: 4ch; text-align: center;'>1991</td></tr><tr><td style='padding: 5px; border: 1px solid black; font-weight: bold; width: 4ch; text-align: center;'>1992</td></tr><tr><td style='padding: 5px; border: 1px solid black; font-weight: bold; width: 4ch; text-align: center;'>1993</td></tr><tr><td style='padding: 5px; border: 1px solid black; font-weight: bold; width: 4ch; text-align: center;'>1994</td></tr><tr><td style='padding: 5px; border: 1px solid black; font-weight: bold; width: 4ch; text-align: center;'>1995</td></tr><tr><td style='padding: 5px; border: 1px solid black; font-weight: bold; width: 4ch; text-align: center;'>1996</td></tr><tr><td style='padding: 5px; border: 1px solid black; font-weight: bold; width: 4ch; text-align: center;'>1997</td></tr><tr><td style='padding: 5px; border: 1px solid black; font-weight: bold; width: 4ch; text-align: center;'>1998</td></tr><tr><td style='padding: 5px; border: 1px solid black; font-weight: bold; width: 4ch; text-align: center;'>1999</td></tr><tr><td style='padding: 5px; border: 1px solid black; font-weight: bold; width: 4ch; text-align: center;'>2000</td></tr><tr><td style='padding: 5px; border: 1px solid black; font-weight: bold; width: 4ch; text-align: center;'>2001</td></tr><tr><td style='padding: 5px; border: 1px solid black; font-weight: bold; width: 4ch; text-align: center;'>2002</td></tr><tr><td style='padding: 5px; border: 1px solid black; font-weight: bold; width: 4ch; text-align: center;'>2003</td></tr><tr><td style='padding: 5px; border: 1px solid black; font-weight: bold; width: 4ch; text-align: center;'>2004</td></tr><tr><td style='padding: 5px; border: 1px solid black; font-weight: bold; width: 4ch; text-align: center;'>2005</td></tr><tr><td style='padding: 5px; border: 1px solid black; font-weight: bold; width: 4ch; text-align: center;'>2006</td></tr><tr><td style='padding: 5px; border: 1px solid black; font-weight: bold; width: 4ch; text-align: center;'>2007</td></tr><tr><td style='padding: 5px; border: 1px solid black; font-weight: bold; width: 4ch; text-align: center;'>2008</td></tr><tr><td style='padding: 5px; border: 1px solid black; font-weight: bold; width: 4ch; text-align: center;'>2009</td></tr><tr><td style='padding: 5px; border: 1px solid black; font-weight: bold; width: 4ch; text-align: center;'>2010</td></tr><tr><td style='padding: 5px; border: 1px solid black; font-weight: bold; width: 4ch; text-align: center;'>2011</td></tr><tr><td style='padding: 5px; border: 1px solid black; font-weight: bold; width: 4ch; text-align: center;'>2012</td></tr><tr><td style='padding: 5px; border: 1px solid black; font-weight: bold; width: 4ch; text-align: center;'>2013</td></tr><tr><td style='padding: 5px; border: 1px solid black; font-weight: bold; width: 4ch; text-align: center;'>2014</td></tr><tr><td style='padding: 5px; border: 1px solid black; font-weight: bold; width: 4ch; text-align: center;'>2015</td></tr><tr><td style='padding: 5px; border: 1px solid black; font-weight: bold; width: 4ch; text-align: center;'>2016</td></tr><tr><td style='padding: 5px; border: 1px solid black; font-weight: bold; width: 4ch; text-align: center;'>2017</td></tr><tr><td style='padding: 5px; border: 1px solid black; font-weight: bold; width: 4ch; text-align: center;'>2018</td></tr><tr><td style='padding: 5px; border: 1px solid black; font-weight: bold; width: 4ch; text-align: center;'>2019</td></tr><tr><td style='padding: 5px; border: 1px solid black; font-weight: bold; width: 4ch; text-align: center;'>2020</td></tr><tr><td style='padding: 5px; border: 1px solid black; font-weight: bold; width: 4ch; text-align: center;'>2021</td></tr></table>"
      ],
      "text/plain": [
       "array([1900, 1901, 1902, 1903, 1904, 1905, 1906, 1907, 1908, 1909, 1910,\n",
       "       1911, 1912, 1913, 1914, 1915, 1916, 1917, 1918, 1919, 1920, 1921,\n",
       "       1922, 1923, 1924, 1925, 1926, 1927, 1928, 1929, 1930, 1931, 1932,\n",
       "       1933, 1934, 1935, 1936, 1937, 1938, 1939, 1940, 1941, 1942, 1943,\n",
       "       1944, 1945, 1946, 1947, 1948, 1949, 1950, 1951, 1952, 1953, 1954,\n",
       "       1955, 1956, 1957, 1958, 1959, 1960, 1961, 1962, 1963, 1964, 1965,\n",
       "       1966, 1967, 1968, 1969, 1970, 1971, 1972, 1973, 1974, 1975, 1976,\n",
       "       1977, 1978, 1979, 1980, 1981, 1982, 1983, 1984, 1985, 1986, 1987,\n",
       "       1988, 1989, 1990, 1991, 1992, 1993, 1994, 1995, 1996, 1997, 1998,\n",
       "       1999, 2000, 2001, 2002, 2003, 2004, 2005, 2006, 2007, 2008, 2009,\n",
       "       2010, 2011, 2012, 2013, 2014, 2015, 2016, 2017, 2018, 2019, 2020,\n",
       "       2021])"
      ]
     },
     "execution_count": 72,
     "metadata": {},
     "output_type": "execute_result"
    }
   ],
   "source": [
    "# Question 2d\n",
    "# Array of numbers from 1900 to 2021.\n",
    "numbers = np.arange(1900,2022)\n",
    "\n",
    "# Uses print (since it's 1-Dimensional.)\n",
    "numbers"
   ]
  },
  {
   "cell_type": "code",
   "execution_count": 73,
   "metadata": {},
   "outputs": [
    {
     "data": {
      "text/html": [
       "<table style='border: 1px solid black; border-collapse: collapse;'><tr><td style='padding: 5px; border: 1px solid black; font-weight: bold; width: 3ch; text-align: center;'>0</td></tr><tr><td style='padding: 5px; border: 1px solid black; font-weight: bold; width: 3ch; text-align: center;'>2</td></tr><tr><td style='padding: 5px; border: 1px solid black; font-weight: bold; width: 3ch; text-align: center;'>4</td></tr><tr><td style='padding: 5px; border: 1px solid black; font-weight: bold; width: 3ch; text-align: center;'>6</td></tr><tr><td style='padding: 5px; border: 1px solid black; font-weight: bold; width: 3ch; text-align: center;'>8</td></tr><tr><td style='padding: 5px; border: 1px solid black; font-weight: bold; width: 3ch; text-align: center;'>10</td></tr><tr><td style='padding: 5px; border: 1px solid black; font-weight: bold; width: 3ch; text-align: center;'>12</td></tr><tr><td style='padding: 5px; border: 1px solid black; font-weight: bold; width: 3ch; text-align: center;'>14</td></tr><tr><td style='padding: 5px; border: 1px solid black; font-weight: bold; width: 3ch; text-align: center;'>16</td></tr><tr><td style='padding: 5px; border: 1px solid black; font-weight: bold; width: 3ch; text-align: center;'>18</td></tr><tr><td style='padding: 5px; border: 1px solid black; font-weight: bold; width: 3ch; text-align: center;'>20</td></tr><tr><td style='padding: 5px; border: 1px solid black; font-weight: bold; width: 3ch; text-align: center;'>22</td></tr><tr><td style='padding: 5px; border: 1px solid black; font-weight: bold; width: 3ch; text-align: center;'>24</td></tr><tr><td style='padding: 5px; border: 1px solid black; font-weight: bold; width: 3ch; text-align: center;'>26</td></tr><tr><td style='padding: 5px; border: 1px solid black; font-weight: bold; width: 3ch; text-align: center;'>28</td></tr><tr><td style='padding: 5px; border: 1px solid black; font-weight: bold; width: 3ch; text-align: center;'>30</td></tr><tr><td style='padding: 5px; border: 1px solid black; font-weight: bold; width: 3ch; text-align: center;'>32</td></tr><tr><td style='padding: 5px; border: 1px solid black; font-weight: bold; width: 3ch; text-align: center;'>34</td></tr><tr><td style='padding: 5px; border: 1px solid black; font-weight: bold; width: 3ch; text-align: center;'>36</td></tr><tr><td style='padding: 5px; border: 1px solid black; font-weight: bold; width: 3ch; text-align: center;'>38</td></tr><tr><td style='padding: 5px; border: 1px solid black; font-weight: bold; width: 3ch; text-align: center;'>40</td></tr><tr><td style='padding: 5px; border: 1px solid black; font-weight: bold; width: 3ch; text-align: center;'>42</td></tr><tr><td style='padding: 5px; border: 1px solid black; font-weight: bold; width: 3ch; text-align: center;'>44</td></tr><tr><td style='padding: 5px; border: 1px solid black; font-weight: bold; width: 3ch; text-align: center;'>46</td></tr><tr><td style='padding: 5px; border: 1px solid black; font-weight: bold; width: 3ch; text-align: center;'>48</td></tr><tr><td style='padding: 5px; border: 1px solid black; font-weight: bold; width: 3ch; text-align: center;'>50</td></tr><tr><td style='padding: 5px; border: 1px solid black; font-weight: bold; width: 3ch; text-align: center;'>52</td></tr><tr><td style='padding: 5px; border: 1px solid black; font-weight: bold; width: 3ch; text-align: center;'>54</td></tr><tr><td style='padding: 5px; border: 1px solid black; font-weight: bold; width: 3ch; text-align: center;'>56</td></tr><tr><td style='padding: 5px; border: 1px solid black; font-weight: bold; width: 3ch; text-align: center;'>58</td></tr><tr><td style='padding: 5px; border: 1px solid black; font-weight: bold; width: 3ch; text-align: center;'>60</td></tr><tr><td style='padding: 5px; border: 1px solid black; font-weight: bold; width: 3ch; text-align: center;'>62</td></tr><tr><td style='padding: 5px; border: 1px solid black; font-weight: bold; width: 3ch; text-align: center;'>64</td></tr><tr><td style='padding: 5px; border: 1px solid black; font-weight: bold; width: 3ch; text-align: center;'>66</td></tr><tr><td style='padding: 5px; border: 1px solid black; font-weight: bold; width: 3ch; text-align: center;'>68</td></tr><tr><td style='padding: 5px; border: 1px solid black; font-weight: bold; width: 3ch; text-align: center;'>70</td></tr><tr><td style='padding: 5px; border: 1px solid black; font-weight: bold; width: 3ch; text-align: center;'>72</td></tr><tr><td style='padding: 5px; border: 1px solid black; font-weight: bold; width: 3ch; text-align: center;'>74</td></tr><tr><td style='padding: 5px; border: 1px solid black; font-weight: bold; width: 3ch; text-align: center;'>76</td></tr><tr><td style='padding: 5px; border: 1px solid black; font-weight: bold; width: 3ch; text-align: center;'>78</td></tr><tr><td style='padding: 5px; border: 1px solid black; font-weight: bold; width: 3ch; text-align: center;'>80</td></tr><tr><td style='padding: 5px; border: 1px solid black; font-weight: bold; width: 3ch; text-align: center;'>82</td></tr><tr><td style='padding: 5px; border: 1px solid black; font-weight: bold; width: 3ch; text-align: center;'>84</td></tr><tr><td style='padding: 5px; border: 1px solid black; font-weight: bold; width: 3ch; text-align: center;'>86</td></tr><tr><td style='padding: 5px; border: 1px solid black; font-weight: bold; width: 3ch; text-align: center;'>88</td></tr><tr><td style='padding: 5px; border: 1px solid black; font-weight: bold; width: 3ch; text-align: center;'>90</td></tr><tr><td style='padding: 5px; border: 1px solid black; font-weight: bold; width: 3ch; text-align: center;'>92</td></tr><tr><td style='padding: 5px; border: 1px solid black; font-weight: bold; width: 3ch; text-align: center;'>94</td></tr><tr><td style='padding: 5px; border: 1px solid black; font-weight: bold; width: 3ch; text-align: center;'>96</td></tr><tr><td style='padding: 5px; border: 1px solid black; font-weight: bold; width: 3ch; text-align: center;'>98</td></tr><tr><td style='padding: 5px; border: 1px solid black; font-weight: bold; width: 3ch; text-align: center;'>100</td></tr></table>"
      ],
      "text/plain": [
       "array([  0,   2,   4,   6,   8,  10,  12,  14,  16,  18,  20,  22,  24,\n",
       "        26,  28,  30,  32,  34,  36,  38,  40,  42,  44,  46,  48,  50,\n",
       "        52,  54,  56,  58,  60,  62,  64,  66,  68,  70,  72,  74,  76,\n",
       "        78,  80,  82,  84,  86,  88,  90,  92,  94,  96,  98, 100])"
      ]
     },
     "execution_count": 73,
     "metadata": {},
     "output_type": "execute_result"
    }
   ],
   "source": [
    "# Question 2e\n",
    "# Array of even numbers between 0 and 100. (the two means step-2.)\n",
    "numbers = np.arange(0,101,2)\n",
    "\n",
    "# Using print (since it's 1-Dimensional.)\n",
    "numbers"
   ]
  },
  {
   "cell_type": "code",
   "execution_count": 74,
   "metadata": {},
   "outputs": [
    {
     "data": {
      "text/html": [
       "<table style='border: 1px solid black; border-collapse: collapse;'><tr><td style='padding: 5px; border: 1px solid black; font-weight: bold; width: 4ch; text-align: center;'>1952</td></tr><tr><td style='padding: 5px; border: 1px solid black; font-weight: bold; width: 4ch; text-align: center;'>1956</td></tr><tr><td style='padding: 5px; border: 1px solid black; font-weight: bold; width: 4ch; text-align: center;'>1960</td></tr><tr><td style='padding: 5px; border: 1px solid black; font-weight: bold; width: 4ch; text-align: center;'>1964</td></tr><tr><td style='padding: 5px; border: 1px solid black; font-weight: bold; width: 4ch; text-align: center;'>1968</td></tr><tr><td style='padding: 5px; border: 1px solid black; font-weight: bold; width: 4ch; text-align: center;'>1972</td></tr><tr><td style='padding: 5px; border: 1px solid black; font-weight: bold; width: 4ch; text-align: center;'>1976</td></tr><tr><td style='padding: 5px; border: 1px solid black; font-weight: bold; width: 4ch; text-align: center;'>1980</td></tr><tr><td style='padding: 5px; border: 1px solid black; font-weight: bold; width: 4ch; text-align: center;'>1984</td></tr><tr><td style='padding: 5px; border: 1px solid black; font-weight: bold; width: 4ch; text-align: center;'>1988</td></tr><tr><td style='padding: 5px; border: 1px solid black; font-weight: bold; width: 4ch; text-align: center;'>1992</td></tr><tr><td style='padding: 5px; border: 1px solid black; font-weight: bold; width: 4ch; text-align: center;'>1996</td></tr><tr><td style='padding: 5px; border: 1px solid black; font-weight: bold; width: 4ch; text-align: center;'>2000</td></tr><tr><td style='padding: 5px; border: 1px solid black; font-weight: bold; width: 4ch; text-align: center;'>2004</td></tr><tr><td style='padding: 5px; border: 1px solid black; font-weight: bold; width: 4ch; text-align: center;'>2008</td></tr><tr><td style='padding: 5px; border: 1px solid black; font-weight: bold; width: 4ch; text-align: center;'>2012</td></tr><tr><td style='padding: 5px; border: 1px solid black; font-weight: bold; width: 4ch; text-align: center;'>2016</td></tr><tr><td style='padding: 5px; border: 1px solid black; font-weight: bold; width: 4ch; text-align: center;'>2020</td></tr></table>"
      ],
      "text/plain": [
       "array([1952, 1956, 1960, 1964, 1968, 1972, 1976, 1980, 1984, 1988, 1992,\n",
       "       1996, 2000, 2004, 2008, 2012, 2016, 2020])"
      ]
     },
     "execution_count": 74,
     "metadata": {},
     "output_type": "execute_result"
    }
   ],
   "source": [
    "# Question 2f\n",
    "# Array of years that are divisble by 4 between 1950 and 2020.\n",
    "numbers = np.arange(1952,2021,4)\n",
    "\n",
    "# Using print (since it's 1-Dimensional.)\n",
    "numbers"
   ]
  },
  {
   "attachments": {},
   "cell_type": "markdown",
   "metadata": {},
   "source": [
    "<h4><b style=\"color: red\">Note: compare the NumPy code to the plain Python code after doing the exercises. Easier or more difficult? :) \n",
    "(answer in code comments or as text in Jupyter Notebook)</b></h4>\n",
    "See below"
   ]
  },
  {
   "cell_type": "markdown",
   "metadata": {},
   "source": [
    "---\n",
    "\n",
    "### My thoughts about the difference between Exercise 1 and 2 (plain Python and NumPy):\n",
    "\n",
    "It's much easier to use NumPy compared to python, particularly because it's faster and it doesn't require loops.\n",
    "It is a worthy mention, however, that the NumPy's arange step begins from the starting value, not the number division.\n",
    "\n",
    "Example: \n",
    "*Array of years that are divisble by 4 between 1950 and 2020*\n",
    "\n",
    "`numbers = np.arange(1950,2021,4)`\n",
    "\n",
    "` [1950,1954,1958, ...]`\n",
    "\n",
    "<br>\n",
    "\n",
    "This almost caught me off guard!, since the step count of 4 is relative from the **starting value, not from the number itself.**\n",
    "\n",
    "\n",
    "---\n"
   ]
  },
  {
   "cell_type": "markdown",
   "metadata": {},
   "source": [
    "<h3><b>3. Let's try out NumPy vectors and matrices:</b></h3>\n",
    "\n",
    "- Create a NumPy vector (list) containing these values:<br>\n",
    "<b><i>5, 16, 9, 2, 19, 18, 11, 7</i></b><br>\n",
    "    - Use argmax() to find the position index of the largest value in the vector, and print it\n",
    "<br><br>\n",
    "- Create a 7x7 matrix, with values from 1 to 49\n",
    "\n",
    "    - Extra task: Create this matrix (list of lists) without NumPy in Python! <b>(Without the help of AI!)</b>\n",
    "\n",
    "<br>\n",
    "\n",
    "- Generate 8x8 random number matrix, values between 0 and 5\n",
    "\n",
    "- Generate 8x8 random number matrix, using standard normal distribution values (= values are between -3 and 3)"
   ]
  },
  {
   "cell_type": "code",
   "execution_count": 75,
   "metadata": {},
   "outputs": [],
   "source": [
    "# Exercise 3a\n",
    "# A NumPy vector (list) containing these values: 5, 16, 9, 2, 19, 18, 11, 7.\n",
    "numbers = [5, 16, 9, 2, 19, 18, 11, 7]\n",
    "data = np.array(numbers)"
   ]
  },
  {
   "cell_type": "code",
   "execution_count": 76,
   "metadata": {},
   "outputs": [
    {
     "name": "stdout",
     "output_type": "stream",
     "text": [
      " The index of highest value: 4\n"
     ]
    }
   ],
   "source": [
    "# Using argmax() to find the position of the largest value.\n",
    "max_value_position = data.argmax()\n",
    "\n",
    "print(f\" The index of highest value: {max_value_position}\")"
   ]
  },
  {
   "cell_type": "code",
   "execution_count": 77,
   "metadata": {},
   "outputs": [
    {
     "data": {
      "text/html": [
       "<table style='border: 1px solid black; border-collapse: collapse;'><tr><td style='padding: 5px; border: 1px solid black; font-weight: bold; width: 2ch; text-align: center;'>1</td><td style='padding: 5px; border: 1px solid black; font-weight: bold; width: 2ch; text-align: center;'>2</td><td style='padding: 5px; border: 1px solid black; font-weight: bold; width: 2ch; text-align: center;'>3</td><td style='padding: 5px; border: 1px solid black; font-weight: bold; width: 2ch; text-align: center;'>4</td><td style='padding: 5px; border: 1px solid black; font-weight: bold; width: 2ch; text-align: center;'>5</td><td style='padding: 5px; border: 1px solid black; font-weight: bold; width: 2ch; text-align: center;'>6</td><td style='padding: 5px; border: 1px solid black; font-weight: bold; width: 2ch; text-align: center;'>7</td></tr><tr><td style='padding: 5px; border: 1px solid black; font-weight: bold; width: 2ch; text-align: center;'>8</td><td style='padding: 5px; border: 1px solid black; font-weight: bold; width: 2ch; text-align: center;'>9</td><td style='padding: 5px; border: 1px solid black; font-weight: bold; width: 2ch; text-align: center;'>10</td><td style='padding: 5px; border: 1px solid black; font-weight: bold; width: 2ch; text-align: center;'>11</td><td style='padding: 5px; border: 1px solid black; font-weight: bold; width: 2ch; text-align: center;'>12</td><td style='padding: 5px; border: 1px solid black; font-weight: bold; width: 2ch; text-align: center;'>13</td><td style='padding: 5px; border: 1px solid black; font-weight: bold; width: 2ch; text-align: center;'>14</td></tr><tr><td style='padding: 5px; border: 1px solid black; font-weight: bold; width: 2ch; text-align: center;'>15</td><td style='padding: 5px; border: 1px solid black; font-weight: bold; width: 2ch; text-align: center;'>16</td><td style='padding: 5px; border: 1px solid black; font-weight: bold; width: 2ch; text-align: center;'>17</td><td style='padding: 5px; border: 1px solid black; font-weight: bold; width: 2ch; text-align: center;'>18</td><td style='padding: 5px; border: 1px solid black; font-weight: bold; width: 2ch; text-align: center;'>19</td><td style='padding: 5px; border: 1px solid black; font-weight: bold; width: 2ch; text-align: center;'>20</td><td style='padding: 5px; border: 1px solid black; font-weight: bold; width: 2ch; text-align: center;'>21</td></tr><tr><td style='padding: 5px; border: 1px solid black; font-weight: bold; width: 2ch; text-align: center;'>22</td><td style='padding: 5px; border: 1px solid black; font-weight: bold; width: 2ch; text-align: center;'>23</td><td style='padding: 5px; border: 1px solid black; font-weight: bold; width: 2ch; text-align: center;'>24</td><td style='padding: 5px; border: 1px solid black; font-weight: bold; width: 2ch; text-align: center;'>25</td><td style='padding: 5px; border: 1px solid black; font-weight: bold; width: 2ch; text-align: center;'>26</td><td style='padding: 5px; border: 1px solid black; font-weight: bold; width: 2ch; text-align: center;'>27</td><td style='padding: 5px; border: 1px solid black; font-weight: bold; width: 2ch; text-align: center;'>28</td></tr><tr><td style='padding: 5px; border: 1px solid black; font-weight: bold; width: 2ch; text-align: center;'>29</td><td style='padding: 5px; border: 1px solid black; font-weight: bold; width: 2ch; text-align: center;'>30</td><td style='padding: 5px; border: 1px solid black; font-weight: bold; width: 2ch; text-align: center;'>31</td><td style='padding: 5px; border: 1px solid black; font-weight: bold; width: 2ch; text-align: center;'>32</td><td style='padding: 5px; border: 1px solid black; font-weight: bold; width: 2ch; text-align: center;'>33</td><td style='padding: 5px; border: 1px solid black; font-weight: bold; width: 2ch; text-align: center;'>34</td><td style='padding: 5px; border: 1px solid black; font-weight: bold; width: 2ch; text-align: center;'>35</td></tr><tr><td style='padding: 5px; border: 1px solid black; font-weight: bold; width: 2ch; text-align: center;'>36</td><td style='padding: 5px; border: 1px solid black; font-weight: bold; width: 2ch; text-align: center;'>37</td><td style='padding: 5px; border: 1px solid black; font-weight: bold; width: 2ch; text-align: center;'>38</td><td style='padding: 5px; border: 1px solid black; font-weight: bold; width: 2ch; text-align: center;'>39</td><td style='padding: 5px; border: 1px solid black; font-weight: bold; width: 2ch; text-align: center;'>40</td><td style='padding: 5px; border: 1px solid black; font-weight: bold; width: 2ch; text-align: center;'>41</td><td style='padding: 5px; border: 1px solid black; font-weight: bold; width: 2ch; text-align: center;'>42</td></tr><tr><td style='padding: 5px; border: 1px solid black; font-weight: bold; width: 2ch; text-align: center;'>43</td><td style='padding: 5px; border: 1px solid black; font-weight: bold; width: 2ch; text-align: center;'>44</td><td style='padding: 5px; border: 1px solid black; font-weight: bold; width: 2ch; text-align: center;'>45</td><td style='padding: 5px; border: 1px solid black; font-weight: bold; width: 2ch; text-align: center;'>46</td><td style='padding: 5px; border: 1px solid black; font-weight: bold; width: 2ch; text-align: center;'>47</td><td style='padding: 5px; border: 1px solid black; font-weight: bold; width: 2ch; text-align: center;'>48</td><td style='padding: 5px; border: 1px solid black; font-weight: bold; width: 2ch; text-align: center;'>49</td></tr></table>"
      ],
      "text/plain": [
       "array([[ 1,  2,  3,  4,  5,  6,  7],\n",
       "       [ 8,  9, 10, 11, 12, 13, 14],\n",
       "       [15, 16, 17, 18, 19, 20, 21],\n",
       "       [22, 23, 24, 25, 26, 27, 28],\n",
       "       [29, 30, 31, 32, 33, 34, 35],\n",
       "       [36, 37, 38, 39, 40, 41, 42],\n",
       "       [43, 44, 45, 46, 47, 48, 49]])"
      ]
     },
     "execution_count": 77,
     "metadata": {},
     "output_type": "execute_result"
    }
   ],
   "source": [
    "# Question 3b\n",
    "# Create a 7x7 matrix, with the values from 1 to 49.\n",
    "numbers = np.arange(1,50).reshape(7,7)\n",
    "numbers"
   ]
  },
  {
   "cell_type": "code",
   "execution_count": 78,
   "metadata": {},
   "outputs": [
    {
     "data": {
      "text/plain": [
       "[[1, 2, 3, 4, 5, 6, 7],\n",
       " [8, 9, 10, 11, 12, 13, 14],\n",
       " [15, 16, 17, 18, 19, 20, 21],\n",
       " [22, 23, 24, 25, 26, 27, 28],\n",
       " [29, 30, 31, 32, 33, 34, 35],\n",
       " [36, 37, 38, 39, 40, 41, 42],\n",
       " [43, 44, 45, 46, 47, 48, 49]]"
      ]
     },
     "execution_count": 78,
     "metadata": {},
     "output_type": "execute_result"
    }
   ],
   "source": [
    "# Question 3c\n",
    "# Extra Task!\n",
    "# Create the same matrix, 1-49, 7x7, in plain Python!\n",
    "\n",
    "# This method uses an incrementor to count from 1 - 49.\n",
    "data = []\n",
    "increment = 1\n",
    "\n",
    "# For each row, it makes an empty list and fills it with the\n",
    "# Increment number above seven times.\n",
    "for r in range(1,8):\n",
    "  row = []\n",
    "\n",
    "  for i in range(1,8):\n",
    "   row.append(increment)\n",
    "   # It then adds 1 to increment, so it can call the next number.\n",
    "   increment += 1\n",
    "\n",
    "  # Finally, it adds the row to the matrix list.\n",
    "  data.append(row)\n",
    "data"
   ]
  },
  {
   "cell_type": "code",
   "execution_count": 79,
   "metadata": {},
   "outputs": [
    {
     "data": {
      "text/html": [
       "<table style='border: 1px solid black; border-collapse: collapse;'><tr><td style='padding: 5px; border: 1px solid black; font-weight: bold; width: 1ch; text-align: center;'>2</td><td style='padding: 5px; border: 1px solid black; font-weight: bold; width: 1ch; text-align: center;'>3</td><td style='padding: 5px; border: 1px solid black; font-weight: bold; width: 1ch; text-align: center;'>4</td><td style='padding: 5px; border: 1px solid black; font-weight: bold; width: 1ch; text-align: center;'>2</td><td style='padding: 5px; border: 1px solid black; font-weight: bold; width: 1ch; text-align: center;'>2</td><td style='padding: 5px; border: 1px solid black; font-weight: bold; width: 1ch; text-align: center;'>1</td><td style='padding: 5px; border: 1px solid black; font-weight: bold; width: 1ch; text-align: center;'>2</td><td style='padding: 5px; border: 1px solid black; font-weight: bold; width: 1ch; text-align: center;'>1</td></tr><tr><td style='padding: 5px; border: 1px solid black; font-weight: bold; width: 1ch; text-align: center;'>3</td><td style='padding: 5px; border: 1px solid black; font-weight: bold; width: 1ch; text-align: center;'>4</td><td style='padding: 5px; border: 1px solid black; font-weight: bold; width: 1ch; text-align: center;'>2</td><td style='padding: 5px; border: 1px solid black; font-weight: bold; width: 1ch; text-align: center;'>4</td><td style='padding: 5px; border: 1px solid black; font-weight: bold; width: 1ch; text-align: center;'>0</td><td style='padding: 5px; border: 1px solid black; font-weight: bold; width: 1ch; text-align: center;'>2</td><td style='padding: 5px; border: 1px solid black; font-weight: bold; width: 1ch; text-align: center;'>4</td><td style='padding: 5px; border: 1px solid black; font-weight: bold; width: 1ch; text-align: center;'>2</td></tr><tr><td style='padding: 5px; border: 1px solid black; font-weight: bold; width: 1ch; text-align: center;'>1</td><td style='padding: 5px; border: 1px solid black; font-weight: bold; width: 1ch; text-align: center;'>1</td><td style='padding: 5px; border: 1px solid black; font-weight: bold; width: 1ch; text-align: center;'>3</td><td style='padding: 5px; border: 1px solid black; font-weight: bold; width: 1ch; text-align: center;'>0</td><td style='padding: 5px; border: 1px solid black; font-weight: bold; width: 1ch; text-align: center;'>3</td><td style='padding: 5px; border: 1px solid black; font-weight: bold; width: 1ch; text-align: center;'>1</td><td style='padding: 5px; border: 1px solid black; font-weight: bold; width: 1ch; text-align: center;'>2</td><td style='padding: 5px; border: 1px solid black; font-weight: bold; width: 1ch; text-align: center;'>1</td></tr><tr><td style='padding: 5px; border: 1px solid black; font-weight: bold; width: 1ch; text-align: center;'>4</td><td style='padding: 5px; border: 1px solid black; font-weight: bold; width: 1ch; text-align: center;'>1</td><td style='padding: 5px; border: 1px solid black; font-weight: bold; width: 1ch; text-align: center;'>0</td><td style='padding: 5px; border: 1px solid black; font-weight: bold; width: 1ch; text-align: center;'>4</td><td style='padding: 5px; border: 1px solid black; font-weight: bold; width: 1ch; text-align: center;'>0</td><td style='padding: 5px; border: 1px solid black; font-weight: bold; width: 1ch; text-align: center;'>4</td><td style='padding: 5px; border: 1px solid black; font-weight: bold; width: 1ch; text-align: center;'>1</td><td style='padding: 5px; border: 1px solid black; font-weight: bold; width: 1ch; text-align: center;'>0</td></tr><tr><td style='padding: 5px; border: 1px solid black; font-weight: bold; width: 1ch; text-align: center;'>2</td><td style='padding: 5px; border: 1px solid black; font-weight: bold; width: 1ch; text-align: center;'>1</td><td style='padding: 5px; border: 1px solid black; font-weight: bold; width: 1ch; text-align: center;'>3</td><td style='padding: 5px; border: 1px solid black; font-weight: bold; width: 1ch; text-align: center;'>3</td><td style='padding: 5px; border: 1px solid black; font-weight: bold; width: 1ch; text-align: center;'>1</td><td style='padding: 5px; border: 1px solid black; font-weight: bold; width: 1ch; text-align: center;'>2</td><td style='padding: 5px; border: 1px solid black; font-weight: bold; width: 1ch; text-align: center;'>4</td><td style='padding: 5px; border: 1px solid black; font-weight: bold; width: 1ch; text-align: center;'>0</td></tr><tr><td style='padding: 5px; border: 1px solid black; font-weight: bold; width: 1ch; text-align: center;'>4</td><td style='padding: 5px; border: 1px solid black; font-weight: bold; width: 1ch; text-align: center;'>0</td><td style='padding: 5px; border: 1px solid black; font-weight: bold; width: 1ch; text-align: center;'>1</td><td style='padding: 5px; border: 1px solid black; font-weight: bold; width: 1ch; text-align: center;'>4</td><td style='padding: 5px; border: 1px solid black; font-weight: bold; width: 1ch; text-align: center;'>3</td><td style='padding: 5px; border: 1px solid black; font-weight: bold; width: 1ch; text-align: center;'>0</td><td style='padding: 5px; border: 1px solid black; font-weight: bold; width: 1ch; text-align: center;'>4</td><td style='padding: 5px; border: 1px solid black; font-weight: bold; width: 1ch; text-align: center;'>1</td></tr><tr><td style='padding: 5px; border: 1px solid black; font-weight: bold; width: 1ch; text-align: center;'>1</td><td style='padding: 5px; border: 1px solid black; font-weight: bold; width: 1ch; text-align: center;'>0</td><td style='padding: 5px; border: 1px solid black; font-weight: bold; width: 1ch; text-align: center;'>4</td><td style='padding: 5px; border: 1px solid black; font-weight: bold; width: 1ch; text-align: center;'>3</td><td style='padding: 5px; border: 1px solid black; font-weight: bold; width: 1ch; text-align: center;'>2</td><td style='padding: 5px; border: 1px solid black; font-weight: bold; width: 1ch; text-align: center;'>4</td><td style='padding: 5px; border: 1px solid black; font-weight: bold; width: 1ch; text-align: center;'>2</td><td style='padding: 5px; border: 1px solid black; font-weight: bold; width: 1ch; text-align: center;'>0</td></tr><tr><td style='padding: 5px; border: 1px solid black; font-weight: bold; width: 1ch; text-align: center;'>3</td><td style='padding: 5px; border: 1px solid black; font-weight: bold; width: 1ch; text-align: center;'>3</td><td style='padding: 5px; border: 1px solid black; font-weight: bold; width: 1ch; text-align: center;'>0</td><td style='padding: 5px; border: 1px solid black; font-weight: bold; width: 1ch; text-align: center;'>2</td><td style='padding: 5px; border: 1px solid black; font-weight: bold; width: 1ch; text-align: center;'>2</td><td style='padding: 5px; border: 1px solid black; font-weight: bold; width: 1ch; text-align: center;'>3</td><td style='padding: 5px; border: 1px solid black; font-weight: bold; width: 1ch; text-align: center;'>1</td><td style='padding: 5px; border: 1px solid black; font-weight: bold; width: 1ch; text-align: center;'>1</td></tr></table>"
      ],
      "text/plain": [
       "array([[2, 3, 4, 2, 2, 1, 2, 1],\n",
       "       [3, 4, 2, 4, 0, 2, 4, 2],\n",
       "       [1, 1, 3, 0, 3, 1, 2, 1],\n",
       "       [4, 1, 0, 4, 0, 4, 1, 0],\n",
       "       [2, 1, 3, 3, 1, 2, 4, 0],\n",
       "       [4, 0, 1, 4, 3, 0, 4, 1],\n",
       "       [1, 0, 4, 3, 2, 4, 2, 0],\n",
       "       [3, 3, 0, 2, 2, 3, 1, 1]], dtype=int32)"
      ]
     },
     "execution_count": 79,
     "metadata": {},
     "output_type": "execute_result"
    }
   ],
   "source": [
    "# Question 3d\n",
    "# Generate a 8x8 random number matrix with the values between 0 and 5\n",
    "data = np.random.randint(0,5, 64).reshape(8,8)\n",
    "data"
   ]
  },
  {
   "cell_type": "code",
   "execution_count": 80,
   "metadata": {},
   "outputs": [
    {
     "data": {
      "text/html": [
       "<table style='border: 1px solid black; border-collapse: collapse;'><tr><td style='padding: 5px; border: 1px solid black; font-weight: bold; width: 5ch; text-align: center;'>0.28</td><td style='padding: 5px; border: 1px solid black; font-weight: bold; width: 5ch; text-align: center;'>0.14</td><td style='padding: 5px; border: 1px solid black; font-weight: bold; width: 5ch; text-align: center;'>0.95</td><td style='padding: 5px; border: 1px solid black; font-weight: bold; width: 5ch; text-align: center;'>0.58</td><td style='padding: 5px; border: 1px solid black; font-weight: bold; width: 5ch; text-align: center;'>-0.76</td><td style='padding: 5px; border: 1px solid black; font-weight: bold; width: 5ch; text-align: center;'>0.18</td><td style='padding: 5px; border: 1px solid black; font-weight: bold; width: 5ch; text-align: center;'>-0.21</td><td style='padding: 5px; border: 1px solid black; font-weight: bold; width: 5ch; text-align: center;'>2.1</td></tr><tr><td style='padding: 5px; border: 1px solid black; font-weight: bold; width: 5ch; text-align: center;'>-1.49</td><td style='padding: 5px; border: 1px solid black; font-weight: bold; width: 5ch; text-align: center;'>-0.65</td><td style='padding: 5px; border: 1px solid black; font-weight: bold; width: 5ch; text-align: center;'>-0.71</td><td style='padding: 5px; border: 1px solid black; font-weight: bold; width: 5ch; text-align: center;'>1.15</td><td style='padding: 5px; border: 1px solid black; font-weight: bold; width: 5ch; text-align: center;'>1.5</td><td style='padding: 5px; border: 1px solid black; font-weight: bold; width: 5ch; text-align: center;'>-0.33</td><td style='padding: 5px; border: 1px solid black; font-weight: bold; width: 5ch; text-align: center;'>0.83</td><td style='padding: 5px; border: 1px solid black; font-weight: bold; width: 5ch; text-align: center;'>-1.26</td></tr><tr><td style='padding: 5px; border: 1px solid black; font-weight: bold; width: 5ch; text-align: center;'>0.49</td><td style='padding: 5px; border: 1px solid black; font-weight: bold; width: 5ch; text-align: center;'>0.03</td><td style='padding: 5px; border: 1px solid black; font-weight: bold; width: 5ch; text-align: center;'>-0.39</td><td style='padding: 5px; border: 1px solid black; font-weight: bold; width: 5ch; text-align: center;'>0.17</td><td style='padding: 5px; border: 1px solid black; font-weight: bold; width: 5ch; text-align: center;'>2.19</td><td style='padding: 5px; border: 1px solid black; font-weight: bold; width: 5ch; text-align: center;'>-0.05</td><td style='padding: 5px; border: 1px solid black; font-weight: bold; width: 5ch; text-align: center;'>0.24</td><td style='padding: 5px; border: 1px solid black; font-weight: bold; width: 5ch; text-align: center;'>0.28</td></tr><tr><td style='padding: 5px; border: 1px solid black; font-weight: bold; width: 5ch; text-align: center;'>-0.83</td><td style='padding: 5px; border: 1px solid black; font-weight: bold; width: 5ch; text-align: center;'>0.34</td><td style='padding: 5px; border: 1px solid black; font-weight: bold; width: 5ch; text-align: center;'>0.59</td><td style='padding: 5px; border: 1px solid black; font-weight: bold; width: 5ch; text-align: center;'>0.12</td><td style='padding: 5px; border: 1px solid black; font-weight: bold; width: 5ch; text-align: center;'>-0.96</td><td style='padding: 5px; border: 1px solid black; font-weight: bold; width: 5ch; text-align: center;'>0.25</td><td style='padding: 5px; border: 1px solid black; font-weight: bold; width: 5ch; text-align: center;'>-0.9</td><td style='padding: 5px; border: 1px solid black; font-weight: bold; width: 5ch; text-align: center;'>1.87</td></tr><tr><td style='padding: 5px; border: 1px solid black; font-weight: bold; width: 5ch; text-align: center;'>1.03</td><td style='padding: 5px; border: 1px solid black; font-weight: bold; width: 5ch; text-align: center;'>-0.55</td><td style='padding: 5px; border: 1px solid black; font-weight: bold; width: 5ch; text-align: center;'>0.44</td><td style='padding: 5px; border: 1px solid black; font-weight: bold; width: 5ch; text-align: center;'>-0.26</td><td style='padding: 5px; border: 1px solid black; font-weight: bold; width: 5ch; text-align: center;'>1.55</td><td style='padding: 5px; border: 1px solid black; font-weight: bold; width: 5ch; text-align: center;'>0.49</td><td style='padding: 5px; border: 1px solid black; font-weight: bold; width: 5ch; text-align: center;'>0.07</td><td style='padding: 5px; border: 1px solid black; font-weight: bold; width: 5ch; text-align: center;'>0.44</td></tr><tr><td style='padding: 5px; border: 1px solid black; font-weight: bold; width: 5ch; text-align: center;'>0.59</td><td style='padding: 5px; border: 1px solid black; font-weight: bold; width: 5ch; text-align: center;'>1.48</td><td style='padding: 5px; border: 1px solid black; font-weight: bold; width: 5ch; text-align: center;'>-1.14</td><td style='padding: 5px; border: 1px solid black; font-weight: bold; width: 5ch; text-align: center;'>-0.15</td><td style='padding: 5px; border: 1px solid black; font-weight: bold; width: 5ch; text-align: center;'>-1.19</td><td style='padding: 5px; border: 1px solid black; font-weight: bold; width: 5ch; text-align: center;'>0.55</td><td style='padding: 5px; border: 1px solid black; font-weight: bold; width: 5ch; text-align: center;'>0.64</td><td style='padding: 5px; border: 1px solid black; font-weight: bold; width: 5ch; text-align: center;'>-0.53</td></tr><tr><td style='padding: 5px; border: 1px solid black; font-weight: bold; width: 5ch; text-align: center;'>2.42</td><td style='padding: 5px; border: 1px solid black; font-weight: bold; width: 5ch; text-align: center;'>0.24</td><td style='padding: 5px; border: 1px solid black; font-weight: bold; width: 5ch; text-align: center;'>-1.44</td><td style='padding: 5px; border: 1px solid black; font-weight: bold; width: 5ch; text-align: center;'>-0.05</td><td style='padding: 5px; border: 1px solid black; font-weight: bold; width: 5ch; text-align: center;'>-0.95</td><td style='padding: 5px; border: 1px solid black; font-weight: bold; width: 5ch; text-align: center;'>-0.06</td><td style='padding: 5px; border: 1px solid black; font-weight: bold; width: 5ch; text-align: center;'>-0.53</td><td style='padding: 5px; border: 1px solid black; font-weight: bold; width: 5ch; text-align: center;'>0.51</td></tr><tr><td style='padding: 5px; border: 1px solid black; font-weight: bold; width: 5ch; text-align: center;'>0.74</td><td style='padding: 5px; border: 1px solid black; font-weight: bold; width: 5ch; text-align: center;'>-0.02</td><td style='padding: 5px; border: 1px solid black; font-weight: bold; width: 5ch; text-align: center;'>0.44</td><td style='padding: 5px; border: 1px solid black; font-weight: bold; width: 5ch; text-align: center;'>-0.08</td><td style='padding: 5px; border: 1px solid black; font-weight: bold; width: 5ch; text-align: center;'>1.05</td><td style='padding: 5px; border: 1px solid black; font-weight: bold; width: 5ch; text-align: center;'>-0.71</td><td style='padding: 5px; border: 1px solid black; font-weight: bold; width: 5ch; text-align: center;'>1.03</td><td style='padding: 5px; border: 1px solid black; font-weight: bold; width: 5ch; text-align: center;'>-0.82</td></tr></table>"
      ],
      "text/plain": [
       "array([[ 0.28,  0.14,  0.95,  0.58, -0.76,  0.18, -0.21,  2.1 ],\n",
       "       [-1.49, -0.65, -0.71,  1.15,  1.5 , -0.33,  0.83, -1.26],\n",
       "       [ 0.49,  0.03, -0.39,  0.17,  2.19, -0.05,  0.24,  0.28],\n",
       "       [-0.83,  0.34,  0.59,  0.12, -0.96,  0.25, -0.9 ,  1.87],\n",
       "       [ 1.03, -0.55,  0.44, -0.26,  1.55,  0.49,  0.07,  0.44],\n",
       "       [ 0.59,  1.48, -1.14, -0.15, -1.19,  0.55,  0.64, -0.53],\n",
       "       [ 2.42,  0.24, -1.44, -0.05, -0.95, -0.06, -0.53,  0.51],\n",
       "       [ 0.74, -0.02,  0.44, -0.08,  1.05, -0.71,  1.03, -0.82]])"
      ]
     },
     "execution_count": 80,
     "metadata": {},
     "output_type": "execute_result"
    }
   ],
   "source": [
    "# Question 3e\n",
    "# Generating a 8x8 random number matrix, using standard normal distribution values (= values are between -3 and 3)\n",
    "data = np.random.randn(8,8)\n",
    "np.round(data,2)"
   ]
  },
  {
   "attachments": {},
   "cell_type": "markdown",
   "metadata": {},
   "source": [
    "<h3><b>4. Create a linearly spaced… </b></h3>\n",
    "\n",
    "- array (list/vector) of 10 values between value 0 and 1\n",
    "\n",
    "- 10x10 matrix between values 0 and 5\n",
    "\n",
    "    - Extra task: create this matrix without NumPy as well! <b>(Without the help of AI!)</b>\n",
    "\n",
    "\n",
    "<img src=\"http://srv.plab.fi/~tuomasv/data_analytics_2023_images/exercise_set_1/cubes.png\"/>\n"
   ]
  },
  {
   "cell_type": "code",
   "execution_count": 81,
   "metadata": {},
   "outputs": [
    {
     "name": "stdout",
     "output_type": "stream",
     "text": [
      "Amount of numbers in array: 10\n"
     ]
    },
    {
     "data": {
      "text/html": [
       "<table style='border: 1px solid black; border-collapse: collapse;'><tr><td style='padding: 5px; border: 1px solid black; font-weight: bold; width: 4ch; text-align: center;'>0.0</td></tr><tr><td style='padding: 5px; border: 1px solid black; font-weight: bold; width: 4ch; text-align: center;'>0.11</td></tr><tr><td style='padding: 5px; border: 1px solid black; font-weight: bold; width: 4ch; text-align: center;'>0.22</td></tr><tr><td style='padding: 5px; border: 1px solid black; font-weight: bold; width: 4ch; text-align: center;'>0.33</td></tr><tr><td style='padding: 5px; border: 1px solid black; font-weight: bold; width: 4ch; text-align: center;'>0.44</td></tr><tr><td style='padding: 5px; border: 1px solid black; font-weight: bold; width: 4ch; text-align: center;'>0.56</td></tr><tr><td style='padding: 5px; border: 1px solid black; font-weight: bold; width: 4ch; text-align: center;'>0.67</td></tr><tr><td style='padding: 5px; border: 1px solid black; font-weight: bold; width: 4ch; text-align: center;'>0.78</td></tr><tr><td style='padding: 5px; border: 1px solid black; font-weight: bold; width: 4ch; text-align: center;'>0.89</td></tr><tr><td style='padding: 5px; border: 1px solid black; font-weight: bold; width: 4ch; text-align: center;'>1.0</td></tr></table>"
      ],
      "text/plain": [
       "array([0.  , 0.11, 0.22, 0.33, 0.44, 0.56, 0.67, 0.78, 0.89, 1.  ])"
      ]
     },
     "execution_count": 81,
     "metadata": {},
     "output_type": "execute_result"
    }
   ],
   "source": [
    "# Exercise 4a\n",
    "\n",
    "# Create a linearly-spaced array (list/vector) of 10 values between value 0 and 1.\n",
    "data = np.linspace(0,1,10)\n",
    "data = data.round(2)\n",
    "\n",
    "print(f\"Amount of numbers in array: {len(data)}\")\n",
    "data\n"
   ]
  },
  {
   "cell_type": "code",
   "execution_count": 82,
   "metadata": {},
   "outputs": [
    {
     "data": {
      "text/html": [
       "<table style='border: 1px solid black; border-collapse: collapse;'><tr><td style='padding: 5px; border: 1px solid black; font-weight: bold; width: 4ch; text-align: center;'>0.0</td><td style='padding: 5px; border: 1px solid black; font-weight: bold; width: 4ch; text-align: center;'>0.05</td><td style='padding: 5px; border: 1px solid black; font-weight: bold; width: 4ch; text-align: center;'>0.1</td><td style='padding: 5px; border: 1px solid black; font-weight: bold; width: 4ch; text-align: center;'>0.15</td><td style='padding: 5px; border: 1px solid black; font-weight: bold; width: 4ch; text-align: center;'>0.2</td><td style='padding: 5px; border: 1px solid black; font-weight: bold; width: 4ch; text-align: center;'>0.25</td><td style='padding: 5px; border: 1px solid black; font-weight: bold; width: 4ch; text-align: center;'>0.3</td><td style='padding: 5px; border: 1px solid black; font-weight: bold; width: 4ch; text-align: center;'>0.35</td><td style='padding: 5px; border: 1px solid black; font-weight: bold; width: 4ch; text-align: center;'>0.4</td><td style='padding: 5px; border: 1px solid black; font-weight: bold; width: 4ch; text-align: center;'>0.45</td></tr><tr><td style='padding: 5px; border: 1px solid black; font-weight: bold; width: 4ch; text-align: center;'>0.51</td><td style='padding: 5px; border: 1px solid black; font-weight: bold; width: 4ch; text-align: center;'>0.56</td><td style='padding: 5px; border: 1px solid black; font-weight: bold; width: 4ch; text-align: center;'>0.61</td><td style='padding: 5px; border: 1px solid black; font-weight: bold; width: 4ch; text-align: center;'>0.66</td><td style='padding: 5px; border: 1px solid black; font-weight: bold; width: 4ch; text-align: center;'>0.71</td><td style='padding: 5px; border: 1px solid black; font-weight: bold; width: 4ch; text-align: center;'>0.76</td><td style='padding: 5px; border: 1px solid black; font-weight: bold; width: 4ch; text-align: center;'>0.81</td><td style='padding: 5px; border: 1px solid black; font-weight: bold; width: 4ch; text-align: center;'>0.86</td><td style='padding: 5px; border: 1px solid black; font-weight: bold; width: 4ch; text-align: center;'>0.91</td><td style='padding: 5px; border: 1px solid black; font-weight: bold; width: 4ch; text-align: center;'>0.96</td></tr><tr><td style='padding: 5px; border: 1px solid black; font-weight: bold; width: 4ch; text-align: center;'>1.01</td><td style='padding: 5px; border: 1px solid black; font-weight: bold; width: 4ch; text-align: center;'>1.06</td><td style='padding: 5px; border: 1px solid black; font-weight: bold; width: 4ch; text-align: center;'>1.11</td><td style='padding: 5px; border: 1px solid black; font-weight: bold; width: 4ch; text-align: center;'>1.16</td><td style='padding: 5px; border: 1px solid black; font-weight: bold; width: 4ch; text-align: center;'>1.21</td><td style='padding: 5px; border: 1px solid black; font-weight: bold; width: 4ch; text-align: center;'>1.26</td><td style='padding: 5px; border: 1px solid black; font-weight: bold; width: 4ch; text-align: center;'>1.31</td><td style='padding: 5px; border: 1px solid black; font-weight: bold; width: 4ch; text-align: center;'>1.36</td><td style='padding: 5px; border: 1px solid black; font-weight: bold; width: 4ch; text-align: center;'>1.41</td><td style='padding: 5px; border: 1px solid black; font-weight: bold; width: 4ch; text-align: center;'>1.46</td></tr><tr><td style='padding: 5px; border: 1px solid black; font-weight: bold; width: 4ch; text-align: center;'>1.52</td><td style='padding: 5px; border: 1px solid black; font-weight: bold; width: 4ch; text-align: center;'>1.57</td><td style='padding: 5px; border: 1px solid black; font-weight: bold; width: 4ch; text-align: center;'>1.62</td><td style='padding: 5px; border: 1px solid black; font-weight: bold; width: 4ch; text-align: center;'>1.67</td><td style='padding: 5px; border: 1px solid black; font-weight: bold; width: 4ch; text-align: center;'>1.72</td><td style='padding: 5px; border: 1px solid black; font-weight: bold; width: 4ch; text-align: center;'>1.77</td><td style='padding: 5px; border: 1px solid black; font-weight: bold; width: 4ch; text-align: center;'>1.82</td><td style='padding: 5px; border: 1px solid black; font-weight: bold; width: 4ch; text-align: center;'>1.87</td><td style='padding: 5px; border: 1px solid black; font-weight: bold; width: 4ch; text-align: center;'>1.92</td><td style='padding: 5px; border: 1px solid black; font-weight: bold; width: 4ch; text-align: center;'>1.97</td></tr><tr><td style='padding: 5px; border: 1px solid black; font-weight: bold; width: 4ch; text-align: center;'>2.02</td><td style='padding: 5px; border: 1px solid black; font-weight: bold; width: 4ch; text-align: center;'>2.07</td><td style='padding: 5px; border: 1px solid black; font-weight: bold; width: 4ch; text-align: center;'>2.12</td><td style='padding: 5px; border: 1px solid black; font-weight: bold; width: 4ch; text-align: center;'>2.17</td><td style='padding: 5px; border: 1px solid black; font-weight: bold; width: 4ch; text-align: center;'>2.22</td><td style='padding: 5px; border: 1px solid black; font-weight: bold; width: 4ch; text-align: center;'>2.27</td><td style='padding: 5px; border: 1px solid black; font-weight: bold; width: 4ch; text-align: center;'>2.32</td><td style='padding: 5px; border: 1px solid black; font-weight: bold; width: 4ch; text-align: center;'>2.37</td><td style='padding: 5px; border: 1px solid black; font-weight: bold; width: 4ch; text-align: center;'>2.42</td><td style='padding: 5px; border: 1px solid black; font-weight: bold; width: 4ch; text-align: center;'>2.47</td></tr><tr><td style='padding: 5px; border: 1px solid black; font-weight: bold; width: 4ch; text-align: center;'>2.53</td><td style='padding: 5px; border: 1px solid black; font-weight: bold; width: 4ch; text-align: center;'>2.58</td><td style='padding: 5px; border: 1px solid black; font-weight: bold; width: 4ch; text-align: center;'>2.63</td><td style='padding: 5px; border: 1px solid black; font-weight: bold; width: 4ch; text-align: center;'>2.68</td><td style='padding: 5px; border: 1px solid black; font-weight: bold; width: 4ch; text-align: center;'>2.73</td><td style='padding: 5px; border: 1px solid black; font-weight: bold; width: 4ch; text-align: center;'>2.78</td><td style='padding: 5px; border: 1px solid black; font-weight: bold; width: 4ch; text-align: center;'>2.83</td><td style='padding: 5px; border: 1px solid black; font-weight: bold; width: 4ch; text-align: center;'>2.88</td><td style='padding: 5px; border: 1px solid black; font-weight: bold; width: 4ch; text-align: center;'>2.93</td><td style='padding: 5px; border: 1px solid black; font-weight: bold; width: 4ch; text-align: center;'>2.98</td></tr><tr><td style='padding: 5px; border: 1px solid black; font-weight: bold; width: 4ch; text-align: center;'>3.03</td><td style='padding: 5px; border: 1px solid black; font-weight: bold; width: 4ch; text-align: center;'>3.08</td><td style='padding: 5px; border: 1px solid black; font-weight: bold; width: 4ch; text-align: center;'>3.13</td><td style='padding: 5px; border: 1px solid black; font-weight: bold; width: 4ch; text-align: center;'>3.18</td><td style='padding: 5px; border: 1px solid black; font-weight: bold; width: 4ch; text-align: center;'>3.23</td><td style='padding: 5px; border: 1px solid black; font-weight: bold; width: 4ch; text-align: center;'>3.28</td><td style='padding: 5px; border: 1px solid black; font-weight: bold; width: 4ch; text-align: center;'>3.33</td><td style='padding: 5px; border: 1px solid black; font-weight: bold; width: 4ch; text-align: center;'>3.38</td><td style='padding: 5px; border: 1px solid black; font-weight: bold; width: 4ch; text-align: center;'>3.43</td><td style='padding: 5px; border: 1px solid black; font-weight: bold; width: 4ch; text-align: center;'>3.48</td></tr><tr><td style='padding: 5px; border: 1px solid black; font-weight: bold; width: 4ch; text-align: center;'>3.54</td><td style='padding: 5px; border: 1px solid black; font-weight: bold; width: 4ch; text-align: center;'>3.59</td><td style='padding: 5px; border: 1px solid black; font-weight: bold; width: 4ch; text-align: center;'>3.64</td><td style='padding: 5px; border: 1px solid black; font-weight: bold; width: 4ch; text-align: center;'>3.69</td><td style='padding: 5px; border: 1px solid black; font-weight: bold; width: 4ch; text-align: center;'>3.74</td><td style='padding: 5px; border: 1px solid black; font-weight: bold; width: 4ch; text-align: center;'>3.79</td><td style='padding: 5px; border: 1px solid black; font-weight: bold; width: 4ch; text-align: center;'>3.84</td><td style='padding: 5px; border: 1px solid black; font-weight: bold; width: 4ch; text-align: center;'>3.89</td><td style='padding: 5px; border: 1px solid black; font-weight: bold; width: 4ch; text-align: center;'>3.94</td><td style='padding: 5px; border: 1px solid black; font-weight: bold; width: 4ch; text-align: center;'>3.99</td></tr><tr><td style='padding: 5px; border: 1px solid black; font-weight: bold; width: 4ch; text-align: center;'>4.04</td><td style='padding: 5px; border: 1px solid black; font-weight: bold; width: 4ch; text-align: center;'>4.09</td><td style='padding: 5px; border: 1px solid black; font-weight: bold; width: 4ch; text-align: center;'>4.14</td><td style='padding: 5px; border: 1px solid black; font-weight: bold; width: 4ch; text-align: center;'>4.19</td><td style='padding: 5px; border: 1px solid black; font-weight: bold; width: 4ch; text-align: center;'>4.24</td><td style='padding: 5px; border: 1px solid black; font-weight: bold; width: 4ch; text-align: center;'>4.29</td><td style='padding: 5px; border: 1px solid black; font-weight: bold; width: 4ch; text-align: center;'>4.34</td><td style='padding: 5px; border: 1px solid black; font-weight: bold; width: 4ch; text-align: center;'>4.39</td><td style='padding: 5px; border: 1px solid black; font-weight: bold; width: 4ch; text-align: center;'>4.44</td><td style='padding: 5px; border: 1px solid black; font-weight: bold; width: 4ch; text-align: center;'>4.49</td></tr><tr><td style='padding: 5px; border: 1px solid black; font-weight: bold; width: 4ch; text-align: center;'>4.55</td><td style='padding: 5px; border: 1px solid black; font-weight: bold; width: 4ch; text-align: center;'>4.6</td><td style='padding: 5px; border: 1px solid black; font-weight: bold; width: 4ch; text-align: center;'>4.65</td><td style='padding: 5px; border: 1px solid black; font-weight: bold; width: 4ch; text-align: center;'>4.7</td><td style='padding: 5px; border: 1px solid black; font-weight: bold; width: 4ch; text-align: center;'>4.75</td><td style='padding: 5px; border: 1px solid black; font-weight: bold; width: 4ch; text-align: center;'>4.8</td><td style='padding: 5px; border: 1px solid black; font-weight: bold; width: 4ch; text-align: center;'>4.85</td><td style='padding: 5px; border: 1px solid black; font-weight: bold; width: 4ch; text-align: center;'>4.9</td><td style='padding: 5px; border: 1px solid black; font-weight: bold; width: 4ch; text-align: center;'>4.95</td><td style='padding: 5px; border: 1px solid black; font-weight: bold; width: 4ch; text-align: center;'>5.0</td></tr></table>"
      ],
      "text/plain": [
       "array([[0.  , 0.05, 0.1 , 0.15, 0.2 , 0.25, 0.3 , 0.35, 0.4 , 0.45],\n",
       "       [0.51, 0.56, 0.61, 0.66, 0.71, 0.76, 0.81, 0.86, 0.91, 0.96],\n",
       "       [1.01, 1.06, 1.11, 1.16, 1.21, 1.26, 1.31, 1.36, 1.41, 1.46],\n",
       "       [1.52, 1.57, 1.62, 1.67, 1.72, 1.77, 1.82, 1.87, 1.92, 1.97],\n",
       "       [2.02, 2.07, 2.12, 2.17, 2.22, 2.27, 2.32, 2.37, 2.42, 2.47],\n",
       "       [2.53, 2.58, 2.63, 2.68, 2.73, 2.78, 2.83, 2.88, 2.93, 2.98],\n",
       "       [3.03, 3.08, 3.13, 3.18, 3.23, 3.28, 3.33, 3.38, 3.43, 3.48],\n",
       "       [3.54, 3.59, 3.64, 3.69, 3.74, 3.79, 3.84, 3.89, 3.94, 3.99],\n",
       "       [4.04, 4.09, 4.14, 4.19, 4.24, 4.29, 4.34, 4.39, 4.44, 4.49],\n",
       "       [4.55, 4.6 , 4.65, 4.7 , 4.75, 4.8 , 4.85, 4.9 , 4.95, 5.  ]])"
      ]
     },
     "execution_count": 82,
     "metadata": {},
     "output_type": "execute_result"
    }
   ],
   "source": [
    "# Question 4b\n",
    "# Create linearly-spaced array, 10x10 matrix between values 0 and 5.\n",
    "data = np.linspace(0,5, 100).reshape(10,10)\n",
    "np.round(data,2)"
   ]
  },
  {
   "cell_type": "code",
   "execution_count": 83,
   "metadata": {},
   "outputs": [
    {
     "data": {
      "text/html": [
       "<table style='border: 1px solid black; border-collapse: collapse;'><tr><td style='padding: 5px; border: 1px solid black; font-weight: bold; width: 4ch; text-align: center;'>0.0</td><td style='padding: 5px; border: 1px solid black; font-weight: bold; width: 4ch; text-align: center;'>0.05</td><td style='padding: 5px; border: 1px solid black; font-weight: bold; width: 4ch; text-align: center;'>0.1</td><td style='padding: 5px; border: 1px solid black; font-weight: bold; width: 4ch; text-align: center;'>0.15</td><td style='padding: 5px; border: 1px solid black; font-weight: bold; width: 4ch; text-align: center;'>0.2</td><td style='padding: 5px; border: 1px solid black; font-weight: bold; width: 4ch; text-align: center;'>0.25</td><td style='padding: 5px; border: 1px solid black; font-weight: bold; width: 4ch; text-align: center;'>0.3</td><td style='padding: 5px; border: 1px solid black; font-weight: bold; width: 4ch; text-align: center;'>0.35</td><td style='padding: 5px; border: 1px solid black; font-weight: bold; width: 4ch; text-align: center;'>0.4</td><td style='padding: 5px; border: 1px solid black; font-weight: bold; width: 4ch; text-align: center;'>0.45</td></tr><tr><td style='padding: 5px; border: 1px solid black; font-weight: bold; width: 4ch; text-align: center;'>0.5</td><td style='padding: 5px; border: 1px solid black; font-weight: bold; width: 4ch; text-align: center;'>0.55</td><td style='padding: 5px; border: 1px solid black; font-weight: bold; width: 4ch; text-align: center;'>0.6</td><td style='padding: 5px; border: 1px solid black; font-weight: bold; width: 4ch; text-align: center;'>0.65</td><td style='padding: 5px; border: 1px solid black; font-weight: bold; width: 4ch; text-align: center;'>0.7</td><td style='padding: 5px; border: 1px solid black; font-weight: bold; width: 4ch; text-align: center;'>0.75</td><td style='padding: 5px; border: 1px solid black; font-weight: bold; width: 4ch; text-align: center;'>0.8</td><td style='padding: 5px; border: 1px solid black; font-weight: bold; width: 4ch; text-align: center;'>0.85</td><td style='padding: 5px; border: 1px solid black; font-weight: bold; width: 4ch; text-align: center;'>0.9</td><td style='padding: 5px; border: 1px solid black; font-weight: bold; width: 4ch; text-align: center;'>0.95</td></tr><tr><td style='padding: 5px; border: 1px solid black; font-weight: bold; width: 4ch; text-align: center;'>1.0</td><td style='padding: 5px; border: 1px solid black; font-weight: bold; width: 4ch; text-align: center;'>1.05</td><td style='padding: 5px; border: 1px solid black; font-weight: bold; width: 4ch; text-align: center;'>1.1</td><td style='padding: 5px; border: 1px solid black; font-weight: bold; width: 4ch; text-align: center;'>1.15</td><td style='padding: 5px; border: 1px solid black; font-weight: bold; width: 4ch; text-align: center;'>1.2</td><td style='padding: 5px; border: 1px solid black; font-weight: bold; width: 4ch; text-align: center;'>1.25</td><td style='padding: 5px; border: 1px solid black; font-weight: bold; width: 4ch; text-align: center;'>1.3</td><td style='padding: 5px; border: 1px solid black; font-weight: bold; width: 4ch; text-align: center;'>1.35</td><td style='padding: 5px; border: 1px solid black; font-weight: bold; width: 4ch; text-align: center;'>1.4</td><td style='padding: 5px; border: 1px solid black; font-weight: bold; width: 4ch; text-align: center;'>1.45</td></tr><tr><td style='padding: 5px; border: 1px solid black; font-weight: bold; width: 4ch; text-align: center;'>1.5</td><td style='padding: 5px; border: 1px solid black; font-weight: bold; width: 4ch; text-align: center;'>1.55</td><td style='padding: 5px; border: 1px solid black; font-weight: bold; width: 4ch; text-align: center;'>1.6</td><td style='padding: 5px; border: 1px solid black; font-weight: bold; width: 4ch; text-align: center;'>1.65</td><td style='padding: 5px; border: 1px solid black; font-weight: bold; width: 4ch; text-align: center;'>1.7</td><td style='padding: 5px; border: 1px solid black; font-weight: bold; width: 4ch; text-align: center;'>1.75</td><td style='padding: 5px; border: 1px solid black; font-weight: bold; width: 4ch; text-align: center;'>1.8</td><td style='padding: 5px; border: 1px solid black; font-weight: bold; width: 4ch; text-align: center;'>1.85</td><td style='padding: 5px; border: 1px solid black; font-weight: bold; width: 4ch; text-align: center;'>1.9</td><td style='padding: 5px; border: 1px solid black; font-weight: bold; width: 4ch; text-align: center;'>1.95</td></tr><tr><td style='padding: 5px; border: 1px solid black; font-weight: bold; width: 4ch; text-align: center;'>2.0</td><td style='padding: 5px; border: 1px solid black; font-weight: bold; width: 4ch; text-align: center;'>2.05</td><td style='padding: 5px; border: 1px solid black; font-weight: bold; width: 4ch; text-align: center;'>2.1</td><td style='padding: 5px; border: 1px solid black; font-weight: bold; width: 4ch; text-align: center;'>2.15</td><td style='padding: 5px; border: 1px solid black; font-weight: bold; width: 4ch; text-align: center;'>2.2</td><td style='padding: 5px; border: 1px solid black; font-weight: bold; width: 4ch; text-align: center;'>2.25</td><td style='padding: 5px; border: 1px solid black; font-weight: bold; width: 4ch; text-align: center;'>2.3</td><td style='padding: 5px; border: 1px solid black; font-weight: bold; width: 4ch; text-align: center;'>2.35</td><td style='padding: 5px; border: 1px solid black; font-weight: bold; width: 4ch; text-align: center;'>2.4</td><td style='padding: 5px; border: 1px solid black; font-weight: bold; width: 4ch; text-align: center;'>2.45</td></tr><tr><td style='padding: 5px; border: 1px solid black; font-weight: bold; width: 4ch; text-align: center;'>2.5</td><td style='padding: 5px; border: 1px solid black; font-weight: bold; width: 4ch; text-align: center;'>2.55</td><td style='padding: 5px; border: 1px solid black; font-weight: bold; width: 4ch; text-align: center;'>2.6</td><td style='padding: 5px; border: 1px solid black; font-weight: bold; width: 4ch; text-align: center;'>2.65</td><td style='padding: 5px; border: 1px solid black; font-weight: bold; width: 4ch; text-align: center;'>2.7</td><td style='padding: 5px; border: 1px solid black; font-weight: bold; width: 4ch; text-align: center;'>2.75</td><td style='padding: 5px; border: 1px solid black; font-weight: bold; width: 4ch; text-align: center;'>2.8</td><td style='padding: 5px; border: 1px solid black; font-weight: bold; width: 4ch; text-align: center;'>2.85</td><td style='padding: 5px; border: 1px solid black; font-weight: bold; width: 4ch; text-align: center;'>2.9</td><td style='padding: 5px; border: 1px solid black; font-weight: bold; width: 4ch; text-align: center;'>2.95</td></tr><tr><td style='padding: 5px; border: 1px solid black; font-weight: bold; width: 4ch; text-align: center;'>3.0</td><td style='padding: 5px; border: 1px solid black; font-weight: bold; width: 4ch; text-align: center;'>3.05</td><td style='padding: 5px; border: 1px solid black; font-weight: bold; width: 4ch; text-align: center;'>3.1</td><td style='padding: 5px; border: 1px solid black; font-weight: bold; width: 4ch; text-align: center;'>3.15</td><td style='padding: 5px; border: 1px solid black; font-weight: bold; width: 4ch; text-align: center;'>3.2</td><td style='padding: 5px; border: 1px solid black; font-weight: bold; width: 4ch; text-align: center;'>3.25</td><td style='padding: 5px; border: 1px solid black; font-weight: bold; width: 4ch; text-align: center;'>3.3</td><td style='padding: 5px; border: 1px solid black; font-weight: bold; width: 4ch; text-align: center;'>3.35</td><td style='padding: 5px; border: 1px solid black; font-weight: bold; width: 4ch; text-align: center;'>3.4</td><td style='padding: 5px; border: 1px solid black; font-weight: bold; width: 4ch; text-align: center;'>3.45</td></tr><tr><td style='padding: 5px; border: 1px solid black; font-weight: bold; width: 4ch; text-align: center;'>3.5</td><td style='padding: 5px; border: 1px solid black; font-weight: bold; width: 4ch; text-align: center;'>3.55</td><td style='padding: 5px; border: 1px solid black; font-weight: bold; width: 4ch; text-align: center;'>3.6</td><td style='padding: 5px; border: 1px solid black; font-weight: bold; width: 4ch; text-align: center;'>3.65</td><td style='padding: 5px; border: 1px solid black; font-weight: bold; width: 4ch; text-align: center;'>3.7</td><td style='padding: 5px; border: 1px solid black; font-weight: bold; width: 4ch; text-align: center;'>3.75</td><td style='padding: 5px; border: 1px solid black; font-weight: bold; width: 4ch; text-align: center;'>3.8</td><td style='padding: 5px; border: 1px solid black; font-weight: bold; width: 4ch; text-align: center;'>3.85</td><td style='padding: 5px; border: 1px solid black; font-weight: bold; width: 4ch; text-align: center;'>3.9</td><td style='padding: 5px; border: 1px solid black; font-weight: bold; width: 4ch; text-align: center;'>3.95</td></tr><tr><td style='padding: 5px; border: 1px solid black; font-weight: bold; width: 4ch; text-align: center;'>4.0</td><td style='padding: 5px; border: 1px solid black; font-weight: bold; width: 4ch; text-align: center;'>4.05</td><td style='padding: 5px; border: 1px solid black; font-weight: bold; width: 4ch; text-align: center;'>4.1</td><td style='padding: 5px; border: 1px solid black; font-weight: bold; width: 4ch; text-align: center;'>4.15</td><td style='padding: 5px; border: 1px solid black; font-weight: bold; width: 4ch; text-align: center;'>4.2</td><td style='padding: 5px; border: 1px solid black; font-weight: bold; width: 4ch; text-align: center;'>4.25</td><td style='padding: 5px; border: 1px solid black; font-weight: bold; width: 4ch; text-align: center;'>4.3</td><td style='padding: 5px; border: 1px solid black; font-weight: bold; width: 4ch; text-align: center;'>4.35</td><td style='padding: 5px; border: 1px solid black; font-weight: bold; width: 4ch; text-align: center;'>4.4</td><td style='padding: 5px; border: 1px solid black; font-weight: bold; width: 4ch; text-align: center;'>4.45</td></tr><tr><td style='padding: 5px; border: 1px solid black; font-weight: bold; width: 4ch; text-align: center;'>4.5</td><td style='padding: 5px; border: 1px solid black; font-weight: bold; width: 4ch; text-align: center;'>4.55</td><td style='padding: 5px; border: 1px solid black; font-weight: bold; width: 4ch; text-align: center;'>4.6</td><td style='padding: 5px; border: 1px solid black; font-weight: bold; width: 4ch; text-align: center;'>4.65</td><td style='padding: 5px; border: 1px solid black; font-weight: bold; width: 4ch; text-align: center;'>4.7</td><td style='padding: 5px; border: 1px solid black; font-weight: bold; width: 4ch; text-align: center;'>4.75</td><td style='padding: 5px; border: 1px solid black; font-weight: bold; width: 4ch; text-align: center;'>4.8</td><td style='padding: 5px; border: 1px solid black; font-weight: bold; width: 4ch; text-align: center;'>4.85</td><td style='padding: 5px; border: 1px solid black; font-weight: bold; width: 4ch; text-align: center;'>4.9</td><td style='padding: 5px; border: 1px solid black; font-weight: bold; width: 4ch; text-align: center;'>4.95</td></tr></table>"
      ],
      "text/plain": [
       "array([[0.  , 0.05, 0.1 , 0.15, 0.2 , 0.25, 0.3 , 0.35, 0.4 , 0.45],\n",
       "       [0.5 , 0.55, 0.6 , 0.65, 0.7 , 0.75, 0.8 , 0.85, 0.9 , 0.95],\n",
       "       [1.  , 1.05, 1.1 , 1.15, 1.2 , 1.25, 1.3 , 1.35, 1.4 , 1.45],\n",
       "       [1.5 , 1.55, 1.6 , 1.65, 1.7 , 1.75, 1.8 , 1.85, 1.9 , 1.95],\n",
       "       [2.  , 2.05, 2.1 , 2.15, 2.2 , 2.25, 2.3 , 2.35, 2.4 , 2.45],\n",
       "       [2.5 , 2.55, 2.6 , 2.65, 2.7 , 2.75, 2.8 , 2.85, 2.9 , 2.95],\n",
       "       [3.  , 3.05, 3.1 , 3.15, 3.2 , 3.25, 3.3 , 3.35, 3.4 , 3.45],\n",
       "       [3.5 , 3.55, 3.6 , 3.65, 3.7 , 3.75, 3.8 , 3.85, 3.9 , 3.95],\n",
       "       [4.  , 4.05, 4.1 , 4.15, 4.2 , 4.25, 4.3 , 4.35, 4.4 , 4.45],\n",
       "       [4.5 , 4.55, 4.6 , 4.65, 4.7 , 4.75, 4.8 , 4.85, 4.9 , 4.95]])"
      ]
     },
     "execution_count": 83,
     "metadata": {},
     "output_type": "execute_result"
    }
   ],
   "source": [
    "# Question 4\n",
    "# Extra task!\n",
    "# Create this matrix without NumPy as well! (without the help of AI!)\n",
    "\n",
    "# We will use an incrementer method similar to the last extra exercise.\n",
    "data = []\n",
    "incrementer = 0\n",
    "\n",
    "# it creates an empty row and then fills it with 10 numbers for each row.\n",
    "# then it adds the row into data. \n",
    "for row in range(1,11):\n",
    "  row = []\n",
    "\n",
    "  # Similar to slope-intercept form (Y=mx+b), the incrementor moves up each iteration.\n",
    "  for n in range(1,11):\n",
    "    number = (incrementer / 100) * 5\n",
    "    row.append(number)\n",
    "    incrementer += 1\n",
    "\n",
    "  data.append(row)\n",
    "\n",
    "# the output in numpy for easier visualization\n",
    "# otherwise, use print(data)\n",
    "data = np.array(data)\n",
    "data\n",
    "\n"
   ]
  },
  {
   "attachments": {},
   "cell_type": "markdown",
   "metadata": {},
   "source": [
    "<h3><b>5. Recreate the matrices in code based on the pictures.</b></h3>\n",
    "\n",
    "- Create this 3x5 matrix with NumPy:\n",
    "\n",
    "<img src=\"http://srv.plab.fi/~tuomasv/data_analytics_2023_images/exercise_set_1/matrix1.png\"/>\n",
    "\n",
    "\n",
    "Note: The values above have no logic, you'll have to feed basic Python lists to NumPy for this result\n"
   ]
  },
  {
   "cell_type": "code",
   "execution_count": 84,
   "metadata": {},
   "outputs": [
    {
     "data": {
      "text/html": [
       "<table style='border: 1px solid black; border-collapse: collapse;'><tr><td style='padding: 5px; border: 1px solid black; font-weight: bold; width: 2ch; text-align: center;'>23</td><td style='padding: 5px; border: 1px solid black; font-weight: bold; width: 2ch; text-align: center;'>34</td><td style='padding: 5px; border: 1px solid black; font-weight: bold; width: 2ch; text-align: center;'>54</td><td style='padding: 5px; border: 1px solid black; font-weight: bold; width: 2ch; text-align: center;'>31</td><td style='padding: 5px; border: 1px solid black; font-weight: bold; width: 2ch; text-align: center;'>75</td></tr><tr><td style='padding: 5px; border: 1px solid black; font-weight: bold; width: 2ch; text-align: center;'>33</td><td style='padding: 5px; border: 1px solid black; font-weight: bold; width: 2ch; text-align: center;'>56</td><td style='padding: 5px; border: 1px solid black; font-weight: bold; width: 2ch; text-align: center;'>78</td><td style='padding: 5px; border: 1px solid black; font-weight: bold; width: 2ch; text-align: center;'>65</td><td style='padding: 5px; border: 1px solid black; font-weight: bold; width: 2ch; text-align: center;'>97</td></tr><tr><td style='padding: 5px; border: 1px solid black; font-weight: bold; width: 2ch; text-align: center;'>41</td><td style='padding: 5px; border: 1px solid black; font-weight: bold; width: 2ch; text-align: center;'>32</td><td style='padding: 5px; border: 1px solid black; font-weight: bold; width: 2ch; text-align: center;'>11</td><td style='padding: 5px; border: 1px solid black; font-weight: bold; width: 2ch; text-align: center;'>39</td><td style='padding: 5px; border: 1px solid black; font-weight: bold; width: 2ch; text-align: center;'>51</td></tr></table>"
      ],
      "text/plain": [
       "array([[23, 34, 54, 31, 75],\n",
       "       [33, 56, 78, 65, 97],\n",
       "       [41, 32, 11, 39, 51]])"
      ]
     },
     "execution_count": 84,
     "metadata": {},
     "output_type": "execute_result"
    }
   ],
   "source": [
    "# Exercise 5a\n",
    "\n",
    "#  Create the matrix above.\n",
    "numbers = [23, 34, 54, 31, 75, 33, 56, 78, 65, 97, 41, 32, 11, 39, 51]\n",
    "numbers = np.array(numbers).reshape(3,5)\n",
    "numbers\n"
   ]
  },
  {
   "attachments": {},
   "cell_type": "markdown",
   "metadata": {},
   "source": [
    "- Generate this NumPy array:\n",
    "\n",
    "<img src=\"http://srv.plab.fi/~tuomasv/data_analytics_2023_images/exercise_set_1/matrix2.png\" width=\"800\"/>"
   ]
  },
  {
   "cell_type": "code",
   "execution_count": 85,
   "metadata": {},
   "outputs": [
    {
     "data": {
      "text/html": [
       "<table style='border: 1px solid black; border-collapse: collapse;'><tr><td style='padding: 5px; border: 1px solid black; font-weight: bold; width: 3ch; text-align: center;'>128</td><td style='padding: 5px; border: 1px solid black; font-weight: bold; width: 3ch; text-align: center;'>129</td><td style='padding: 5px; border: 1px solid black; font-weight: bold; width: 3ch; text-align: center;'>130</td><td style='padding: 5px; border: 1px solid black; font-weight: bold; width: 3ch; text-align: center;'>131</td><td style='padding: 5px; border: 1px solid black; font-weight: bold; width: 3ch; text-align: center;'>132</td><td style='padding: 5px; border: 1px solid black; font-weight: bold; width: 3ch; text-align: center;'>133</td><td style='padding: 5px; border: 1px solid black; font-weight: bold; width: 3ch; text-align: center;'>134</td><td style='padding: 5px; border: 1px solid black; font-weight: bold; width: 3ch; text-align: center;'>135</td><td style='padding: 5px; border: 1px solid black; font-weight: bold; width: 3ch; text-align: center;'>136</td><td style='padding: 5px; border: 1px solid black; font-weight: bold; width: 3ch; text-align: center;'>137</td><td style='padding: 5px; border: 1px solid black; font-weight: bold; width: 3ch; text-align: center;'>138</td><td style='padding: 5px; border: 1px solid black; font-weight: bold; width: 3ch; text-align: center;'>139</td><td style='padding: 5px; border: 1px solid black; font-weight: bold; width: 3ch; text-align: center;'>140</td><td style='padding: 5px; border: 1px solid black; font-weight: bold; width: 3ch; text-align: center;'>141</td><td style='padding: 5px; border: 1px solid black; font-weight: bold; width: 3ch; text-align: center;'>142</td><td style='padding: 5px; border: 1px solid black; font-weight: bold; width: 3ch; text-align: center;'>143</td></tr><tr><td style='padding: 5px; border: 1px solid black; font-weight: bold; width: 3ch; text-align: center;'>144</td><td style='padding: 5px; border: 1px solid black; font-weight: bold; width: 3ch; text-align: center;'>145</td><td style='padding: 5px; border: 1px solid black; font-weight: bold; width: 3ch; text-align: center;'>146</td><td style='padding: 5px; border: 1px solid black; font-weight: bold; width: 3ch; text-align: center;'>147</td><td style='padding: 5px; border: 1px solid black; font-weight: bold; width: 3ch; text-align: center;'>148</td><td style='padding: 5px; border: 1px solid black; font-weight: bold; width: 3ch; text-align: center;'>149</td><td style='padding: 5px; border: 1px solid black; font-weight: bold; width: 3ch; text-align: center;'>150</td><td style='padding: 5px; border: 1px solid black; font-weight: bold; width: 3ch; text-align: center;'>151</td><td style='padding: 5px; border: 1px solid black; font-weight: bold; width: 3ch; text-align: center;'>152</td><td style='padding: 5px; border: 1px solid black; font-weight: bold; width: 3ch; text-align: center;'>153</td><td style='padding: 5px; border: 1px solid black; font-weight: bold; width: 3ch; text-align: center;'>154</td><td style='padding: 5px; border: 1px solid black; font-weight: bold; width: 3ch; text-align: center;'>155</td><td style='padding: 5px; border: 1px solid black; font-weight: bold; width: 3ch; text-align: center;'>156</td><td style='padding: 5px; border: 1px solid black; font-weight: bold; width: 3ch; text-align: center;'>157</td><td style='padding: 5px; border: 1px solid black; font-weight: bold; width: 3ch; text-align: center;'>158</td><td style='padding: 5px; border: 1px solid black; font-weight: bold; width: 3ch; text-align: center;'>159</td></tr><tr><td style='padding: 5px; border: 1px solid black; font-weight: bold; width: 3ch; text-align: center;'>160</td><td style='padding: 5px; border: 1px solid black; font-weight: bold; width: 3ch; text-align: center;'>161</td><td style='padding: 5px; border: 1px solid black; font-weight: bold; width: 3ch; text-align: center;'>162</td><td style='padding: 5px; border: 1px solid black; font-weight: bold; width: 3ch; text-align: center;'>163</td><td style='padding: 5px; border: 1px solid black; font-weight: bold; width: 3ch; text-align: center;'>164</td><td style='padding: 5px; border: 1px solid black; font-weight: bold; width: 3ch; text-align: center;'>165</td><td style='padding: 5px; border: 1px solid black; font-weight: bold; width: 3ch; text-align: center;'>166</td><td style='padding: 5px; border: 1px solid black; font-weight: bold; width: 3ch; text-align: center;'>167</td><td style='padding: 5px; border: 1px solid black; font-weight: bold; width: 3ch; text-align: center;'>168</td><td style='padding: 5px; border: 1px solid black; font-weight: bold; width: 3ch; text-align: center;'>169</td><td style='padding: 5px; border: 1px solid black; font-weight: bold; width: 3ch; text-align: center;'>170</td><td style='padding: 5px; border: 1px solid black; font-weight: bold; width: 3ch; text-align: center;'>171</td><td style='padding: 5px; border: 1px solid black; font-weight: bold; width: 3ch; text-align: center;'>172</td><td style='padding: 5px; border: 1px solid black; font-weight: bold; width: 3ch; text-align: center;'>173</td><td style='padding: 5px; border: 1px solid black; font-weight: bold; width: 3ch; text-align: center;'>174</td><td style='padding: 5px; border: 1px solid black; font-weight: bold; width: 3ch; text-align: center;'>175</td></tr><tr><td style='padding: 5px; border: 1px solid black; font-weight: bold; width: 3ch; text-align: center;'>176</td><td style='padding: 5px; border: 1px solid black; font-weight: bold; width: 3ch; text-align: center;'>177</td><td style='padding: 5px; border: 1px solid black; font-weight: bold; width: 3ch; text-align: center;'>178</td><td style='padding: 5px; border: 1px solid black; font-weight: bold; width: 3ch; text-align: center;'>179</td><td style='padding: 5px; border: 1px solid black; font-weight: bold; width: 3ch; text-align: center;'>180</td><td style='padding: 5px; border: 1px solid black; font-weight: bold; width: 3ch; text-align: center;'>181</td><td style='padding: 5px; border: 1px solid black; font-weight: bold; width: 3ch; text-align: center;'>182</td><td style='padding: 5px; border: 1px solid black; font-weight: bold; width: 3ch; text-align: center;'>183</td><td style='padding: 5px; border: 1px solid black; font-weight: bold; width: 3ch; text-align: center;'>184</td><td style='padding: 5px; border: 1px solid black; font-weight: bold; width: 3ch; text-align: center;'>185</td><td style='padding: 5px; border: 1px solid black; font-weight: bold; width: 3ch; text-align: center;'>186</td><td style='padding: 5px; border: 1px solid black; font-weight: bold; width: 3ch; text-align: center;'>187</td><td style='padding: 5px; border: 1px solid black; font-weight: bold; width: 3ch; text-align: center;'>188</td><td style='padding: 5px; border: 1px solid black; font-weight: bold; width: 3ch; text-align: center;'>189</td><td style='padding: 5px; border: 1px solid black; font-weight: bold; width: 3ch; text-align: center;'>190</td><td style='padding: 5px; border: 1px solid black; font-weight: bold; width: 3ch; text-align: center;'>191</td></tr><tr><td style='padding: 5px; border: 1px solid black; font-weight: bold; width: 3ch; text-align: center;'>192</td><td style='padding: 5px; border: 1px solid black; font-weight: bold; width: 3ch; text-align: center;'>193</td><td style='padding: 5px; border: 1px solid black; font-weight: bold; width: 3ch; text-align: center;'>194</td><td style='padding: 5px; border: 1px solid black; font-weight: bold; width: 3ch; text-align: center;'>195</td><td style='padding: 5px; border: 1px solid black; font-weight: bold; width: 3ch; text-align: center;'>196</td><td style='padding: 5px; border: 1px solid black; font-weight: bold; width: 3ch; text-align: center;'>197</td><td style='padding: 5px; border: 1px solid black; font-weight: bold; width: 3ch; text-align: center;'>198</td><td style='padding: 5px; border: 1px solid black; font-weight: bold; width: 3ch; text-align: center;'>199</td><td style='padding: 5px; border: 1px solid black; font-weight: bold; width: 3ch; text-align: center;'>200</td><td style='padding: 5px; border: 1px solid black; font-weight: bold; width: 3ch; text-align: center;'>201</td><td style='padding: 5px; border: 1px solid black; font-weight: bold; width: 3ch; text-align: center;'>202</td><td style='padding: 5px; border: 1px solid black; font-weight: bold; width: 3ch; text-align: center;'>203</td><td style='padding: 5px; border: 1px solid black; font-weight: bold; width: 3ch; text-align: center;'>204</td><td style='padding: 5px; border: 1px solid black; font-weight: bold; width: 3ch; text-align: center;'>205</td><td style='padding: 5px; border: 1px solid black; font-weight: bold; width: 3ch; text-align: center;'>206</td><td style='padding: 5px; border: 1px solid black; font-weight: bold; width: 3ch; text-align: center;'>207</td></tr><tr><td style='padding: 5px; border: 1px solid black; font-weight: bold; width: 3ch; text-align: center;'>208</td><td style='padding: 5px; border: 1px solid black; font-weight: bold; width: 3ch; text-align: center;'>209</td><td style='padding: 5px; border: 1px solid black; font-weight: bold; width: 3ch; text-align: center;'>210</td><td style='padding: 5px; border: 1px solid black; font-weight: bold; width: 3ch; text-align: center;'>211</td><td style='padding: 5px; border: 1px solid black; font-weight: bold; width: 3ch; text-align: center;'>212</td><td style='padding: 5px; border: 1px solid black; font-weight: bold; width: 3ch; text-align: center;'>213</td><td style='padding: 5px; border: 1px solid black; font-weight: bold; width: 3ch; text-align: center;'>214</td><td style='padding: 5px; border: 1px solid black; font-weight: bold; width: 3ch; text-align: center;'>215</td><td style='padding: 5px; border: 1px solid black; font-weight: bold; width: 3ch; text-align: center;'>216</td><td style='padding: 5px; border: 1px solid black; font-weight: bold; width: 3ch; text-align: center;'>217</td><td style='padding: 5px; border: 1px solid black; font-weight: bold; width: 3ch; text-align: center;'>218</td><td style='padding: 5px; border: 1px solid black; font-weight: bold; width: 3ch; text-align: center;'>219</td><td style='padding: 5px; border: 1px solid black; font-weight: bold; width: 3ch; text-align: center;'>220</td><td style='padding: 5px; border: 1px solid black; font-weight: bold; width: 3ch; text-align: center;'>221</td><td style='padding: 5px; border: 1px solid black; font-weight: bold; width: 3ch; text-align: center;'>222</td><td style='padding: 5px; border: 1px solid black; font-weight: bold; width: 3ch; text-align: center;'>223</td></tr><tr><td style='padding: 5px; border: 1px solid black; font-weight: bold; width: 3ch; text-align: center;'>224</td><td style='padding: 5px; border: 1px solid black; font-weight: bold; width: 3ch; text-align: center;'>225</td><td style='padding: 5px; border: 1px solid black; font-weight: bold; width: 3ch; text-align: center;'>226</td><td style='padding: 5px; border: 1px solid black; font-weight: bold; width: 3ch; text-align: center;'>227</td><td style='padding: 5px; border: 1px solid black; font-weight: bold; width: 3ch; text-align: center;'>228</td><td style='padding: 5px; border: 1px solid black; font-weight: bold; width: 3ch; text-align: center;'>229</td><td style='padding: 5px; border: 1px solid black; font-weight: bold; width: 3ch; text-align: center;'>230</td><td style='padding: 5px; border: 1px solid black; font-weight: bold; width: 3ch; text-align: center;'>231</td><td style='padding: 5px; border: 1px solid black; font-weight: bold; width: 3ch; text-align: center;'>232</td><td style='padding: 5px; border: 1px solid black; font-weight: bold; width: 3ch; text-align: center;'>233</td><td style='padding: 5px; border: 1px solid black; font-weight: bold; width: 3ch; text-align: center;'>234</td><td style='padding: 5px; border: 1px solid black; font-weight: bold; width: 3ch; text-align: center;'>235</td><td style='padding: 5px; border: 1px solid black; font-weight: bold; width: 3ch; text-align: center;'>236</td><td style='padding: 5px; border: 1px solid black; font-weight: bold; width: 3ch; text-align: center;'>237</td><td style='padding: 5px; border: 1px solid black; font-weight: bold; width: 3ch; text-align: center;'>238</td><td style='padding: 5px; border: 1px solid black; font-weight: bold; width: 3ch; text-align: center;'>239</td></tr><tr><td style='padding: 5px; border: 1px solid black; font-weight: bold; width: 3ch; text-align: center;'>240</td><td style='padding: 5px; border: 1px solid black; font-weight: bold; width: 3ch; text-align: center;'>241</td><td style='padding: 5px; border: 1px solid black; font-weight: bold; width: 3ch; text-align: center;'>242</td><td style='padding: 5px; border: 1px solid black; font-weight: bold; width: 3ch; text-align: center;'>243</td><td style='padding: 5px; border: 1px solid black; font-weight: bold; width: 3ch; text-align: center;'>244</td><td style='padding: 5px; border: 1px solid black; font-weight: bold; width: 3ch; text-align: center;'>245</td><td style='padding: 5px; border: 1px solid black; font-weight: bold; width: 3ch; text-align: center;'>246</td><td style='padding: 5px; border: 1px solid black; font-weight: bold; width: 3ch; text-align: center;'>247</td><td style='padding: 5px; border: 1px solid black; font-weight: bold; width: 3ch; text-align: center;'>248</td><td style='padding: 5px; border: 1px solid black; font-weight: bold; width: 3ch; text-align: center;'>249</td><td style='padding: 5px; border: 1px solid black; font-weight: bold; width: 3ch; text-align: center;'>250</td><td style='padding: 5px; border: 1px solid black; font-weight: bold; width: 3ch; text-align: center;'>251</td><td style='padding: 5px; border: 1px solid black; font-weight: bold; width: 3ch; text-align: center;'>252</td><td style='padding: 5px; border: 1px solid black; font-weight: bold; width: 3ch; text-align: center;'>253</td><td style='padding: 5px; border: 1px solid black; font-weight: bold; width: 3ch; text-align: center;'>254</td><td style='padding: 5px; border: 1px solid black; font-weight: bold; width: 3ch; text-align: center;'>255</td></tr></table>"
      ],
      "text/plain": [
       "array([[128, 129, 130, 131, 132, 133, 134, 135, 136, 137, 138, 139, 140,\n",
       "        141, 142, 143],\n",
       "       [144, 145, 146, 147, 148, 149, 150, 151, 152, 153, 154, 155, 156,\n",
       "        157, 158, 159],\n",
       "       [160, 161, 162, 163, 164, 165, 166, 167, 168, 169, 170, 171, 172,\n",
       "        173, 174, 175],\n",
       "       [176, 177, 178, 179, 180, 181, 182, 183, 184, 185, 186, 187, 188,\n",
       "        189, 190, 191],\n",
       "       [192, 193, 194, 195, 196, 197, 198, 199, 200, 201, 202, 203, 204,\n",
       "        205, 206, 207],\n",
       "       [208, 209, 210, 211, 212, 213, 214, 215, 216, 217, 218, 219, 220,\n",
       "        221, 222, 223],\n",
       "       [224, 225, 226, 227, 228, 229, 230, 231, 232, 233, 234, 235, 236,\n",
       "        237, 238, 239],\n",
       "       [240, 241, 242, 243, 244, 245, 246, 247, 248, 249, 250, 251, 252,\n",
       "        253, 254, 255]])"
      ]
     },
     "execution_count": 85,
     "metadata": {},
     "output_type": "execute_result"
    }
   ],
   "source": [
    "# Question 5b\n",
    "# Create the matrix above.\n",
    "numbers = np.arange(128, 256).reshape(8,16)\n",
    "numbers"
   ]
  },
  {
   "attachments": {},
   "cell_type": "markdown",
   "metadata": {},
   "source": [
    "- Generate this NumPy array:\n",
    "\n",
    "<img src=\"http://srv.plab.fi/~tuomasv/data_analytics_2023_images/exercise_set_1/matrix3.png\" width=\"500\"/>\n",
    "\n",
    "<b>Tips:</b> arange-function (and step-parameter) + reshape is recommended. Alternatively you can use broadcasting and division if you like."
   ]
  },
  {
   "cell_type": "code",
   "execution_count": 86,
   "metadata": {},
   "outputs": [
    {
     "data": {
      "text/html": [
       "<table style='border: 1px solid black; border-collapse: collapse;'><tr><td style='padding: 5px; border: 1px solid black; font-weight: bold; width: 4ch; text-align: center;'>0.05</td><td style='padding: 5px; border: 1px solid black; font-weight: bold; width: 4ch; text-align: center;'>0.1</td><td style='padding: 5px; border: 1px solid black; font-weight: bold; width: 4ch; text-align: center;'>0.15</td><td style='padding: 5px; border: 1px solid black; font-weight: bold; width: 4ch; text-align: center;'>0.2</td><td style='padding: 5px; border: 1px solid black; font-weight: bold; width: 4ch; text-align: center;'>0.25</td><td style='padding: 5px; border: 1px solid black; font-weight: bold; width: 4ch; text-align: center;'>0.3</td><td style='padding: 5px; border: 1px solid black; font-weight: bold; width: 4ch; text-align: center;'>0.35</td><td style='padding: 5px; border: 1px solid black; font-weight: bold; width: 4ch; text-align: center;'>0.4</td><td style='padding: 5px; border: 1px solid black; font-weight: bold; width: 4ch; text-align: center;'>0.45</td><td style='padding: 5px; border: 1px solid black; font-weight: bold; width: 4ch; text-align: center;'>0.5</td></tr><tr><td style='padding: 5px; border: 1px solid black; font-weight: bold; width: 4ch; text-align: center;'>0.55</td><td style='padding: 5px; border: 1px solid black; font-weight: bold; width: 4ch; text-align: center;'>0.6</td><td style='padding: 5px; border: 1px solid black; font-weight: bold; width: 4ch; text-align: center;'>0.65</td><td style='padding: 5px; border: 1px solid black; font-weight: bold; width: 4ch; text-align: center;'>0.7</td><td style='padding: 5px; border: 1px solid black; font-weight: bold; width: 4ch; text-align: center;'>0.75</td><td style='padding: 5px; border: 1px solid black; font-weight: bold; width: 4ch; text-align: center;'>0.8</td><td style='padding: 5px; border: 1px solid black; font-weight: bold; width: 4ch; text-align: center;'>0.85</td><td style='padding: 5px; border: 1px solid black; font-weight: bold; width: 4ch; text-align: center;'>0.9</td><td style='padding: 5px; border: 1px solid black; font-weight: bold; width: 4ch; text-align: center;'>0.95</td><td style='padding: 5px; border: 1px solid black; font-weight: bold; width: 4ch; text-align: center;'>1.0</td></tr><tr><td style='padding: 5px; border: 1px solid black; font-weight: bold; width: 4ch; text-align: center;'>1.05</td><td style='padding: 5px; border: 1px solid black; font-weight: bold; width: 4ch; text-align: center;'>1.1</td><td style='padding: 5px; border: 1px solid black; font-weight: bold; width: 4ch; text-align: center;'>1.15</td><td style='padding: 5px; border: 1px solid black; font-weight: bold; width: 4ch; text-align: center;'>1.2</td><td style='padding: 5px; border: 1px solid black; font-weight: bold; width: 4ch; text-align: center;'>1.25</td><td style='padding: 5px; border: 1px solid black; font-weight: bold; width: 4ch; text-align: center;'>1.3</td><td style='padding: 5px; border: 1px solid black; font-weight: bold; width: 4ch; text-align: center;'>1.35</td><td style='padding: 5px; border: 1px solid black; font-weight: bold; width: 4ch; text-align: center;'>1.4</td><td style='padding: 5px; border: 1px solid black; font-weight: bold; width: 4ch; text-align: center;'>1.45</td><td style='padding: 5px; border: 1px solid black; font-weight: bold; width: 4ch; text-align: center;'>1.5</td></tr><tr><td style='padding: 5px; border: 1px solid black; font-weight: bold; width: 4ch; text-align: center;'>1.55</td><td style='padding: 5px; border: 1px solid black; font-weight: bold; width: 4ch; text-align: center;'>1.6</td><td style='padding: 5px; border: 1px solid black; font-weight: bold; width: 4ch; text-align: center;'>1.65</td><td style='padding: 5px; border: 1px solid black; font-weight: bold; width: 4ch; text-align: center;'>1.7</td><td style='padding: 5px; border: 1px solid black; font-weight: bold; width: 4ch; text-align: center;'>1.75</td><td style='padding: 5px; border: 1px solid black; font-weight: bold; width: 4ch; text-align: center;'>1.8</td><td style='padding: 5px; border: 1px solid black; font-weight: bold; width: 4ch; text-align: center;'>1.85</td><td style='padding: 5px; border: 1px solid black; font-weight: bold; width: 4ch; text-align: center;'>1.9</td><td style='padding: 5px; border: 1px solid black; font-weight: bold; width: 4ch; text-align: center;'>1.95</td><td style='padding: 5px; border: 1px solid black; font-weight: bold; width: 4ch; text-align: center;'>2.0</td></tr><tr><td style='padding: 5px; border: 1px solid black; font-weight: bold; width: 4ch; text-align: center;'>2.05</td><td style='padding: 5px; border: 1px solid black; font-weight: bold; width: 4ch; text-align: center;'>2.1</td><td style='padding: 5px; border: 1px solid black; font-weight: bold; width: 4ch; text-align: center;'>2.15</td><td style='padding: 5px; border: 1px solid black; font-weight: bold; width: 4ch; text-align: center;'>2.2</td><td style='padding: 5px; border: 1px solid black; font-weight: bold; width: 4ch; text-align: center;'>2.25</td><td style='padding: 5px; border: 1px solid black; font-weight: bold; width: 4ch; text-align: center;'>2.3</td><td style='padding: 5px; border: 1px solid black; font-weight: bold; width: 4ch; text-align: center;'>2.35</td><td style='padding: 5px; border: 1px solid black; font-weight: bold; width: 4ch; text-align: center;'>2.4</td><td style='padding: 5px; border: 1px solid black; font-weight: bold; width: 4ch; text-align: center;'>2.45</td><td style='padding: 5px; border: 1px solid black; font-weight: bold; width: 4ch; text-align: center;'>2.5</td></tr><tr><td style='padding: 5px; border: 1px solid black; font-weight: bold; width: 4ch; text-align: center;'>2.55</td><td style='padding: 5px; border: 1px solid black; font-weight: bold; width: 4ch; text-align: center;'>2.6</td><td style='padding: 5px; border: 1px solid black; font-weight: bold; width: 4ch; text-align: center;'>2.65</td><td style='padding: 5px; border: 1px solid black; font-weight: bold; width: 4ch; text-align: center;'>2.7</td><td style='padding: 5px; border: 1px solid black; font-weight: bold; width: 4ch; text-align: center;'>2.75</td><td style='padding: 5px; border: 1px solid black; font-weight: bold; width: 4ch; text-align: center;'>2.8</td><td style='padding: 5px; border: 1px solid black; font-weight: bold; width: 4ch; text-align: center;'>2.85</td><td style='padding: 5px; border: 1px solid black; font-weight: bold; width: 4ch; text-align: center;'>2.9</td><td style='padding: 5px; border: 1px solid black; font-weight: bold; width: 4ch; text-align: center;'>2.95</td><td style='padding: 5px; border: 1px solid black; font-weight: bold; width: 4ch; text-align: center;'>3.0</td></tr><tr><td style='padding: 5px; border: 1px solid black; font-weight: bold; width: 4ch; text-align: center;'>3.05</td><td style='padding: 5px; border: 1px solid black; font-weight: bold; width: 4ch; text-align: center;'>3.1</td><td style='padding: 5px; border: 1px solid black; font-weight: bold; width: 4ch; text-align: center;'>3.15</td><td style='padding: 5px; border: 1px solid black; font-weight: bold; width: 4ch; text-align: center;'>3.2</td><td style='padding: 5px; border: 1px solid black; font-weight: bold; width: 4ch; text-align: center;'>3.25</td><td style='padding: 5px; border: 1px solid black; font-weight: bold; width: 4ch; text-align: center;'>3.3</td><td style='padding: 5px; border: 1px solid black; font-weight: bold; width: 4ch; text-align: center;'>3.35</td><td style='padding: 5px; border: 1px solid black; font-weight: bold; width: 4ch; text-align: center;'>3.4</td><td style='padding: 5px; border: 1px solid black; font-weight: bold; width: 4ch; text-align: center;'>3.45</td><td style='padding: 5px; border: 1px solid black; font-weight: bold; width: 4ch; text-align: center;'>3.5</td></tr><tr><td style='padding: 5px; border: 1px solid black; font-weight: bold; width: 4ch; text-align: center;'>3.55</td><td style='padding: 5px; border: 1px solid black; font-weight: bold; width: 4ch; text-align: center;'>3.6</td><td style='padding: 5px; border: 1px solid black; font-weight: bold; width: 4ch; text-align: center;'>3.65</td><td style='padding: 5px; border: 1px solid black; font-weight: bold; width: 4ch; text-align: center;'>3.7</td><td style='padding: 5px; border: 1px solid black; font-weight: bold; width: 4ch; text-align: center;'>3.75</td><td style='padding: 5px; border: 1px solid black; font-weight: bold; width: 4ch; text-align: center;'>3.8</td><td style='padding: 5px; border: 1px solid black; font-weight: bold; width: 4ch; text-align: center;'>3.85</td><td style='padding: 5px; border: 1px solid black; font-weight: bold; width: 4ch; text-align: center;'>3.9</td><td style='padding: 5px; border: 1px solid black; font-weight: bold; width: 4ch; text-align: center;'>3.95</td><td style='padding: 5px; border: 1px solid black; font-weight: bold; width: 4ch; text-align: center;'>4.0</td></tr><tr><td style='padding: 5px; border: 1px solid black; font-weight: bold; width: 4ch; text-align: center;'>4.05</td><td style='padding: 5px; border: 1px solid black; font-weight: bold; width: 4ch; text-align: center;'>4.1</td><td style='padding: 5px; border: 1px solid black; font-weight: bold; width: 4ch; text-align: center;'>4.15</td><td style='padding: 5px; border: 1px solid black; font-weight: bold; width: 4ch; text-align: center;'>4.2</td><td style='padding: 5px; border: 1px solid black; font-weight: bold; width: 4ch; text-align: center;'>4.25</td><td style='padding: 5px; border: 1px solid black; font-weight: bold; width: 4ch; text-align: center;'>4.3</td><td style='padding: 5px; border: 1px solid black; font-weight: bold; width: 4ch; text-align: center;'>4.35</td><td style='padding: 5px; border: 1px solid black; font-weight: bold; width: 4ch; text-align: center;'>4.4</td><td style='padding: 5px; border: 1px solid black; font-weight: bold; width: 4ch; text-align: center;'>4.45</td><td style='padding: 5px; border: 1px solid black; font-weight: bold; width: 4ch; text-align: center;'>4.5</td></tr><tr><td style='padding: 5px; border: 1px solid black; font-weight: bold; width: 4ch; text-align: center;'>4.55</td><td style='padding: 5px; border: 1px solid black; font-weight: bold; width: 4ch; text-align: center;'>4.6</td><td style='padding: 5px; border: 1px solid black; font-weight: bold; width: 4ch; text-align: center;'>4.65</td><td style='padding: 5px; border: 1px solid black; font-weight: bold; width: 4ch; text-align: center;'>4.7</td><td style='padding: 5px; border: 1px solid black; font-weight: bold; width: 4ch; text-align: center;'>4.75</td><td style='padding: 5px; border: 1px solid black; font-weight: bold; width: 4ch; text-align: center;'>4.8</td><td style='padding: 5px; border: 1px solid black; font-weight: bold; width: 4ch; text-align: center;'>4.85</td><td style='padding: 5px; border: 1px solid black; font-weight: bold; width: 4ch; text-align: center;'>4.9</td><td style='padding: 5px; border: 1px solid black; font-weight: bold; width: 4ch; text-align: center;'>4.95</td><td style='padding: 5px; border: 1px solid black; font-weight: bold; width: 4ch; text-align: center;'>5.0</td></tr></table>"
      ],
      "text/plain": [
       "array([[0.05, 0.1 , 0.15, 0.2 , 0.25, 0.3 , 0.35, 0.4 , 0.45, 0.5 ],\n",
       "       [0.55, 0.6 , 0.65, 0.7 , 0.75, 0.8 , 0.85, 0.9 , 0.95, 1.  ],\n",
       "       [1.05, 1.1 , 1.15, 1.2 , 1.25, 1.3 , 1.35, 1.4 , 1.45, 1.5 ],\n",
       "       [1.55, 1.6 , 1.65, 1.7 , 1.75, 1.8 , 1.85, 1.9 , 1.95, 2.  ],\n",
       "       [2.05, 2.1 , 2.15, 2.2 , 2.25, 2.3 , 2.35, 2.4 , 2.45, 2.5 ],\n",
       "       [2.55, 2.6 , 2.65, 2.7 , 2.75, 2.8 , 2.85, 2.9 , 2.95, 3.  ],\n",
       "       [3.05, 3.1 , 3.15, 3.2 , 3.25, 3.3 , 3.35, 3.4 , 3.45, 3.5 ],\n",
       "       [3.55, 3.6 , 3.65, 3.7 , 3.75, 3.8 , 3.85, 3.9 , 3.95, 4.  ],\n",
       "       [4.05, 4.1 , 4.15, 4.2 , 4.25, 4.3 , 4.35, 4.4 , 4.45, 4.5 ],\n",
       "       [4.55, 4.6 , 4.65, 4.7 , 4.75, 4.8 , 4.85, 4.9 , 4.95, 5.  ]])"
      ]
     },
     "execution_count": 86,
     "metadata": {},
     "output_type": "execute_result"
    }
   ],
   "source": [
    "# Question 5c\n",
    "# Create the matrix above\n",
    "data = np.arange(0.05,5.05,.05).reshape(10,10)\n",
    "np.round(data,2)\n"
   ]
  },
  {
   "attachments": {},
   "cell_type": "markdown",
   "metadata": {},
   "source": [
    "<h3><b>6. Use this matrix in your code:</b></h3>\n",
    "\n",
    "dataset = np.arange(1, 37).reshape(6, 6)\n",
    "\n",
    "<img src=\"http://srv.plab.fi/~tuomasv/data_analytics_2023_images/exercise_set_1/matrix4.png\"/>\n"
   ]
  },
  {
   "cell_type": "code",
   "execution_count": 87,
   "metadata": {},
   "outputs": [
    {
     "data": {
      "text/html": [
       "<table style='border: 1px solid black; border-collapse: collapse;'><tr><td style='padding: 5px; border: 1px solid black; font-weight: bold; width: 2ch; text-align: center;'>1</td><td style='padding: 5px; border: 1px solid black; font-weight: bold; width: 2ch; text-align: center;'>2</td><td style='padding: 5px; border: 1px solid black; font-weight: bold; width: 2ch; text-align: center;'>3</td><td style='padding: 5px; border: 1px solid black; font-weight: bold; width: 2ch; text-align: center;'>4</td><td style='padding: 5px; border: 1px solid black; font-weight: bold; width: 2ch; text-align: center;'>5</td><td style='padding: 5px; border: 1px solid black; font-weight: bold; width: 2ch; text-align: center;'>6</td></tr><tr><td style='padding: 5px; border: 1px solid black; font-weight: bold; width: 2ch; text-align: center;'>7</td><td style='padding: 5px; border: 1px solid black; font-weight: bold; width: 2ch; text-align: center;'>8</td><td style='padding: 5px; border: 1px solid black; font-weight: bold; width: 2ch; text-align: center;'>9</td><td style='padding: 5px; border: 1px solid black; font-weight: bold; width: 2ch; text-align: center;'>10</td><td style='padding: 5px; border: 1px solid black; font-weight: bold; width: 2ch; text-align: center;'>11</td><td style='padding: 5px; border: 1px solid black; font-weight: bold; width: 2ch; text-align: center;'>12</td></tr><tr><td style='padding: 5px; border: 1px solid black; font-weight: bold; width: 2ch; text-align: center;'>13</td><td style='padding: 5px; border: 1px solid black; font-weight: bold; width: 2ch; text-align: center;'>14</td><td style='padding: 5px; border: 1px solid black; font-weight: bold; width: 2ch; text-align: center;'>15</td><td style='padding: 5px; border: 1px solid black; font-weight: bold; width: 2ch; text-align: center;'>16</td><td style='padding: 5px; border: 1px solid black; font-weight: bold; width: 2ch; text-align: center;'>17</td><td style='padding: 5px; border: 1px solid black; font-weight: bold; width: 2ch; text-align: center;'>18</td></tr><tr><td style='padding: 5px; border: 1px solid black; font-weight: bold; width: 2ch; text-align: center;'>19</td><td style='padding: 5px; border: 1px solid black; font-weight: bold; width: 2ch; text-align: center;'>20</td><td style='padding: 5px; border: 1px solid black; font-weight: bold; width: 2ch; text-align: center;'>21</td><td style='padding: 5px; border: 1px solid black; font-weight: bold; width: 2ch; text-align: center;'>22</td><td style='padding: 5px; border: 1px solid black; font-weight: bold; width: 2ch; text-align: center;'>23</td><td style='padding: 5px; border: 1px solid black; font-weight: bold; width: 2ch; text-align: center;'>24</td></tr><tr><td style='padding: 5px; border: 1px solid black; font-weight: bold; width: 2ch; text-align: center;'>25</td><td style='padding: 5px; border: 1px solid black; font-weight: bold; width: 2ch; text-align: center;'>26</td><td style='padding: 5px; border: 1px solid black; font-weight: bold; width: 2ch; text-align: center;'>27</td><td style='padding: 5px; border: 1px solid black; font-weight: bold; width: 2ch; text-align: center;'>28</td><td style='padding: 5px; border: 1px solid black; font-weight: bold; width: 2ch; text-align: center;'>29</td><td style='padding: 5px; border: 1px solid black; font-weight: bold; width: 2ch; text-align: center;'>30</td></tr><tr><td style='padding: 5px; border: 1px solid black; font-weight: bold; width: 2ch; text-align: center;'>31</td><td style='padding: 5px; border: 1px solid black; font-weight: bold; width: 2ch; text-align: center;'>32</td><td style='padding: 5px; border: 1px solid black; font-weight: bold; width: 2ch; text-align: center;'>33</td><td style='padding: 5px; border: 1px solid black; font-weight: bold; width: 2ch; text-align: center;'>34</td><td style='padding: 5px; border: 1px solid black; font-weight: bold; width: 2ch; text-align: center;'>35</td><td style='padding: 5px; border: 1px solid black; font-weight: bold; width: 2ch; text-align: center;'>36</td></tr></table>"
      ],
      "text/plain": [
       "array([[ 1,  2,  3,  4,  5,  6],\n",
       "       [ 7,  8,  9, 10, 11, 12],\n",
       "       [13, 14, 15, 16, 17, 18],\n",
       "       [19, 20, 21, 22, 23, 24],\n",
       "       [25, 26, 27, 28, 29, 30],\n",
       "       [31, 32, 33, 34, 35, 36]])"
      ]
     },
     "execution_count": 87,
     "metadata": {},
     "output_type": "execute_result"
    }
   ],
   "source": [
    "# Exercise 5d\n",
    "\n",
    "# Creating the matrix.\n",
    "dataset = np.arange(1, 37).reshape(6, 6)\n",
    "dataset"
   ]
  },
  {
   "attachments": {},
   "cell_type": "markdown",
   "metadata": {},
   "source": [
    "- Create a slice of the matrix that contains this part of the matrix:\n",
    "\n",
    "<img src=\"http://srv.plab.fi/~tuomasv/data_analytics_2023_images/exercise_set_1/matrix5.png\"/>"
   ]
  },
  {
   "cell_type": "code",
   "execution_count": 88,
   "metadata": {},
   "outputs": [
    {
     "data": {
      "text/html": [
       "<table style='border: 1px solid black; border-collapse: collapse;'><tr><td style='padding: 5px; border: 1px solid black; font-weight: bold; width: 2ch; text-align: center;'>21</td><td style='padding: 5px; border: 1px solid black; font-weight: bold; width: 2ch; text-align: center;'>22</td><td style='padding: 5px; border: 1px solid black; font-weight: bold; width: 2ch; text-align: center;'>23</td><td style='padding: 5px; border: 1px solid black; font-weight: bold; width: 2ch; text-align: center;'>24</td></tr><tr><td style='padding: 5px; border: 1px solid black; font-weight: bold; width: 2ch; text-align: center;'>27</td><td style='padding: 5px; border: 1px solid black; font-weight: bold; width: 2ch; text-align: center;'>28</td><td style='padding: 5px; border: 1px solid black; font-weight: bold; width: 2ch; text-align: center;'>29</td><td style='padding: 5px; border: 1px solid black; font-weight: bold; width: 2ch; text-align: center;'>30</td></tr><tr><td style='padding: 5px; border: 1px solid black; font-weight: bold; width: 2ch; text-align: center;'>33</td><td style='padding: 5px; border: 1px solid black; font-weight: bold; width: 2ch; text-align: center;'>34</td><td style='padding: 5px; border: 1px solid black; font-weight: bold; width: 2ch; text-align: center;'>35</td><td style='padding: 5px; border: 1px solid black; font-weight: bold; width: 2ch; text-align: center;'>36</td></tr></table>"
      ],
      "text/plain": [
       "array([[21, 22, 23, 24],\n",
       "       [27, 28, 29, 30],\n",
       "       [33, 34, 35, 36]])"
      ]
     },
     "execution_count": 88,
     "metadata": {},
     "output_type": "execute_result"
    }
   ],
   "source": [
    "# Question 5e\n",
    "dataset[3:6, 2:6]\n",
    "\n"
   ]
  },
  {
   "attachments": {},
   "cell_type": "markdown",
   "metadata": {},
   "source": [
    "- Pick out this column slice from data\n",
    "\n",
    "<img src=\"http://srv.plab.fi/~tuomasv/data_analytics_2023_images/exercise_set_1/series1.png\"/>"
   ]
  },
  {
   "cell_type": "code",
   "execution_count": 89,
   "metadata": {},
   "outputs": [
    {
     "data": {
      "text/html": [
       "<table style='border: 1px solid black; border-collapse: collapse;'><tr><td style='padding: 5px; border: 1px solid black; font-weight: bold; width: 2ch; text-align: center;'>4</td></tr><tr><td style='padding: 5px; border: 1px solid black; font-weight: bold; width: 2ch; text-align: center;'>10</td></tr><tr><td style='padding: 5px; border: 1px solid black; font-weight: bold; width: 2ch; text-align: center;'>16</td></tr><tr><td style='padding: 5px; border: 1px solid black; font-weight: bold; width: 2ch; text-align: center;'>22</td></tr></table>"
      ],
      "text/plain": [
       "array([ 4, 10, 16, 22])"
      ]
     },
     "execution_count": 89,
     "metadata": {},
     "output_type": "execute_result"
    }
   ],
   "source": [
    "# Question 5f\n",
    "\n",
    "# Create the matrix above via slicing\n",
    "dataset[0:4, 3]"
   ]
  },
  {
   "attachments": {},
   "cell_type": "markdown",
   "metadata": {},
   "source": [
    "- Pick out this row from the data\n",
    "\n",
    "<img src=\"http://srv.plab.fi/~tuomasv/data_analytics_2023_images/exercise_set_1/series2.png\"/>"
   ]
  },
  {
   "cell_type": "code",
   "execution_count": 90,
   "metadata": {},
   "outputs": [
    {
     "data": {
      "text/html": [
       "<table style='border: 1px solid black; border-collapse: collapse;'><tr><td style='padding: 5px; border: 1px solid black; font-weight: bold; width: 2ch; text-align: center;'>13</td></tr><tr><td style='padding: 5px; border: 1px solid black; font-weight: bold; width: 2ch; text-align: center;'>14</td></tr><tr><td style='padding: 5px; border: 1px solid black; font-weight: bold; width: 2ch; text-align: center;'>15</td></tr><tr><td style='padding: 5px; border: 1px solid black; font-weight: bold; width: 2ch; text-align: center;'>16</td></tr><tr><td style='padding: 5px; border: 1px solid black; font-weight: bold; width: 2ch; text-align: center;'>17</td></tr><tr><td style='padding: 5px; border: 1px solid black; font-weight: bold; width: 2ch; text-align: center;'>18</td></tr></table>"
      ],
      "text/plain": [
       "array([13, 14, 15, 16, 17, 18])"
      ]
     },
     "execution_count": 90,
     "metadata": {},
     "output_type": "execute_result"
    }
   ],
   "source": [
    "# Question 5g\n",
    "\n",
    "# creates a subset of the original data\n",
    "dataset[2,0:]"
   ]
  },
  {
   "attachments": {},
   "cell_type": "markdown",
   "metadata": {},
   "source": [
    "- Pick out these three rows from data:\n",
    "\n",
    "<img src=\"http://srv.plab.fi/~tuomasv/data_analytics_2023_images/exercise_set_1/matrix6.png\"/>"
   ]
  },
  {
   "cell_type": "code",
   "execution_count": 91,
   "metadata": {},
   "outputs": [
    {
     "data": {
      "text/html": [
       "<table style='border: 1px solid black; border-collapse: collapse;'><tr><td style='padding: 5px; border: 1px solid black; font-weight: bold; width: 2ch; text-align: center;'>19</td><td style='padding: 5px; border: 1px solid black; font-weight: bold; width: 2ch; text-align: center;'>20</td><td style='padding: 5px; border: 1px solid black; font-weight: bold; width: 2ch; text-align: center;'>21</td><td style='padding: 5px; border: 1px solid black; font-weight: bold; width: 2ch; text-align: center;'>22</td><td style='padding: 5px; border: 1px solid black; font-weight: bold; width: 2ch; text-align: center;'>23</td><td style='padding: 5px; border: 1px solid black; font-weight: bold; width: 2ch; text-align: center;'>24</td></tr><tr><td style='padding: 5px; border: 1px solid black; font-weight: bold; width: 2ch; text-align: center;'>25</td><td style='padding: 5px; border: 1px solid black; font-weight: bold; width: 2ch; text-align: center;'>26</td><td style='padding: 5px; border: 1px solid black; font-weight: bold; width: 2ch; text-align: center;'>27</td><td style='padding: 5px; border: 1px solid black; font-weight: bold; width: 2ch; text-align: center;'>28</td><td style='padding: 5px; border: 1px solid black; font-weight: bold; width: 2ch; text-align: center;'>29</td><td style='padding: 5px; border: 1px solid black; font-weight: bold; width: 2ch; text-align: center;'>30</td></tr><tr><td style='padding: 5px; border: 1px solid black; font-weight: bold; width: 2ch; text-align: center;'>31</td><td style='padding: 5px; border: 1px solid black; font-weight: bold; width: 2ch; text-align: center;'>32</td><td style='padding: 5px; border: 1px solid black; font-weight: bold; width: 2ch; text-align: center;'>33</td><td style='padding: 5px; border: 1px solid black; font-weight: bold; width: 2ch; text-align: center;'>34</td><td style='padding: 5px; border: 1px solid black; font-weight: bold; width: 2ch; text-align: center;'>35</td><td style='padding: 5px; border: 1px solid black; font-weight: bold; width: 2ch; text-align: center;'>36</td></tr></table>"
      ],
      "text/plain": [
       "array([[19, 20, 21, 22, 23, 24],\n",
       "       [25, 26, 27, 28, 29, 30],\n",
       "       [31, 32, 33, 34, 35, 36]])"
      ]
     },
     "execution_count": 91,
     "metadata": {},
     "output_type": "execute_result"
    }
   ],
   "source": [
    "# Question 5h\n",
    "# using vsplit to get some practice! (and for fun)\n",
    "\n",
    "# creates a subset of the original data.\n",
    "subset = dataset\n",
    "\n",
    "# splits the data in 2 rows\n",
    "subset = np.vsplit(subset,2)\n",
    "\n",
    "# renames the second half of the split as the subset\n",
    "subset = subset[1]\n",
    "subset "
   ]
  },
  {
   "attachments": {},
   "cell_type": "markdown",
   "metadata": {},
   "source": [
    "<h3><b>7. Use this matrix:</b></h3>\n",
    "\n",
    "<b>dataset_2 = np.arange(1, 50).reshape(7, 7)</b>\n",
    "\n",
    "- Add 50 to all values in the array (use broadcasting)\n",
    "\n",
    "- Get the sum of all values in the dataset\n",
    "    - <b>Use this version of the data in the following steps!</b>\n",
    "\n",
    "- Get sum of only odd numbers in the dataset\n",
    "\n",
    "- Get the standard deviation of the values in the dataset\n",
    "\n",
    "- Get the sum of all values by ROW in the dataset\n",
    "\n",
    "- Get the sum of all values by COLUMN in the dataset (tip, use the axis –parameter)\n",
    "\n",
    "<br>\n",
    "\n",
    "- <b>Extra task:</b> Do the total sum, row sum and column sum exercises <u><b>without</b></u> NumPy in Python! <b>(Without the help of AI!)</b>\n",
    "\n",
    "<br>\n",
    "<b>Note:</b> Don't create a new dataset when adding 50 to all values in the array, use the existing one.\n",
    "<br><br>\n",
    "<img src=\"http://srv.plab.fi/~tuomasv/data_analytics_2023_images/exercise_set_1/desktopcomputer.png\"/>\n"
   ]
  },
  {
   "cell_type": "code",
   "execution_count": 92,
   "metadata": {},
   "outputs": [
    {
     "data": {
      "text/html": [
       "<table style='border: 1px solid black; border-collapse: collapse;'><tr><td style='padding: 5px; border: 1px solid black; font-weight: bold; width: 2ch; text-align: center;'>51</td><td style='padding: 5px; border: 1px solid black; font-weight: bold; width: 2ch; text-align: center;'>52</td><td style='padding: 5px; border: 1px solid black; font-weight: bold; width: 2ch; text-align: center;'>53</td><td style='padding: 5px; border: 1px solid black; font-weight: bold; width: 2ch; text-align: center;'>54</td><td style='padding: 5px; border: 1px solid black; font-weight: bold; width: 2ch; text-align: center;'>55</td><td style='padding: 5px; border: 1px solid black; font-weight: bold; width: 2ch; text-align: center;'>56</td><td style='padding: 5px; border: 1px solid black; font-weight: bold; width: 2ch; text-align: center;'>57</td></tr><tr><td style='padding: 5px; border: 1px solid black; font-weight: bold; width: 2ch; text-align: center;'>58</td><td style='padding: 5px; border: 1px solid black; font-weight: bold; width: 2ch; text-align: center;'>59</td><td style='padding: 5px; border: 1px solid black; font-weight: bold; width: 2ch; text-align: center;'>60</td><td style='padding: 5px; border: 1px solid black; font-weight: bold; width: 2ch; text-align: center;'>61</td><td style='padding: 5px; border: 1px solid black; font-weight: bold; width: 2ch; text-align: center;'>62</td><td style='padding: 5px; border: 1px solid black; font-weight: bold; width: 2ch; text-align: center;'>63</td><td style='padding: 5px; border: 1px solid black; font-weight: bold; width: 2ch; text-align: center;'>64</td></tr><tr><td style='padding: 5px; border: 1px solid black; font-weight: bold; width: 2ch; text-align: center;'>65</td><td style='padding: 5px; border: 1px solid black; font-weight: bold; width: 2ch; text-align: center;'>66</td><td style='padding: 5px; border: 1px solid black; font-weight: bold; width: 2ch; text-align: center;'>67</td><td style='padding: 5px; border: 1px solid black; font-weight: bold; width: 2ch; text-align: center;'>68</td><td style='padding: 5px; border: 1px solid black; font-weight: bold; width: 2ch; text-align: center;'>69</td><td style='padding: 5px; border: 1px solid black; font-weight: bold; width: 2ch; text-align: center;'>70</td><td style='padding: 5px; border: 1px solid black; font-weight: bold; width: 2ch; text-align: center;'>71</td></tr><tr><td style='padding: 5px; border: 1px solid black; font-weight: bold; width: 2ch; text-align: center;'>72</td><td style='padding: 5px; border: 1px solid black; font-weight: bold; width: 2ch; text-align: center;'>73</td><td style='padding: 5px; border: 1px solid black; font-weight: bold; width: 2ch; text-align: center;'>74</td><td style='padding: 5px; border: 1px solid black; font-weight: bold; width: 2ch; text-align: center;'>75</td><td style='padding: 5px; border: 1px solid black; font-weight: bold; width: 2ch; text-align: center;'>76</td><td style='padding: 5px; border: 1px solid black; font-weight: bold; width: 2ch; text-align: center;'>77</td><td style='padding: 5px; border: 1px solid black; font-weight: bold; width: 2ch; text-align: center;'>78</td></tr><tr><td style='padding: 5px; border: 1px solid black; font-weight: bold; width: 2ch; text-align: center;'>79</td><td style='padding: 5px; border: 1px solid black; font-weight: bold; width: 2ch; text-align: center;'>80</td><td style='padding: 5px; border: 1px solid black; font-weight: bold; width: 2ch; text-align: center;'>81</td><td style='padding: 5px; border: 1px solid black; font-weight: bold; width: 2ch; text-align: center;'>82</td><td style='padding: 5px; border: 1px solid black; font-weight: bold; width: 2ch; text-align: center;'>83</td><td style='padding: 5px; border: 1px solid black; font-weight: bold; width: 2ch; text-align: center;'>84</td><td style='padding: 5px; border: 1px solid black; font-weight: bold; width: 2ch; text-align: center;'>85</td></tr><tr><td style='padding: 5px; border: 1px solid black; font-weight: bold; width: 2ch; text-align: center;'>86</td><td style='padding: 5px; border: 1px solid black; font-weight: bold; width: 2ch; text-align: center;'>87</td><td style='padding: 5px; border: 1px solid black; font-weight: bold; width: 2ch; text-align: center;'>88</td><td style='padding: 5px; border: 1px solid black; font-weight: bold; width: 2ch; text-align: center;'>89</td><td style='padding: 5px; border: 1px solid black; font-weight: bold; width: 2ch; text-align: center;'>90</td><td style='padding: 5px; border: 1px solid black; font-weight: bold; width: 2ch; text-align: center;'>91</td><td style='padding: 5px; border: 1px solid black; font-weight: bold; width: 2ch; text-align: center;'>92</td></tr><tr><td style='padding: 5px; border: 1px solid black; font-weight: bold; width: 2ch; text-align: center;'>93</td><td style='padding: 5px; border: 1px solid black; font-weight: bold; width: 2ch; text-align: center;'>94</td><td style='padding: 5px; border: 1px solid black; font-weight: bold; width: 2ch; text-align: center;'>95</td><td style='padding: 5px; border: 1px solid black; font-weight: bold; width: 2ch; text-align: center;'>96</td><td style='padding: 5px; border: 1px solid black; font-weight: bold; width: 2ch; text-align: center;'>97</td><td style='padding: 5px; border: 1px solid black; font-weight: bold; width: 2ch; text-align: center;'>98</td><td style='padding: 5px; border: 1px solid black; font-weight: bold; width: 2ch; text-align: center;'>99</td></tr></table>"
      ],
      "text/plain": [
       "array([[51, 52, 53, 54, 55, 56, 57],\n",
       "       [58, 59, 60, 61, 62, 63, 64],\n",
       "       [65, 66, 67, 68, 69, 70, 71],\n",
       "       [72, 73, 74, 75, 76, 77, 78],\n",
       "       [79, 80, 81, 82, 83, 84, 85],\n",
       "       [86, 87, 88, 89, 90, 91, 92],\n",
       "       [93, 94, 95, 96, 97, 98, 99]])"
      ]
     },
     "execution_count": 92,
     "metadata": {},
     "output_type": "execute_result"
    }
   ],
   "source": [
    "# Exercise 7\n",
    "\n",
    "# NumPy -operations on a matrix\n",
    "# Creating the  dataset\n",
    "dataset_2 = np.arange(1, 50).reshape(7, 7)\n",
    "\n",
    "\n",
    "# Question 7a\n",
    "\n",
    "# Adding 50 to all values in the array (using broadcasting)\n",
    "dataset_2 = dataset_2 + 50\n",
    "dataset_2"
   ]
  },
  {
   "cell_type": "code",
   "execution_count": 93,
   "metadata": {},
   "outputs": [
    {
     "name": "stdout",
     "output_type": "stream",
     "text": [
      "Sum: 3675\n"
     ]
    }
   ],
   "source": [
    "# Question 7b\n",
    "\n",
    "# Getting the sum of all values in the subset\n",
    "total = np.sum(dataset_2)\n",
    "print(f\"Sum: {total}\") "
   ]
  },
  {
   "cell_type": "code",
   "execution_count": 94,
   "metadata": {},
   "outputs": [
    {
     "name": "stdout",
     "output_type": "stream",
     "text": [
      "Sum of all odd numbers in dataset: 1875\n"
     ]
    }
   ],
   "source": [
    "# Question 7c\n",
    "\n",
    "# getting the sum of only all the odd numbers in the dataset\n",
    "odds = dataset_2[dataset_2 % 2 == 1]\n",
    "odd_sum = np.sum(odds)\n",
    "print(f\"Sum of all odd numbers in dataset: {odd_sum}\")\n"
   ]
  },
  {
   "cell_type": "code",
   "execution_count": 95,
   "metadata": {},
   "outputs": [
    {
     "name": "stdout",
     "output_type": "stream",
     "text": [
      "STD: 14.142\n"
     ]
    }
   ],
   "source": [
    "# Question 7d\n",
    "\n",
    "# Getting the standard deviation of all the values in the subset.\n",
    "deviation = np.std(dataset_2)\n",
    "print(f\"STD: {deviation.round(3)}\")"
   ]
  },
  {
   "cell_type": "code",
   "execution_count": 96,
   "metadata": {},
   "outputs": [
    {
     "name": "stdout",
     "output_type": "stream",
     "text": [
      "Sum-rows: [378 427 476 525 574 623 672]\n"
     ]
    },
    {
     "data": {
      "text/html": [
       "<table style='border: 1px solid black; border-collapse: collapse;'><tr><td style='padding: 5px; border: 1px solid black; font-weight: bold; width: 3ch; text-align: center;'>378</td></tr><tr><td style='padding: 5px; border: 1px solid black; font-weight: bold; width: 3ch; text-align: center;'>427</td></tr><tr><td style='padding: 5px; border: 1px solid black; font-weight: bold; width: 3ch; text-align: center;'>476</td></tr><tr><td style='padding: 5px; border: 1px solid black; font-weight: bold; width: 3ch; text-align: center;'>525</td></tr><tr><td style='padding: 5px; border: 1px solid black; font-weight: bold; width: 3ch; text-align: center;'>574</td></tr><tr><td style='padding: 5px; border: 1px solid black; font-weight: bold; width: 3ch; text-align: center;'>623</td></tr><tr><td style='padding: 5px; border: 1px solid black; font-weight: bold; width: 3ch; text-align: center;'>672</td></tr></table>"
      ],
      "text/plain": [
       "array([378, 427, 476, 525, 574, 623, 672])"
      ]
     },
     "execution_count": 96,
     "metadata": {},
     "output_type": "execute_result"
    }
   ],
   "source": [
    "# Question 7e\n",
    "\n",
    "# Adding together all the rows in the subset.\n",
    "sum_rows= np.sum(dataset_2, axis=1)\n",
    "print(f\"Sum-rows: {sum_rows}\")\n",
    "sum_rows"
   ]
  },
  {
   "cell_type": "code",
   "execution_count": 97,
   "metadata": {},
   "outputs": [
    {
     "name": "stdout",
     "output_type": "stream",
     "text": [
      "Sum-columns: [504 511 518 525 532 539 546]\n"
     ]
    },
    {
     "data": {
      "text/html": [
       "<table style='border: 1px solid black; border-collapse: collapse;'><tr><td style='padding: 5px; border: 1px solid black; font-weight: bold; width: 3ch; text-align: center;'>504</td></tr><tr><td style='padding: 5px; border: 1px solid black; font-weight: bold; width: 3ch; text-align: center;'>511</td></tr><tr><td style='padding: 5px; border: 1px solid black; font-weight: bold; width: 3ch; text-align: center;'>518</td></tr><tr><td style='padding: 5px; border: 1px solid black; font-weight: bold; width: 3ch; text-align: center;'>525</td></tr><tr><td style='padding: 5px; border: 1px solid black; font-weight: bold; width: 3ch; text-align: center;'>532</td></tr><tr><td style='padding: 5px; border: 1px solid black; font-weight: bold; width: 3ch; text-align: center;'>539</td></tr><tr><td style='padding: 5px; border: 1px solid black; font-weight: bold; width: 3ch; text-align: center;'>546</td></tr></table>"
      ],
      "text/plain": [
       "array([504, 511, 518, 525, 532, 539, 546])"
      ]
     },
     "execution_count": 97,
     "metadata": {},
     "output_type": "execute_result"
    }
   ],
   "source": [
    "# Question 7f\n",
    "\n",
    "# Adding together all the columns in the subset.\n",
    "sum_columns = np.sum(dataset_2, axis=0)\n",
    "print(f\"Sum-columns: {sum_columns}\")\n",
    "sum_columns"
   ]
  },
  {
   "cell_type": "code",
   "execution_count": 98,
   "metadata": {},
   "outputs": [
    {
     "name": "stdout",
     "output_type": "stream",
     "text": [
      "[ 96 102 108 114 120 126]\n"
     ]
    },
    {
     "data": {
      "text/html": [
       "<table style='border: 1px solid black; border-collapse: collapse;'><tr><td style='padding: 5px; border: 1px solid black; font-weight: bold; width: 3ch; text-align: center;'>96</td></tr><tr><td style='padding: 5px; border: 1px solid black; font-weight: bold; width: 3ch; text-align: center;'>102</td></tr><tr><td style='padding: 5px; border: 1px solid black; font-weight: bold; width: 3ch; text-align: center;'>108</td></tr><tr><td style='padding: 5px; border: 1px solid black; font-weight: bold; width: 3ch; text-align: center;'>114</td></tr><tr><td style='padding: 5px; border: 1px solid black; font-weight: bold; width: 3ch; text-align: center;'>120</td></tr><tr><td style='padding: 5px; border: 1px solid black; font-weight: bold; width: 3ch; text-align: center;'>126</td></tr></table>"
      ],
      "text/plain": [
       "array([ 96, 102, 108, 114, 120, 126])"
      ]
     },
     "execution_count": 98,
     "metadata": {},
     "output_type": "execute_result"
    }
   ],
   "source": [
    "# Question 7b, 7e, 7d (Plain Python)\n",
    "\n",
    "# Extra Task!\n",
    "# Re-doing total-sum, row-sum, and column-sum without NumPy.\n",
    "\n",
    "\n",
    "# Recreating sum-columns.\n",
    "sum_columns = sum(dataset)\n",
    "print(sum_columns)\n",
    "sum_columns"
   ]
  },
  {
   "cell_type": "code",
   "execution_count": 99,
   "metadata": {},
   "outputs": [
    {
     "name": "stdout",
     "output_type": "stream",
     "text": [
      "Sum of each row by index: \n"
     ]
    },
    {
     "data": {
      "text/plain": [
       "[21, 57, 93, 129, 165, 201]"
      ]
     },
     "execution_count": 99,
     "metadata": {},
     "output_type": "execute_result"
    }
   ],
   "source": [
    "# Recreating sum-rows using a for loop.\n",
    "sum_rows = []\n",
    "amount = len(dataset)\n",
    "\n",
    "# iterates each row via the range(len) of the rows.\n",
    "for i in range(amount):\n",
    "  sum_rows.append(sum(dataset[i]))\n",
    "  \n",
    "\n",
    "# printing the rows using using list comprehension.\n",
    "print(\"Sum of each row by index: \")\n",
    "sum_rows = [int(x) for x in sum_rows]\n",
    "sum_rows"
   ]
  },
  {
   "cell_type": "code",
   "execution_count": 100,
   "metadata": {},
   "outputs": [
    {
     "name": "stdout",
     "output_type": "stream",
     "text": [
      "Sum: 666\n"
     ]
    }
   ],
   "source": [
    "# sum_all tallies the numbers, amount is a helper variable.\n",
    "sum_all = 0\n",
    "amount = len(dataset)\n",
    "\n",
    "# iterates each row via the range of the length of the subset (7 rows)\n",
    "for i in range(amount):\n",
    "\n",
    "  # adds the sum of the column to sum_all \n",
    "  sum_all += sum(dataset[i])\n",
    "\n",
    "print(f\"Sum: {sum_all}\")"
   ]
  },
  {
   "attachments": {},
   "cell_type": "markdown",
   "metadata": {},
   "source": [
    "<br><br>\n",
    "<h2><b>Advanced extra tasks for extra points (varying challenges, some require Googling):</b></h2>"
   ]
  },
  {
   "attachments": {},
   "cell_type": "markdown",
   "metadata": {},
   "source": [
    "<h3><b>1. Create two files for this exercise: save_matrix.py and read_matrix.py</b></h3>\n",
    "\n",
    "- in save_matrix.py: create a 15x15 matrix, and save it to a file (matrix.txt)\n",
    " - in read_matrix.py, read matrix.txt, and convert it back to a NumPy matrix\n",
    "\n",
    "NumPy has loadtxt() and savetxt()-functions for these purposes.\n"
   ]
  },
  {
   "cell_type": "markdown",
   "metadata": {},
   "source": [
    "---"
   ]
  },
  {
   "cell_type": "markdown",
   "metadata": {},
   "source": [
    "Quick Links for easy review\n",
    "\n",
    "[Click to go to **save_matrix.py**](save_matrix.py)\n",
    "<br><br>\n",
    "[Click to go to **read-matrix.py**](read_matrix.py)\n",
    "<br><br>\n",
    "[Click to go to **matrix.txt**](matrix.txt)\n"
   ]
  },
  {
   "cell_type": "markdown",
   "metadata": {},
   "source": [
    "---"
   ]
  },
  {
   "attachments": {},
   "cell_type": "markdown",
   "metadata": {},
   "source": [
    "<h3><b>2. Masked arrays are a feature of NumPy that allow us to deal with pieces data that are incorrect or missing in a dataset (for example, faulty measurements from equipment etc.).</b></h3>\n",
    "\n",
    "Create a NumPy matrix, that contains numbers between 0 to 50, and put some faulty numbers in a 10 different spots \n",
    "(for example: -100)\n",
    "\n",
    "Use a masked array to handle the -100 values in your matrix. Replace every -100 with 0.\n"
   ]
  },
  {
   "cell_type": "code",
   "execution_count": 101,
   "metadata": {},
   "outputs": [
    {
     "data": {
      "text/html": [
       "<table style='border: 1px solid black; border-collapse: collapse;'><tr><td style='padding: 5px; border: 1px solid black; font-weight: bold; width: 4ch; text-align: center;'>-100</td><td style='padding: 5px; border: 1px solid black; font-weight: bold; width: 4ch; text-align: center;'>0</td><td style='padding: 5px; border: 1px solid black; font-weight: bold; width: 4ch; text-align: center;'>1</td><td style='padding: 5px; border: 1px solid black; font-weight: bold; width: 4ch; text-align: center;'>2</td><td style='padding: 5px; border: 1px solid black; font-weight: bold; width: 4ch; text-align: center;'>3</td><td style='padding: 5px; border: 1px solid black; font-weight: bold; width: 4ch; text-align: center;'>4</td></tr><tr><td style='padding: 5px; border: 1px solid black; font-weight: bold; width: 4ch; text-align: center;'>-100</td><td style='padding: 5px; border: 1px solid black; font-weight: bold; width: 4ch; text-align: center;'>5</td><td style='padding: 5px; border: 1px solid black; font-weight: bold; width: 4ch; text-align: center;'>6</td><td style='padding: 5px; border: 1px solid black; font-weight: bold; width: 4ch; text-align: center;'>7</td><td style='padding: 5px; border: 1px solid black; font-weight: bold; width: 4ch; text-align: center;'>8</td><td style='padding: 5px; border: 1px solid black; font-weight: bold; width: 4ch; text-align: center;'>9</td></tr><tr><td style='padding: 5px; border: 1px solid black; font-weight: bold; width: 4ch; text-align: center;'>-100</td><td style='padding: 5px; border: 1px solid black; font-weight: bold; width: 4ch; text-align: center;'>10</td><td style='padding: 5px; border: 1px solid black; font-weight: bold; width: 4ch; text-align: center;'>11</td><td style='padding: 5px; border: 1px solid black; font-weight: bold; width: 4ch; text-align: center;'>12</td><td style='padding: 5px; border: 1px solid black; font-weight: bold; width: 4ch; text-align: center;'>13</td><td style='padding: 5px; border: 1px solid black; font-weight: bold; width: 4ch; text-align: center;'>14</td></tr><tr><td style='padding: 5px; border: 1px solid black; font-weight: bold; width: 4ch; text-align: center;'>-100</td><td style='padding: 5px; border: 1px solid black; font-weight: bold; width: 4ch; text-align: center;'>15</td><td style='padding: 5px; border: 1px solid black; font-weight: bold; width: 4ch; text-align: center;'>16</td><td style='padding: 5px; border: 1px solid black; font-weight: bold; width: 4ch; text-align: center;'>17</td><td style='padding: 5px; border: 1px solid black; font-weight: bold; width: 4ch; text-align: center;'>18</td><td style='padding: 5px; border: 1px solid black; font-weight: bold; width: 4ch; text-align: center;'>19</td></tr><tr><td style='padding: 5px; border: 1px solid black; font-weight: bold; width: 4ch; text-align: center;'>-100</td><td style='padding: 5px; border: 1px solid black; font-weight: bold; width: 4ch; text-align: center;'>20</td><td style='padding: 5px; border: 1px solid black; font-weight: bold; width: 4ch; text-align: center;'>21</td><td style='padding: 5px; border: 1px solid black; font-weight: bold; width: 4ch; text-align: center;'>22</td><td style='padding: 5px; border: 1px solid black; font-weight: bold; width: 4ch; text-align: center;'>23</td><td style='padding: 5px; border: 1px solid black; font-weight: bold; width: 4ch; text-align: center;'>24</td></tr><tr><td style='padding: 5px; border: 1px solid black; font-weight: bold; width: 4ch; text-align: center;'>-100</td><td style='padding: 5px; border: 1px solid black; font-weight: bold; width: 4ch; text-align: center;'>25</td><td style='padding: 5px; border: 1px solid black; font-weight: bold; width: 4ch; text-align: center;'>26</td><td style='padding: 5px; border: 1px solid black; font-weight: bold; width: 4ch; text-align: center;'>27</td><td style='padding: 5px; border: 1px solid black; font-weight: bold; width: 4ch; text-align: center;'>28</td><td style='padding: 5px; border: 1px solid black; font-weight: bold; width: 4ch; text-align: center;'>29</td></tr><tr><td style='padding: 5px; border: 1px solid black; font-weight: bold; width: 4ch; text-align: center;'>-100</td><td style='padding: 5px; border: 1px solid black; font-weight: bold; width: 4ch; text-align: center;'>30</td><td style='padding: 5px; border: 1px solid black; font-weight: bold; width: 4ch; text-align: center;'>31</td><td style='padding: 5px; border: 1px solid black; font-weight: bold; width: 4ch; text-align: center;'>32</td><td style='padding: 5px; border: 1px solid black; font-weight: bold; width: 4ch; text-align: center;'>33</td><td style='padding: 5px; border: 1px solid black; font-weight: bold; width: 4ch; text-align: center;'>34</td></tr><tr><td style='padding: 5px; border: 1px solid black; font-weight: bold; width: 4ch; text-align: center;'>-100</td><td style='padding: 5px; border: 1px solid black; font-weight: bold; width: 4ch; text-align: center;'>35</td><td style='padding: 5px; border: 1px solid black; font-weight: bold; width: 4ch; text-align: center;'>36</td><td style='padding: 5px; border: 1px solid black; font-weight: bold; width: 4ch; text-align: center;'>37</td><td style='padding: 5px; border: 1px solid black; font-weight: bold; width: 4ch; text-align: center;'>38</td><td style='padding: 5px; border: 1px solid black; font-weight: bold; width: 4ch; text-align: center;'>39</td></tr><tr><td style='padding: 5px; border: 1px solid black; font-weight: bold; width: 4ch; text-align: center;'>-100</td><td style='padding: 5px; border: 1px solid black; font-weight: bold; width: 4ch; text-align: center;'>40</td><td style='padding: 5px; border: 1px solid black; font-weight: bold; width: 4ch; text-align: center;'>41</td><td style='padding: 5px; border: 1px solid black; font-weight: bold; width: 4ch; text-align: center;'>42</td><td style='padding: 5px; border: 1px solid black; font-weight: bold; width: 4ch; text-align: center;'>43</td><td style='padding: 5px; border: 1px solid black; font-weight: bold; width: 4ch; text-align: center;'>44</td></tr><tr><td style='padding: 5px; border: 1px solid black; font-weight: bold; width: 4ch; text-align: center;'>-100</td><td style='padding: 5px; border: 1px solid black; font-weight: bold; width: 4ch; text-align: center;'>45</td><td style='padding: 5px; border: 1px solid black; font-weight: bold; width: 4ch; text-align: center;'>46</td><td style='padding: 5px; border: 1px solid black; font-weight: bold; width: 4ch; text-align: center;'>47</td><td style='padding: 5px; border: 1px solid black; font-weight: bold; width: 4ch; text-align: center;'>48</td><td style='padding: 5px; border: 1px solid black; font-weight: bold; width: 4ch; text-align: center;'>49</td></tr></table>"
      ],
      "text/plain": [
       "array([[-100,    0,    1,    2,    3,    4],\n",
       "       [-100,    5,    6,    7,    8,    9],\n",
       "       [-100,   10,   11,   12,   13,   14],\n",
       "       [-100,   15,   16,   17,   18,   19],\n",
       "       [-100,   20,   21,   22,   23,   24],\n",
       "       [-100,   25,   26,   27,   28,   29],\n",
       "       [-100,   30,   31,   32,   33,   34],\n",
       "       [-100,   35,   36,   37,   38,   39],\n",
       "       [-100,   40,   41,   42,   43,   44],\n",
       "       [-100,   45,   46,   47,   48,   49]])"
      ]
     },
     "execution_count": 101,
     "metadata": {},
     "output_type": "execute_result"
    }
   ],
   "source": [
    "# advanced extra exercise 2\n",
    "\n",
    "# creating numbers between 0 to 50.\n",
    "data = np.arange(0,50)\n",
    "\n",
    "# for each 6 spaces, starting from the first element in the index,\n",
    "# add a faulty number 10 times.\n",
    "for index in range(10):\n",
    "  data = np.insert(data, index * 6, -100)\n",
    "\n",
    "# since the prompt asks for a matrix\n",
    "# data = data.reshape(10,6)\n",
    "data.reshape(10,6)\n"
   ]
  },
  {
   "cell_type": "code",
   "execution_count": 102,
   "metadata": {},
   "outputs": [
    {
     "data": {
      "text/html": [
       "<table style='border: 1px solid black; border-collapse: collapse;'><tr><td style='padding: 5px; border: 1px solid black; font-weight: bold; width: 2ch; text-align: center;'>0</td><td style='padding: 5px; border: 1px solid black; font-weight: bold; width: 2ch; text-align: center;'>0</td><td style='padding: 5px; border: 1px solid black; font-weight: bold; width: 2ch; text-align: center;'>1</td><td style='padding: 5px; border: 1px solid black; font-weight: bold; width: 2ch; text-align: center;'>2</td><td style='padding: 5px; border: 1px solid black; font-weight: bold; width: 2ch; text-align: center;'>3</td><td style='padding: 5px; border: 1px solid black; font-weight: bold; width: 2ch; text-align: center;'>4</td></tr><tr><td style='padding: 5px; border: 1px solid black; font-weight: bold; width: 2ch; text-align: center;'>0</td><td style='padding: 5px; border: 1px solid black; font-weight: bold; width: 2ch; text-align: center;'>5</td><td style='padding: 5px; border: 1px solid black; font-weight: bold; width: 2ch; text-align: center;'>6</td><td style='padding: 5px; border: 1px solid black; font-weight: bold; width: 2ch; text-align: center;'>7</td><td style='padding: 5px; border: 1px solid black; font-weight: bold; width: 2ch; text-align: center;'>8</td><td style='padding: 5px; border: 1px solid black; font-weight: bold; width: 2ch; text-align: center;'>9</td></tr><tr><td style='padding: 5px; border: 1px solid black; font-weight: bold; width: 2ch; text-align: center;'>0</td><td style='padding: 5px; border: 1px solid black; font-weight: bold; width: 2ch; text-align: center;'>10</td><td style='padding: 5px; border: 1px solid black; font-weight: bold; width: 2ch; text-align: center;'>11</td><td style='padding: 5px; border: 1px solid black; font-weight: bold; width: 2ch; text-align: center;'>12</td><td style='padding: 5px; border: 1px solid black; font-weight: bold; width: 2ch; text-align: center;'>13</td><td style='padding: 5px; border: 1px solid black; font-weight: bold; width: 2ch; text-align: center;'>14</td></tr><tr><td style='padding: 5px; border: 1px solid black; font-weight: bold; width: 2ch; text-align: center;'>0</td><td style='padding: 5px; border: 1px solid black; font-weight: bold; width: 2ch; text-align: center;'>15</td><td style='padding: 5px; border: 1px solid black; font-weight: bold; width: 2ch; text-align: center;'>16</td><td style='padding: 5px; border: 1px solid black; font-weight: bold; width: 2ch; text-align: center;'>17</td><td style='padding: 5px; border: 1px solid black; font-weight: bold; width: 2ch; text-align: center;'>18</td><td style='padding: 5px; border: 1px solid black; font-weight: bold; width: 2ch; text-align: center;'>19</td></tr><tr><td style='padding: 5px; border: 1px solid black; font-weight: bold; width: 2ch; text-align: center;'>0</td><td style='padding: 5px; border: 1px solid black; font-weight: bold; width: 2ch; text-align: center;'>20</td><td style='padding: 5px; border: 1px solid black; font-weight: bold; width: 2ch; text-align: center;'>21</td><td style='padding: 5px; border: 1px solid black; font-weight: bold; width: 2ch; text-align: center;'>22</td><td style='padding: 5px; border: 1px solid black; font-weight: bold; width: 2ch; text-align: center;'>23</td><td style='padding: 5px; border: 1px solid black; font-weight: bold; width: 2ch; text-align: center;'>24</td></tr><tr><td style='padding: 5px; border: 1px solid black; font-weight: bold; width: 2ch; text-align: center;'>0</td><td style='padding: 5px; border: 1px solid black; font-weight: bold; width: 2ch; text-align: center;'>25</td><td style='padding: 5px; border: 1px solid black; font-weight: bold; width: 2ch; text-align: center;'>26</td><td style='padding: 5px; border: 1px solid black; font-weight: bold; width: 2ch; text-align: center;'>27</td><td style='padding: 5px; border: 1px solid black; font-weight: bold; width: 2ch; text-align: center;'>28</td><td style='padding: 5px; border: 1px solid black; font-weight: bold; width: 2ch; text-align: center;'>29</td></tr><tr><td style='padding: 5px; border: 1px solid black; font-weight: bold; width: 2ch; text-align: center;'>0</td><td style='padding: 5px; border: 1px solid black; font-weight: bold; width: 2ch; text-align: center;'>30</td><td style='padding: 5px; border: 1px solid black; font-weight: bold; width: 2ch; text-align: center;'>31</td><td style='padding: 5px; border: 1px solid black; font-weight: bold; width: 2ch; text-align: center;'>32</td><td style='padding: 5px; border: 1px solid black; font-weight: bold; width: 2ch; text-align: center;'>33</td><td style='padding: 5px; border: 1px solid black; font-weight: bold; width: 2ch; text-align: center;'>34</td></tr><tr><td style='padding: 5px; border: 1px solid black; font-weight: bold; width: 2ch; text-align: center;'>0</td><td style='padding: 5px; border: 1px solid black; font-weight: bold; width: 2ch; text-align: center;'>35</td><td style='padding: 5px; border: 1px solid black; font-weight: bold; width: 2ch; text-align: center;'>36</td><td style='padding: 5px; border: 1px solid black; font-weight: bold; width: 2ch; text-align: center;'>37</td><td style='padding: 5px; border: 1px solid black; font-weight: bold; width: 2ch; text-align: center;'>38</td><td style='padding: 5px; border: 1px solid black; font-weight: bold; width: 2ch; text-align: center;'>39</td></tr><tr><td style='padding: 5px; border: 1px solid black; font-weight: bold; width: 2ch; text-align: center;'>0</td><td style='padding: 5px; border: 1px solid black; font-weight: bold; width: 2ch; text-align: center;'>40</td><td style='padding: 5px; border: 1px solid black; font-weight: bold; width: 2ch; text-align: center;'>41</td><td style='padding: 5px; border: 1px solid black; font-weight: bold; width: 2ch; text-align: center;'>42</td><td style='padding: 5px; border: 1px solid black; font-weight: bold; width: 2ch; text-align: center;'>43</td><td style='padding: 5px; border: 1px solid black; font-weight: bold; width: 2ch; text-align: center;'>44</td></tr><tr><td style='padding: 5px; border: 1px solid black; font-weight: bold; width: 2ch; text-align: center;'>0</td><td style='padding: 5px; border: 1px solid black; font-weight: bold; width: 2ch; text-align: center;'>45</td><td style='padding: 5px; border: 1px solid black; font-weight: bold; width: 2ch; text-align: center;'>46</td><td style='padding: 5px; border: 1px solid black; font-weight: bold; width: 2ch; text-align: center;'>47</td><td style='padding: 5px; border: 1px solid black; font-weight: bold; width: 2ch; text-align: center;'>48</td><td style='padding: 5px; border: 1px solid black; font-weight: bold; width: 2ch; text-align: center;'>49</td></tr></table>"
      ],
      "text/plain": [
       "array([[ 0,  0,  1,  2,  3,  4],\n",
       "       [ 0,  5,  6,  7,  8,  9],\n",
       "       [ 0, 10, 11, 12, 13, 14],\n",
       "       [ 0, 15, 16, 17, 18, 19],\n",
       "       [ 0, 20, 21, 22, 23, 24],\n",
       "       [ 0, 25, 26, 27, 28, 29],\n",
       "       [ 0, 30, 31, 32, 33, 34],\n",
       "       [ 0, 35, 36, 37, 38, 39],\n",
       "       [ 0, 40, 41, 42, 43, 44],\n",
       "       [ 0, 45, 46, 47, 48, 49]])"
      ]
     },
     "execution_count": 102,
     "metadata": {},
     "output_type": "execute_result"
    }
   ],
   "source": [
    "# creates a mask from data that says true or false, depending\n",
    "# on whether it sees if the number is -100\n",
    "mask = ma.masked_values(data, -100)\n",
    "\n",
    "# copies the original data \n",
    "masked_copy = ma.copy(data)\n",
    "\n",
    "# applies the mask, which will now show -100 as \"---\"\n",
    "masked_copy = np.ma.masked_where(np.ma.getmask(mask), masked_copy)\n",
    "\n",
    "# replaces \"---\" with 0\n",
    "masked_copy = masked_copy.filled(0)\n",
    "masked_copy.reshape(10,6)"
   ]
  },
  {
   "attachments": {},
   "cell_type": "markdown",
   "metadata": {},
   "source": [
    "<h3><b>3. argsort is a feature of NumPy  that allows you to sort a NumPy array based on another NumPy array. </b></h3>\n",
    "\n",
    "This is useful if you have two separate arrays, but their data  should be in sync even if order of data is changed. For example, one array contains the prices of cars, and another contains the manufacturing years. If we wish to sort the data by manufacturing years, and keep the prices in sync as well, argsort will be handy.\n",
    "\n",
    "Useful link:\n",
    "http://arogozhnikov.github.io/2015/09/29/NumpyTipsAndTricks1.html\n",
    "\n",
    "Create two random datasets:\n",
    "\n",
    "- Manufacturing years of 10 cars, values between 2010 and 2020\n",
    "\n",
    "- Selling price of 10 cars, prices between 2000€ and 60000€\n",
    "\n",
    "Use argsort to sort both datasets according to manufacturing years.\n"
   ]
  },
  {
   "cell_type": "code",
   "execution_count": 103,
   "metadata": {},
   "outputs": [
    {
     "data": {
      "text/html": [
       "<table style='border: 1px solid black; border-collapse: collapse;'><tr><td style='padding: 5px; border: 1px solid black; font-weight: bold; width: 5ch; text-align: center;'>25491</td></tr><tr><td style='padding: 5px; border: 1px solid black; font-weight: bold; width: 5ch; text-align: center;'>35186</td></tr><tr><td style='padding: 5px; border: 1px solid black; font-weight: bold; width: 5ch; text-align: center;'>12541</td></tr><tr><td style='padding: 5px; border: 1px solid black; font-weight: bold; width: 5ch; text-align: center;'>31533</td></tr><tr><td style='padding: 5px; border: 1px solid black; font-weight: bold; width: 5ch; text-align: center;'>32662</td></tr><tr><td style='padding: 5px; border: 1px solid black; font-weight: bold; width: 5ch; text-align: center;'>46450</td></tr><tr><td style='padding: 5px; border: 1px solid black; font-weight: bold; width: 5ch; text-align: center;'>5452</td></tr><tr><td style='padding: 5px; border: 1px solid black; font-weight: bold; width: 5ch; text-align: center;'>27153</td></tr><tr><td style='padding: 5px; border: 1px solid black; font-weight: bold; width: 5ch; text-align: center;'>14573</td></tr><tr><td style='padding: 5px; border: 1px solid black; font-weight: bold; width: 5ch; text-align: center;'>35238</td></tr></table>"
      ],
      "text/plain": [
       "array([25491, 35186, 12541, 31533, 32662, 46450,  5452, 27153, 14573,\n",
       "       35238], dtype=int32)"
      ]
     },
     "execution_count": 103,
     "metadata": {},
     "output_type": "execute_result"
    }
   ],
   "source": [
    "# advanced extra exercise 3\n",
    "\n",
    "# creating two datasets , manufacturer year between 2010 and 2020\n",
    "# selling price between 2000-60000 euros. \n",
    "car_manufacturer_year = np.random.randint(2010,2020,10)\n",
    "car_selling_price = np.random.randint(2000,60000,10)\n",
    "\n",
    "# making the sorter, based from manufacturer year!\n",
    "sorter_by_year = np.argsort(car_manufacturer_year)\n",
    "car_selling_price[sorter_by_year]"
   ]
  },
  {
   "cell_type": "code",
   "execution_count": 104,
   "metadata": {},
   "outputs": [
    {
     "data": {
      "text/html": [
       "<table style='border: 1px solid black; border-collapse: collapse;'><tr><td style='padding: 5px; border: 1px solid black; font-weight: bold; width: 4ch; text-align: center;'>2010</td></tr><tr><td style='padding: 5px; border: 1px solid black; font-weight: bold; width: 4ch; text-align: center;'>2011</td></tr><tr><td style='padding: 5px; border: 1px solid black; font-weight: bold; width: 4ch; text-align: center;'>2013</td></tr><tr><td style='padding: 5px; border: 1px solid black; font-weight: bold; width: 4ch; text-align: center;'>2016</td></tr><tr><td style='padding: 5px; border: 1px solid black; font-weight: bold; width: 4ch; text-align: center;'>2016</td></tr><tr><td style='padding: 5px; border: 1px solid black; font-weight: bold; width: 4ch; text-align: center;'>2017</td></tr><tr><td style='padding: 5px; border: 1px solid black; font-weight: bold; width: 4ch; text-align: center;'>2017</td></tr><tr><td style='padding: 5px; border: 1px solid black; font-weight: bold; width: 4ch; text-align: center;'>2018</td></tr><tr><td style='padding: 5px; border: 1px solid black; font-weight: bold; width: 4ch; text-align: center;'>2019</td></tr><tr><td style='padding: 5px; border: 1px solid black; font-weight: bold; width: 4ch; text-align: center;'>2019</td></tr></table>"
      ],
      "text/plain": [
       "array([2010, 2011, 2013, 2016, 2016, 2017, 2017, 2018, 2019, 2019],\n",
       "      dtype=int32)"
      ]
     },
     "execution_count": 104,
     "metadata": {},
     "output_type": "execute_result"
    }
   ],
   "source": [
    "car_manufacturer_year[sorter_by_year]"
   ]
  },
  {
   "attachments": {},
   "cell_type": "markdown",
   "metadata": {},
   "source": [
    "<h3><b>4. Try out the following additional NumPy features, and discuss in your code comments or in Jupyter Notebook text where they could be useful. You can also Google and search for ideas where these could be used. </b></h3>\n",
    "\n",
    "You can write your thoughts as comments in the code or Jupyter text as you try out each feature.\n",
    "\n",
    "- np.repeat()\n",
    "\n",
    "- np.ravel()\n",
    "\n",
    "- np.hsplit(), np.vsplit(), np.hstack, np.vstack()\n",
    "\n",
    "- np.transpose()\n",
    "\n",
    "- np.round()\n",
    "\n",
    "- np.expand_dims(), np.squeeze()\n",
    "\n",
    "- np.digitize()\n",
    "\n",
    "\n"
   ]
  },
  {
   "cell_type": "code",
   "execution_count": 105,
   "metadata": {},
   "outputs": [
    {
     "data": {
      "text/html": [
       "<table style='border: 1px solid black; border-collapse: collapse;'><tr><td style='padding: 5px; border: 1px solid black; font-weight: bold; width: 1ch; text-align: center;'>3</td></tr><tr><td style='padding: 5px; border: 1px solid black; font-weight: bold; width: 1ch; text-align: center;'>3</td></tr><tr><td style='padding: 5px; border: 1px solid black; font-weight: bold; width: 1ch; text-align: center;'>3</td></tr><tr><td style='padding: 5px; border: 1px solid black; font-weight: bold; width: 1ch; text-align: center;'>3</td></tr></table>"
      ],
      "text/plain": [
       "array([3, 3, 3, 3])"
      ]
     },
     "execution_count": 105,
     "metadata": {},
     "output_type": "execute_result"
    }
   ],
   "source": [
    "# advanced extra exercise 4\n",
    "# Below, I'll be going over each feature above I can use them\n",
    "\n",
    "# np.repeat() is useful for making arrays that make repeated sequences!\n",
    "# this could be used as an alternative to writing it this way:\n",
    "# np.ones(4).astype(int) * 3\n",
    "data = np.repeat(3,4)\n",
    "data\n"
   ]
  },
  {
   "cell_type": "code",
   "execution_count": 106,
   "metadata": {},
   "outputs": [
    {
     "data": {
      "text/html": [
       "<table style='border: 1px solid black; border-collapse: collapse;'><tr><td style='padding: 5px; border: 1px solid black; font-weight: bold; width: 1ch; text-align: center;'>9</td><td style='padding: 5px; border: 1px solid black; font-weight: bold; width: 1ch; text-align: center;'>9</td><td style='padding: 5px; border: 1px solid black; font-weight: bold; width: 1ch; text-align: center;'>9</td></tr><tr><td style='padding: 5px; border: 1px solid black; font-weight: bold; width: 1ch; text-align: center;'>9</td><td style='padding: 5px; border: 1px solid black; font-weight: bold; width: 1ch; text-align: center;'>9</td><td style='padding: 5px; border: 1px solid black; font-weight: bold; width: 1ch; text-align: center;'>9</td></tr><tr><td style='padding: 5px; border: 1px solid black; font-weight: bold; width: 1ch; text-align: center;'>9</td><td style='padding: 5px; border: 1px solid black; font-weight: bold; width: 1ch; text-align: center;'>9</td><td style='padding: 5px; border: 1px solid black; font-weight: bold; width: 1ch; text-align: center;'>9</td></tr></table>"
      ],
      "text/plain": [
       "array([[9, 9, 9],\n",
       "       [9, 9, 9],\n",
       "       [9, 9, 9]])"
      ]
     },
     "execution_count": 106,
     "metadata": {},
     "output_type": "execute_result"
    }
   ],
   "source": [
    "# np.ravel() is the opposite of shape, converting the matrix into an\n",
    "# array. Let's make a matrix below an unravel it.\n",
    "\n",
    "# data in matrix form\n",
    "data = np.repeat(9,9).reshape(3,3)\n",
    "data"
   ]
  },
  {
   "cell_type": "code",
   "execution_count": 107,
   "metadata": {},
   "outputs": [
    {
     "data": {
      "text/html": [
       "<table style='border: 1px solid black; border-collapse: collapse;'><tr><td style='padding: 5px; border: 1px solid black; font-weight: bold; width: 1ch; text-align: center;'>9</td></tr><tr><td style='padding: 5px; border: 1px solid black; font-weight: bold; width: 1ch; text-align: center;'>9</td></tr><tr><td style='padding: 5px; border: 1px solid black; font-weight: bold; width: 1ch; text-align: center;'>9</td></tr><tr><td style='padding: 5px; border: 1px solid black; font-weight: bold; width: 1ch; text-align: center;'>9</td></tr><tr><td style='padding: 5px; border: 1px solid black; font-weight: bold; width: 1ch; text-align: center;'>9</td></tr><tr><td style='padding: 5px; border: 1px solid black; font-weight: bold; width: 1ch; text-align: center;'>9</td></tr><tr><td style='padding: 5px; border: 1px solid black; font-weight: bold; width: 1ch; text-align: center;'>9</td></tr><tr><td style='padding: 5px; border: 1px solid black; font-weight: bold; width: 1ch; text-align: center;'>9</td></tr><tr><td style='padding: 5px; border: 1px solid black; font-weight: bold; width: 1ch; text-align: center;'>9</td></tr></table>"
      ],
      "text/plain": [
       "array([9, 9, 9, 9, 9, 9, 9, 9, 9])"
      ]
     },
     "execution_count": 107,
     "metadata": {},
     "output_type": "execute_result"
    }
   ],
   "source": [
    "# converting the matrix into an array \n",
    "np.ravel(data)"
   ]
  },
  {
   "cell_type": "code",
   "execution_count": 108,
   "metadata": {},
   "outputs": [
    {
     "data": {
      "text/html": [
       "<table style='border: 1px solid black; border-collapse: collapse;'><tr><td style='padding: 5px; border: 1px solid black; font-weight: bold; width: 1ch; text-align: center;'>6</td><td style='padding: 5px; border: 1px solid black; font-weight: bold; width: 1ch; text-align: center;'>7</td><td style='padding: 5px; border: 1px solid black; font-weight: bold; width: 1ch; text-align: center;'>4</td><td style='padding: 5px; border: 1px solid black; font-weight: bold; width: 1ch; text-align: center;'>6</td><td style='padding: 5px; border: 1px solid black; font-weight: bold; width: 1ch; text-align: center;'>6</td><td style='padding: 5px; border: 1px solid black; font-weight: bold; width: 1ch; text-align: center;'>5</td><td style='padding: 5px; border: 1px solid black; font-weight: bold; width: 1ch; text-align: center;'>3</td><td style='padding: 5px; border: 1px solid black; font-weight: bold; width: 1ch; text-align: center;'>8</td><td style='padding: 5px; border: 1px solid black; font-weight: bold; width: 1ch; text-align: center;'>6</td><td style='padding: 5px; border: 1px solid black; font-weight: bold; width: 1ch; text-align: center;'>6</td></tr><tr><td style='padding: 5px; border: 1px solid black; font-weight: bold; width: 1ch; text-align: center;'>6</td><td style='padding: 5px; border: 1px solid black; font-weight: bold; width: 1ch; text-align: center;'>6</td><td style='padding: 5px; border: 1px solid black; font-weight: bold; width: 1ch; text-align: center;'>7</td><td style='padding: 5px; border: 1px solid black; font-weight: bold; width: 1ch; text-align: center;'>7</td><td style='padding: 5px; border: 1px solid black; font-weight: bold; width: 1ch; text-align: center;'>3</td><td style='padding: 5px; border: 1px solid black; font-weight: bold; width: 1ch; text-align: center;'>7</td><td style='padding: 5px; border: 1px solid black; font-weight: bold; width: 1ch; text-align: center;'>3</td><td style='padding: 5px; border: 1px solid black; font-weight: bold; width: 1ch; text-align: center;'>4</td><td style='padding: 5px; border: 1px solid black; font-weight: bold; width: 1ch; text-align: center;'>4</td><td style='padding: 5px; border: 1px solid black; font-weight: bold; width: 1ch; text-align: center;'>3</td></tr><tr><td style='padding: 5px; border: 1px solid black; font-weight: bold; width: 1ch; text-align: center;'>3</td><td style='padding: 5px; border: 1px solid black; font-weight: bold; width: 1ch; text-align: center;'>2</td><td style='padding: 5px; border: 1px solid black; font-weight: bold; width: 1ch; text-align: center;'>8</td><td style='padding: 5px; border: 1px solid black; font-weight: bold; width: 1ch; text-align: center;'>5</td><td style='padding: 5px; border: 1px solid black; font-weight: bold; width: 1ch; text-align: center;'>8</td><td style='padding: 5px; border: 1px solid black; font-weight: bold; width: 1ch; text-align: center;'>7</td><td style='padding: 5px; border: 1px solid black; font-weight: bold; width: 1ch; text-align: center;'>5</td><td style='padding: 5px; border: 1px solid black; font-weight: bold; width: 1ch; text-align: center;'>7</td><td style='padding: 5px; border: 1px solid black; font-weight: bold; width: 1ch; text-align: center;'>7</td><td style='padding: 5px; border: 1px solid black; font-weight: bold; width: 1ch; text-align: center;'>7</td></tr><tr><td style='padding: 5px; border: 1px solid black; font-weight: bold; width: 1ch; text-align: center;'>7</td><td style='padding: 5px; border: 1px solid black; font-weight: bold; width: 1ch; text-align: center;'>5</td><td style='padding: 5px; border: 1px solid black; font-weight: bold; width: 1ch; text-align: center;'>2</td><td style='padding: 5px; border: 1px solid black; font-weight: bold; width: 1ch; text-align: center;'>5</td><td style='padding: 5px; border: 1px solid black; font-weight: bold; width: 1ch; text-align: center;'>7</td><td style='padding: 5px; border: 1px solid black; font-weight: bold; width: 1ch; text-align: center;'>3</td><td style='padding: 5px; border: 1px solid black; font-weight: bold; width: 1ch; text-align: center;'>1</td><td style='padding: 5px; border: 1px solid black; font-weight: bold; width: 1ch; text-align: center;'>7</td><td style='padding: 5px; border: 1px solid black; font-weight: bold; width: 1ch; text-align: center;'>1</td><td style='padding: 5px; border: 1px solid black; font-weight: bold; width: 1ch; text-align: center;'>2</td></tr><tr><td style='padding: 5px; border: 1px solid black; font-weight: bold; width: 1ch; text-align: center;'>8</td><td style='padding: 5px; border: 1px solid black; font-weight: bold; width: 1ch; text-align: center;'>7</td><td style='padding: 5px; border: 1px solid black; font-weight: bold; width: 1ch; text-align: center;'>8</td><td style='padding: 5px; border: 1px solid black; font-weight: bold; width: 1ch; text-align: center;'>7</td><td style='padding: 5px; border: 1px solid black; font-weight: bold; width: 1ch; text-align: center;'>4</td><td style='padding: 5px; border: 1px solid black; font-weight: bold; width: 1ch; text-align: center;'>7</td><td style='padding: 5px; border: 1px solid black; font-weight: bold; width: 1ch; text-align: center;'>8</td><td style='padding: 5px; border: 1px solid black; font-weight: bold; width: 1ch; text-align: center;'>6</td><td style='padding: 5px; border: 1px solid black; font-weight: bold; width: 1ch; text-align: center;'>3</td><td style='padding: 5px; border: 1px solid black; font-weight: bold; width: 1ch; text-align: center;'>2</td></tr><tr><td style='padding: 5px; border: 1px solid black; font-weight: bold; width: 1ch; text-align: center;'>2</td><td style='padding: 5px; border: 1px solid black; font-weight: bold; width: 1ch; text-align: center;'>5</td><td style='padding: 5px; border: 1px solid black; font-weight: bold; width: 1ch; text-align: center;'>5</td><td style='padding: 5px; border: 1px solid black; font-weight: bold; width: 1ch; text-align: center;'>3</td><td style='padding: 5px; border: 1px solid black; font-weight: bold; width: 1ch; text-align: center;'>5</td><td style='padding: 5px; border: 1px solid black; font-weight: bold; width: 1ch; text-align: center;'>6</td><td style='padding: 5px; border: 1px solid black; font-weight: bold; width: 1ch; text-align: center;'>3</td><td style='padding: 5px; border: 1px solid black; font-weight: bold; width: 1ch; text-align: center;'>3</td><td style='padding: 5px; border: 1px solid black; font-weight: bold; width: 1ch; text-align: center;'>2</td><td style='padding: 5px; border: 1px solid black; font-weight: bold; width: 1ch; text-align: center;'>2</td></tr><tr><td style='padding: 5px; border: 1px solid black; font-weight: bold; width: 1ch; text-align: center;'>1</td><td style='padding: 5px; border: 1px solid black; font-weight: bold; width: 1ch; text-align: center;'>5</td><td style='padding: 5px; border: 1px solid black; font-weight: bold; width: 1ch; text-align: center;'>2</td><td style='padding: 5px; border: 1px solid black; font-weight: bold; width: 1ch; text-align: center;'>4</td><td style='padding: 5px; border: 1px solid black; font-weight: bold; width: 1ch; text-align: center;'>8</td><td style='padding: 5px; border: 1px solid black; font-weight: bold; width: 1ch; text-align: center;'>3</td><td style='padding: 5px; border: 1px solid black; font-weight: bold; width: 1ch; text-align: center;'>4</td><td style='padding: 5px; border: 1px solid black; font-weight: bold; width: 1ch; text-align: center;'>4</td><td style='padding: 5px; border: 1px solid black; font-weight: bold; width: 1ch; text-align: center;'>6</td><td style='padding: 5px; border: 1px solid black; font-weight: bold; width: 1ch; text-align: center;'>6</td></tr><tr><td style='padding: 5px; border: 1px solid black; font-weight: bold; width: 1ch; text-align: center;'>4</td><td style='padding: 5px; border: 1px solid black; font-weight: bold; width: 1ch; text-align: center;'>3</td><td style='padding: 5px; border: 1px solid black; font-weight: bold; width: 1ch; text-align: center;'>5</td><td style='padding: 5px; border: 1px solid black; font-weight: bold; width: 1ch; text-align: center;'>2</td><td style='padding: 5px; border: 1px solid black; font-weight: bold; width: 1ch; text-align: center;'>8</td><td style='padding: 5px; border: 1px solid black; font-weight: bold; width: 1ch; text-align: center;'>1</td><td style='padding: 5px; border: 1px solid black; font-weight: bold; width: 1ch; text-align: center;'>3</td><td style='padding: 5px; border: 1px solid black; font-weight: bold; width: 1ch; text-align: center;'>6</td><td style='padding: 5px; border: 1px solid black; font-weight: bold; width: 1ch; text-align: center;'>1</td><td style='padding: 5px; border: 1px solid black; font-weight: bold; width: 1ch; text-align: center;'>3</td></tr><tr><td style='padding: 5px; border: 1px solid black; font-weight: bold; width: 1ch; text-align: center;'>6</td><td style='padding: 5px; border: 1px solid black; font-weight: bold; width: 1ch; text-align: center;'>7</td><td style='padding: 5px; border: 1px solid black; font-weight: bold; width: 1ch; text-align: center;'>6</td><td style='padding: 5px; border: 1px solid black; font-weight: bold; width: 1ch; text-align: center;'>6</td><td style='padding: 5px; border: 1px solid black; font-weight: bold; width: 1ch; text-align: center;'>8</td><td style='padding: 5px; border: 1px solid black; font-weight: bold; width: 1ch; text-align: center;'>7</td><td style='padding: 5px; border: 1px solid black; font-weight: bold; width: 1ch; text-align: center;'>1</td><td style='padding: 5px; border: 1px solid black; font-weight: bold; width: 1ch; text-align: center;'>3</td><td style='padding: 5px; border: 1px solid black; font-weight: bold; width: 1ch; text-align: center;'>1</td><td style='padding: 5px; border: 1px solid black; font-weight: bold; width: 1ch; text-align: center;'>1</td></tr><tr><td style='padding: 5px; border: 1px solid black; font-weight: bold; width: 1ch; text-align: center;'>6</td><td style='padding: 5px; border: 1px solid black; font-weight: bold; width: 1ch; text-align: center;'>5</td><td style='padding: 5px; border: 1px solid black; font-weight: bold; width: 1ch; text-align: center;'>2</td><td style='padding: 5px; border: 1px solid black; font-weight: bold; width: 1ch; text-align: center;'>1</td><td style='padding: 5px; border: 1px solid black; font-weight: bold; width: 1ch; text-align: center;'>8</td><td style='padding: 5px; border: 1px solid black; font-weight: bold; width: 1ch; text-align: center;'>4</td><td style='padding: 5px; border: 1px solid black; font-weight: bold; width: 1ch; text-align: center;'>2</td><td style='padding: 5px; border: 1px solid black; font-weight: bold; width: 1ch; text-align: center;'>6</td><td style='padding: 5px; border: 1px solid black; font-weight: bold; width: 1ch; text-align: center;'>7</td><td style='padding: 5px; border: 1px solid black; font-weight: bold; width: 1ch; text-align: center;'>2</td></tr></table>"
      ],
      "text/plain": [
       "array([[6, 7, 4, 6, 6, 5, 3, 8, 6, 6],\n",
       "       [6, 6, 7, 7, 3, 7, 3, 4, 4, 3],\n",
       "       [3, 2, 8, 5, 8, 7, 5, 7, 7, 7],\n",
       "       [7, 5, 2, 5, 7, 3, 1, 7, 1, 2],\n",
       "       [8, 7, 8, 7, 4, 7, 8, 6, 3, 2],\n",
       "       [2, 5, 5, 3, 5, 6, 3, 3, 2, 2],\n",
       "       [1, 5, 2, 4, 8, 3, 4, 4, 6, 6],\n",
       "       [4, 3, 5, 2, 8, 1, 3, 6, 1, 3],\n",
       "       [6, 7, 6, 6, 8, 7, 1, 3, 1, 1],\n",
       "       [6, 5, 2, 1, 8, 4, 2, 6, 7, 2]], dtype=int32)"
      ]
     },
     "execution_count": 108,
     "metadata": {},
     "output_type": "execute_result"
    }
   ],
   "source": [
    "# np.hsplit and np.vsplit split up matrices horizontally and\n",
    "# vertically, respectively. useful for slicing datasets.\n",
    "# useful for selecting data that you need without any extras.\n",
    "\n",
    "# creating a new dataset\n",
    "data = np.random.randint(1,9,100).reshape(10,10)\n",
    "data"
   ]
  },
  {
   "cell_type": "code",
   "execution_count": 109,
   "metadata": {},
   "outputs": [
    {
     "data": {
      "text/html": [
       "<table style='border: 1px solid black; border-collapse: collapse;'><tr><td style='padding: 5px; border: 1px solid black; font-weight: bold; width: 1ch; text-align: center;'>5</td><td style='padding: 5px; border: 1px solid black; font-weight: bold; width: 1ch; text-align: center;'>3</td><td style='padding: 5px; border: 1px solid black; font-weight: bold; width: 1ch; text-align: center;'>8</td><td style='padding: 5px; border: 1px solid black; font-weight: bold; width: 1ch; text-align: center;'>6</td><td style='padding: 5px; border: 1px solid black; font-weight: bold; width: 1ch; text-align: center;'>6</td></tr><tr><td style='padding: 5px; border: 1px solid black; font-weight: bold; width: 1ch; text-align: center;'>7</td><td style='padding: 5px; border: 1px solid black; font-weight: bold; width: 1ch; text-align: center;'>3</td><td style='padding: 5px; border: 1px solid black; font-weight: bold; width: 1ch; text-align: center;'>4</td><td style='padding: 5px; border: 1px solid black; font-weight: bold; width: 1ch; text-align: center;'>4</td><td style='padding: 5px; border: 1px solid black; font-weight: bold; width: 1ch; text-align: center;'>3</td></tr><tr><td style='padding: 5px; border: 1px solid black; font-weight: bold; width: 1ch; text-align: center;'>7</td><td style='padding: 5px; border: 1px solid black; font-weight: bold; width: 1ch; text-align: center;'>5</td><td style='padding: 5px; border: 1px solid black; font-weight: bold; width: 1ch; text-align: center;'>7</td><td style='padding: 5px; border: 1px solid black; font-weight: bold; width: 1ch; text-align: center;'>7</td><td style='padding: 5px; border: 1px solid black; font-weight: bold; width: 1ch; text-align: center;'>7</td></tr><tr><td style='padding: 5px; border: 1px solid black; font-weight: bold; width: 1ch; text-align: center;'>3</td><td style='padding: 5px; border: 1px solid black; font-weight: bold; width: 1ch; text-align: center;'>1</td><td style='padding: 5px; border: 1px solid black; font-weight: bold; width: 1ch; text-align: center;'>7</td><td style='padding: 5px; border: 1px solid black; font-weight: bold; width: 1ch; text-align: center;'>1</td><td style='padding: 5px; border: 1px solid black; font-weight: bold; width: 1ch; text-align: center;'>2</td></tr><tr><td style='padding: 5px; border: 1px solid black; font-weight: bold; width: 1ch; text-align: center;'>7</td><td style='padding: 5px; border: 1px solid black; font-weight: bold; width: 1ch; text-align: center;'>8</td><td style='padding: 5px; border: 1px solid black; font-weight: bold; width: 1ch; text-align: center;'>6</td><td style='padding: 5px; border: 1px solid black; font-weight: bold; width: 1ch; text-align: center;'>3</td><td style='padding: 5px; border: 1px solid black; font-weight: bold; width: 1ch; text-align: center;'>2</td></tr><tr><td style='padding: 5px; border: 1px solid black; font-weight: bold; width: 1ch; text-align: center;'>6</td><td style='padding: 5px; border: 1px solid black; font-weight: bold; width: 1ch; text-align: center;'>3</td><td style='padding: 5px; border: 1px solid black; font-weight: bold; width: 1ch; text-align: center;'>3</td><td style='padding: 5px; border: 1px solid black; font-weight: bold; width: 1ch; text-align: center;'>2</td><td style='padding: 5px; border: 1px solid black; font-weight: bold; width: 1ch; text-align: center;'>2</td></tr><tr><td style='padding: 5px; border: 1px solid black; font-weight: bold; width: 1ch; text-align: center;'>3</td><td style='padding: 5px; border: 1px solid black; font-weight: bold; width: 1ch; text-align: center;'>4</td><td style='padding: 5px; border: 1px solid black; font-weight: bold; width: 1ch; text-align: center;'>4</td><td style='padding: 5px; border: 1px solid black; font-weight: bold; width: 1ch; text-align: center;'>6</td><td style='padding: 5px; border: 1px solid black; font-weight: bold; width: 1ch; text-align: center;'>6</td></tr><tr><td style='padding: 5px; border: 1px solid black; font-weight: bold; width: 1ch; text-align: center;'>1</td><td style='padding: 5px; border: 1px solid black; font-weight: bold; width: 1ch; text-align: center;'>3</td><td style='padding: 5px; border: 1px solid black; font-weight: bold; width: 1ch; text-align: center;'>6</td><td style='padding: 5px; border: 1px solid black; font-weight: bold; width: 1ch; text-align: center;'>1</td><td style='padding: 5px; border: 1px solid black; font-weight: bold; width: 1ch; text-align: center;'>3</td></tr><tr><td style='padding: 5px; border: 1px solid black; font-weight: bold; width: 1ch; text-align: center;'>7</td><td style='padding: 5px; border: 1px solid black; font-weight: bold; width: 1ch; text-align: center;'>1</td><td style='padding: 5px; border: 1px solid black; font-weight: bold; width: 1ch; text-align: center;'>3</td><td style='padding: 5px; border: 1px solid black; font-weight: bold; width: 1ch; text-align: center;'>1</td><td style='padding: 5px; border: 1px solid black; font-weight: bold; width: 1ch; text-align: center;'>1</td></tr><tr><td style='padding: 5px; border: 1px solid black; font-weight: bold; width: 1ch; text-align: center;'>4</td><td style='padding: 5px; border: 1px solid black; font-weight: bold; width: 1ch; text-align: center;'>2</td><td style='padding: 5px; border: 1px solid black; font-weight: bold; width: 1ch; text-align: center;'>6</td><td style='padding: 5px; border: 1px solid black; font-weight: bold; width: 1ch; text-align: center;'>7</td><td style='padding: 5px; border: 1px solid black; font-weight: bold; width: 1ch; text-align: center;'>2</td></tr></table>"
      ],
      "text/plain": [
       "array([[5, 3, 8, 6, 6],\n",
       "       [7, 3, 4, 4, 3],\n",
       "       [7, 5, 7, 7, 7],\n",
       "       [3, 1, 7, 1, 2],\n",
       "       [7, 8, 6, 3, 2],\n",
       "       [6, 3, 3, 2, 2],\n",
       "       [3, 4, 4, 6, 6],\n",
       "       [1, 3, 6, 1, 3],\n",
       "       [7, 1, 3, 1, 1],\n",
       "       [4, 2, 6, 7, 2]], dtype=int32)"
      ]
     },
     "execution_count": 109,
     "metadata": {},
     "output_type": "execute_result"
    }
   ],
   "source": [
    "# a horizontal split (sliced into two columns.)\n",
    "data_slice = np.hsplit(data,2)\n",
    "data_slice[1]"
   ]
  },
  {
   "cell_type": "code",
   "execution_count": 110,
   "metadata": {},
   "outputs": [
    {
     "data": {
      "text/html": [
       "<table style='border: 1px solid black; border-collapse: collapse;'><tr><td style='padding: 5px; border: 1px solid black; font-weight: bold; width: 1ch; text-align: center;'>6</td><td style='padding: 5px; border: 1px solid black; font-weight: bold; width: 1ch; text-align: center;'>7</td><td style='padding: 5px; border: 1px solid black; font-weight: bold; width: 1ch; text-align: center;'>4</td><td style='padding: 5px; border: 1px solid black; font-weight: bold; width: 1ch; text-align: center;'>6</td><td style='padding: 5px; border: 1px solid black; font-weight: bold; width: 1ch; text-align: center;'>6</td><td style='padding: 5px; border: 1px solid black; font-weight: bold; width: 1ch; text-align: center;'>5</td><td style='padding: 5px; border: 1px solid black; font-weight: bold; width: 1ch; text-align: center;'>3</td><td style='padding: 5px; border: 1px solid black; font-weight: bold; width: 1ch; text-align: center;'>8</td><td style='padding: 5px; border: 1px solid black; font-weight: bold; width: 1ch; text-align: center;'>6</td><td style='padding: 5px; border: 1px solid black; font-weight: bold; width: 1ch; text-align: center;'>6</td></tr><tr><td style='padding: 5px; border: 1px solid black; font-weight: bold; width: 1ch; text-align: center;'>6</td><td style='padding: 5px; border: 1px solid black; font-weight: bold; width: 1ch; text-align: center;'>6</td><td style='padding: 5px; border: 1px solid black; font-weight: bold; width: 1ch; text-align: center;'>7</td><td style='padding: 5px; border: 1px solid black; font-weight: bold; width: 1ch; text-align: center;'>7</td><td style='padding: 5px; border: 1px solid black; font-weight: bold; width: 1ch; text-align: center;'>3</td><td style='padding: 5px; border: 1px solid black; font-weight: bold; width: 1ch; text-align: center;'>7</td><td style='padding: 5px; border: 1px solid black; font-weight: bold; width: 1ch; text-align: center;'>3</td><td style='padding: 5px; border: 1px solid black; font-weight: bold; width: 1ch; text-align: center;'>4</td><td style='padding: 5px; border: 1px solid black; font-weight: bold; width: 1ch; text-align: center;'>4</td><td style='padding: 5px; border: 1px solid black; font-weight: bold; width: 1ch; text-align: center;'>3</td></tr><tr><td style='padding: 5px; border: 1px solid black; font-weight: bold; width: 1ch; text-align: center;'>3</td><td style='padding: 5px; border: 1px solid black; font-weight: bold; width: 1ch; text-align: center;'>2</td><td style='padding: 5px; border: 1px solid black; font-weight: bold; width: 1ch; text-align: center;'>8</td><td style='padding: 5px; border: 1px solid black; font-weight: bold; width: 1ch; text-align: center;'>5</td><td style='padding: 5px; border: 1px solid black; font-weight: bold; width: 1ch; text-align: center;'>8</td><td style='padding: 5px; border: 1px solid black; font-weight: bold; width: 1ch; text-align: center;'>7</td><td style='padding: 5px; border: 1px solid black; font-weight: bold; width: 1ch; text-align: center;'>5</td><td style='padding: 5px; border: 1px solid black; font-weight: bold; width: 1ch; text-align: center;'>7</td><td style='padding: 5px; border: 1px solid black; font-weight: bold; width: 1ch; text-align: center;'>7</td><td style='padding: 5px; border: 1px solid black; font-weight: bold; width: 1ch; text-align: center;'>7</td></tr><tr><td style='padding: 5px; border: 1px solid black; font-weight: bold; width: 1ch; text-align: center;'>7</td><td style='padding: 5px; border: 1px solid black; font-weight: bold; width: 1ch; text-align: center;'>5</td><td style='padding: 5px; border: 1px solid black; font-weight: bold; width: 1ch; text-align: center;'>2</td><td style='padding: 5px; border: 1px solid black; font-weight: bold; width: 1ch; text-align: center;'>5</td><td style='padding: 5px; border: 1px solid black; font-weight: bold; width: 1ch; text-align: center;'>7</td><td style='padding: 5px; border: 1px solid black; font-weight: bold; width: 1ch; text-align: center;'>3</td><td style='padding: 5px; border: 1px solid black; font-weight: bold; width: 1ch; text-align: center;'>1</td><td style='padding: 5px; border: 1px solid black; font-weight: bold; width: 1ch; text-align: center;'>7</td><td style='padding: 5px; border: 1px solid black; font-weight: bold; width: 1ch; text-align: center;'>1</td><td style='padding: 5px; border: 1px solid black; font-weight: bold; width: 1ch; text-align: center;'>2</td></tr><tr><td style='padding: 5px; border: 1px solid black; font-weight: bold; width: 1ch; text-align: center;'>8</td><td style='padding: 5px; border: 1px solid black; font-weight: bold; width: 1ch; text-align: center;'>7</td><td style='padding: 5px; border: 1px solid black; font-weight: bold; width: 1ch; text-align: center;'>8</td><td style='padding: 5px; border: 1px solid black; font-weight: bold; width: 1ch; text-align: center;'>7</td><td style='padding: 5px; border: 1px solid black; font-weight: bold; width: 1ch; text-align: center;'>4</td><td style='padding: 5px; border: 1px solid black; font-weight: bold; width: 1ch; text-align: center;'>7</td><td style='padding: 5px; border: 1px solid black; font-weight: bold; width: 1ch; text-align: center;'>8</td><td style='padding: 5px; border: 1px solid black; font-weight: bold; width: 1ch; text-align: center;'>6</td><td style='padding: 5px; border: 1px solid black; font-weight: bold; width: 1ch; text-align: center;'>3</td><td style='padding: 5px; border: 1px solid black; font-weight: bold; width: 1ch; text-align: center;'>2</td></tr></table>"
      ],
      "text/plain": [
       "array([[6, 7, 4, 6, 6, 5, 3, 8, 6, 6],\n",
       "       [6, 6, 7, 7, 3, 7, 3, 4, 4, 3],\n",
       "       [3, 2, 8, 5, 8, 7, 5, 7, 7, 7],\n",
       "       [7, 5, 2, 5, 7, 3, 1, 7, 1, 2],\n",
       "       [8, 7, 8, 7, 4, 7, 8, 6, 3, 2]], dtype=int32)"
      ]
     },
     "execution_count": 110,
     "metadata": {},
     "output_type": "execute_result"
    }
   ],
   "source": [
    "# a vertical split (sliced into two rows.)  \n",
    "data_slice = np.vsplit(data,2)\n",
    "data_slice[0]"
   ]
  },
  {
   "cell_type": "code",
   "execution_count": 111,
   "metadata": {},
   "outputs": [
    {
     "data": {
      "text/html": [
       "<table style='border: 1px solid black; border-collapse: collapse;'><tr><td style='padding: 5px; border: 1px solid black; font-weight: bold; width: 1ch; text-align: center;'>1</td></tr><tr><td style='padding: 5px; border: 1px solid black; font-weight: bold; width: 1ch; text-align: center;'>2</td></tr><tr><td style='padding: 5px; border: 1px solid black; font-weight: bold; width: 1ch; text-align: center;'>3</td></tr><tr><td style='padding: 5px; border: 1px solid black; font-weight: bold; width: 1ch; text-align: center;'>4</td></tr><tr><td style='padding: 5px; border: 1px solid black; font-weight: bold; width: 1ch; text-align: center;'>5</td></tr><tr><td style='padding: 5px; border: 1px solid black; font-weight: bold; width: 1ch; text-align: center;'>6</td></tr></table>"
      ],
      "text/plain": [
       "array([1, 2, 3, 4, 5, 6])"
      ]
     },
     "execution_count": 111,
     "metadata": {},
     "output_type": "execute_result"
    }
   ],
   "source": [
    "# np.hstack and np.vstack will combine columns and rows respectively.\n",
    "# this is great for combining data, but it's important to keep in mind.\n",
    "# that it needs the same number of cells per row for it to work well!\n",
    "# these functions are useful for concatenating data.\n",
    "data_1 = np.array((1,2,3))\n",
    "data_2 = np.array((4,5,6))\n",
    "\n",
    "# a horizontal stack.\n",
    "data_combined = np.hstack((data_1,data_2))\n",
    "data_combined"
   ]
  },
  {
   "cell_type": "code",
   "execution_count": 112,
   "metadata": {},
   "outputs": [
    {
     "data": {
      "text/html": [
       "<table style='border: 1px solid black; border-collapse: collapse;'><tr><td style='padding: 5px; border: 1px solid black; font-weight: bold; width: 1ch; text-align: center;'>1</td><td style='padding: 5px; border: 1px solid black; font-weight: bold; width: 1ch; text-align: center;'>2</td><td style='padding: 5px; border: 1px solid black; font-weight: bold; width: 1ch; text-align: center;'>3</td></tr><tr><td style='padding: 5px; border: 1px solid black; font-weight: bold; width: 1ch; text-align: center;'>4</td><td style='padding: 5px; border: 1px solid black; font-weight: bold; width: 1ch; text-align: center;'>5</td><td style='padding: 5px; border: 1px solid black; font-weight: bold; width: 1ch; text-align: center;'>6</td></tr></table>"
      ],
      "text/plain": [
       "array([[1, 2, 3],\n",
       "       [4, 5, 6]])"
      ]
     },
     "execution_count": 112,
     "metadata": {},
     "output_type": "execute_result"
    }
   ],
   "source": [
    "# a vertical stack\n",
    "data_combined = np.vstack((data_1,data_2))\n",
    "data_combined"
   ]
  },
  {
   "cell_type": "code",
   "execution_count": 113,
   "metadata": {},
   "outputs": [
    {
     "data": {
      "text/html": [
       "<table style='border: 1px solid black; border-collapse: collapse;'><tr><td style='padding: 5px; border: 1px solid black; font-weight: bold; width: 1ch; text-align: center;'>1</td><td style='padding: 5px; border: 1px solid black; font-weight: bold; width: 1ch; text-align: center;'>2</td><td style='padding: 5px; border: 1px solid black; font-weight: bold; width: 1ch; text-align: center;'>3</td></tr><tr><td style='padding: 5px; border: 1px solid black; font-weight: bold; width: 1ch; text-align: center;'>4</td><td style='padding: 5px; border: 1px solid black; font-weight: bold; width: 1ch; text-align: center;'>5</td><td style='padding: 5px; border: 1px solid black; font-weight: bold; width: 1ch; text-align: center;'>6</td></tr><tr><td style='padding: 5px; border: 1px solid black; font-weight: bold; width: 1ch; text-align: center;'>7</td><td style='padding: 5px; border: 1px solid black; font-weight: bold; width: 1ch; text-align: center;'>8</td><td style='padding: 5px; border: 1px solid black; font-weight: bold; width: 1ch; text-align: center;'>9</td></tr></table>"
      ],
      "text/plain": [
       "array([[1, 2, 3],\n",
       "       [4, 5, 6],\n",
       "       [7, 8, 9]])"
      ]
     },
     "execution_count": 113,
     "metadata": {},
     "output_type": "execute_result"
    }
   ],
   "source": [
    "# np.transpose inverts the x and y axis of a matrix! \n",
    "# this might be useful for transforming matrices or arrays that\n",
    "# have inverted transposition errors.\n",
    "\n",
    "# creating sample data\n",
    "data = np.arange(1,10).reshape(3,3)\n",
    "data"
   ]
  },
  {
   "cell_type": "code",
   "execution_count": 114,
   "metadata": {},
   "outputs": [
    {
     "data": {
      "text/html": [
       "<table style='border: 1px solid black; border-collapse: collapse;'><tr><td style='padding: 5px; border: 1px solid black; font-weight: bold; width: 1ch; text-align: center;'>1</td><td style='padding: 5px; border: 1px solid black; font-weight: bold; width: 1ch; text-align: center;'>4</td><td style='padding: 5px; border: 1px solid black; font-weight: bold; width: 1ch; text-align: center;'>7</td></tr><tr><td style='padding: 5px; border: 1px solid black; font-weight: bold; width: 1ch; text-align: center;'>2</td><td style='padding: 5px; border: 1px solid black; font-weight: bold; width: 1ch; text-align: center;'>5</td><td style='padding: 5px; border: 1px solid black; font-weight: bold; width: 1ch; text-align: center;'>8</td></tr><tr><td style='padding: 5px; border: 1px solid black; font-weight: bold; width: 1ch; text-align: center;'>3</td><td style='padding: 5px; border: 1px solid black; font-weight: bold; width: 1ch; text-align: center;'>6</td><td style='padding: 5px; border: 1px solid black; font-weight: bold; width: 1ch; text-align: center;'>9</td></tr></table>"
      ],
      "text/plain": [
       "array([[1, 4, 7],\n",
       "       [2, 5, 8],\n",
       "       [3, 6, 9]])"
      ]
     },
     "execution_count": 114,
     "metadata": {},
     "output_type": "execute_result"
    }
   ],
   "source": [
    "# np.transpose() to invert the axes.\n",
    "np.transpose(data)"
   ]
  },
  {
   "cell_type": "code",
   "execution_count": 115,
   "metadata": {},
   "outputs": [
    {
     "data": {
      "text/html": [
       "<table style='border: 1px solid black; border-collapse: collapse;'><tr><td style='padding: 5px; border: 1px solid black; font-weight: bold; width: 11ch; text-align: center;'>1.0</td><td style='padding: 5px; border: 1px solid black; font-weight: bold; width: 11ch; text-align: center;'>1.818181818</td><td style='padding: 5px; border: 1px solid black; font-weight: bold; width: 11ch; text-align: center;'>2.636363636</td><td style='padding: 5px; border: 1px solid black; font-weight: bold; width: 11ch; text-align: center;'>3.454545455</td></tr><tr><td style='padding: 5px; border: 1px solid black; font-weight: bold; width: 11ch; text-align: center;'>4.272727273</td><td style='padding: 5px; border: 1px solid black; font-weight: bold; width: 11ch; text-align: center;'>5.090909091</td><td style='padding: 5px; border: 1px solid black; font-weight: bold; width: 11ch; text-align: center;'>5.909090909</td><td style='padding: 5px; border: 1px solid black; font-weight: bold; width: 11ch; text-align: center;'>6.727272727</td></tr><tr><td style='padding: 5px; border: 1px solid black; font-weight: bold; width: 11ch; text-align: center;'>7.545454545</td><td style='padding: 5px; border: 1px solid black; font-weight: bold; width: 11ch; text-align: center;'>8.363636364</td><td style='padding: 5px; border: 1px solid black; font-weight: bold; width: 11ch; text-align: center;'>9.181818182</td><td style='padding: 5px; border: 1px solid black; font-weight: bold; width: 11ch; text-align: center;'>10.0</td></tr></table>"
      ],
      "text/plain": [
       "array([[ 1.        ,  1.81818182,  2.63636364,  3.45454545],\n",
       "       [ 4.27272727,  5.09090909,  5.90909091,  6.72727273],\n",
       "       [ 7.54545455,  8.36363636,  9.18181818, 10.        ]])"
      ]
     },
     "execution_count": 115,
     "metadata": {},
     "output_type": "execute_result"
    }
   ],
   "source": [
    "# np.round() rounds the number of each cell. Great for\n",
    "# making more readable data!\n",
    "\n",
    "# creating the example data\n",
    "data = np.linspace(1,10,12).reshape(3,4)\n",
    "data"
   ]
  },
  {
   "cell_type": "code",
   "execution_count": 116,
   "metadata": {},
   "outputs": [
    {
     "data": {
      "text/html": [
       "<table style='border: 1px solid black; border-collapse: collapse;'><tr><td style='padding: 5px; border: 1px solid black; font-weight: bold; width: 4ch; text-align: center;'>1.0</td><td style='padding: 5px; border: 1px solid black; font-weight: bold; width: 4ch; text-align: center;'>1.82</td><td style='padding: 5px; border: 1px solid black; font-weight: bold; width: 4ch; text-align: center;'>2.64</td><td style='padding: 5px; border: 1px solid black; font-weight: bold; width: 4ch; text-align: center;'>3.45</td></tr><tr><td style='padding: 5px; border: 1px solid black; font-weight: bold; width: 4ch; text-align: center;'>4.27</td><td style='padding: 5px; border: 1px solid black; font-weight: bold; width: 4ch; text-align: center;'>5.09</td><td style='padding: 5px; border: 1px solid black; font-weight: bold; width: 4ch; text-align: center;'>5.91</td><td style='padding: 5px; border: 1px solid black; font-weight: bold; width: 4ch; text-align: center;'>6.73</td></tr><tr><td style='padding: 5px; border: 1px solid black; font-weight: bold; width: 4ch; text-align: center;'>7.55</td><td style='padding: 5px; border: 1px solid black; font-weight: bold; width: 4ch; text-align: center;'>8.36</td><td style='padding: 5px; border: 1px solid black; font-weight: bold; width: 4ch; text-align: center;'>9.18</td><td style='padding: 5px; border: 1px solid black; font-weight: bold; width: 4ch; text-align: center;'>10.0</td></tr></table>"
      ],
      "text/plain": [
       "array([[ 1.  ,  1.82,  2.64,  3.45],\n",
       "       [ 4.27,  5.09,  5.91,  6.73],\n",
       "       [ 7.55,  8.36,  9.18, 10.  ]])"
      ]
     },
     "execution_count": 116,
     "metadata": {},
     "output_type": "execute_result"
    }
   ],
   "source": [
    "# using np.round() to make the data more readable.\n",
    "data.round(2)"
   ]
  },
  {
   "cell_type": "code",
   "execution_count": 117,
   "metadata": {},
   "outputs": [
    {
     "name": "stdout",
     "output_type": "stream",
     "text": [
      "[1 2 3 4]\n"
     ]
    }
   ],
   "source": [
    "# np.expand_dims() will add an additional dimension to the data.\n",
    "# particularly useful for when machinelearning tools don't recognize\n",
    "# data because the data is in the wrong format.\n",
    "\n",
    "# in easy terms, it turns a list into a list of lists.\n",
    "# and a list of lists into a list of lists of lists (a mouthful!)\n",
    "\n",
    "# creating an example dataset\n",
    "data = np.arange(1,5)\n",
    "\n",
    "# only a list, one-dimension.\n",
    "print(data)"
   ]
  },
  {
   "cell_type": "code",
   "execution_count": 118,
   "metadata": {},
   "outputs": [
    {
     "name": "stdout",
     "output_type": "stream",
     "text": [
      "[[1 2 3 4]]\n"
     ]
    }
   ],
   "source": [
    "data_dims = np.expand_dims(data, axis=0)\n",
    "\n",
    "# a list of lists. two-dimensions!\n",
    "print(data_dims)"
   ]
  },
  {
   "cell_type": "code",
   "execution_count": 119,
   "metadata": {},
   "outputs": [
    {
     "name": "stdout",
     "output_type": "stream",
     "text": [
      "[[1]\n",
      " [2]\n",
      " [3]\n",
      " [4]]\n"
     ]
    }
   ],
   "source": [
    "# the axis determines where the new axis position will be and how\n",
    "# it wraps with the array shape.\n",
    "data_dims = np.expand_dims(data, axis=1)\n",
    "print(data_dims)"
   ]
  },
  {
   "cell_type": "code",
   "execution_count": 120,
   "metadata": {},
   "outputs": [
    {
     "name": "stdout",
     "output_type": "stream",
     "text": [
      "[[[2 2 2]]]\n"
     ]
    }
   ],
   "source": [
    "# np.squeeze does the opposite of np.expand.dims, reducing \n",
    "# the amount of dimensions to a tensor or matrix\n",
    "\n",
    "# creating a sample dataset\n",
    "data = [[[2,2,2]]]\n",
    "data = np.array(data)\n",
    "print(data)"
   ]
  },
  {
   "cell_type": "code",
   "execution_count": 121,
   "metadata": {},
   "outputs": [
    {
     "name": "stdout",
     "output_type": "stream",
     "text": [
      "[2 2 2]\n"
     ]
    }
   ],
   "source": [
    "# np.squeeze() reduces the amount of dimensions in the np.array.\n",
    "data_minus_dim = np.squeeze(data)\n",
    "print(data_minus_dim)"
   ]
  },
  {
   "cell_type": "code",
   "execution_count": 122,
   "metadata": {},
   "outputs": [
    {
     "data": {
      "text/html": [
       "<table style='border: 1px solid black; border-collapse: collapse;'><tr><td style='padding: 5px; border: 1px solid black; font-weight: bold; width: 1ch; text-align: center;'>1</td></tr><tr><td style='padding: 5px; border: 1px solid black; font-weight: bold; width: 1ch; text-align: center;'>2</td></tr><tr><td style='padding: 5px; border: 1px solid black; font-weight: bold; width: 1ch; text-align: center;'>6</td></tr><tr><td style='padding: 5px; border: 1px solid black; font-weight: bold; width: 1ch; text-align: center;'>6</td></tr></table>"
      ],
      "text/plain": [
       "array([1, 2, 6, 6])"
      ]
     },
     "execution_count": 122,
     "metadata": {},
     "output_type": "execute_result"
    }
   ],
   "source": [
    "# np.digitize() is used to put numbers into buckets. \n",
    "# The data goes into the closest number from the bin\n",
    "\n",
    "data = np.array([1.6,2.6,6.1,6.8])\n",
    "bins = np.array([1,2,3,4,5,6,7])\n",
    "\n",
    "binned_data = np.digitize(data,bins)\n",
    "binned_data\n",
    "\n",
    "# this is useful because machine learning typically only takes numbers.\n"
   ]
  }
 ],
 "metadata": {
  "kernelspec": {
   "display_name": ".venv",
   "language": "python",
   "name": "python3"
  },
  "language_info": {
   "codemirror_mode": {
    "name": "ipython",
    "version": 3
   },
   "file_extension": ".py",
   "mimetype": "text/x-python",
   "name": "python",
   "nbconvert_exporter": "python",
   "pygments_lexer": "ipython3",
   "version": "3.10.11"
  }
 },
 "nbformat": 4,
 "nbformat_minor": 4
}
